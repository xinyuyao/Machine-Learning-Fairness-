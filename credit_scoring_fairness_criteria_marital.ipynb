{
 "cells": [
  {
   "cell_type": "markdown",
   "metadata": {},
   "source": [
    "Credit Scoring Fairness Criteria"
   ]
  },
  {
   "source": [
    "Load the dataset"
   ],
   "cell_type": "markdown",
   "metadata": {}
  },
  {
   "cell_type": "code",
   "execution_count": 1,
   "metadata": {},
   "outputs": [],
   "source": [
    "import pandas as pd\n",
    "import numpy as np\n",
    "import matplotlib.pyplot as plt\n",
    "import matplotlib.cm as cm"
   ]
  },
  {
   "cell_type": "markdown",
   "metadata": {},
   "source": [
    "Load the dataset"
   ]
  },
  {
   "cell_type": "code",
   "execution_count": 2,
   "metadata": {},
   "outputs": [
    {
     "output_type": "stream",
     "name": "stdout",
     "text": [
      "/Users/xinyu/Desktop/senior spring/Independent Study/ML fairness\n/Users/xinyu/Desktop/senior spring/Independent Study/ML fairness/ml bank dataset/bankfullclean.csv\n"
     ]
    }
   ],
   "source": [
    "import os\n",
    "BANK_PATH = os.path.join(os.getcwd(), 'ml bank dataset/bankfullclean.csv') # Assign this to the location of the dataset\n",
    "print(os.getcwd())\n",
    "print(BANK_PATH)\n",
    "\n",
    "# 5254 number of rows have 'biY' == 1\n",
    "# 39787 number of rows have 'biY' == 0\n"
   ]
  },
  {
   "cell_type": "code",
   "execution_count": 3,
   "metadata": {},
   "outputs": [
    {
     "output_type": "execute_result",
     "data": {
      "text/plain": [
       "array(['balance', 'day', 'duration', 'campaign', 'pdays', 'previous',\n",
       "       'biDefault', 'biHousing', 'biLoan', 'catAge_30-40', 'catAge_40-50',\n",
       "       'catAge_<=30', 'catAge_>=50', 'job_admin.', 'job_blue-collar',\n",
       "       'job_entrepreneur', 'job_housemaid', 'job_management',\n",
       "       'job_retired', 'job_self-employed', 'job_services', 'job_student',\n",
       "       'job_technician', 'job_unemployed', 'marital_divorced',\n",
       "       'marital_married', 'marital_single', 'education_primary',\n",
       "       'education_secondary', 'education_tertiary', 'month_apr',\n",
       "       'month_aug', 'month_dec', 'month_feb', 'month_jan', 'month_jul',\n",
       "       'month_jun', 'month_mar', 'month_may', 'month_nov', 'month_oct',\n",
       "       'month_sep', 'Fmonth_apr', 'Fmonth_aug', 'Fmonth_dec',\n",
       "       'Fmonth_feb', 'Fmonth_jan', 'Fmonth_jul', 'Fmonth_jun',\n",
       "       'Fmonth_mar', 'Fmonth_may', 'Fmonth_nov', 'Fmonth_oct'],\n",
       "      dtype=object)"
      ]
     },
     "metadata": {},
     "execution_count": 3
    }
   ],
   "source": [
    "bank = pd.read_csv(BANK_PATH)\n",
    "df = pd.DataFrame(bank)\n",
    "df.head()\n",
    "dummy = df[['catAge', 'job', 'marital','education','balance','day', 'month', 'duration', 'campaign', 'pdays', 'previous', 'Fmonth', 'biDefault', 'biHousing', 'biLoan']]\n",
    "# dummy.columns.values\n",
    "dummy = pd.get_dummies(data=dummy)\n",
    "# dummy.head()\n",
    "dummy.columns.values\n",
    "# df['marital'].unique()\n",
    "\n",
    "# df['biY'].replace({0: False, 1: True}, inplace=True)\n",
    "# print(df['biY'])\n"
   ]
  },
  {
   "cell_type": "markdown",
   "metadata": {},
   "source": [
    "Machine Learning Classification Model"
   ]
  },
  {
   "cell_type": "code",
   "execution_count": 4,
   "metadata": {},
   "outputs": [],
   "source": [
    "from sklearn.model_selection import train_test_split"
   ]
  },
  {
   "cell_type": "code",
   "execution_count": 5,
   "metadata": {},
   "outputs": [],
   "source": [
    "def get_naive_dataset(dataset):\n",
    "    dataset = dataset.sample(frac=1).reset_index(drop=True)\n",
    "    X = dummy\n",
    "    y = dataset['biY']\n",
    "    x_train, x_test, y_train, y_test = train_test_split(X, y, test_size=0.2)\n",
    "    \n",
    "    return (x_train, y_train), (x_test, y_test)"
   ]
  },
  {
   "cell_type": "code",
   "execution_count": 6,
   "metadata": {},
   "outputs": [],
   "source": [
    "(x_train, y_train), (x_test, y_test) = get_naive_dataset(df)"
   ]
  },
  {
   "cell_type": "code",
   "execution_count": 7,
   "metadata": {},
   "outputs": [
    {
     "output_type": "execute_result",
     "data": {
      "text/plain": [
       "array(['balance', 'day', 'duration', 'campaign', 'pdays', 'previous',\n",
       "       'biDefault', 'biHousing', 'biLoan', 'catAge_30-40', 'catAge_40-50',\n",
       "       'catAge_<=30', 'catAge_>=50', 'job_admin.', 'job_blue-collar',\n",
       "       'job_entrepreneur', 'job_housemaid', 'job_management',\n",
       "       'job_retired', 'job_self-employed', 'job_services', 'job_student',\n",
       "       'job_technician', 'job_unemployed', 'marital_divorced',\n",
       "       'marital_married', 'marital_single', 'education_primary',\n",
       "       'education_secondary', 'education_tertiary', 'month_apr',\n",
       "       'month_aug', 'month_dec', 'month_feb', 'month_jan', 'month_jul',\n",
       "       'month_jun', 'month_mar', 'month_may', 'month_nov', 'month_oct',\n",
       "       'month_sep', 'Fmonth_apr', 'Fmonth_aug', 'Fmonth_dec',\n",
       "       'Fmonth_feb', 'Fmonth_jan', 'Fmonth_jul', 'Fmonth_jun',\n",
       "       'Fmonth_mar', 'Fmonth_may', 'Fmonth_nov', 'Fmonth_oct'],\n",
       "      dtype=object)"
      ]
     },
     "metadata": {},
     "execution_count": 7
    }
   ],
   "source": [
    "x_train.columns.values"
   ]
  },
  {
   "cell_type": "code",
   "execution_count": 8,
   "metadata": {},
   "outputs": [
    {
     "output_type": "execute_result",
     "data": {
      "text/plain": [
       "array([1, 1, 0, ..., 0, 0, 0])"
      ]
     },
     "metadata": {},
     "execution_count": 8
    }
   ],
   "source": [
    "y_train.values"
   ]
  },
  {
   "cell_type": "code",
   "execution_count": 9,
   "metadata": {},
   "outputs": [
    {
     "output_type": "execute_result",
     "data": {
      "text/plain": [
       "array(['balance', 'day', 'duration', 'campaign', 'pdays', 'previous',\n",
       "       'biDefault', 'biHousing', 'biLoan', 'catAge_30-40', 'catAge_40-50',\n",
       "       'catAge_<=30', 'catAge_>=50', 'job_admin.', 'job_blue-collar',\n",
       "       'job_entrepreneur', 'job_housemaid', 'job_management',\n",
       "       'job_retired', 'job_self-employed', 'job_services', 'job_student',\n",
       "       'job_technician', 'job_unemployed', 'marital_divorced',\n",
       "       'marital_married', 'marital_single', 'education_primary',\n",
       "       'education_secondary', 'education_tertiary', 'month_apr',\n",
       "       'month_aug', 'month_dec', 'month_feb', 'month_jan', 'month_jul',\n",
       "       'month_jun', 'month_mar', 'month_may', 'month_nov', 'month_oct',\n",
       "       'month_sep', 'Fmonth_apr', 'Fmonth_aug', 'Fmonth_dec',\n",
       "       'Fmonth_feb', 'Fmonth_jan', 'Fmonth_jul', 'Fmonth_jun',\n",
       "       'Fmonth_mar', 'Fmonth_may', 'Fmonth_nov', 'Fmonth_oct'],\n",
       "      dtype=object)"
      ]
     },
     "metadata": {},
     "execution_count": 9
    }
   ],
   "source": [
    "x_test.columns.values"
   ]
  },
  {
   "cell_type": "code",
   "execution_count": 10,
   "metadata": {},
   "outputs": [
    {
     "output_type": "execute_result",
     "data": {
      "text/plain": [
       "array([1, 1, 0, ..., 0, 0, 0])"
      ]
     },
     "metadata": {},
     "execution_count": 10
    }
   ],
   "source": [
    "y_test.values"
   ]
  },
  {
   "cell_type": "markdown",
   "metadata": {},
   "source": [
    "Naive Bayes Model"
   ]
  },
  {
   "cell_type": "code",
   "execution_count": 11,
   "metadata": {},
   "outputs": [],
   "source": [
    "from sklearn.naive_bayes import GaussianNB\n",
    "gnb = GaussianNB()\n",
    "gnb_pred = gnb.fit(x_train, y_train).predict(x_test)\n"
   ]
  },
  {
   "cell_type": "markdown",
   "metadata": {},
   "source": [
    "Result"
   ]
  },
  {
   "cell_type": "code",
   "execution_count": 12,
   "metadata": {},
   "outputs": [
    {
     "output_type": "execute_result",
     "data": {
      "text/plain": [
       "array(['balance', 'day', 'duration', 'campaign', 'pdays', 'previous',\n",
       "       'biDefault', 'biHousing', 'biLoan', 'catAge_30-40', 'catAge_40-50',\n",
       "       'catAge_<=30', 'catAge_>=50', 'job_admin.', 'job_blue-collar',\n",
       "       'job_entrepreneur', 'job_housemaid', 'job_management',\n",
       "       'job_retired', 'job_self-employed', 'job_services', 'job_student',\n",
       "       'job_technician', 'job_unemployed', 'marital_divorced',\n",
       "       'marital_married', 'marital_single', 'education_primary',\n",
       "       'education_secondary', 'education_tertiary', 'month_apr',\n",
       "       'month_aug', 'month_dec', 'month_feb', 'month_jan', 'month_jul',\n",
       "       'month_jun', 'month_mar', 'month_may', 'month_nov', 'month_oct',\n",
       "       'month_sep', 'Fmonth_apr', 'Fmonth_aug', 'Fmonth_dec',\n",
       "       'Fmonth_feb', 'Fmonth_jan', 'Fmonth_jul', 'Fmonth_jun',\n",
       "       'Fmonth_mar', 'Fmonth_may', 'Fmonth_nov', 'Fmonth_oct', 'biY',\n",
       "       'pred', 'accurate'], dtype=object)"
      ]
     },
     "metadata": {},
     "execution_count": 12
    }
   ],
   "source": [
    "test_df = x_test.copy()\n",
    "test_df['biY'] = y_test\n",
    "test_df['pred'] = pd.Series(gnb_pred, index=test_df.index)\n",
    "test_df['accurate'] = (test_df['pred'] == test_df['biY'])\n",
    "test_df.columns.values"
   ]
  },
  {
   "cell_type": "code",
   "execution_count": 13,
   "metadata": {},
   "outputs": [],
   "source": [
    "from sklearn.metrics import confusion_matrix"
   ]
  },
  {
   "cell_type": "code",
   "execution_count": 14,
   "metadata": {},
   "outputs": [
    {
     "output_type": "execute_result",
     "data": {
      "text/plain": [
       "array([[7920,   48],\n",
       "       [1033,    8]])"
      ]
     },
     "metadata": {},
     "execution_count": 14
    }
   ],
   "source": [
    "\n",
    "confusion_matrix = confusion_matrix(test_df['biY'], test_df['pred'])\n",
    "confusion_matrix"
   ]
  },
  {
   "cell_type": "code",
   "execution_count": 15,
   "metadata": {},
   "outputs": [
    {
     "output_type": "execute_result",
     "data": {
      "text/plain": [
       "0.88000888000888"
      ]
     },
     "metadata": {},
     "execution_count": 15
    }
   ],
   "source": [
    "# Accuracy\n",
    "# \"Accuracy: \", test_df.accurate.mean()\n",
    "accuracy_naive_bayes = (confusion_matrix[0][0] + confusion_matrix[1][1]) / (confusion_matrix[0][0] + confusion_matrix[0][1] + confusion_matrix[1][0] + confusion_matrix[1][1])\n",
    "accuracy_naive_bayes\n",
    "\n"
   ]
  },
  {
   "cell_type": "code",
   "execution_count": 16,
   "metadata": {},
   "outputs": [],
   "source": [
    "# Split dataset based on marital status\n",
    "test_df.columns.values\n",
    "test_married = x_test[x_test['marital_married'] == 1]\n",
    "test_single = x_test[x_test['marital_single'] == 1]\n",
    "test_divorced = x_test[x_test['marital_divorced'] == 1]"
   ]
  },
  {
   "cell_type": "code",
   "execution_count": 17,
   "metadata": {},
   "outputs": [
    {
     "output_type": "execute_result",
     "data": {
      "text/plain": [
       "array([[2238,   22],\n",
       "       [ 307,    7]])"
      ]
     },
     "metadata": {},
     "execution_count": 17
    }
   ],
   "source": [
    "# Test on single subset\n",
    "gnb_pred_single = gnb.fit(x_train, y_train).predict(test_single)\n",
    "\n",
    "test_df = test_single.copy()\n",
    "test_df['biY'] = y_test\n",
    "test_df['pred'] = pd.Series(gnb_pred_single, index=test_df.index)\n",
    "test_df['accurate'] = (test_df['pred'] == test_df['biY'])\n",
    "\n",
    "from sklearn.metrics import confusion_matrix\n",
    "\n",
    "confusion_matrix_single = confusion_matrix(test_df['biY'], test_df['pred'])\n",
    "confusion_matrix_single\n"
   ]
  },
  {
   "cell_type": "code",
   "execution_count": 18,
   "metadata": {},
   "outputs": [
    {
     "output_type": "execute_result",
     "data": {
      "text/plain": [
       "0.8721833721833722"
      ]
     },
     "metadata": {},
     "execution_count": 18
    }
   ],
   "source": [
    "accuracy_naive_bayes_single = (confusion_matrix_single[0][0] + confusion_matrix_single[1][1]) / (confusion_matrix_single[0][0] + confusion_matrix_single[0][1] + confusion_matrix_single[1][0] + confusion_matrix_single[1][1])\n",
    "accuracy_naive_bayes_single"
   ]
  },
  {
   "cell_type": "code",
   "execution_count": 19,
   "metadata": {},
   "outputs": [
    {
     "output_type": "execute_result",
     "data": {
      "text/plain": [
       "array([[4784,   24],\n",
       "       [ 604,    1]])"
      ]
     },
     "metadata": {},
     "execution_count": 19
    }
   ],
   "source": [
    "# Test on married subset\n",
    "gnb_pred_married = gnb.fit(x_train, y_train).predict(test_married)\n",
    "\n",
    "test_df = test_married.copy()\n",
    "test_df['biY'] = y_test\n",
    "test_df['pred'] = pd.Series(gnb_pred_married, index=test_df.index)\n",
    "test_df['accurate'] = (test_df['pred'] == test_df['biY'])\n",
    "\n",
    "from sklearn.metrics import confusion_matrix\n",
    "\n",
    "confusion_matrix_married = confusion_matrix(test_df['biY'], test_df['pred'])\n",
    "confusion_matrix_married"
   ]
  },
  {
   "cell_type": "code",
   "execution_count": 20,
   "metadata": {},
   "outputs": [
    {
     "output_type": "execute_result",
     "data": {
      "text/plain": [
       "0.8839830038795492"
      ]
     },
     "metadata": {},
     "execution_count": 20
    }
   ],
   "source": [
    "accuracy_naive_bayes_married = (confusion_matrix_married[0][0] + confusion_matrix_married[1][1]) / (confusion_matrix_married[0][0] + confusion_matrix_married[0][1] + confusion_matrix_married[1][0] + confusion_matrix_married[1][1])\n",
    "accuracy_naive_bayes_married "
   ]
  },
  {
   "cell_type": "code",
   "execution_count": 21,
   "metadata": {},
   "outputs": [
    {
     "output_type": "execute_result",
     "data": {
      "text/plain": [
       "array([[898,   2],\n",
       "       [122,   0]])"
      ]
     },
     "metadata": {},
     "execution_count": 21
    }
   ],
   "source": [
    "# Test on divorced subset\n",
    "gnb_pred_divorced = gnb.fit(x_train, y_train).predict(test_divorced)\n",
    "\n",
    "test_df = test_divorced.copy()\n",
    "test_df['biY'] = y_test\n",
    "test_df['pred'] = pd.Series(gnb_pred_divorced, index=test_df.index)\n",
    "test_df['accurate'] = (test_df['pred'] == test_df['biY'])\n",
    "\n",
    "from sklearn.metrics import confusion_matrix\n",
    "\n",
    "confusion_matrix_divorced = confusion_matrix(test_df['biY'], test_df['pred'])\n",
    "confusion_matrix_divorced"
   ]
  },
  {
   "cell_type": "code",
   "execution_count": 22,
   "metadata": {},
   "outputs": [
    {
     "output_type": "execute_result",
     "data": {
      "text/plain": [
       "0.8786692759295499"
      ]
     },
     "metadata": {},
     "execution_count": 22
    }
   ],
   "source": [
    "accuracy_naive_bayes_divorced = (confusion_matrix_divorced[0][0] + confusion_matrix_divorced[1][1]) / (confusion_matrix_divorced[0][0] + confusion_matrix_divorced[0][1] + confusion_matrix_divorced[1][0] + confusion_matrix_divorced[1][1])\n",
    "accuracy_naive_bayes_divorced # 0.8718606782768102"
   ]
  },
  {
   "cell_type": "code",
   "execution_count": 23,
   "metadata": {},
   "outputs": [
    {
     "output_type": "execute_result",
     "data": {
      "text/plain": [
       "4785"
      ]
     },
     "metadata": {},
     "execution_count": 23
    }
   ],
   "source": [
    "#Demographic Parity\n",
    "# positive rate = TP + TN\n",
    "PR_Naive_Bayes_married = confusion_matrix_married[0,0] +confusion_matrix_married[1,1]\n",
    "\n",
    "PR_Naive_Bayes_married \n"
   ]
  },
  {
   "cell_type": "code",
   "execution_count": 24,
   "metadata": {},
   "outputs": [
    {
     "output_type": "execute_result",
     "data": {
      "text/plain": [
       "2245"
      ]
     },
     "metadata": {},
     "execution_count": 24
    }
   ],
   "source": [
    "PR_Naive_Bayes_single = confusion_matrix_single[0,0] +confusion_matrix_single[1,1]\n",
    "PR_Naive_Bayes_single "
   ]
  },
  {
   "cell_type": "code",
   "execution_count": 25,
   "metadata": {},
   "outputs": [
    {
     "output_type": "execute_result",
     "data": {
      "text/plain": [
       "898"
      ]
     },
     "metadata": {},
     "execution_count": 25
    }
   ],
   "source": [
    "PR_Naive_Bayes_divorced = confusion_matrix_divorced[0,0] +confusion_matrix_divorced[1,1]\n",
    "PR_Naive_Bayes_divorced "
   ]
  },
  {
   "cell_type": "code",
   "execution_count": 26,
   "metadata": {},
   "outputs": [
    {
     "output_type": "execute_result",
     "data": {
      "text/plain": [
       "0.8878990348923533"
      ]
     },
     "metadata": {},
     "execution_count": 26
    }
   ],
   "source": [
    "# Equalized Opportunity\n",
    "#TPR = TP/TP+FN\n",
    "\n",
    "TPR_Naive_Bayes_married = confusion_matrix_married[0,0] / (confusion_matrix_married[0,0] + confusion_matrix_married[1,0])\n",
    "\n",
    "TPR_Naive_Bayes_married \n"
   ]
  },
  {
   "cell_type": "code",
   "execution_count": 27,
   "metadata": {},
   "outputs": [
    {
     "output_type": "execute_result",
     "data": {
      "text/plain": [
       "0.8793713163064834"
      ]
     },
     "metadata": {},
     "execution_count": 27
    }
   ],
   "source": [
    "TPR_Naive_Bayes_single = confusion_matrix_single[0,0] / (confusion_matrix_single[0,0] + confusion_matrix_single[1,0])\n",
    "\n",
    "TPR_Naive_Bayes_single "
   ]
  },
  {
   "cell_type": "code",
   "execution_count": 28,
   "metadata": {},
   "outputs": [
    {
     "output_type": "execute_result",
     "data": {
      "text/plain": [
       "0.8803921568627451"
      ]
     },
     "metadata": {},
     "execution_count": 28
    }
   ],
   "source": [
    "TPR_Naive_Bayes_divorced = confusion_matrix_divorced[0,0] / (confusion_matrix_divorced[0,0] + confusion_matrix_divorced[1,0])\n",
    "\n",
    "TPR_Naive_Bayes_divorced # 0.8925619834710744"
   ]
  },
  {
   "cell_type": "code",
   "execution_count": 29,
   "metadata": {},
   "outputs": [
    {
     "output_type": "execute_result",
     "data": {
      "text/plain": [
       "0.11210096510764662"
      ]
     },
     "metadata": {},
     "execution_count": 29
    }
   ],
   "source": [
    "# Equalized Odds\n",
    "#TPR = TP/TP+FN\n",
    "#FNR = FN/FN+TP\n",
    "\n",
    "\n",
    "FNR_Naive_Bayes_married = confusion_matrix_married[1,0] / (confusion_matrix_married[1,0] + confusion_matrix_married[0,0])\n",
    "\n",
    "FNR_Naive_Bayes_married \n",
    "\n"
   ]
  },
  {
   "cell_type": "code",
   "execution_count": 30,
   "metadata": {},
   "outputs": [
    {
     "output_type": "execute_result",
     "data": {
      "text/plain": [
       "0.1206286836935167"
      ]
     },
     "metadata": {},
     "execution_count": 30
    }
   ],
   "source": [
    "FNR_Naive_Bayes_single = confusion_matrix_single[1,0] / (confusion_matrix_single[1,0] + confusion_matrix_single[0,0])\n",
    "\n",
    "FNR_Naive_Bayes_single "
   ]
  },
  {
   "cell_type": "code",
   "execution_count": 31,
   "metadata": {},
   "outputs": [
    {
     "output_type": "execute_result",
     "data": {
      "text/plain": [
       "0.11960784313725491"
      ]
     },
     "metadata": {},
     "execution_count": 31
    }
   ],
   "source": [
    "FNR_Naive_Bayes_divorced = confusion_matrix_divorced[1,0] / (confusion_matrix_divorced[1,0] + confusion_matrix_divorced[0,0])\n",
    "\n",
    "FNR_Naive_Bayes_divorced "
   ]
  },
  {
   "cell_type": "code",
   "execution_count": 32,
   "metadata": {},
   "outputs": [],
   "source": [
    "# Fairness Through Unwareness\n",
    "x_train_unawareness = x_train.copy()\n",
    "x_train_unawareness\n",
    "x_train_unawareness.drop('marital_married', inplace=True, axis=1)\n",
    "x_train_unawareness.drop('marital_single', inplace=True, axis=1)\n",
    "x_train_unawareness.drop('marital_divorced', inplace=True, axis=1)\n",
    "\n",
    "# x_train_unawareness.columns.values\n",
    "# x_train.columns.values\n",
    "\n",
    "\n",
    "\n",
    "\n"
   ]
  },
  {
   "cell_type": "code",
   "execution_count": 33,
   "metadata": {},
   "outputs": [],
   "source": [
    "#Fairness through unawareness\n",
    "\n",
    "x_test_unawareness = x_test.copy()\n",
    "x_test_unawareness\n",
    "x_test_married = x_test_unawareness[x_test_unawareness['marital_married'] == 1]\n",
    "x_test_single = x_test_unawareness[x_test_unawareness['marital_single'] == 1]\n",
    "x_test_divorced = x_test_unawareness[x_test_unawareness['marital_divorced'] == 1]\n",
    "\n",
    "\n",
    "x_test_married.drop('marital_married', inplace=True, axis=1)\n",
    "x_test_married.drop('marital_single', inplace=True, axis=1)\n",
    "x_test_married.drop('marital_divorced', inplace=True, axis=1)\n",
    "\n",
    "x_test_single.drop('marital_married', inplace=True, axis=1)\n",
    "x_test_single.drop('marital_single', inplace=True, axis=1)\n",
    "x_test_single.drop('marital_divorced', inplace=True, axis=1)\n",
    "\n",
    "x_test_divorced.drop('marital_married', inplace=True, axis=1)\n",
    "x_test_divorced.drop('marital_single', inplace=True, axis=1)\n",
    "x_test_divorced.drop('marital_divorced', inplace=True, axis=1)\n",
    "\n",
    "\n",
    "\n",
    "\n",
    "# x_test_unawareness.columns.values\n",
    "# x_test.columns.values\n",
    "# test_married"
   ]
  },
  {
   "cell_type": "code",
   "execution_count": 34,
   "metadata": {},
   "outputs": [
    {
     "output_type": "execute_result",
     "data": {
      "text/plain": [
       "array([[2240,   20],\n",
       "       [ 307,    7]])"
      ]
     },
     "metadata": {},
     "execution_count": 34
    }
   ],
   "source": [
    "# Test on single set\n",
    "gnb_pred_single = gnb.fit(x_train_unawareness, y_train).predict(x_test_single)\n",
    "\n",
    "test_df = x_test_single.copy()\n",
    "test_df['biY'] = y_test\n",
    "test_df['pred'] = pd.Series(gnb_pred_single, index=test_df.index)\n",
    "test_df['accurate'] = (test_df['pred'] == test_df['biY'])\n",
    "\n",
    "from sklearn.metrics import confusion_matrix\n",
    "\n",
    "confusion_matrix_single = confusion_matrix(test_df['biY'], test_df['pred'])\n",
    "confusion_matrix_single\n",
    "\n"
   ]
  },
  {
   "cell_type": "code",
   "execution_count": 35,
   "metadata": {},
   "outputs": [
    {
     "output_type": "execute_result",
     "data": {
      "text/plain": [
       "0.872960372960373"
      ]
     },
     "metadata": {},
     "execution_count": 35
    }
   ],
   "source": [
    "accuracy_naive_bayes_single = (confusion_matrix_single[0][0] + confusion_matrix_single[1][1]) / (confusion_matrix_single[0][0] + confusion_matrix_single[0][1] + confusion_matrix_single[1][0] + confusion_matrix_single[1][1])\n",
    "accuracy_naive_bayes_single "
   ]
  },
  {
   "cell_type": "code",
   "execution_count": 36,
   "metadata": {},
   "outputs": [
    {
     "output_type": "execute_result",
     "data": {
      "text/plain": [
       "array([[4784,   24],\n",
       "       [ 604,    1]])"
      ]
     },
     "metadata": {},
     "execution_count": 36
    }
   ],
   "source": [
    "# Test on married set\n",
    "gnb_pred_married = gnb.fit(x_train_unawareness, y_train).predict(x_test_married)\n",
    "\n",
    "test_df = x_test_married.copy()\n",
    "test_df['biY'] = y_test\n",
    "test_df['pred'] = pd.Series(gnb_pred_married, index=test_df.index)\n",
    "test_df['accurate'] = (test_df['pred'] == test_df['biY'])\n",
    "\n",
    "from sklearn.metrics import confusion_matrix\n",
    "\n",
    "confusion_matrix_married = confusion_matrix(test_df['biY'], test_df['pred'])\n",
    "confusion_matrix_married\n",
    "\n"
   ]
  },
  {
   "cell_type": "code",
   "execution_count": 37,
   "metadata": {},
   "outputs": [
    {
     "output_type": "execute_result",
     "data": {
      "text/plain": [
       "0.8839830038795492"
      ]
     },
     "metadata": {},
     "execution_count": 37
    }
   ],
   "source": [
    "accuracy_naive_bayes_married = (confusion_matrix_married[0][0] + confusion_matrix_married[1][1]) / (confusion_matrix_married[0][0] + confusion_matrix_married[0][1] + confusion_matrix_married[1][0] + confusion_matrix_married[1][1])\n",
    "accuracy_naive_bayes_married "
   ]
  },
  {
   "cell_type": "code",
   "execution_count": 38,
   "metadata": {},
   "outputs": [
    {
     "output_type": "execute_result",
     "data": {
      "text/plain": [
       "array([[895,   5],\n",
       "       [121,   1]])"
      ]
     },
     "metadata": {},
     "execution_count": 38
    }
   ],
   "source": [
    "# Test on divorced set\n",
    "gnb_pred_divorced = gnb.fit(x_train_unawareness, y_train).predict(x_test_divorced)\n",
    "\n",
    "test_df = x_test_divorced.copy()\n",
    "test_df['biY'] = y_test\n",
    "test_df['pred'] = pd.Series(gnb_pred_divorced, index=test_df.index)\n",
    "test_df['accurate'] = (test_df['pred'] == test_df['biY'])\n",
    "\n",
    "from sklearn.metrics import confusion_matrix\n",
    "\n",
    "confusion_matrix_divorced = confusion_matrix(test_df['biY'], test_df['pred'])\n",
    "confusion_matrix_divorced"
   ]
  },
  {
   "cell_type": "code",
   "execution_count": 39,
   "metadata": {},
   "outputs": [
    {
     "output_type": "execute_result",
     "data": {
      "text/plain": [
       "0.8767123287671232"
      ]
     },
     "metadata": {},
     "execution_count": 39
    }
   ],
   "source": [
    "accuracy_naive_bayes_divorced = (confusion_matrix_divorced[0][0] + confusion_matrix_divorced[1][1]) / (confusion_matrix_divorced[0][0] + confusion_matrix_divorced[0][1] + confusion_matrix_divorced[1][0] + confusion_matrix_divorced[1][1])\n",
    "accuracy_naive_bayes_divorced # 0.8718606782768102"
   ]
  },
  {
   "cell_type": "markdown",
   "metadata": {},
   "source": [
    "Random Forest Model"
   ]
  },
  {
   "cell_type": "code",
   "execution_count": 40,
   "metadata": {},
   "outputs": [],
   "source": [
    "from sklearn.ensemble import RandomForestClassifier\n",
    "rf = RandomForestClassifier(max_depth=5, random_state=0, class_weight='balanced')\n",
    "rf_pred = rf.fit(x_train, y_train).predict(x_test)"
   ]
  },
  {
   "cell_type": "code",
   "execution_count": 41,
   "metadata": {},
   "outputs": [
    {
     "output_type": "execute_result",
     "data": {
      "text/plain": [
       "array(['balance', 'day', 'duration', 'campaign', 'pdays', 'previous',\n",
       "       'biDefault', 'biHousing', 'biLoan', 'catAge_30-40', 'catAge_40-50',\n",
       "       'catAge_<=30', 'catAge_>=50', 'job_admin.', 'job_blue-collar',\n",
       "       'job_entrepreneur', 'job_housemaid', 'job_management',\n",
       "       'job_retired', 'job_self-employed', 'job_services', 'job_student',\n",
       "       'job_technician', 'job_unemployed', 'marital_divorced',\n",
       "       'marital_married', 'marital_single', 'education_primary',\n",
       "       'education_secondary', 'education_tertiary', 'month_apr',\n",
       "       'month_aug', 'month_dec', 'month_feb', 'month_jan', 'month_jul',\n",
       "       'month_jun', 'month_mar', 'month_may', 'month_nov', 'month_oct',\n",
       "       'month_sep', 'Fmonth_apr', 'Fmonth_aug', 'Fmonth_dec',\n",
       "       'Fmonth_feb', 'Fmonth_jan', 'Fmonth_jul', 'Fmonth_jun',\n",
       "       'Fmonth_mar', 'Fmonth_may', 'Fmonth_nov', 'Fmonth_oct', 'biY',\n",
       "       'pred', 'accurate'], dtype=object)"
      ]
     },
     "metadata": {},
     "execution_count": 41
    }
   ],
   "source": [
    "test_df = x_test.copy()\n",
    "test_df['biY'] = y_test\n",
    "test_df['pred'] = pd.Series(rf_pred, index=test_df.index)\n",
    "test_df['accurate'] = (test_df['pred'] == test_df['biY'])\n",
    "test_df.columns.values"
   ]
  },
  {
   "cell_type": "code",
   "execution_count": 42,
   "metadata": {},
   "outputs": [
    {
     "output_type": "execute_result",
     "data": {
      "text/plain": [
       "array([[4957, 3011],\n",
       "       [ 648,  393]])"
      ]
     },
     "metadata": {},
     "execution_count": 42
    }
   ],
   "source": [
    "from sklearn.metrics import confusion_matrix\n",
    "confusion_matrix = confusion_matrix(test_df['biY'], test_df['pred'])\n",
    "confusion_matrix"
   ]
  },
  {
   "cell_type": "code",
   "execution_count": 43,
   "metadata": {},
   "outputs": [
    {
     "output_type": "execute_result",
     "data": {
      "text/plain": [
       "0.5938505938505938"
      ]
     },
     "metadata": {},
     "execution_count": 43
    }
   ],
   "source": [
    "# Accuracy\n",
    "# \"Accuracy: \", test_df.accurate.mean()\n",
    "accuracy_rf = (confusion_matrix[0][0] + confusion_matrix[1][1]) / (confusion_matrix[0][0] + confusion_matrix[0][1] + confusion_matrix[1][0] + confusion_matrix[1][1])\n",
    "accuracy_rf\n"
   ]
  },
  {
   "cell_type": "code",
   "execution_count": 44,
   "metadata": {},
   "outputs": [],
   "source": [
    "# Split dataset based on marital status\n",
    "test_df.columns.values\n",
    "test_married = x_test[x_test['marital_married'] == 1]\n",
    "test_single = x_test[x_test['marital_single'] == 1]\n",
    "test_divorced = x_test[x_test['marital_divorced'] == 1]"
   ]
  },
  {
   "cell_type": "code",
   "execution_count": 45,
   "metadata": {},
   "outputs": [
    {
     "output_type": "execute_result",
     "data": {
      "text/plain": [
       "array([[1295,  965],\n",
       "       [ 184,  130]])"
      ]
     },
     "metadata": {},
     "execution_count": 45
    }
   ],
   "source": [
    "# Test on single subset\n",
    "rf_pred_single = rf.fit(x_train, y_train).predict(test_single)\n",
    "\n",
    "test_df = test_single.copy()\n",
    "test_df['biY'] = y_test\n",
    "test_df['pred'] = pd.Series(rf_pred_single, index=test_df.index)\n",
    "test_df['accurate'] = (test_df['pred'] == test_df['biY'])\n",
    "\n",
    "from sklearn.metrics import confusion_matrix\n",
    "\n",
    "confusion_matrix_single = confusion_matrix(test_df['biY'], test_df['pred'])\n",
    "confusion_matrix_single"
   ]
  },
  {
   "cell_type": "code",
   "execution_count": 46,
   "metadata": {},
   "outputs": [
    {
     "output_type": "execute_result",
     "data": {
      "text/plain": [
       "0.5536130536130536"
      ]
     },
     "metadata": {},
     "execution_count": 46
    }
   ],
   "source": [
    "accuracy_rf_single = (confusion_matrix_single[0][0] + confusion_matrix_single[1][1]) / (confusion_matrix_single[0][0] + confusion_matrix_single[0][1] + confusion_matrix_single[1][0] + confusion_matrix_single[1][1])\n",
    "accuracy_rf_single"
   ]
  },
  {
   "cell_type": "code",
   "execution_count": 47,
   "metadata": {},
   "outputs": [
    {
     "output_type": "execute_result",
     "data": {
      "text/plain": [
       "array([[3063, 1745],\n",
       "       [ 369,  236]])"
      ]
     },
     "metadata": {},
     "execution_count": 47
    }
   ],
   "source": [
    "# Test on married subset\n",
    "rf_pred_married = rf.fit(x_train, y_train).predict(test_married)\n",
    "\n",
    "test_df = test_married.copy()\n",
    "test_df['biY'] = y_test\n",
    "test_df['pred'] = pd.Series(rf_pred_married, index=test_df.index)\n",
    "test_df['accurate'] = (test_df['pred'] == test_df['biY'])\n",
    "\n",
    "from sklearn.metrics import confusion_matrix\n",
    "\n",
    "confusion_matrix_married = confusion_matrix(test_df['biY'], test_df['pred'])\n",
    "confusion_matrix_married"
   ]
  },
  {
   "cell_type": "code",
   "execution_count": 48,
   "metadata": {},
   "outputs": [
    {
     "output_type": "execute_result",
     "data": {
      "text/plain": [
       "0.6094587105117311"
      ]
     },
     "metadata": {},
     "execution_count": 48
    }
   ],
   "source": [
    "accuracy_rf_married = (confusion_matrix_married[0][0] + confusion_matrix_married[1][1]) / (confusion_matrix_married[0][0] + confusion_matrix_married[0][1] + confusion_matrix_married[1][0] + confusion_matrix_married[1][1])\n",
    "accuracy_rf_married "
   ]
  },
  {
   "cell_type": "code",
   "execution_count": 49,
   "metadata": {},
   "outputs": [
    {
     "output_type": "execute_result",
     "data": {
      "text/plain": [
       "array([[599, 301],\n",
       "       [ 95,  27]])"
      ]
     },
     "metadata": {},
     "execution_count": 49
    }
   ],
   "source": [
    "# Test on divorced subset\n",
    "rf_pred_divorced = rf.fit(x_train, y_train).predict(test_divorced)\n",
    " \n",
    "test_df = test_divorced.copy()\n",
    "test_df['biY'] = y_test\n",
    "test_df['pred'] = pd.Series(rf_pred_divorced, index=test_df.index)\n",
    "test_df['accurate'] = (test_df['pred'] == test_df['biY'])\n",
    " \n",
    "from sklearn.metrics import confusion_matrix\n",
    " \n",
    "confusion_matrix_divorced = confusion_matrix(test_df['biY'], test_df['pred'])\n",
    "confusion_matrix_divorced\n"
   ]
  },
  {
   "cell_type": "code",
   "execution_count": 50,
   "metadata": {},
   "outputs": [
    {
     "output_type": "execute_result",
     "data": {
      "text/plain": [
       "0.6125244618395304"
      ]
     },
     "metadata": {},
     "execution_count": 50
    }
   ],
   "source": [
    "accuracy_rf_divorced = (confusion_matrix_divorced[0][0] + confusion_matrix_divorced[1][1]) / (confusion_matrix_divorced[0][0] + confusion_matrix_divorced[0][1] + confusion_matrix_divorced[1][0] + confusion_matrix_divorced[1][1])\n",
    "accuracy_rf_divorced "
   ]
  },
  {
   "cell_type": "code",
   "execution_count": 51,
   "metadata": {},
   "outputs": [
    {
     "output_type": "execute_result",
     "data": {
      "text/plain": [
       "3299"
      ]
     },
     "metadata": {},
     "execution_count": 51
    }
   ],
   "source": [
    "#Demographic Parity\n",
    "# positive rate = TP + TN\n",
    "PR_rf_married = confusion_matrix_married[0,0] +confusion_matrix_married[1,1]\n",
    "PR_rf_married # 4756"
   ]
  },
  {
   "cell_type": "code",
   "execution_count": 52,
   "metadata": {},
   "outputs": [
    {
     "output_type": "execute_result",
     "data": {
      "text/plain": [
       "1425"
      ]
     },
     "metadata": {},
     "execution_count": 52
    }
   ],
   "source": [
    "PR_rf_single = confusion_matrix_single[0,0] +confusion_matrix_single[1,1]\n",
    "PR_rf_single # 2136"
   ]
  },
  {
   "cell_type": "code",
   "execution_count": 53,
   "metadata": {},
   "outputs": [
    {
     "output_type": "execute_result",
     "data": {
      "text/plain": [
       "626"
      ]
     },
     "metadata": {},
     "execution_count": 53
    }
   ],
   "source": [
    "PR_rf_divorced = confusion_matrix_divorced[0,0] +confusion_matrix_divorced[1,1]\n",
    "PR_rf_divorced # 2136"
   ]
  },
  {
   "cell_type": "code",
   "execution_count": 54,
   "metadata": {},
   "outputs": [
    {
     "output_type": "execute_result",
     "data": {
      "text/plain": [
       "0.8924825174825175"
      ]
     },
     "metadata": {},
     "execution_count": 54
    }
   ],
   "source": [
    "# Equalized Opportunity\n",
    "#TPR = TP/TP+FN\n",
    "\n",
    "TPR_rf_married = confusion_matrix_married[0,0] / (confusion_matrix_married[0,0] + confusion_matrix_married[1,0])\n",
    "\n",
    "TPR_rf_married "
   ]
  },
  {
   "cell_type": "code",
   "execution_count": 55,
   "metadata": {},
   "outputs": [
    {
     "output_type": "execute_result",
     "data": {
      "text/plain": [
       "0.8755916159567275"
      ]
     },
     "metadata": {},
     "execution_count": 55
    }
   ],
   "source": [
    "TPR_rf_single = confusion_matrix_single[0,0] / (confusion_matrix_single[0,0] + confusion_matrix_single[1,0])\n",
    "\n",
    "TPR_rf_single "
   ]
  },
  {
   "cell_type": "code",
   "execution_count": 56,
   "metadata": {},
   "outputs": [
    {
     "output_type": "execute_result",
     "data": {
      "text/plain": [
       "0.8631123919308358"
      ]
     },
     "metadata": {},
     "execution_count": 56
    }
   ],
   "source": [
    "TPR_rf_divorced = confusion_matrix_divorced[0,0] / (confusion_matrix_divorced[0,0] + confusion_matrix_divorced[1,0])\n",
    "\n",
    "TPR_rf_divorced "
   ]
  },
  {
   "cell_type": "code",
   "execution_count": 57,
   "metadata": {},
   "outputs": [
    {
     "output_type": "execute_result",
     "data": {
      "text/plain": [
       "0.10751748251748251"
      ]
     },
     "metadata": {},
     "execution_count": 57
    }
   ],
   "source": [
    "# Equalized Odds\n",
    "#TPR = TP/TP+FN\n",
    "#FNR = FN/FN+TP\n",
    "\n",
    "\n",
    "FNR_rf_married = confusion_matrix_married[1,0] / (confusion_matrix_married[1,0] + confusion_matrix_married[0,0])\n",
    "\n",
    "FNR_rf_married # 0.11652109273369263\n"
   ]
  },
  {
   "cell_type": "code",
   "execution_count": 58,
   "metadata": {},
   "outputs": [
    {
     "output_type": "execute_result",
     "data": {
      "text/plain": [
       "0.12440838404327248"
      ]
     },
     "metadata": {},
     "execution_count": 58
    }
   ],
   "source": [
    "FNR_rf_single = confusion_matrix_single[1,0] / (confusion_matrix_single[1,0] + confusion_matrix_single[0,0])\n",
    "\n",
    "FNR_rf_single "
   ]
  },
  {
   "cell_type": "code",
   "execution_count": 59,
   "metadata": {},
   "outputs": [
    {
     "output_type": "execute_result",
     "data": {
      "text/plain": [
       "0.13688760806916425"
      ]
     },
     "metadata": {},
     "execution_count": 59
    }
   ],
   "source": [
    "FNR_rf_divorced = confusion_matrix_divorced[1,0] / (confusion_matrix_divorced[1,0] + confusion_matrix_divorced[0,0])\n",
    "\n",
    "FNR_rf_divorced "
   ]
  },
  {
   "cell_type": "code",
   "execution_count": 60,
   "metadata": {},
   "outputs": [],
   "source": [
    "# Fairness Through Unwareness\n",
    "x_train_unawareness = x_train.copy()\n",
    "x_train_unawareness\n",
    "x_train_unawareness.drop('marital_married', inplace=True, axis=1)\n",
    "x_train_unawareness.drop('marital_single', inplace=True, axis=1)\n",
    "x_train_unawareness.drop('marital_divorced', inplace=True, axis=1)\n",
    "\n",
    "# x_train_unawareness.columns.values\n",
    "# x_train.columns.values"
   ]
  },
  {
   "cell_type": "code",
   "execution_count": 61,
   "metadata": {},
   "outputs": [],
   "source": [
    "#Fairness through unawareness\n",
    "\n",
    "x_test_unawareness = x_test.copy()\n",
    "x_test_unawareness\n",
    "x_test_married = x_test_unawareness[x_test_unawareness['marital_married'] == 1]\n",
    "x_test_single = x_test_unawareness[x_test_unawareness['marital_single'] == 1]\n",
    "x_test_divorced = x_test_unawareness[x_test_unawareness['marital_divorced'] == 1]\n",
    "\n",
    "\n",
    "x_test_married.drop('marital_married', inplace=True, axis=1)\n",
    "x_test_married.drop('marital_single', inplace=True, axis=1)\n",
    "x_test_married.drop('marital_divorced', inplace=True, axis=1)\n",
    "\n",
    "x_test_single.drop('marital_married', inplace=True, axis=1)\n",
    "x_test_single.drop('marital_single', inplace=True, axis=1)\n",
    "x_test_single.drop('marital_divorced', inplace=True, axis=1)\n",
    "\n",
    "x_test_divorced.drop('marital_married', inplace=True, axis=1)\n",
    "x_test_divorced.drop('marital_single', inplace=True, axis=1)\n",
    "x_test_divorced.drop('marital_divorced', inplace=True, axis=1)\n",
    "\n",
    "\n",
    "# x_test_unawareness.columns.values\n",
    "# x_test.columns.values"
   ]
  },
  {
   "cell_type": "code",
   "execution_count": 62,
   "metadata": {},
   "outputs": [
    {
     "output_type": "execute_result",
     "data": {
      "text/plain": [
       "array([[1307,  953],\n",
       "       [ 187,  127]])"
      ]
     },
     "metadata": {},
     "execution_count": 62
    }
   ],
   "source": [
    "# Test on single set\n",
    "rf_pred_single = rf.fit(x_train_unawareness, y_train).predict(x_test_single)\n",
    "\n",
    "test_df = x_test_single.copy()\n",
    "test_df['biY'] = y_test\n",
    "test_df['pred'] = pd.Series(rf_pred_single, index=test_df.index)\n",
    "test_df['accurate'] = (test_df['pred'] == test_df['biY'])\n",
    "\n",
    "from sklearn.metrics import confusion_matrix\n",
    "\n",
    "confusion_matrix_single = confusion_matrix(test_df['biY'], test_df['pred'])\n",
    "confusion_matrix_single\n"
   ]
  },
  {
   "cell_type": "code",
   "execution_count": 63,
   "metadata": {},
   "outputs": [
    {
     "output_type": "execute_result",
     "data": {
      "text/plain": [
       "0.5571095571095571"
      ]
     },
     "metadata": {},
     "execution_count": 63
    }
   ],
   "source": [
    "accuracy_rf_single = (confusion_matrix_single[0][0] + confusion_matrix_single[1][1]) / (confusion_matrix_single[0][0] + confusion_matrix_single[0][1] + confusion_matrix_single[1][0] + confusion_matrix_single[1][1])\n",
    "accuracy_rf_single "
   ]
  },
  {
   "cell_type": "code",
   "execution_count": 64,
   "metadata": {},
   "outputs": [
    {
     "output_type": "execute_result",
     "data": {
      "text/plain": [
       "array([[3065, 1743],\n",
       "       [ 388,  217]])"
      ]
     },
     "metadata": {},
     "execution_count": 64
    }
   ],
   "source": [
    "# Test on married set\n",
    "rf_pred_married = rf.fit(x_train_unawareness, y_train).predict(x_test_married)\n",
    "\n",
    "test_df = x_test_married.copy()\n",
    "test_df['biY'] = y_test\n",
    "test_df['pred'] = pd.Series(rf_pred_married, index=test_df.index)\n",
    "test_df['accurate'] = (test_df['pred'] == test_df['biY'])\n",
    "\n",
    "from sklearn.metrics import confusion_matrix\n",
    "\n",
    "confusion_matrix_married = confusion_matrix(test_df['biY'], test_df['pred'])\n",
    "confusion_matrix_married\n"
   ]
  },
  {
   "cell_type": "code",
   "execution_count": 65,
   "metadata": {},
   "outputs": [
    {
     "output_type": "execute_result",
     "data": {
      "text/plain": [
       "0.6063181230371328"
      ]
     },
     "metadata": {},
     "execution_count": 65
    }
   ],
   "source": [
    "accuracy_rf_married = (confusion_matrix_married[0][0] + confusion_matrix_married[1][1]) / (confusion_matrix_married[0][0] + confusion_matrix_married[0][1] + confusion_matrix_married[1][0] + confusion_matrix_married[1][1])\n",
    "accuracy_rf_married "
   ]
  },
  {
   "cell_type": "code",
   "execution_count": 66,
   "metadata": {},
   "outputs": [
    {
     "output_type": "execute_result",
     "data": {
      "text/plain": [
       "array([[583, 317],\n",
       "       [ 87,  35]])"
      ]
     },
     "metadata": {},
     "execution_count": 66
    }
   ],
   "source": [
    "# Test on divorced set\n",
    "rf_pred_divorced = rf.fit(x_train_unawareness, y_train).predict(x_test_divorced)\n",
    "\n",
    "test_df = x_test_divorced.copy()\n",
    "test_df['biY'] = y_test\n",
    "test_df['pred'] = pd.Series(rf_pred_divorced, index=test_df.index)\n",
    "test_df['accurate'] = (test_df['pred'] == test_df['biY'])\n",
    "\n",
    "from sklearn.metrics import confusion_matrix\n",
    "\n",
    "confusion_matrix_divorced = confusion_matrix(test_df['biY'], test_df['pred'])\n",
    "confusion_matrix_divorced"
   ]
  },
  {
   "cell_type": "code",
   "execution_count": 67,
   "metadata": {},
   "outputs": [
    {
     "output_type": "execute_result",
     "data": {
      "text/plain": [
       "0.6046966731898239"
      ]
     },
     "metadata": {},
     "execution_count": 67
    }
   ],
   "source": [
    "accuracy_rf_divorced = (confusion_matrix_divorced[0][0] + confusion_matrix_divorced[1][1]) / (confusion_matrix_divorced[0][0] + confusion_matrix_divorced[0][1] + confusion_matrix_divorced[1][0] + confusion_matrix_divorced[1][1])\n",
    "accuracy_rf_divorced # 0.8718606782768102"
   ]
  },
  {
   "cell_type": "markdown",
   "metadata": {},
   "source": [
    "Support Vector Machine"
   ]
  },
  {
   "cell_type": "code",
   "execution_count": 68,
   "metadata": {},
   "outputs": [],
   "source": [
    "from sklearn import svm as svm_model\n",
    "svm = svm_model.SVC(class_weight='balanced') # add class_weight='balanced' is to avoid classifying all data as 0\n",
    "svm_pred = svm.fit(x_train, y_train).predict(x_test)"
   ]
  },
  {
   "cell_type": "code",
   "execution_count": 69,
   "metadata": {},
   "outputs": [
    {
     "output_type": "execute_result",
     "data": {
      "text/plain": [
       "array(['balance', 'day', 'duration', 'campaign', 'pdays', 'previous',\n",
       "       'biDefault', 'biHousing', 'biLoan', 'catAge_30-40', 'catAge_40-50',\n",
       "       'catAge_<=30', 'catAge_>=50', 'job_admin.', 'job_blue-collar',\n",
       "       'job_entrepreneur', 'job_housemaid', 'job_management',\n",
       "       'job_retired', 'job_self-employed', 'job_services', 'job_student',\n",
       "       'job_technician', 'job_unemployed', 'marital_divorced',\n",
       "       'marital_married', 'marital_single', 'education_primary',\n",
       "       'education_secondary', 'education_tertiary', 'month_apr',\n",
       "       'month_aug', 'month_dec', 'month_feb', 'month_jan', 'month_jul',\n",
       "       'month_jun', 'month_mar', 'month_may', 'month_nov', 'month_oct',\n",
       "       'month_sep', 'Fmonth_apr', 'Fmonth_aug', 'Fmonth_dec',\n",
       "       'Fmonth_feb', 'Fmonth_jan', 'Fmonth_jul', 'Fmonth_jun',\n",
       "       'Fmonth_mar', 'Fmonth_may', 'Fmonth_nov', 'Fmonth_oct', 'biY',\n",
       "       'pred', 'accurate'], dtype=object)"
      ]
     },
     "metadata": {},
     "execution_count": 69
    }
   ],
   "source": [
    "test_df = x_test.copy()\n",
    "test_df['biY'] = y_test\n",
    "test_df['pred'] = pd.Series(svm_pred, index=test_df.index)\n",
    "test_df['accurate'] = (test_df['pred'] == test_df['biY'])\n",
    "test_df.columns.values"
   ]
  },
  {
   "cell_type": "code",
   "execution_count": 70,
   "metadata": {},
   "outputs": [
    {
     "output_type": "execute_result",
     "data": {
      "text/plain": [
       "array([[5243, 2725],\n",
       "       [ 674,  367]])"
      ]
     },
     "metadata": {},
     "execution_count": 70
    }
   ],
   "source": [
    "from sklearn.metrics import confusion_matrix\n",
    "confusion_matrix = confusion_matrix(test_df['biY'], test_df['pred'])\n",
    "confusion_matrix"
   ]
  },
  {
   "cell_type": "code",
   "execution_count": 71,
   "metadata": {},
   "outputs": [
    {
     "output_type": "execute_result",
     "data": {
      "text/plain": [
       "0.6227106227106227"
      ]
     },
     "metadata": {},
     "execution_count": 71
    }
   ],
   "source": [
    "# Accuracy\n",
    "# \"Accuracy: \", test_df.accurate.mean()\n",
    "accuracy_svm = (confusion_matrix[0][0] + confusion_matrix[1][1]) / (confusion_matrix[0][0] + confusion_matrix[0][1] + confusion_matrix[1][0] + confusion_matrix[1][1])\n",
    "accuracy_svm\n"
   ]
  },
  {
   "cell_type": "code",
   "execution_count": 72,
   "metadata": {},
   "outputs": [],
   "source": [
    "# Split dataset based on marital status\n",
    "test_df.columns.values\n",
    "test_married = x_test[x_test['marital_married'] == 1]\n",
    "test_single = x_test[x_test['marital_single'] == 1]\n",
    "test_divorced = x_test[x_test['marital_divorced'] == 1]"
   ]
  },
  {
   "cell_type": "code",
   "execution_count": 73,
   "metadata": {},
   "outputs": [
    {
     "output_type": "execute_result",
     "data": {
      "text/plain": [
       "array([[1508,  752],\n",
       "       [ 202,  112]])"
      ]
     },
     "metadata": {},
     "execution_count": 73
    }
   ],
   "source": [
    "# Test on single subset\n",
    "svm_pred_single = svm.fit(x_train, y_train).predict(test_single)\n",
    "\n",
    "test_df = test_single.copy()\n",
    "test_df['biY'] = y_test\n",
    "test_df['pred'] = pd.Series(svm_pred_single, index=test_df.index)\n",
    "test_df['accurate'] = (test_df['pred'] == test_df['biY'])\n",
    "\n",
    "from sklearn.metrics import confusion_matrix\n",
    "\n",
    "confusion_matrix_single = confusion_matrix(test_df['biY'], test_df['pred'])\n",
    "confusion_matrix_single"
   ]
  },
  {
   "cell_type": "code",
   "execution_count": 74,
   "metadata": {},
   "outputs": [
    {
     "output_type": "execute_result",
     "data": {
      "text/plain": [
       "0.6293706293706294"
      ]
     },
     "metadata": {},
     "execution_count": 74
    }
   ],
   "source": [
    "accuracy_svm_single = (confusion_matrix_single[0][0] + confusion_matrix_single[1][1]) / (confusion_matrix_single[0][0] + confusion_matrix_single[0][1] + confusion_matrix_single[1][0] + confusion_matrix_single[1][1])\n",
    "accuracy_svm_single"
   ]
  },
  {
   "cell_type": "code",
   "execution_count": 75,
   "metadata": {},
   "outputs": [
    {
     "output_type": "execute_result",
     "data": {
      "text/plain": [
       "array([[3114, 1694],\n",
       "       [ 394,  211]])"
      ]
     },
     "metadata": {},
     "execution_count": 75
    }
   ],
   "source": [
    "# Test on married subset\n",
    "svm_pred_married = svm.fit(x_train, y_train).predict(test_married)\n",
    "\n",
    "test_df = test_married.copy()\n",
    "test_df['biY'] = y_test\n",
    "test_df['pred'] = pd.Series(svm_pred_married, index=test_df.index)\n",
    "test_df['accurate'] = (test_df['pred'] == test_df['biY'])\n",
    "\n",
    "from sklearn.metrics import confusion_matrix\n",
    "\n",
    "confusion_matrix_married = confusion_matrix(test_df['biY'], test_df['pred'])\n",
    "confusion_matrix_married"
   ]
  },
  {
   "cell_type": "code",
   "execution_count": 76,
   "metadata": {},
   "outputs": [
    {
     "output_type": "execute_result",
     "data": {
      "text/plain": [
       "0.6142619619434694"
      ]
     },
     "metadata": {},
     "execution_count": 76
    }
   ],
   "source": [
    "accuracy_svm_married = (confusion_matrix_married[0][0] + confusion_matrix_married[1][1]) / (confusion_matrix_married[0][0] + confusion_matrix_married[0][1] + confusion_matrix_married[1][0] + confusion_matrix_married[1][1])\n",
    "accuracy_svm_married # 0.8718606782768102"
   ]
  },
  {
   "cell_type": "code",
   "execution_count": 77,
   "metadata": {},
   "outputs": [
    {
     "output_type": "execute_result",
     "data": {
      "text/plain": [
       "array([[621, 279],\n",
       "       [ 78,  44]])"
      ]
     },
     "metadata": {},
     "execution_count": 77
    }
   ],
   "source": [
    "# Test on divorced subset\n",
    "svm_pred_divorced = svm.fit(x_train, y_train).predict(test_divorced)\n",
    "\n",
    "test_df = test_divorced.copy()\n",
    "test_df['biY'] = y_test\n",
    "test_df['pred'] = pd.Series(svm_pred_divorced, index=test_df.index)\n",
    "test_df['accurate'] = (test_df['pred'] == test_df['biY'])\n",
    "\n",
    "from sklearn.metrics import confusion_matrix\n",
    "\n",
    "confusion_matrix_divorced = confusion_matrix(test_df['biY'], test_df['pred'])\n",
    "confusion_matrix_divorced"
   ]
  },
  {
   "cell_type": "code",
   "execution_count": 78,
   "metadata": {},
   "outputs": [
    {
     "output_type": "execute_result",
     "data": {
      "text/plain": [
       "0.6506849315068494"
      ]
     },
     "metadata": {},
     "execution_count": 78
    }
   ],
   "source": [
    "accuracy_svm_divorced = (confusion_matrix_divorced[0][0] + confusion_matrix_divorced[1][1]) / (confusion_matrix_divorced[0][0] + confusion_matrix_divorced[0][1] + confusion_matrix_divorced[1][0] + confusion_matrix_divorced[1][1])\n",
    "accuracy_svm_divorced # 0.8718606782768102"
   ]
  },
  {
   "cell_type": "code",
   "execution_count": 79,
   "metadata": {},
   "outputs": [
    {
     "output_type": "execute_result",
     "data": {
      "text/plain": [
       "3325"
      ]
     },
     "metadata": {},
     "execution_count": 79
    }
   ],
   "source": [
    "#Demographic Parity\n",
    "# positive rate = TP + TN\n",
    "PR_svm_married = confusion_matrix_married[0,0] +confusion_matrix_married[1,1]\n",
    "\n",
    "PR_svm_married"
   ]
  },
  {
   "cell_type": "code",
   "execution_count": 80,
   "metadata": {},
   "outputs": [
    {
     "output_type": "execute_result",
     "data": {
      "text/plain": [
       "1620"
      ]
     },
     "metadata": {},
     "execution_count": 80
    }
   ],
   "source": [
    "PR_svm_single = confusion_matrix_single[0,0] +confusion_matrix_single[1,1]\n",
    "PR_svm_single"
   ]
  },
  {
   "cell_type": "code",
   "execution_count": 81,
   "metadata": {},
   "outputs": [
    {
     "output_type": "execute_result",
     "data": {
      "text/plain": [
       "665"
      ]
     },
     "metadata": {},
     "execution_count": 81
    }
   ],
   "source": [
    "PR_svm_divorced = confusion_matrix_divorced[0,0] +confusion_matrix_divorced[1,1]\n",
    "PR_svm_divorced "
   ]
  },
  {
   "cell_type": "code",
   "execution_count": 82,
   "metadata": {},
   "outputs": [
    {
     "output_type": "execute_result",
     "data": {
      "text/plain": [
       "0.8876852907639681"
      ]
     },
     "metadata": {},
     "execution_count": 82
    }
   ],
   "source": [
    "# Equalized Opportunity\n",
    "#TPR = TP/TP+FN\n",
    "\n",
    "TPR_svm_married = confusion_matrix_married[0,0] / (confusion_matrix_married[0,0] + confusion_matrix_married[1,0])\n",
    "\n",
    "TPR_svm_married "
   ]
  },
  {
   "cell_type": "code",
   "execution_count": 83,
   "metadata": {},
   "outputs": [
    {
     "output_type": "execute_result",
     "data": {
      "text/plain": [
       "0.8818713450292398"
      ]
     },
     "metadata": {},
     "execution_count": 83
    }
   ],
   "source": [
    "TPR_svm_single = confusion_matrix_single[0,0] / (confusion_matrix_single[0,0] + confusion_matrix_single[1,0])\n",
    "\n",
    "TPR_svm_single "
   ]
  },
  {
   "cell_type": "code",
   "execution_count": 84,
   "metadata": {},
   "outputs": [
    {
     "output_type": "execute_result",
     "data": {
      "text/plain": [
       "0.8884120171673819"
      ]
     },
     "metadata": {},
     "execution_count": 84
    }
   ],
   "source": [
    "TPR_svm_divorced = confusion_matrix_divorced[0,0] / (confusion_matrix_divorced[0,0] + confusion_matrix_divorced[1,0])\n",
    "\n",
    "TPR_svm_divorced "
   ]
  },
  {
   "cell_type": "code",
   "execution_count": 85,
   "metadata": {},
   "outputs": [
    {
     "output_type": "execute_result",
     "data": {
      "text/plain": [
       "0.11231470923603193"
      ]
     },
     "metadata": {},
     "execution_count": 85
    }
   ],
   "source": [
    "# Equalized Odds\n",
    "#TPR = TP/TP+FN\n",
    "#FNR = FN/FN+TP\n",
    "\n",
    "\n",
    "FNR_svm_married = confusion_matrix_married[1,0] / (confusion_matrix_married[1,0] + confusion_matrix_married[0,0])\n",
    "\n",
    "FNR_svm_married"
   ]
  },
  {
   "cell_type": "code",
   "execution_count": 86,
   "metadata": {},
   "outputs": [
    {
     "output_type": "execute_result",
     "data": {
      "text/plain": [
       "0.11812865497076024"
      ]
     },
     "metadata": {},
     "execution_count": 86
    }
   ],
   "source": [
    "FNR_svm_single = confusion_matrix_single[1,0] / (confusion_matrix_single[1,0] + confusion_matrix_single[0,0])\n",
    "\n",
    "FNR_svm_single "
   ]
  },
  {
   "cell_type": "code",
   "execution_count": 87,
   "metadata": {},
   "outputs": [
    {
     "output_type": "execute_result",
     "data": {
      "text/plain": [
       "0.11158798283261803"
      ]
     },
     "metadata": {},
     "execution_count": 87
    }
   ],
   "source": [
    "FNR_svm_divorced = confusion_matrix_divorced[1,0] / (confusion_matrix_divorced[1,0] + confusion_matrix_divorced[0,0])\n",
    "\n",
    "FNR_svm_divorced "
   ]
  },
  {
   "cell_type": "code",
   "execution_count": 88,
   "metadata": {},
   "outputs": [],
   "source": [
    "# Fairness Through Unwareness\n",
    "x_train_unawareness = x_train.copy()\n",
    "x_train_unawareness\n",
    "x_train_unawareness.drop('marital_married', inplace=True, axis=1)\n",
    "x_train_unawareness.drop('marital_single', inplace=True, axis=1)\n",
    "x_train_unawareness.drop('marital_divorced', inplace=True, axis=1)\n",
    "\n",
    "# x_train_unawareness.columns.values\n",
    "# x_train.columns.values"
   ]
  },
  {
   "cell_type": "code",
   "execution_count": 89,
   "metadata": {},
   "outputs": [],
   "source": [
    "#Fairness through unawareness\n",
    "\n",
    "x_test_unawareness = x_test.copy()\n",
    "x_test_unawareness\n",
    "x_test_married = x_test_unawareness[x_test_unawareness['marital_married'] == 1]\n",
    "x_test_single = x_test_unawareness[x_test_unawareness['marital_single'] == 1]\n",
    "x_test_divorced = x_test_unawareness[x_test_unawareness['marital_divorced'] == 1]\n",
    "\n",
    "\n",
    "x_test_married.drop('marital_married', inplace=True, axis=1)\n",
    "x_test_married.drop('marital_single', inplace=True, axis=1)\n",
    "x_test_married.drop('marital_divorced', inplace=True, axis=1)\n",
    "\n",
    "x_test_single.drop('marital_married', inplace=True, axis=1)\n",
    "x_test_single.drop('marital_single', inplace=True, axis=1)\n",
    "x_test_single.drop('marital_divorced', inplace=True, axis=1)\n",
    "\n",
    "x_test_divorced.drop('marital_married', inplace=True, axis=1)\n",
    "x_test_divorced.drop('marital_single', inplace=True, axis=1)\n",
    "x_test_divorced.drop('marital_divorced', inplace=True, axis=1)\n",
    "\n"
   ]
  },
  {
   "cell_type": "code",
   "execution_count": 90,
   "metadata": {},
   "outputs": [
    {
     "output_type": "execute_result",
     "data": {
      "text/plain": [
       "array([[1508,  752],\n",
       "       [ 202,  112]])"
      ]
     },
     "metadata": {},
     "execution_count": 90
    }
   ],
   "source": [
    "# Test on single set\n",
    "svm_pred_single = svm.fit(x_train_unawareness, y_train).predict(x_test_single)\n",
    "\n",
    "test_df = x_test_single.copy()\n",
    "test_df['biY'] = y_test\n",
    "test_df['pred'] = pd.Series(svm_pred_single, index=test_df.index)\n",
    "test_df['accurate'] = (test_df['pred'] == test_df['biY'])\n",
    "\n",
    "from sklearn.metrics import confusion_matrix\n",
    "\n",
    "confusion_matrix_single = confusion_matrix(test_df['biY'], test_df['pred'])\n",
    "confusion_matrix_single\n"
   ]
  },
  {
   "cell_type": "code",
   "execution_count": 91,
   "metadata": {},
   "outputs": [
    {
     "output_type": "execute_result",
     "data": {
      "text/plain": [
       "0.6293706293706294"
      ]
     },
     "metadata": {},
     "execution_count": 91
    }
   ],
   "source": [
    "accuracy_svm_single = (confusion_matrix_single[0][0] + confusion_matrix_single[1][1]) / (confusion_matrix_single[0][0] + confusion_matrix_single[0][1] + confusion_matrix_single[1][0] + confusion_matrix_single[1][1])\n",
    "accuracy_svm_single"
   ]
  },
  {
   "cell_type": "code",
   "execution_count": 92,
   "metadata": {},
   "outputs": [
    {
     "output_type": "execute_result",
     "data": {
      "text/plain": [
       "array([[3114, 1694],\n",
       "       [ 394,  211]])"
      ]
     },
     "metadata": {},
     "execution_count": 92
    }
   ],
   "source": [
    "# Test on married set\n",
    "svm_pred_married = svm.fit(x_train_unawareness, y_train).predict(x_test_married)\n",
    "\n",
    "test_df = x_test_married.copy()\n",
    "test_df['biY'] = y_test\n",
    "test_df['pred'] = pd.Series(svm_pred_married, index=test_df.index)\n",
    "test_df['accurate'] = (test_df['pred'] == test_df['biY'])\n",
    "\n",
    "from sklearn.metrics import confusion_matrix\n",
    "\n",
    "confusion_matrix_married = confusion_matrix(test_df['biY'], test_df['pred'])\n",
    "confusion_matrix_married"
   ]
  },
  {
   "cell_type": "code",
   "execution_count": 93,
   "metadata": {},
   "outputs": [
    {
     "output_type": "execute_result",
     "data": {
      "text/plain": [
       "0.6142619619434694"
      ]
     },
     "metadata": {},
     "execution_count": 93
    }
   ],
   "source": [
    "accuracy_svm_married = (confusion_matrix_married[0][0] + confusion_matrix_married[1][1]) / (confusion_matrix_married[0][0] + confusion_matrix_married[0][1] + confusion_matrix_married[1][0] + confusion_matrix_married[1][1])\n",
    "accuracy_svm_married # 0.8718606782768102"
   ]
  },
  {
   "cell_type": "code",
   "execution_count": 94,
   "metadata": {},
   "outputs": [
    {
     "output_type": "execute_result",
     "data": {
      "text/plain": [
       "array([[621, 279],\n",
       "       [ 78,  44]])"
      ]
     },
     "metadata": {},
     "execution_count": 94
    }
   ],
   "source": [
    "# Test on divorced subset\n",
    "svm_pred_divorced = svm.fit(x_train_unawareness, y_train).predict(x_test_divorced)\n",
    "\n",
    "test_df = x_test_divorced.copy()\n",
    "test_df['biY'] = y_test\n",
    "test_df['pred'] = pd.Series(svm_pred_divorced, index=test_df.index)\n",
    "test_df['accurate'] = (test_df['pred'] == test_df['biY'])\n",
    "\n",
    "from sklearn.metrics import confusion_matrix\n",
    "\n",
    "confusion_matrix_divorced = confusion_matrix(test_df['biY'], test_df['pred'])\n",
    "confusion_matrix_divorced"
   ]
  },
  {
   "cell_type": "code",
   "execution_count": 95,
   "metadata": {},
   "outputs": [
    {
     "output_type": "execute_result",
     "data": {
      "text/plain": [
       "0.6506849315068494"
      ]
     },
     "metadata": {},
     "execution_count": 95
    }
   ],
   "source": [
    "accuracy_svm_divorced = (confusion_matrix_divorced[0][0] + confusion_matrix_divorced[1][1]) / (confusion_matrix_divorced[0][0] + confusion_matrix_divorced[0][1] + confusion_matrix_divorced[1][0] + confusion_matrix_divorced[1][1])\n",
    "accuracy_svm_divorced "
   ]
  },
  {
   "source": [
    "Logistic Regression Model"
   ],
   "cell_type": "markdown",
   "metadata": {}
  },
  {
   "cell_type": "code",
   "execution_count": 96,
   "metadata": {},
   "outputs": [],
   "source": [
    "from sklearn.datasets import load_iris\n",
    "from sklearn.linear_model import LogisticRegression\n",
    "clf = LogisticRegression(random_state=0, class_weight='balanced')\n",
    "clf_pred = clf.fit(x_train, y_train).predict(x_test)"
   ]
  },
  {
   "cell_type": "code",
   "execution_count": 97,
   "metadata": {},
   "outputs": [
    {
     "output_type": "execute_result",
     "data": {
      "text/plain": [
       "array(['balance', 'day', 'duration', 'campaign', 'pdays', 'previous',\n",
       "       'biDefault', 'biHousing', 'biLoan', 'catAge_30-40', 'catAge_40-50',\n",
       "       'catAge_<=30', 'catAge_>=50', 'job_admin.', 'job_blue-collar',\n",
       "       'job_entrepreneur', 'job_housemaid', 'job_management',\n",
       "       'job_retired', 'job_self-employed', 'job_services', 'job_student',\n",
       "       'job_technician', 'job_unemployed', 'marital_divorced',\n",
       "       'marital_married', 'marital_single', 'education_primary',\n",
       "       'education_secondary', 'education_tertiary', 'month_apr',\n",
       "       'month_aug', 'month_dec', 'month_feb', 'month_jan', 'month_jul',\n",
       "       'month_jun', 'month_mar', 'month_may', 'month_nov', 'month_oct',\n",
       "       'month_sep', 'Fmonth_apr', 'Fmonth_aug', 'Fmonth_dec',\n",
       "       'Fmonth_feb', 'Fmonth_jan', 'Fmonth_jul', 'Fmonth_jun',\n",
       "       'Fmonth_mar', 'Fmonth_may', 'Fmonth_nov', 'Fmonth_oct', 'biY',\n",
       "       'pred', 'accurate'], dtype=object)"
      ]
     },
     "metadata": {},
     "execution_count": 97
    }
   ],
   "source": [
    "test_df = x_test.copy()\n",
    "test_df['biY'] = y_test\n",
    "test_df['pred'] = pd.Series(clf_pred, index=test_df.index)\n",
    "test_df['accurate'] = (test_df['pred'] == test_df['biY'])\n",
    "test_df.columns.values"
   ]
  },
  {
   "cell_type": "code",
   "execution_count": 98,
   "metadata": {},
   "outputs": [
    {
     "output_type": "execute_result",
     "data": {
      "text/plain": [
       "array([[4363, 3605],\n",
       "       [ 578,  463]])"
      ]
     },
     "metadata": {},
     "execution_count": 98
    }
   ],
   "source": [
    "from sklearn.metrics import confusion_matrix\n",
    "confusion_matrix = confusion_matrix(test_df['biY'], test_df['pred'])\n",
    "confusion_matrix"
   ]
  },
  {
   "cell_type": "code",
   "execution_count": 99,
   "metadata": {},
   "outputs": [
    {
     "output_type": "execute_result",
     "data": {
      "text/plain": [
       "0.5356865356865357"
      ]
     },
     "metadata": {},
     "execution_count": 99
    }
   ],
   "source": [
    "# Accuracy\n",
    "# \"Accuracy: \", test_df.accurate.mean()\n",
    "accuracy_clf = (confusion_matrix[0][0] + confusion_matrix[1][1]) / (confusion_matrix[0][0] + confusion_matrix[0][1] + confusion_matrix[1][0] + confusion_matrix[1][1])\n",
    "accuracy_clf\n"
   ]
  },
  {
   "cell_type": "code",
   "execution_count": 100,
   "metadata": {},
   "outputs": [],
   "source": [
    "# Split dataset based on marital status\n",
    "test_df.columns.values\n",
    "test_married = x_test[x_test['marital_married'] == 1]\n",
    "test_single = x_test[x_test['marital_single'] == 1]\n",
    "test_divorced = x_test[x_test['marital_divorced'] == 1]"
   ]
  },
  {
   "cell_type": "code",
   "execution_count": 101,
   "metadata": {},
   "outputs": [
    {
     "output_type": "execute_result",
     "data": {
      "text/plain": [
       "array([[1085, 1175],\n",
       "       [ 153,  161]])"
      ]
     },
     "metadata": {},
     "execution_count": 101
    }
   ],
   "source": [
    "# Test on single subset\n",
    "clf_pred_single = clf.fit(x_train, y_train).predict(test_single)\n",
    "\n",
    "test_df = test_single.copy()\n",
    "test_df['biY'] = y_test\n",
    "test_df['pred'] = pd.Series(clf_pred_single, index=test_df.index)\n",
    "test_df['accurate'] = (test_df['pred'] == test_df['biY'])\n",
    "\n",
    "from sklearn.metrics import confusion_matrix\n",
    "\n",
    "confusion_matrix_single = confusion_matrix(test_df['biY'], test_df['pred'])\n",
    "confusion_matrix_single"
   ]
  },
  {
   "cell_type": "code",
   "execution_count": 102,
   "metadata": {},
   "outputs": [
    {
     "output_type": "execute_result",
     "data": {
      "text/plain": [
       "0.4840714840714841"
      ]
     },
     "metadata": {},
     "execution_count": 102
    }
   ],
   "source": [
    "accuracy_clf_single = (confusion_matrix_single[0][0] + confusion_matrix_single[1][1]) / (confusion_matrix_single[0][0] + confusion_matrix_single[0][1] + confusion_matrix_single[1][0] + confusion_matrix_single[1][1])\n",
    "accuracy_clf_single"
   ]
  },
  {
   "cell_type": "code",
   "execution_count": 103,
   "metadata": {},
   "outputs": [
    {
     "output_type": "execute_result",
     "data": {
      "text/plain": [
       "array([[2740, 2068],\n",
       "       [ 344,  261]])"
      ]
     },
     "metadata": {},
     "execution_count": 103
    }
   ],
   "source": [
    "# Test on married subset\n",
    "clf_pred_married = clf.fit(x_train, y_train).predict(test_married)\n",
    "\n",
    "test_df = test_married.copy()\n",
    "test_df['biY'] = y_test\n",
    "test_df['pred'] = pd.Series(clf_pred_married, index=test_df.index)\n",
    "test_df['accurate'] = (test_df['pred'] == test_df['biY'])\n",
    "\n",
    "from sklearn.metrics import confusion_matrix\n",
    "\n",
    "confusion_matrix_married = confusion_matrix(test_df['biY'], test_df['pred'])\n",
    "confusion_matrix_married"
   ]
  },
  {
   "cell_type": "code",
   "execution_count": 104,
   "metadata": {},
   "outputs": [
    {
     "output_type": "execute_result",
     "data": {
      "text/plain": [
       "0.5544060594864216"
      ]
     },
     "metadata": {},
     "execution_count": 104
    }
   ],
   "source": [
    "accuracy_clf_married = (confusion_matrix_married[0][0] + confusion_matrix_married[1][1]) / (confusion_matrix_married[0][0] + confusion_matrix_married[0][1] + confusion_matrix_married[1][0] + confusion_matrix_married[1][1])\n",
    "accuracy_clf_married "
   ]
  },
  {
   "cell_type": "code",
   "execution_count": 105,
   "metadata": {},
   "outputs": [
    {
     "output_type": "execute_result",
     "data": {
      "text/plain": [
       "array([[538, 362],\n",
       "       [ 81,  41]])"
      ]
     },
     "metadata": {},
     "execution_count": 105
    }
   ],
   "source": [
    "# Test on divorced subset\n",
    "clf_pred_divorced = clf.fit(x_train, y_train).predict(test_divorced)\n",
    " \n",
    "test_df = test_divorced.copy()\n",
    "test_df['biY'] = y_test\n",
    "test_df['pred'] = pd.Series(clf_pred_divorced, index=test_df.index)\n",
    "test_df['accurate'] = (test_df['pred'] == test_df['biY'])\n",
    " \n",
    "from sklearn.metrics import confusion_matrix\n",
    " \n",
    "confusion_matrix_divorced = confusion_matrix(test_df['biY'], test_df['pred'])\n",
    "confusion_matrix_divorced\n"
   ]
  },
  {
   "cell_type": "code",
   "execution_count": 106,
   "metadata": {},
   "outputs": [
    {
     "output_type": "execute_result",
     "data": {
      "text/plain": [
       "0.5665362035225049"
      ]
     },
     "metadata": {},
     "execution_count": 106
    }
   ],
   "source": [
    "accuracy_clf_divorced = (confusion_matrix_divorced[0][0] + confusion_matrix_divorced[1][1]) / (confusion_matrix_divorced[0][0] + confusion_matrix_divorced[0][1] + confusion_matrix_divorced[1][0] + confusion_matrix_divorced[1][1])\n",
    "accuracy_clf_divorced "
   ]
  },
  {
   "cell_type": "code",
   "execution_count": 107,
   "metadata": {},
   "outputs": [
    {
     "output_type": "execute_result",
     "data": {
      "text/plain": [
       "3001"
      ]
     },
     "metadata": {},
     "execution_count": 107
    }
   ],
   "source": [
    "#Demographic Parity\n",
    "# positive rate = TP + TN\n",
    "PR_clf_married = confusion_matrix_married[0,0] +confusion_matrix_married[1,1]\n",
    "PR_clf_married # 4756"
   ]
  },
  {
   "cell_type": "code",
   "execution_count": 108,
   "metadata": {},
   "outputs": [
    {
     "output_type": "execute_result",
     "data": {
      "text/plain": [
       "1246"
      ]
     },
     "metadata": {},
     "execution_count": 108
    }
   ],
   "source": [
    "PR_clf_single = confusion_matrix_single[0,0] +confusion_matrix_single[1,1]\n",
    "PR_clf_single # 2136"
   ]
  },
  {
   "cell_type": "code",
   "execution_count": 109,
   "metadata": {},
   "outputs": [
    {
     "output_type": "execute_result",
     "data": {
      "text/plain": [
       "579"
      ]
     },
     "metadata": {},
     "execution_count": 109
    }
   ],
   "source": [
    "PR_clf_divorced = confusion_matrix_divorced[0,0] +confusion_matrix_divorced[1,1]\n",
    "PR_clf_divorced # 2136"
   ]
  },
  {
   "cell_type": "code",
   "execution_count": 110,
   "metadata": {},
   "outputs": [
    {
     "output_type": "execute_result",
     "data": {
      "text/plain": [
       "0.8884565499351491"
      ]
     },
     "metadata": {},
     "execution_count": 110
    }
   ],
   "source": [
    "# Equalized Opportunity\n",
    "#TPR = TP/TP+FN\n",
    "\n",
    "TPR_clf_married = confusion_matrix_married[0,0] / (confusion_matrix_married[0,0] + confusion_matrix_married[1,0])\n",
    "\n",
    "TPR_clf_married "
   ]
  },
  {
   "cell_type": "code",
   "execution_count": 111,
   "metadata": {},
   "outputs": [
    {
     "output_type": "execute_result",
     "data": {
      "text/plain": [
       "0.8764135702746365"
      ]
     },
     "metadata": {},
     "execution_count": 111
    }
   ],
   "source": [
    "TPR_clf_single = confusion_matrix_single[0,0] / (confusion_matrix_single[0,0] + confusion_matrix_single[1,0])\n",
    "\n",
    "TPR_clf_single "
   ]
  },
  {
   "cell_type": "code",
   "execution_count": 112,
   "metadata": {},
   "outputs": [
    {
     "output_type": "execute_result",
     "data": {
      "text/plain": [
       "0.8691437802907916"
      ]
     },
     "metadata": {},
     "execution_count": 112
    }
   ],
   "source": [
    "TPR_clf_divorced = confusion_matrix_divorced[0,0] / (confusion_matrix_divorced[0,0] + confusion_matrix_divorced[1,0])\n",
    "\n",
    "TPR_clf_divorced "
   ]
  },
  {
   "cell_type": "code",
   "execution_count": 113,
   "metadata": {},
   "outputs": [
    {
     "output_type": "execute_result",
     "data": {
      "text/plain": [
       "0.11154345006485085"
      ]
     },
     "metadata": {},
     "execution_count": 113
    }
   ],
   "source": [
    "# Equalized Odds\n",
    "#TPR = TP/TP+FN\n",
    "#FNR = FN/FN+TP\n",
    "\n",
    "\n",
    "FNR_clf_married = confusion_matrix_married[1,0] / (confusion_matrix_married[1,0] + confusion_matrix_married[0,0])\n",
    "\n",
    "FNR_clf_married # 0.11652109273369263"
   ]
  },
  {
   "cell_type": "code",
   "execution_count": 114,
   "metadata": {},
   "outputs": [
    {
     "output_type": "execute_result",
     "data": {
      "text/plain": [
       "0.12358642972536349"
      ]
     },
     "metadata": {},
     "execution_count": 114
    }
   ],
   "source": [
    "FNR_clf_single = confusion_matrix_single[1,0] / (confusion_matrix_single[1,0] + confusion_matrix_single[0,0])\n",
    "\n",
    "FNR_clf_single "
   ]
  },
  {
   "cell_type": "code",
   "execution_count": 115,
   "metadata": {},
   "outputs": [
    {
     "output_type": "execute_result",
     "data": {
      "text/plain": [
       "0.1308562197092084"
      ]
     },
     "metadata": {},
     "execution_count": 115
    }
   ],
   "source": [
    "FNR_clf_divorced = confusion_matrix_divorced[1,0] / (confusion_matrix_divorced[1,0] + confusion_matrix_divorced[0,0])\n",
    "\n",
    "FNR_clf_divorced "
   ]
  },
  {
   "cell_type": "code",
   "execution_count": 116,
   "metadata": {},
   "outputs": [],
   "source": [
    "# Fairness Through Unwareness\n",
    "x_train_unawareness = x_train.copy()\n",
    "x_train_unawareness\n",
    "x_train_unawareness.drop('marital_married', inplace=True, axis=1)\n",
    "x_train_unawareness.drop('marital_single', inplace=True, axis=1)\n",
    "x_train_unawareness.drop('marital_divorced', inplace=True, axis=1)\n",
    "\n",
    "# x_train_unawareness.columns.values\n",
    "# x_train.columns.values"
   ]
  },
  {
   "cell_type": "code",
   "execution_count": 117,
   "metadata": {},
   "outputs": [],
   "source": [
    "#Fairness through unawareness\n",
    "\n",
    "x_test_unawareness = x_test.copy()\n",
    "x_test_unawareness\n",
    "x_test_married = x_test_unawareness[x_test_unawareness['marital_married'] == 1]\n",
    "x_test_single = x_test_unawareness[x_test_unawareness['marital_single'] == 1]\n",
    "x_test_divorced = x_test_unawareness[x_test_unawareness['marital_divorced'] == 1]\n",
    "\n",
    "\n",
    "x_test_married.drop('marital_married', inplace=True, axis=1)\n",
    "x_test_married.drop('marital_single', inplace=True, axis=1)\n",
    "x_test_married.drop('marital_divorced', inplace=True, axis=1)\n",
    "\n",
    "x_test_single.drop('marital_married', inplace=True, axis=1)\n",
    "x_test_single.drop('marital_single', inplace=True, axis=1)\n",
    "x_test_single.drop('marital_divorced', inplace=True, axis=1)\n",
    "\n",
    "x_test_divorced.drop('marital_married', inplace=True, axis=1)\n",
    "x_test_divorced.drop('marital_single', inplace=True, axis=1)\n",
    "x_test_divorced.drop('marital_divorced', inplace=True, axis=1)\n",
    "\n",
    "\n",
    "# x_test_unawareness.columns.values\n",
    "# x_test.columns.values"
   ]
  },
  {
   "cell_type": "code",
   "execution_count": 118,
   "metadata": {},
   "outputs": [
    {
     "output_type": "execute_result",
     "data": {
      "text/plain": [
       "array([[1166, 1094],\n",
       "       [ 161,  153]])"
      ]
     },
     "metadata": {},
     "execution_count": 118
    }
   ],
   "source": [
    "# Test on single set\n",
    "clf_pred_single = clf.fit(x_train_unawareness, y_train).predict(x_test_single)\n",
    "\n",
    "test_df = x_test_single.copy()\n",
    "test_df['biY'] = y_test\n",
    "test_df['pred'] = pd.Series(clf_pred_single, index=test_df.index)\n",
    "test_df['accurate'] = (test_df['pred'] == test_df['biY'])\n",
    "\n",
    "from sklearn.metrics import confusion_matrix\n",
    "\n",
    "confusion_matrix_single = confusion_matrix(test_df['biY'], test_df['pred'])\n",
    "confusion_matrix_single"
   ]
  },
  {
   "cell_type": "code",
   "execution_count": 119,
   "metadata": {},
   "outputs": [
    {
     "output_type": "execute_result",
     "data": {
      "text/plain": [
       "0.5124320124320124"
      ]
     },
     "metadata": {},
     "execution_count": 119
    }
   ],
   "source": [
    "accuracy_clf_single = (confusion_matrix_single[0][0] + confusion_matrix_single[1][1]) / (confusion_matrix_single[0][0] + confusion_matrix_single[0][1] + confusion_matrix_single[1][0] + confusion_matrix_single[1][1])\n",
    "accuracy_clf_single "
   ]
  },
  {
   "cell_type": "code",
   "execution_count": 120,
   "metadata": {},
   "outputs": [
    {
     "output_type": "execute_result",
     "data": {
      "text/plain": [
       "array([[3065, 1743],\n",
       "       [ 388,  217]])"
      ]
     },
     "metadata": {},
     "execution_count": 120
    }
   ],
   "source": [
    "# Test on married set\n",
    "clf_pred_married = rf.fit(x_train_unawareness, y_train).predict(x_test_married)\n",
    "\n",
    "test_df = x_test_married.copy()\n",
    "test_df['biY'] = y_test\n",
    "test_df['pred'] = pd.Series(clf_pred_married, index=test_df.index)\n",
    "test_df['accurate'] = (test_df['pred'] == test_df['biY'])\n",
    "\n",
    "from sklearn.metrics import confusion_matrix\n",
    "\n",
    "confusion_matrix_married = confusion_matrix(test_df['biY'], test_df['pred'])\n",
    "confusion_matrix_married\n"
   ]
  },
  {
   "cell_type": "code",
   "execution_count": 121,
   "metadata": {},
   "outputs": [
    {
     "output_type": "execute_result",
     "data": {
      "text/plain": [
       "0.6063181230371328"
      ]
     },
     "metadata": {},
     "execution_count": 121
    }
   ],
   "source": [
    "accuracy_clf_married = (confusion_matrix_married[0][0] + confusion_matrix_married[1][1]) / (confusion_matrix_married[0][0] + confusion_matrix_married[0][1] + confusion_matrix_married[1][0] + confusion_matrix_married[1][1])\n",
    "accuracy_clf_married "
   ]
  },
  {
   "cell_type": "code",
   "execution_count": 122,
   "metadata": {},
   "outputs": [
    {
     "output_type": "execute_result",
     "data": {
      "text/plain": [
       "array([[461, 439],\n",
       "       [ 71,  51]])"
      ]
     },
     "metadata": {},
     "execution_count": 122
    }
   ],
   "source": [
    "# Test on divorced set\n",
    "clf_pred_divorced = clf.fit(x_train_unawareness, y_train).predict(x_test_divorced)\n",
    "\n",
    "test_df = x_test_divorced.copy()\n",
    "test_df['biY'] = y_test\n",
    "test_df['pred'] = pd.Series(clf_pred_divorced, index=test_df.index)\n",
    "test_df['accurate'] = (test_df['pred'] == test_df['biY'])\n",
    "\n",
    "from sklearn.metrics import confusion_matrix\n",
    "\n",
    "confusion_matrix_divorced = confusion_matrix(test_df['biY'], test_df['pred'])\n",
    "confusion_matrix_divorced"
   ]
  },
  {
   "cell_type": "code",
   "execution_count": 123,
   "metadata": {},
   "outputs": [
    {
     "output_type": "execute_result",
     "data": {
      "text/plain": [
       "0.5009784735812133"
      ]
     },
     "metadata": {},
     "execution_count": 123
    }
   ],
   "source": [
    "accuracy_clf_divorced = (confusion_matrix_divorced[0][0] + confusion_matrix_divorced[1][1]) / (confusion_matrix_divorced[0][0] + confusion_matrix_divorced[0][1] + confusion_matrix_divorced[1][0] + confusion_matrix_divorced[1][1])\n",
    "accuracy_clf_divorced # 0.8718606782768102"
   ]
  },
  {
   "cell_type": "markdown",
   "metadata": {},
   "source": [
    "Linear Regression model"
   ]
  },
  {
   "cell_type": "code",
   "execution_count": 124,
   "metadata": {},
   "outputs": [],
   "source": [
    "from sklearn import linear_model\n",
    "linear_regression_model = linear_model.LinearRegression()\n",
    "linear_regression_model.fit(x_train, y_train)\n",
    "prediction = linear_regression_model.predict(x_test)"
   ]
  },
  {
   "cell_type": "markdown",
   "metadata": {},
   "source": [
    "Result"
   ]
  },
  {
   "cell_type": "code",
   "execution_count": 125,
   "metadata": {},
   "outputs": [
    {
     "output_type": "execute_result",
     "data": {
      "text/plain": [
       "11879    0.111887\n",
       "5653     0.111763\n",
       "11198    0.126075\n",
       "3957     0.111495\n",
       "3762     0.112426\n",
       "           ...   \n",
       "42560    0.113807\n",
       "44451    0.127561\n",
       "9787     0.114586\n",
       "10850    0.122021\n",
       "16015    0.119516\n",
       "Name: pred, Length: 9009, dtype: float64"
      ]
     },
     "metadata": {},
     "execution_count": 125
    }
   ],
   "source": [
    "test_df = x_test.copy()\n",
    "test_df['biY'] = y_test\n",
    "test_df['pred'] = pd.Series(prediction, index=test_df.index)\n",
    "\n",
    "test_df['accurate'] = (test_df['pred'] == test_df['biY'])\n",
    "test_df['pred']"
   ]
  }
 ],
 "metadata": {
  "kernelspec": {
   "name": "python3",
   "display_name": "Python 3.8.1 64-bit",
   "metadata": {
    "interpreter": {
     "hash": "082e9a3bcad0a290d0001e938aa60b99250c6c2ef33a923c00b70f9826caf4b7"
    }
   }
  },
  "language_info": {
   "codemirror_mode": {
    "name": "ipython",
    "version": 3
   },
   "file_extension": ".py",
   "mimetype": "text/x-python",
   "name": "python",
   "nbconvert_exporter": "python",
   "pygments_lexer": "ipython3",
   "version": "3.8.1-final"
  }
 },
 "nbformat": 4,
 "nbformat_minor": 4
}