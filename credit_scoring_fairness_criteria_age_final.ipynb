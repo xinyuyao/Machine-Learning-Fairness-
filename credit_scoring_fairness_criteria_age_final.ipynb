{
 "cells": [
  {
   "cell_type": "markdown",
   "source": [
    "Credit Scoring Fairness Criteria"
   ],
   "metadata": {}
  },
  {
   "cell_type": "markdown",
   "source": [
    "Load the dataset"
   ],
   "metadata": {}
  },
  {
   "cell_type": "code",
   "execution_count": 1,
   "source": [
    "import pandas as pd\n",
    "import numpy as np\n",
    "import matplotlib.pyplot as plt\n",
    "import matplotlib.cm as cm"
   ],
   "outputs": [],
   "metadata": {}
  },
  {
   "cell_type": "markdown",
   "source": [
    "Load the dataset"
   ],
   "metadata": {}
  },
  {
   "cell_type": "code",
   "execution_count": 2,
   "source": [
    "import os\n",
    "BANK_PATH = os.path.join(os.getcwd(), 'ML fairness/ml bank dataset/bankfullclean.csv') # Assign this to the location of the dataset\n",
    "print(os.getcwd())\n",
    "print(BANK_PATH)\n",
    "\n",
    "# 5254 number of rows have 'biY' == 1\n",
    "# 39787 number of rows have 'biY' == 0\n"
   ],
   "outputs": [
    {
     "output_type": "stream",
     "name": "stdout",
     "text": [
      "/Users/xinyu/Desktop/Research/Machine-Learning-Fairness--main\n",
      "/Users/xinyu/Desktop/Research/Machine-Learning-Fairness--main/ML fairness/ml bank dataset/bankfullclean.csv\n"
     ]
    }
   ],
   "metadata": {}
  },
  {
   "cell_type": "code",
   "execution_count": 3,
   "source": [
    "bank = pd.read_csv(BANK_PATH)\n",
    "df = pd.DataFrame(bank)\n",
    "df.head()\n",
    "dummy = df[['catAge', 'job', 'marital','education','balance','day', 'month', 'duration', 'campaign', 'pdays', 'previous', 'Fmonth', 'biDefault', 'biHousing', 'biLoan']]\n",
    "# dummy.columns.values\n",
    "dummy = pd.get_dummies(data=dummy)\n",
    "# dummy.head()\n",
    "dummy.columns.values\n",
    "# df['marital'].unique()\n",
    "\n",
    "# df['biY'].replace({0: False, 1: True}, inplace=True)\n",
    "# print(df['biY'])\n"
   ],
   "outputs": [
    {
     "output_type": "execute_result",
     "data": {
      "text/plain": [
       "array(['balance', 'day', 'duration', 'campaign', 'pdays', 'previous',\n",
       "       'biDefault', 'biHousing', 'biLoan', 'catAge_30-40', 'catAge_40-50',\n",
       "       'catAge_<=30', 'catAge_>=50', 'job_admin.', 'job_blue-collar',\n",
       "       'job_entrepreneur', 'job_housemaid', 'job_management',\n",
       "       'job_retired', 'job_self-employed', 'job_services', 'job_student',\n",
       "       'job_technician', 'job_unemployed', 'marital_divorced',\n",
       "       'marital_married', 'marital_single', 'education_primary',\n",
       "       'education_secondary', 'education_tertiary', 'month_apr',\n",
       "       'month_aug', 'month_dec', 'month_feb', 'month_jan', 'month_jul',\n",
       "       'month_jun', 'month_mar', 'month_may', 'month_nov', 'month_oct',\n",
       "       'month_sep', 'Fmonth_apr', 'Fmonth_aug', 'Fmonth_dec',\n",
       "       'Fmonth_feb', 'Fmonth_jan', 'Fmonth_jul', 'Fmonth_jun',\n",
       "       'Fmonth_mar', 'Fmonth_may', 'Fmonth_nov', 'Fmonth_oct'],\n",
       "      dtype=object)"
      ]
     },
     "metadata": {},
     "execution_count": 3
    }
   ],
   "metadata": {}
  },
  {
   "cell_type": "markdown",
   "source": [
    "Machine Learning Classification Model"
   ],
   "metadata": {}
  },
  {
   "cell_type": "code",
   "execution_count": 4,
   "source": [
    "%%time\n",
    "from sklearn.model_selection import train_test_split\n",
    "from sklearn.model_selection import LeaveOneOut"
   ],
   "outputs": [
    {
     "output_type": "stream",
     "name": "stdout",
     "text": [
      "CPU times: user 1.43 s, sys: 315 ms, total: 1.75 s\n",
      "Wall time: 2.62 s\n"
     ]
    }
   ],
   "metadata": {}
  },
  {
   "cell_type": "code",
   "execution_count": 5,
   "source": [
    "%%time\n",
    "def get_naive_dataset(dataset):\n",
    "    dataset = dataset.sample(frac=1).reset_index(drop=True)\n",
    "    X = dummy\n",
    "    y = dataset['biY']\n",
    "    x_train, x_test, y_train, y_test = train_test_split(X, y, test_size=0.2)\n",
    "    \n",
    "    return (x_train, y_train), (x_test, y_test)"
   ],
   "outputs": [
    {
     "output_type": "stream",
     "name": "stdout",
     "text": [
      "CPU times: user 12 µs, sys: 2 µs, total: 14 µs\n",
      "Wall time: 26.9 µs\n"
     ]
    }
   ],
   "metadata": {}
  },
  {
   "cell_type": "code",
   "execution_count": 6,
   "source": [
    "%%time\n",
    "(x_train, y_train), (x_test, y_test) = get_naive_dataset(df)"
   ],
   "outputs": [
    {
     "output_type": "stream",
     "name": "stdout",
     "text": [
      "CPU times: user 71.3 ms, sys: 23.4 ms, total: 94.7 ms\n",
      "Wall time: 113 ms\n"
     ]
    }
   ],
   "metadata": {}
  },
  {
   "cell_type": "code",
   "execution_count": 7,
   "source": [
    "%%time\n",
    "x_train.columns.values"
   ],
   "outputs": [
    {
     "output_type": "stream",
     "name": "stdout",
     "text": [
      "CPU times: user 40 µs, sys: 2 µs, total: 42 µs\n",
      "Wall time: 51.3 µs\n"
     ]
    },
    {
     "output_type": "execute_result",
     "data": {
      "text/plain": [
       "array(['balance', 'day', 'duration', 'campaign', 'pdays', 'previous',\n",
       "       'biDefault', 'biHousing', 'biLoan', 'catAge_30-40', 'catAge_40-50',\n",
       "       'catAge_<=30', 'catAge_>=50', 'job_admin.', 'job_blue-collar',\n",
       "       'job_entrepreneur', 'job_housemaid', 'job_management',\n",
       "       'job_retired', 'job_self-employed', 'job_services', 'job_student',\n",
       "       'job_technician', 'job_unemployed', 'marital_divorced',\n",
       "       'marital_married', 'marital_single', 'education_primary',\n",
       "       'education_secondary', 'education_tertiary', 'month_apr',\n",
       "       'month_aug', 'month_dec', 'month_feb', 'month_jan', 'month_jul',\n",
       "       'month_jun', 'month_mar', 'month_may', 'month_nov', 'month_oct',\n",
       "       'month_sep', 'Fmonth_apr', 'Fmonth_aug', 'Fmonth_dec',\n",
       "       'Fmonth_feb', 'Fmonth_jan', 'Fmonth_jul', 'Fmonth_jun',\n",
       "       'Fmonth_mar', 'Fmonth_may', 'Fmonth_nov', 'Fmonth_oct'],\n",
       "      dtype=object)"
      ]
     },
     "metadata": {},
     "execution_count": 7
    }
   ],
   "metadata": {}
  },
  {
   "cell_type": "code",
   "execution_count": 8,
   "source": [
    "%%time\n",
    "y_train.values"
   ],
   "outputs": [
    {
     "output_type": "stream",
     "name": "stdout",
     "text": [
      "CPU times: user 28 µs, sys: 2 µs, total: 30 µs\n",
      "Wall time: 38.1 µs\n"
     ]
    },
    {
     "output_type": "execute_result",
     "data": {
      "text/plain": [
       "array([0, 0, 0, ..., 0, 0, 0])"
      ]
     },
     "metadata": {},
     "execution_count": 8
    }
   ],
   "metadata": {}
  },
  {
   "cell_type": "code",
   "execution_count": 9,
   "source": [
    "%%time\n",
    "x_test.columns.values"
   ],
   "outputs": [
    {
     "output_type": "stream",
     "name": "stdout",
     "text": [
      "CPU times: user 52 µs, sys: 14 µs, total: 66 µs\n",
      "Wall time: 727 µs\n"
     ]
    },
    {
     "output_type": "execute_result",
     "data": {
      "text/plain": [
       "array(['balance', 'day', 'duration', 'campaign', 'pdays', 'previous',\n",
       "       'biDefault', 'biHousing', 'biLoan', 'catAge_30-40', 'catAge_40-50',\n",
       "       'catAge_<=30', 'catAge_>=50', 'job_admin.', 'job_blue-collar',\n",
       "       'job_entrepreneur', 'job_housemaid', 'job_management',\n",
       "       'job_retired', 'job_self-employed', 'job_services', 'job_student',\n",
       "       'job_technician', 'job_unemployed', 'marital_divorced',\n",
       "       'marital_married', 'marital_single', 'education_primary',\n",
       "       'education_secondary', 'education_tertiary', 'month_apr',\n",
       "       'month_aug', 'month_dec', 'month_feb', 'month_jan', 'month_jul',\n",
       "       'month_jun', 'month_mar', 'month_may', 'month_nov', 'month_oct',\n",
       "       'month_sep', 'Fmonth_apr', 'Fmonth_aug', 'Fmonth_dec',\n",
       "       'Fmonth_feb', 'Fmonth_jan', 'Fmonth_jul', 'Fmonth_jun',\n",
       "       'Fmonth_mar', 'Fmonth_may', 'Fmonth_nov', 'Fmonth_oct'],\n",
       "      dtype=object)"
      ]
     },
     "metadata": {},
     "execution_count": 9
    }
   ],
   "metadata": {}
  },
  {
   "cell_type": "code",
   "execution_count": 10,
   "source": [
    "%%time\n",
    "y_test.values"
   ],
   "outputs": [
    {
     "output_type": "stream",
     "name": "stdout",
     "text": [
      "CPU times: user 20 µs, sys: 1e+03 ns, total: 21 µs\n",
      "Wall time: 26 µs\n"
     ]
    },
    {
     "output_type": "execute_result",
     "data": {
      "text/plain": [
       "array([0, 1, 1, ..., 0, 0, 1])"
      ]
     },
     "metadata": {},
     "execution_count": 10
    }
   ],
   "metadata": {}
  },
  {
   "cell_type": "markdown",
   "source": [
    "Naive Bayes Model"
   ],
   "metadata": {}
  },
  {
   "cell_type": "code",
   "execution_count": 11,
   "source": [
    "%%time\n",
    "from sklearn.naive_bayes import GaussianNB\n",
    "gnb = GaussianNB()\n",
    "gnb_pred = gnb.fit(x_train, y_train).predict(x_test)"
   ],
   "outputs": [
    {
     "output_type": "stream",
     "name": "stdout",
     "text": [
      "CPU times: user 148 ms, sys: 71.4 ms, total: 219 ms\n",
      "Wall time: 272 ms\n"
     ]
    }
   ],
   "metadata": {}
  },
  {
   "cell_type": "markdown",
   "source": [
    "Result"
   ],
   "metadata": {}
  },
  {
   "cell_type": "code",
   "execution_count": 12,
   "source": [
    "%%time\n",
    "test_df = x_test.copy()\n",
    "test_df['biY'] = y_test\n",
    "test_df['pred'] = pd.Series(gnb_pred, index=test_df.index)\n",
    "test_df['accurate'] = (test_df['pred'] == test_df['biY'])\n",
    "test_df.columns.values"
   ],
   "outputs": [
    {
     "output_type": "stream",
     "name": "stdout",
     "text": [
      "CPU times: user 10.4 ms, sys: 2.02 ms, total: 12.4 ms\n",
      "Wall time: 24.4 ms\n"
     ]
    },
    {
     "output_type": "execute_result",
     "data": {
      "text/plain": [
       "array(['balance', 'day', 'duration', 'campaign', 'pdays', 'previous',\n",
       "       'biDefault', 'biHousing', 'biLoan', 'catAge_30-40', 'catAge_40-50',\n",
       "       'catAge_<=30', 'catAge_>=50', 'job_admin.', 'job_blue-collar',\n",
       "       'job_entrepreneur', 'job_housemaid', 'job_management',\n",
       "       'job_retired', 'job_self-employed', 'job_services', 'job_student',\n",
       "       'job_technician', 'job_unemployed', 'marital_divorced',\n",
       "       'marital_married', 'marital_single', 'education_primary',\n",
       "       'education_secondary', 'education_tertiary', 'month_apr',\n",
       "       'month_aug', 'month_dec', 'month_feb', 'month_jan', 'month_jul',\n",
       "       'month_jun', 'month_mar', 'month_may', 'month_nov', 'month_oct',\n",
       "       'month_sep', 'Fmonth_apr', 'Fmonth_aug', 'Fmonth_dec',\n",
       "       'Fmonth_feb', 'Fmonth_jan', 'Fmonth_jul', 'Fmonth_jun',\n",
       "       'Fmonth_mar', 'Fmonth_may', 'Fmonth_nov', 'Fmonth_oct', 'biY',\n",
       "       'pred', 'accurate'], dtype=object)"
      ]
     },
     "metadata": {},
     "execution_count": 12
    }
   ],
   "metadata": {}
  },
  {
   "cell_type": "code",
   "execution_count": 13,
   "source": [
    "%%time\n",
    "from sklearn.metrics import confusion_matrix"
   ],
   "outputs": [
    {
     "output_type": "stream",
     "name": "stdout",
     "text": [
      "CPU times: user 31 µs, sys: 52 µs, total: 83 µs\n",
      "Wall time: 46.7 µs\n"
     ]
    }
   ],
   "metadata": {}
  },
  {
   "cell_type": "code",
   "execution_count": 14,
   "source": [
    "%%time\n",
    "confusion_matrix = confusion_matrix(test_df['biY'], test_df['pred'])\n",
    "confusion_matrix"
   ],
   "outputs": [
    {
     "output_type": "stream",
     "name": "stdout",
     "text": [
      "CPU times: user 29.3 ms, sys: 4.15 ms, total: 33.4 ms\n",
      "Wall time: 39.6 ms\n"
     ]
    },
    {
     "output_type": "execute_result",
     "data": {
      "text/plain": [
       "array([[7567,  354],\n",
       "       [1030,   58]])"
      ]
     },
     "metadata": {},
     "execution_count": 14
    }
   ],
   "metadata": {}
  },
  {
   "cell_type": "code",
   "execution_count": 15,
   "source": [
    "%%time\n",
    "# Accuracy\n",
    "# \"Accuracy: \", test_df.accurate.mean()\n",
    "accuracy_naive_bayes = (confusion_matrix[0][0] + confusion_matrix[1][1]) / (confusion_matrix[0][0] + confusion_matrix[0][1] + confusion_matrix[1][0] + confusion_matrix[1][1])\n",
    "accuracy_naive_bayes\n",
    "\n"
   ],
   "outputs": [
    {
     "output_type": "stream",
     "name": "stdout",
     "text": [
      "CPU times: user 116 µs, sys: 3 µs, total: 119 µs\n",
      "Wall time: 133 µs\n"
     ]
    },
    {
     "output_type": "execute_result",
     "data": {
      "text/plain": [
       "0.8463758463758464"
      ]
     },
     "metadata": {},
     "execution_count": 15
    }
   ],
   "metadata": {}
  },
  {
   "cell_type": "code",
   "execution_count": 16,
   "source": [
    "%%time\n",
    "# Split dataset based on marital status\n",
    "test_df.columns.values\n",
    "test_l30 = x_test[x_test['catAge_<=30'] == 1]\n",
    "test_30to40 = x_test[x_test['catAge_30-40'] == 1]\n",
    "test_40to50 = x_test[x_test['catAge_40-50'] == 1]\n",
    "test_g50 = x_test[x_test['catAge_>=50'] == 1]"
   ],
   "outputs": [
    {
     "output_type": "stream",
     "name": "stdout",
     "text": [
      "CPU times: user 15.8 ms, sys: 4.54 ms, total: 20.3 ms\n",
      "Wall time: 32.5 ms\n"
     ]
    }
   ],
   "metadata": {}
  },
  {
   "cell_type": "code",
   "execution_count": 17,
   "source": [
    "%%time\n",
    "# Test on l30 subset\n",
    "gnb_pred_l30 = gnb.fit(x_train, y_train).predict(test_l30)\n",
    "\n",
    "test_df = test_l30.copy()\n",
    "test_df['biY'] = y_test\n",
    "test_df['pred'] = pd.Series(gnb_pred_l30, index=test_df.index)\n",
    "test_df['accurate'] = (test_df['pred'] == test_df['biY'])\n",
    "\n",
    "from sklearn.metrics import confusion_matrix\n",
    "\n",
    "confusion_matrix_l30 = confusion_matrix(test_df['biY'], test_df['pred'])\n",
    "confusion_matrix_l30\n"
   ],
   "outputs": [
    {
     "output_type": "stream",
     "name": "stdout",
     "text": [
      "CPU times: user 114 ms, sys: 20.9 ms, total: 135 ms\n",
      "Wall time: 193 ms\n"
     ]
    },
    {
     "output_type": "execute_result",
     "data": {
      "text/plain": [
       "array([[1111,   67],\n",
       "       [ 171,   15]])"
      ]
     },
     "metadata": {},
     "execution_count": 17
    }
   ],
   "metadata": {}
  },
  {
   "cell_type": "code",
   "execution_count": 18,
   "source": [
    "%%time\n",
    "accuracy_naive_bayes_l30 = (confusion_matrix_l30[0][0] + confusion_matrix_l30[1][1]) / (confusion_matrix_l30[0][0] + confusion_matrix_l30[0][1] + confusion_matrix_l30[1][0] + confusion_matrix_l30[1][1])\n",
    "accuracy_naive_bayes_l30"
   ],
   "outputs": [
    {
     "output_type": "stream",
     "name": "stdout",
     "text": [
      "CPU times: user 66 µs, sys: 1 µs, total: 67 µs\n",
      "Wall time: 76.1 µs\n"
     ]
    },
    {
     "output_type": "execute_result",
     "data": {
      "text/plain": [
       "0.8255131964809385"
      ]
     },
     "metadata": {},
     "execution_count": 18
    }
   ],
   "metadata": {}
  },
  {
   "cell_type": "code",
   "execution_count": 19,
   "source": [
    "%%time\n",
    "# Test on 30to40 subset\n",
    "gnb_pred_30to40 = gnb.fit(x_train, y_train).predict(test_30to40)\n",
    "\n",
    "test_df = test_30to40.copy()\n",
    "test_df['biY'] = y_test\n",
    "test_df['pred'] = pd.Series(gnb_pred_30to40, index=test_df.index)\n",
    "test_df['accurate'] = (test_df['pred'] == test_df['biY'])\n",
    "\n",
    "from sklearn.metrics import confusion_matrix\n",
    "\n",
    "confusion_matrix_30to40 = confusion_matrix(test_df['biY'], test_df['pred'])\n",
    "confusion_matrix_30to40"
   ],
   "outputs": [
    {
     "output_type": "stream",
     "name": "stdout",
     "text": [
      "CPU times: user 117 ms, sys: 12.6 ms, total: 129 ms\n",
      "Wall time: 208 ms\n"
     ]
    },
    {
     "output_type": "execute_result",
     "data": {
      "text/plain": [
       "array([[2983,  134],\n",
       "       [ 405,   19]])"
      ]
     },
     "metadata": {},
     "execution_count": 19
    }
   ],
   "metadata": {}
  },
  {
   "cell_type": "code",
   "execution_count": 20,
   "source": [
    "%%time\n",
    "accuracy_naive_bayes_30to40 = (confusion_matrix_30to40[0][0] + confusion_matrix_30to40[1][1]) / (confusion_matrix_30to40[0][0] + confusion_matrix_30to40[0][1] + confusion_matrix_30to40[1][0] + confusion_matrix_30to40[1][1])\n",
    "accuracy_naive_bayes_30to40"
   ],
   "outputs": [
    {
     "output_type": "stream",
     "name": "stdout",
     "text": [
      "CPU times: user 59 µs, sys: 1e+03 ns, total: 60 µs\n",
      "Wall time: 67.9 µs\n"
     ]
    },
    {
     "output_type": "execute_result",
     "data": {
      "text/plain": [
       "0.8477831121152217"
      ]
     },
     "metadata": {},
     "execution_count": 20
    }
   ],
   "metadata": {}
  },
  {
   "cell_type": "code",
   "execution_count": 21,
   "source": [
    "%%time\n",
    "# Test on 40to50 subset\n",
    "gnb_pred_40to50 = gnb.fit(x_train, y_train).predict(test_40to50)\n",
    "\n",
    "test_df = test_40to50.copy()\n",
    "test_df['biY'] = y_test\n",
    "test_df['pred'] = pd.Series(gnb_pred_40to50, index=test_df.index)\n",
    "test_df['accurate'] = (test_df['pred'] == test_df['biY'])\n",
    "\n",
    "from sklearn.metrics import confusion_matrix\n",
    "\n",
    "confusion_matrix_40to50 = confusion_matrix(test_df['biY'], test_df['pred'])\n",
    "confusion_matrix_40to50"
   ],
   "outputs": [
    {
     "output_type": "stream",
     "name": "stdout",
     "text": [
      "CPU times: user 116 ms, sys: 11.3 ms, total: 128 ms\n",
      "Wall time: 262 ms\n"
     ]
    },
    {
     "output_type": "execute_result",
     "data": {
      "text/plain": [
       "array([[1965,   61],\n",
       "       [ 265,   13]])"
      ]
     },
     "metadata": {},
     "execution_count": 21
    }
   ],
   "metadata": {}
  },
  {
   "cell_type": "code",
   "execution_count": 22,
   "source": [
    "%%time\n",
    "accuracy_naive_bayes_40to50 = (confusion_matrix_40to50[0][0] + confusion_matrix_40to50[1][1]) / (confusion_matrix_40to50[0][0] + confusion_matrix_40to50[0][1] + confusion_matrix_40to50[1][0] + confusion_matrix_40to50[1][1])\n",
    "accuracy_naive_bayes_40to50 # 0.8718606782768102"
   ],
   "outputs": [
    {
     "output_type": "stream",
     "name": "stdout",
     "text": [
      "CPU times: user 100 µs, sys: 2 µs, total: 102 µs\n",
      "Wall time: 115 µs\n"
     ]
    },
    {
     "output_type": "execute_result",
     "data": {
      "text/plain": [
       "0.8585069444444444"
      ]
     },
     "metadata": {},
     "execution_count": 22
    }
   ],
   "metadata": {}
  },
  {
   "cell_type": "code",
   "execution_count": 23,
   "source": [
    "%%time\n",
    "# Test on g50 subset\n",
    "\n",
    "gnb_pred_g50 = gnb.fit(x_train, y_train).predict(test_g50)\n",
    "\n",
    "test_df = test_g50.copy()\n",
    "test_df['biY'] = y_test\n",
    "test_df['pred'] = pd.Series(gnb_pred_g50, index=test_df.index)\n",
    "test_df['accurate'] = (test_df['pred'] == test_df['biY'])\n",
    "\n",
    "from sklearn.metrics import confusion_matrix\n",
    "\n",
    "confusion_matrix_g50 = confusion_matrix(test_df['biY'], test_df['pred'])\n",
    "confusion_matrix_g50"
   ],
   "outputs": [
    {
     "output_type": "stream",
     "name": "stdout",
     "text": [
      "CPU times: user 86.3 ms, sys: 12.6 ms, total: 98.9 ms\n",
      "Wall time: 103 ms\n"
     ]
    },
    {
     "output_type": "execute_result",
     "data": {
      "text/plain": [
       "array([[1508,   92],\n",
       "       [ 189,   11]])"
      ]
     },
     "metadata": {},
     "execution_count": 23
    }
   ],
   "metadata": {}
  },
  {
   "cell_type": "code",
   "execution_count": 24,
   "source": [
    "%%time\n",
    "accuracy_naive_bayes_g50 = (confusion_matrix_g50[0][0] + confusion_matrix_g50[1][1]) / (confusion_matrix_g50[0][0] + confusion_matrix_g50[0][1] + confusion_matrix_g50[1][0] + confusion_matrix_g50[1][1])\n",
    "accuracy_naive_bayes_g50 # 0.8718606782768102"
   ],
   "outputs": [
    {
     "output_type": "stream",
     "name": "stdout",
     "text": [
      "CPU times: user 57 µs, sys: 0 ns, total: 57 µs\n",
      "Wall time: 64.1 µs\n"
     ]
    },
    {
     "output_type": "execute_result",
     "data": {
      "text/plain": [
       "0.8438888888888889"
      ]
     },
     "metadata": {},
     "execution_count": 24
    }
   ],
   "metadata": {}
  },
  {
   "cell_type": "code",
   "execution_count": 25,
   "source": [
    "%%time\n",
    "#Demographic Parity\n",
    "# positive rate = (TP + FP)/total\n",
    "PR_Naive_Bayes_l30 = (confusion_matrix_l30[1,1] +confusion_matrix_l30[0,1])/(confusion_matrix_l30[0][0] + confusion_matrix_l30[0][1] + confusion_matrix_l30[1][0] + confusion_matrix_l30[1][1])\n",
    "\n",
    "PR_Naive_Bayes_l30 \n"
   ],
   "outputs": [
    {
     "output_type": "stream",
     "name": "stdout",
     "text": [
      "CPU times: user 53 µs, sys: 1e+03 ns, total: 54 µs\n",
      "Wall time: 61 µs\n"
     ]
    },
    {
     "output_type": "execute_result",
     "data": {
      "text/plain": [
       "0.060117302052785926"
      ]
     },
     "metadata": {},
     "execution_count": 25
    }
   ],
   "metadata": {}
  },
  {
   "cell_type": "code",
   "execution_count": 26,
   "source": [
    "%%time\n",
    "PR_Naive_Bayes_30to40 = (confusion_matrix_30to40[1,1] +confusion_matrix_30to40[0,1])/(confusion_matrix_30to40[0][0] + confusion_matrix_30to40[0][1] + confusion_matrix_30to40[1][0] + confusion_matrix_30to40[1][1])\n",
    "PR_Naive_Bayes_30to40"
   ],
   "outputs": [
    {
     "output_type": "stream",
     "name": "stdout",
     "text": [
      "CPU times: user 57 µs, sys: 1e+03 ns, total: 58 µs\n",
      "Wall time: 64.8 µs\n"
     ]
    },
    {
     "output_type": "execute_result",
     "data": {
      "text/plain": [
       "0.043208133295679185"
      ]
     },
     "metadata": {},
     "execution_count": 26
    }
   ],
   "metadata": {}
  },
  {
   "cell_type": "code",
   "execution_count": 27,
   "source": [
    "%%time\n",
    "PR_Naive_Bayes_40to50 = (confusion_matrix_40to50[1,1] +confusion_matrix_40to50[0,1])/(confusion_matrix_40to50[0][0] + confusion_matrix_40to50[0][1] + confusion_matrix_40to50[1][0] + confusion_matrix_40to50[1][1])\n",
    "PR_Naive_Bayes_40to50 "
   ],
   "outputs": [
    {
     "output_type": "stream",
     "name": "stdout",
     "text": [
      "CPU times: user 54 µs, sys: 1 µs, total: 55 µs\n",
      "Wall time: 62 µs\n"
     ]
    },
    {
     "output_type": "execute_result",
     "data": {
      "text/plain": [
       "0.03211805555555555"
      ]
     },
     "metadata": {},
     "execution_count": 27
    }
   ],
   "metadata": {}
  },
  {
   "cell_type": "code",
   "execution_count": 28,
   "source": [
    "%%time\n",
    "PR_Naive_Bayes_g50 = (confusion_matrix_g50[1,1] +confusion_matrix_g50[0,1])/(confusion_matrix_g50[0][0] + confusion_matrix_g50[0][1] + confusion_matrix_g50[1][0] + confusion_matrix_g50[1][1])\n",
    "PR_Naive_Bayes_g50 "
   ],
   "outputs": [
    {
     "output_type": "stream",
     "name": "stdout",
     "text": [
      "CPU times: user 56 µs, sys: 0 ns, total: 56 µs\n",
      "Wall time: 62.9 µs\n"
     ]
    },
    {
     "output_type": "execute_result",
     "data": {
      "text/plain": [
       "0.05722222222222222"
      ]
     },
     "metadata": {},
     "execution_count": 28
    }
   ],
   "metadata": {}
  },
  {
   "cell_type": "code",
   "execution_count": 29,
   "source": [
    "%%time\n",
    "# Equalized Opportunity\n",
    "#TPR = TP/TP+FN\n",
    "\n",
    "TPR_Naive_Bayes_l30 = confusion_matrix_l30[1,1] / (confusion_matrix_l30[1,1] + confusion_matrix_l30[1,0])\n",
    "\n",
    "TPR_Naive_Bayes_l30\n"
   ],
   "outputs": [
    {
     "output_type": "stream",
     "name": "stdout",
     "text": [
      "CPU times: user 49 µs, sys: 0 ns, total: 49 µs\n",
      "Wall time: 57.2 µs\n"
     ]
    },
    {
     "output_type": "execute_result",
     "data": {
      "text/plain": [
       "0.08064516129032258"
      ]
     },
     "metadata": {},
     "execution_count": 29
    }
   ],
   "metadata": {}
  },
  {
   "cell_type": "code",
   "execution_count": 30,
   "source": [
    "%%time\n",
    "TPR_Naive_Bayes_30to40 = confusion_matrix_30to40[1,1] / (confusion_matrix_30to40[1,1] + confusion_matrix_30to40[1,0])\n",
    "\n",
    "TPR_Naive_Bayes_30to40"
   ],
   "outputs": [
    {
     "output_type": "stream",
     "name": "stdout",
     "text": [
      "CPU times: user 51 µs, sys: 1e+03 ns, total: 52 µs\n",
      "Wall time: 58.9 µs\n"
     ]
    },
    {
     "output_type": "execute_result",
     "data": {
      "text/plain": [
       "0.04481132075471698"
      ]
     },
     "metadata": {},
     "execution_count": 30
    }
   ],
   "metadata": {}
  },
  {
   "cell_type": "code",
   "execution_count": 31,
   "source": [
    "%%time\n",
    "TPR_Naive_Bayes_40to50 = confusion_matrix_40to50[1,1] / (confusion_matrix_40to50[1,1] + confusion_matrix_40to50[1,0])\n",
    "\n",
    "TPR_Naive_Bayes_40to50 "
   ],
   "outputs": [
    {
     "output_type": "stream",
     "name": "stdout",
     "text": [
      "CPU times: user 45 µs, sys: 1e+03 ns, total: 46 µs\n",
      "Wall time: 52 µs\n"
     ]
    },
    {
     "output_type": "execute_result",
     "data": {
      "text/plain": [
       "0.046762589928057555"
      ]
     },
     "metadata": {},
     "execution_count": 31
    }
   ],
   "metadata": {}
  },
  {
   "cell_type": "code",
   "execution_count": 32,
   "source": [
    "%%time\n",
    "TPR_Naive_Bayes_g50 = confusion_matrix_g50[1,1] / (confusion_matrix_g50[1,1] + confusion_matrix_g50[1,0])\n",
    "\n",
    "TPR_Naive_Bayes_g50 # 0.8925619834710744"
   ],
   "outputs": [
    {
     "output_type": "stream",
     "name": "stdout",
     "text": [
      "CPU times: user 44 µs, sys: 1e+03 ns, total: 45 µs\n",
      "Wall time: 50.8 µs\n"
     ]
    },
    {
     "output_type": "execute_result",
     "data": {
      "text/plain": [
       "0.055"
      ]
     },
     "metadata": {},
     "execution_count": 32
    }
   ],
   "metadata": {}
  },
  {
   "cell_type": "code",
   "execution_count": 33,
   "source": [
    "%%time\n",
    "# Equalized Odds\n",
    "#TPR = TP/TP+FN\n",
    "#FNR = FN/FN+TP\n",
    "\n",
    "\n",
    "FNR_Naive_Bayes_l30 = confusion_matrix_l30[1,0] / (confusion_matrix_l30[1,0] + confusion_matrix_l30[1,1])\n",
    "\n",
    "FNR_Naive_Bayes_l30\n",
    "\n"
   ],
   "outputs": [
    {
     "output_type": "stream",
     "name": "stdout",
     "text": [
      "CPU times: user 44 µs, sys: 1e+03 ns, total: 45 µs\n",
      "Wall time: 51 µs\n"
     ]
    },
    {
     "output_type": "execute_result",
     "data": {
      "text/plain": [
       "0.9193548387096774"
      ]
     },
     "metadata": {},
     "execution_count": 33
    }
   ],
   "metadata": {}
  },
  {
   "cell_type": "code",
   "execution_count": 34,
   "source": [
    "%%time\n",
    "FNR_Naive_Bayes_30to40 = confusion_matrix_30to40[1,0] / (confusion_matrix_30to40[1,0] + confusion_matrix_30to40[1,1])\n",
    "\n",
    "FNR_Naive_Bayes_30to40"
   ],
   "outputs": [
    {
     "output_type": "stream",
     "name": "stdout",
     "text": [
      "CPU times: user 45 µs, sys: 1 µs, total: 46 µs\n",
      "Wall time: 53.2 µs\n"
     ]
    },
    {
     "output_type": "execute_result",
     "data": {
      "text/plain": [
       "0.9551886792452831"
      ]
     },
     "metadata": {},
     "execution_count": 34
    }
   ],
   "metadata": {}
  },
  {
   "cell_type": "code",
   "execution_count": 35,
   "source": [
    "%%time\n",
    "FNR_Naive_Bayes_40to50 = confusion_matrix_40to50[1,0] / (confusion_matrix_40to50[1,0] + confusion_matrix_40to50[1,1])\n",
    "\n",
    "FNR_Naive_Bayes_40to50"
   ],
   "outputs": [
    {
     "output_type": "stream",
     "name": "stdout",
     "text": [
      "CPU times: user 48 µs, sys: 1e+03 ns, total: 49 µs\n",
      "Wall time: 55.8 µs\n"
     ]
    },
    {
     "output_type": "execute_result",
     "data": {
      "text/plain": [
       "0.9532374100719424"
      ]
     },
     "metadata": {},
     "execution_count": 35
    }
   ],
   "metadata": {}
  },
  {
   "cell_type": "code",
   "execution_count": 36,
   "source": [
    "%%time\n",
    "FNR_Naive_Bayes_g50 = confusion_matrix_g50[1,0] / (confusion_matrix_g50[1,0] + confusion_matrix_g50[1,1])\n",
    "\n",
    "FNR_Naive_Bayes_g50"
   ],
   "outputs": [
    {
     "output_type": "stream",
     "name": "stdout",
     "text": [
      "CPU times: user 84 µs, sys: 2 µs, total: 86 µs\n",
      "Wall time: 101 µs\n"
     ]
    },
    {
     "output_type": "execute_result",
     "data": {
      "text/plain": [
       "0.945"
      ]
     },
     "metadata": {},
     "execution_count": 36
    }
   ],
   "metadata": {}
  },
  {
   "cell_type": "code",
   "execution_count": 37,
   "source": [
    "%%time\n",
    "# Fairness Through Unwareness\n",
    "\n",
    "x_train_unawareness = x_train.copy()\n",
    "x_train_unawareness\n",
    "x_train_unawareness.drop('catAge_<=30', inplace=True, axis=1)\n",
    "x_train_unawareness.drop('catAge_30-40', inplace=True, axis=1)\n",
    "x_train_unawareness.drop('catAge_40-50', inplace=True, axis=1)\n",
    "x_train_unawareness.drop('catAge_>=50', inplace=True, axis=1)\n",
    "\n",
    "# x_train_unawareness.columns.values\n",
    "# x_train.columns.values\n",
    "\n",
    "\n",
    "\n",
    "\n"
   ],
   "outputs": [
    {
     "output_type": "stream",
     "name": "stdout",
     "text": [
      "CPU times: user 22.5 ms, sys: 8.95 ms, total: 31.5 ms\n",
      "Wall time: 29.2 ms\n"
     ]
    }
   ],
   "metadata": {}
  },
  {
   "cell_type": "code",
   "execution_count": 38,
   "source": [
    "%%time\n",
    "#Fairness through unawareness\n",
    "\n",
    "x_test_unawareness = x_test.copy()\n",
    "x_test_unawareness\n",
    "x_test_l30 = x_test_unawareness[x_test_unawareness['catAge_<=30'] == 1]\n",
    "x_test_30to40 = x_test_unawareness[x_test_unawareness['catAge_30-40'] == 1]\n",
    "x_test_40to50 = x_test_unawareness[x_test_unawareness['catAge_40-50'] == 1]\n",
    "x_test_g50 = x_test_unawareness[x_test_unawareness['catAge_>=50'] == 1]\n",
    "\n",
    "\n",
    "x_test_l30.drop('catAge_<=30', inplace=True, axis=1)\n",
    "x_test_l30.drop('catAge_30-40', inplace=True, axis=1)\n",
    "x_test_l30.drop('catAge_40-50', inplace=True, axis=1)\n",
    "x_test_l30.drop('catAge_>=50', inplace=True, axis=1)\n",
    "\n",
    "x_test_30to40.drop('catAge_<=30', inplace=True, axis=1)\n",
    "x_test_30to40.drop('catAge_30-40', inplace=True, axis=1)\n",
    "x_test_30to40.drop('catAge_40-50', inplace=True, axis=1)\n",
    "x_test_30to40.drop('catAge_>=50', inplace=True, axis=1)\n",
    "\n",
    "x_test_40to50.drop('catAge_<=30', inplace=True, axis=1)\n",
    "x_test_40to50.drop('catAge_30-40', inplace=True, axis=1)\n",
    "x_test_40to50.drop('catAge_40-50', inplace=True, axis=1)\n",
    "x_test_40to50.drop('catAge_>=50', inplace=True, axis=1)\n",
    "\n",
    "x_test_g50.drop('catAge_<=30', inplace=True, axis=1)\n",
    "x_test_g50.drop('catAge_30-40', inplace=True, axis=1)\n",
    "x_test_g50.drop('catAge_40-50', inplace=True, axis=1)\n",
    "x_test_g50.drop('catAge_>=50', inplace=True, axis=1)\n",
    "\n",
    "\n",
    "\n",
    "\n",
    "# x_test_unawareness.columns.values\n",
    "# x_test.columns.values\n",
    "# test_married"
   ],
   "outputs": [
    {
     "output_type": "stream",
     "name": "stdout",
     "text": [
      "CPU times: user 39.1 ms, sys: 4.61 ms, total: 43.8 ms\n",
      "Wall time: 43.4 ms\n"
     ]
    },
    {
     "output_type": "stream",
     "name": "stderr",
     "text": [
      "/Library/Frameworks/Python.framework/Versions/3.8/lib/python3.8/site-packages/pandas/core/frame.py:4163: SettingWithCopyWarning: \n",
      "A value is trying to be set on a copy of a slice from a DataFrame\n",
      "\n",
      "See the caveats in the documentation: https://pandas.pydata.org/pandas-docs/stable/user_guide/indexing.html#returning-a-view-versus-a-copy\n",
      "  return super().drop(\n"
     ]
    }
   ],
   "metadata": {}
  },
  {
   "cell_type": "code",
   "execution_count": 39,
   "source": [
    "%%time\n",
    "# Test on l30 set\n",
    "\n",
    "gnb_pred_l30 = gnb.fit(x_train_unawareness, y_train).predict(x_test_l30)\n",
    "\n",
    "test_df = x_test_l30.copy()\n",
    "test_df['biY'] = y_test\n",
    "test_df['pred'] = pd.Series(gnb_pred_l30, index=test_df.index)\n",
    "test_df['accurate'] = (test_df['pred'] == test_df['biY'])\n",
    "\n",
    "from sklearn.metrics import confusion_matrix\n",
    "\n",
    "confusion_matrix_l30 = confusion_matrix(test_df['biY'], test_df['pred'])\n",
    "confusion_matrix_l30\n",
    "\n"
   ],
   "outputs": [
    {
     "output_type": "stream",
     "name": "stdout",
     "text": [
      "CPU times: user 96.8 ms, sys: 15.9 ms, total: 113 ms\n",
      "Wall time: 119 ms\n"
     ]
    },
    {
     "output_type": "execute_result",
     "data": {
      "text/plain": [
       "array([[1117,   61],\n",
       "       [ 172,   14]])"
      ]
     },
     "metadata": {},
     "execution_count": 39
    }
   ],
   "metadata": {}
  },
  {
   "cell_type": "code",
   "execution_count": 40,
   "source": [
    "%%time\n",
    "accuracy_naive_bayes_l30 = (confusion_matrix_l30[0][0] + confusion_matrix_l30[1][1]) / (confusion_matrix_l30[0][0] + confusion_matrix_l30[0][1] + confusion_matrix_l30[1][0] + confusion_matrix_l30[1][1])\n",
    "accuracy_naive_bayes_l30 "
   ],
   "outputs": [
    {
     "output_type": "stream",
     "name": "stdout",
     "text": [
      "CPU times: user 140 µs, sys: 12 µs, total: 152 µs\n",
      "Wall time: 210 µs\n"
     ]
    },
    {
     "output_type": "execute_result",
     "data": {
      "text/plain": [
       "0.8291788856304986"
      ]
     },
     "metadata": {},
     "execution_count": 40
    }
   ],
   "metadata": {}
  },
  {
   "cell_type": "code",
   "execution_count": 41,
   "source": [
    "%%time\n",
    "# Test on 30to40 set\n",
    "\n",
    "gnb_pred_30to40 = gnb.fit(x_train_unawareness, y_train).predict(x_test_30to40)\n",
    "\n",
    "test_df = x_test_30to40.copy()\n",
    "test_df['biY'] = y_test\n",
    "test_df['pred'] = pd.Series(gnb_pred_30to40, index=test_df.index)\n",
    "test_df['accurate'] = (test_df['pred'] == test_df['biY'])\n",
    "\n",
    "from sklearn.metrics import confusion_matrix\n",
    "\n",
    "confusion_matrix_30to40 = confusion_matrix(test_df['biY'], test_df['pred'])\n",
    "confusion_matrix_30to40\n",
    "\n"
   ],
   "outputs": [
    {
     "output_type": "stream",
     "name": "stdout",
     "text": [
      "CPU times: user 140 ms, sys: 18.2 ms, total: 158 ms\n",
      "Wall time: 282 ms\n"
     ]
    },
    {
     "output_type": "execute_result",
     "data": {
      "text/plain": [
       "array([[2987,  130],\n",
       "       [ 406,   18]])"
      ]
     },
     "metadata": {},
     "execution_count": 41
    }
   ],
   "metadata": {}
  },
  {
   "cell_type": "code",
   "execution_count": 42,
   "source": [
    "%%time\n",
    "accuracy_naive_bayes_30to40 = (confusion_matrix_30to40[0][0] + confusion_matrix_30to40[1][1]) / (confusion_matrix_30to40[0][0] + confusion_matrix_30to40[0][1] + confusion_matrix_30to40[1][0] + confusion_matrix_30to40[1][1])\n",
    "accuracy_naive_bayes_30to40 "
   ],
   "outputs": [
    {
     "output_type": "stream",
     "name": "stdout",
     "text": [
      "CPU times: user 56 µs, sys: 2 µs, total: 58 µs\n",
      "Wall time: 63.9 µs\n"
     ]
    },
    {
     "output_type": "execute_result",
     "data": {
      "text/plain": [
       "0.8486303304151369"
      ]
     },
     "metadata": {},
     "execution_count": 42
    }
   ],
   "metadata": {}
  },
  {
   "cell_type": "code",
   "execution_count": 43,
   "source": [
    "%%time\n",
    "# Test on 40to50 set\n",
    "\n",
    "gnb_pred_40to50 = gnb.fit(x_train_unawareness, y_train).predict(x_test_40to50)\n",
    "\n",
    "test_df = x_test_40to50.copy()\n",
    "test_df['biY'] = y_test\n",
    "test_df['pred'] = pd.Series(gnb_pred_40to50, index=test_df.index)\n",
    "test_df['accurate'] = (test_df['pred'] == test_df['biY'])\n",
    "\n",
    "from sklearn.metrics import confusion_matrix\n",
    "\n",
    "confusion_matrix_40to50 = confusion_matrix(test_df['biY'], test_df['pred'])\n",
    "confusion_matrix_40to50"
   ],
   "outputs": [
    {
     "output_type": "stream",
     "name": "stdout",
     "text": [
      "CPU times: user 110 ms, sys: 11.3 ms, total: 122 ms\n",
      "Wall time: 177 ms\n"
     ]
    },
    {
     "output_type": "execute_result",
     "data": {
      "text/plain": [
       "array([[1957,   69],\n",
       "       [ 264,   14]])"
      ]
     },
     "metadata": {},
     "execution_count": 43
    }
   ],
   "metadata": {}
  },
  {
   "cell_type": "code",
   "execution_count": 44,
   "source": [
    "%%time\n",
    "accuracy_naive_bayes_40to50 = (confusion_matrix_40to50[0][0] + confusion_matrix_40to50[1][1]) / (confusion_matrix_40to50[0][0] + confusion_matrix_40to50[0][1] + confusion_matrix_40to50[1][0] + confusion_matrix_40to50[1][1])\n",
    "accuracy_naive_bayes_40to50 # 0.8718606782768102"
   ],
   "outputs": [
    {
     "output_type": "stream",
     "name": "stdout",
     "text": [
      "CPU times: user 128 µs, sys: 86 µs, total: 214 µs\n",
      "Wall time: 135 µs\n"
     ]
    },
    {
     "output_type": "execute_result",
     "data": {
      "text/plain": [
       "0.85546875"
      ]
     },
     "metadata": {},
     "execution_count": 44
    }
   ],
   "metadata": {}
  },
  {
   "cell_type": "code",
   "execution_count": 45,
   "source": [
    "%%time\n",
    "# Test on g50 set\n",
    "\n",
    "gnb_pred_g50 = gnb.fit(x_train_unawareness, y_train).predict(x_test_g50)\n",
    "\n",
    "test_df = x_test_g50.copy()\n",
    "test_df['biY'] = y_test\n",
    "test_df['pred'] = pd.Series(gnb_pred_g50, index=test_df.index)\n",
    "test_df['accurate'] = (test_df['pred'] == test_df['biY'])\n",
    "\n",
    "from sklearn.metrics import confusion_matrix\n",
    "\n",
    "confusion_matrix_g50 = confusion_matrix(test_df['biY'], test_df['pred'])\n",
    "confusion_matrix_g50"
   ],
   "outputs": [
    {
     "output_type": "stream",
     "name": "stdout",
     "text": [
      "CPU times: user 112 ms, sys: 14.2 ms, total: 126 ms\n",
      "Wall time: 152 ms\n"
     ]
    },
    {
     "output_type": "execute_result",
     "data": {
      "text/plain": [
       "array([[1511,   89],\n",
       "       [ 190,   10]])"
      ]
     },
     "metadata": {},
     "execution_count": 45
    }
   ],
   "metadata": {}
  },
  {
   "cell_type": "code",
   "execution_count": 46,
   "source": [
    "%%time\n",
    "accuracy_naive_bayes_g50 = (confusion_matrix_g50[0][0] + confusion_matrix_g50[1][1]) / (confusion_matrix_g50[0][0] + confusion_matrix_g50[0][1] + confusion_matrix_g50[1][0] + confusion_matrix_g50[1][1])\n",
    "accuracy_naive_bayes_g50 # 0.8718606782768102"
   ],
   "outputs": [
    {
     "output_type": "stream",
     "name": "stdout",
     "text": [
      "CPU times: user 97 µs, sys: 44 µs, total: 141 µs\n",
      "Wall time: 146 µs\n"
     ]
    },
    {
     "output_type": "execute_result",
     "data": {
      "text/plain": [
       "0.845"
      ]
     },
     "metadata": {},
     "execution_count": 46
    }
   ],
   "metadata": {}
  },
  {
   "cell_type": "markdown",
   "source": [
    "Random Forest Model"
   ],
   "metadata": {}
  },
  {
   "cell_type": "code",
   "execution_count": 47,
   "source": [
    "%%time\n",
    "from sklearn.ensemble import RandomForestClassifier\n",
    "rf = RandomForestClassifier(max_depth=5, random_state=0, class_weight='balanced')\n",
    "rf_pred = rf.fit(x_train, y_train).predict(x_test)"
   ],
   "outputs": [
    {
     "output_type": "stream",
     "name": "stdout",
     "text": [
      "CPU times: user 4.58 s, sys: 163 ms, total: 4.74 s\n",
      "Wall time: 11.7 s\n"
     ]
    }
   ],
   "metadata": {}
  },
  {
   "cell_type": "code",
   "execution_count": 48,
   "source": [
    "%%time\n",
    "test_df = x_test.copy()\n",
    "test_df['biY'] = y_test\n",
    "test_df['pred'] = pd.Series(rf_pred, index=test_df.index)\n",
    "test_df['accurate'] = (test_df['pred'] == test_df['biY'])\n",
    "test_df.columns.values"
   ],
   "outputs": [
    {
     "output_type": "stream",
     "name": "stdout",
     "text": [
      "CPU times: user 7.89 ms, sys: 1.54 ms, total: 9.44 ms\n",
      "Wall time: 13.6 ms\n"
     ]
    },
    {
     "output_type": "execute_result",
     "data": {
      "text/plain": [
       "array(['balance', 'day', 'duration', 'campaign', 'pdays', 'previous',\n",
       "       'biDefault', 'biHousing', 'biLoan', 'catAge_30-40', 'catAge_40-50',\n",
       "       'catAge_<=30', 'catAge_>=50', 'job_admin.', 'job_blue-collar',\n",
       "       'job_entrepreneur', 'job_housemaid', 'job_management',\n",
       "       'job_retired', 'job_self-employed', 'job_services', 'job_student',\n",
       "       'job_technician', 'job_unemployed', 'marital_divorced',\n",
       "       'marital_married', 'marital_single', 'education_primary',\n",
       "       'education_secondary', 'education_tertiary', 'month_apr',\n",
       "       'month_aug', 'month_dec', 'month_feb', 'month_jan', 'month_jul',\n",
       "       'month_jun', 'month_mar', 'month_may', 'month_nov', 'month_oct',\n",
       "       'month_sep', 'Fmonth_apr', 'Fmonth_aug', 'Fmonth_dec',\n",
       "       'Fmonth_feb', 'Fmonth_jan', 'Fmonth_jul', 'Fmonth_jun',\n",
       "       'Fmonth_mar', 'Fmonth_may', 'Fmonth_nov', 'Fmonth_oct', 'biY',\n",
       "       'pred', 'accurate'], dtype=object)"
      ]
     },
     "metadata": {},
     "execution_count": 48
    }
   ],
   "metadata": {}
  },
  {
   "cell_type": "code",
   "execution_count": 49,
   "source": [
    "%%time\n",
    "from sklearn.metrics import confusion_matrix\n",
    "confusion_matrix = confusion_matrix(test_df['biY'], test_df['pred'])\n",
    "confusion_matrix"
   ],
   "outputs": [
    {
     "output_type": "stream",
     "name": "stdout",
     "text": [
      "CPU times: user 27.1 ms, sys: 4.07 ms, total: 31.2 ms\n",
      "Wall time: 46.8 ms\n"
     ]
    },
    {
     "output_type": "execute_result",
     "data": {
      "text/plain": [
       "array([[5016, 2905],\n",
       "       [ 674,  414]])"
      ]
     },
     "metadata": {},
     "execution_count": 49
    }
   ],
   "metadata": {}
  },
  {
   "cell_type": "code",
   "execution_count": 50,
   "source": [
    "%%time\n",
    "# Accuracy\n",
    "# \"Accuracy: \", test_df.accurate.mean()\n",
    "\n",
    "accuracy_rf = (confusion_matrix[0][0] + confusion_matrix[1][1]) / (confusion_matrix[0][0] + confusion_matrix[0][1] + confusion_matrix[1][0] + confusion_matrix[1][1])\n",
    "accuracy_rf\n"
   ],
   "outputs": [
    {
     "output_type": "stream",
     "name": "stdout",
     "text": [
      "CPU times: user 77 µs, sys: 1e+03 ns, total: 78 µs\n",
      "Wall time: 85.8 µs\n"
     ]
    },
    {
     "output_type": "execute_result",
     "data": {
      "text/plain": [
       "0.6027306027306027"
      ]
     },
     "metadata": {},
     "execution_count": 50
    }
   ],
   "metadata": {}
  },
  {
   "cell_type": "code",
   "execution_count": 51,
   "source": [
    "%%time\n",
    "# Split dataset based on marital status\n",
    "\n",
    "test_df.columns.values\n",
    "test_l30 = x_test[x_test['catAge_<=30'] == 1]\n",
    "test_30to40 = x_test[x_test['catAge_30-40'] == 1]\n",
    "test_40to50 = x_test[x_test['catAge_40-50'] == 1]\n",
    "test_g50 = x_test[x_test['catAge_>=50'] == 1]"
   ],
   "outputs": [
    {
     "output_type": "stream",
     "name": "stdout",
     "text": [
      "CPU times: user 12.2 ms, sys: 3.44 ms, total: 15.7 ms\n",
      "Wall time: 19.1 ms\n"
     ]
    }
   ],
   "metadata": {}
  },
  {
   "cell_type": "code",
   "execution_count": 52,
   "source": [
    "%%time\n",
    "# Test on single subset\n",
    "\n",
    "rf_pred_l30 = rf.fit(x_train, y_train).predict(test_l30)\n",
    "\n",
    "test_df = test_l30.copy()\n",
    "test_df['biY'] = y_test\n",
    "test_df['pred'] = pd.Series(rf_pred_l30, index=test_df.index)\n",
    "test_df['accurate'] = (test_df['pred'] == test_df['biY'])\n",
    "\n",
    "from sklearn.metrics import confusion_matrix\n",
    "\n",
    "confusion_matrix_l30 = confusion_matrix(test_df['biY'], test_df['pred'])\n",
    "confusion_matrix_l30"
   ],
   "outputs": [
    {
     "output_type": "stream",
     "name": "stdout",
     "text": [
      "CPU times: user 3.68 s, sys: 76.7 ms, total: 3.76 s\n",
      "Wall time: 5.16 s\n"
     ]
    },
    {
     "output_type": "execute_result",
     "data": {
      "text/plain": [
       "array([[761, 417],\n",
       "       [119,  67]])"
      ]
     },
     "metadata": {},
     "execution_count": 52
    }
   ],
   "metadata": {}
  },
  {
   "cell_type": "code",
   "execution_count": 53,
   "source": [
    "%%time\n",
    "accuracy_rf_l30 = (confusion_matrix_l30[0][0] + confusion_matrix_l30[1][1]) / (confusion_matrix_l30[0][0] + confusion_matrix_l30[0][1] + confusion_matrix_l30[1][0] + confusion_matrix_l30[1][1])\n",
    "accuracy_rf_l30"
   ],
   "outputs": [
    {
     "output_type": "stream",
     "name": "stdout",
     "text": [
      "CPU times: user 77 µs, sys: 1 µs, total: 78 µs\n",
      "Wall time: 83.9 µs\n"
     ]
    },
    {
     "output_type": "execute_result",
     "data": {
      "text/plain": [
       "0.6070381231671554"
      ]
     },
     "metadata": {},
     "execution_count": 53
    }
   ],
   "metadata": {}
  },
  {
   "cell_type": "code",
   "execution_count": 54,
   "source": [
    "%%time\n",
    "# Test on 30to40 subset\n",
    "\n",
    "rf_pred_30to40 = rf.fit(x_train, y_train).predict(test_30to40)\n",
    "\n",
    "test_df = test_30to40.copy()\n",
    "test_df['biY'] = y_test\n",
    "test_df['pred'] = pd.Series(rf_pred_30to40, index=test_df.index)\n",
    "test_df['accurate'] = (test_df['pred'] == test_df['biY'])\n",
    "\n",
    "from sklearn.metrics import confusion_matrix\n",
    "\n",
    "confusion_matrix_30to40 = confusion_matrix(test_df['biY'], test_df['pred'])\n",
    "confusion_matrix_30to40"
   ],
   "outputs": [
    {
     "output_type": "stream",
     "name": "stdout",
     "text": [
      "CPU times: user 6.61 s, sys: 245 ms, total: 6.86 s\n",
      "Wall time: 13.1 s\n"
     ]
    },
    {
     "output_type": "execute_result",
     "data": {
      "text/plain": [
       "array([[1892, 1225],\n",
       "       [ 247,  177]])"
      ]
     },
     "metadata": {},
     "execution_count": 54
    }
   ],
   "metadata": {}
  },
  {
   "cell_type": "code",
   "execution_count": 55,
   "source": [
    "%%time\n",
    "accuracy_rf_30to40 = (confusion_matrix_30to40[0][0] + confusion_matrix_30to40[1][1]) / (confusion_matrix_30to40[0][0] + confusion_matrix_30to40[0][1] + confusion_matrix_30to40[1][0] + confusion_matrix_30to40[1][1])\n",
    "accuracy_rf_30to40"
   ],
   "outputs": [
    {
     "output_type": "stream",
     "name": "stdout",
     "text": [
      "CPU times: user 125 µs, sys: 2 µs, total: 127 µs\n",
      "Wall time: 142 µs\n"
     ]
    },
    {
     "output_type": "execute_result",
     "data": {
      "text/plain": [
       "0.5842982208415701"
      ]
     },
     "metadata": {},
     "execution_count": 55
    }
   ],
   "metadata": {}
  },
  {
   "cell_type": "code",
   "execution_count": 56,
   "source": [
    "%%time\n",
    "# Test on 40to50 subset\n",
    "\n",
    "rf_pred_40to50 = rf.fit(x_train, y_train).predict(test_40to50)\n",
    " \n",
    "test_df = test_40to50.copy()\n",
    "test_df['biY'] = y_test\n",
    "test_df['pred'] = pd.Series(rf_pred_40to50, index=test_df.index)\n",
    "test_df['accurate'] = (test_df['pred'] == test_df['biY'])\n",
    " \n",
    "from sklearn.metrics import confusion_matrix\n",
    " \n",
    "confusion_matrix_40to50 = confusion_matrix(test_df['biY'], test_df['pred'])\n",
    "confusion_matrix_40to50\n"
   ],
   "outputs": [
    {
     "output_type": "stream",
     "name": "stdout",
     "text": [
      "CPU times: user 4.46 s, sys: 88.2 ms, total: 4.55 s\n",
      "Wall time: 8.48 s\n"
     ]
    },
    {
     "output_type": "execute_result",
     "data": {
      "text/plain": [
       "array([[1451,  575],\n",
       "       [ 191,   87]])"
      ]
     },
     "metadata": {},
     "execution_count": 56
    }
   ],
   "metadata": {}
  },
  {
   "cell_type": "code",
   "execution_count": 57,
   "source": [
    "%%time\n",
    "accuracy_rf_40to50 = (confusion_matrix_40to50[0][0] + confusion_matrix_40to50[1][1]) / (confusion_matrix_40to50[0][0] + confusion_matrix_40to50[0][1] + confusion_matrix_40to50[1][0] + confusion_matrix_40to50[1][1])\n",
    "accuracy_rf_40to50 "
   ],
   "outputs": [
    {
     "output_type": "stream",
     "name": "stdout",
     "text": [
      "CPU times: user 60 µs, sys: 1 µs, total: 61 µs\n",
      "Wall time: 68.9 µs\n"
     ]
    },
    {
     "output_type": "execute_result",
     "data": {
      "text/plain": [
       "0.6675347222222222"
      ]
     },
     "metadata": {},
     "execution_count": 57
    }
   ],
   "metadata": {}
  },
  {
   "cell_type": "code",
   "execution_count": 58,
   "source": [
    "%%time\n",
    "# Test on g50 subset\n",
    "\n",
    "rf_pred_g50 = rf.fit(x_train, y_train).predict(test_g50)\n",
    " \n",
    "test_df = test_g50.copy()\n",
    "test_df['biY'] = y_test\n",
    "test_df['pred'] = pd.Series(rf_pred_g50, index=test_df.index)\n",
    "test_df['accurate'] = (test_df['pred'] == test_df['biY'])\n",
    " \n",
    "from sklearn.metrics import confusion_matrix\n",
    " \n",
    "confusion_matrix_g50 = confusion_matrix(test_df['biY'], test_df['pred'])\n",
    "confusion_matrix_g50"
   ],
   "outputs": [
    {
     "output_type": "stream",
     "name": "stdout",
     "text": [
      "CPU times: user 4.01 s, sys: 82.7 ms, total: 4.09 s\n",
      "Wall time: 5.26 s\n"
     ]
    },
    {
     "output_type": "execute_result",
     "data": {
      "text/plain": [
       "array([[912, 688],\n",
       "       [117,  83]])"
      ]
     },
     "metadata": {},
     "execution_count": 58
    }
   ],
   "metadata": {}
  },
  {
   "cell_type": "code",
   "execution_count": 59,
   "source": [
    "%%time\n",
    "accuracy_rf_g50 = (confusion_matrix_g50[0][0] + confusion_matrix_g50[1][1]) / (confusion_matrix_g50[0][0] + confusion_matrix_g50[0][1] + confusion_matrix_g50[1][0] + confusion_matrix_g50[1][1])\n",
    "accuracy_rf_g50 "
   ],
   "outputs": [
    {
     "output_type": "stream",
     "name": "stdout",
     "text": [
      "CPU times: user 44 µs, sys: 1 µs, total: 45 µs\n",
      "Wall time: 50.1 µs\n"
     ]
    },
    {
     "output_type": "execute_result",
     "data": {
      "text/plain": [
       "0.5527777777777778"
      ]
     },
     "metadata": {},
     "execution_count": 59
    }
   ],
   "metadata": {}
  },
  {
   "cell_type": "code",
   "execution_count": 60,
   "source": [
    "%%time\n",
    "#Demographic Parity\n",
    "# positive rate = (TP + FP)/total\n",
    "\n",
    "PR_rf_l30 = (confusion_matrix_l30[1,1] +confusion_matrix_l30[0,1])/(confusion_matrix_l30[0][0] + confusion_matrix_l30[0][1] + confusion_matrix_l30[1][0] + confusion_matrix_l30[1][1])\n",
    "PR_rf_l30 # 4756"
   ],
   "outputs": [
    {
     "output_type": "stream",
     "name": "stdout",
     "text": [
      "CPU times: user 43 µs, sys: 0 ns, total: 43 µs\n",
      "Wall time: 49.1 µs\n"
     ]
    },
    {
     "output_type": "execute_result",
     "data": {
      "text/plain": [
       "0.3548387096774194"
      ]
     },
     "metadata": {},
     "execution_count": 60
    }
   ],
   "metadata": {}
  },
  {
   "cell_type": "code",
   "execution_count": 61,
   "source": [
    "%%time\n",
    "PR_rf_30to40 = (confusion_matrix_30to40[1,1] +confusion_matrix_30to40[0,1])/(confusion_matrix_30to40[0][0] + confusion_matrix_30to40[0][1] + confusion_matrix_30to40[1][0] + confusion_matrix_30to40[1][1])\n",
    "PR_rf_30to40 # 2136"
   ],
   "outputs": [
    {
     "output_type": "stream",
     "name": "stdout",
     "text": [
      "CPU times: user 44 µs, sys: 0 ns, total: 44 µs\n",
      "Wall time: 48.9 µs\n"
     ]
    },
    {
     "output_type": "execute_result",
     "data": {
      "text/plain": [
       "0.39593335216040665"
      ]
     },
     "metadata": {},
     "execution_count": 61
    }
   ],
   "metadata": {}
  },
  {
   "cell_type": "code",
   "execution_count": 62,
   "source": [
    "%%time\n",
    "PR_rf_40to50 = (confusion_matrix_40to50[1,1] +confusion_matrix_40to50[0,1])/(confusion_matrix_40to50[0][0] + confusion_matrix_40to50[0][1] + confusion_matrix_40to50[1][0] + confusion_matrix_40to50[1][1])\n",
    "PR_rf_40to50 # 2136"
   ],
   "outputs": [
    {
     "output_type": "stream",
     "name": "stdout",
     "text": [
      "CPU times: user 69 µs, sys: 1 µs, total: 70 µs\n",
      "Wall time: 78.2 µs\n"
     ]
    },
    {
     "output_type": "execute_result",
     "data": {
      "text/plain": [
       "0.2873263888888889"
      ]
     },
     "metadata": {},
     "execution_count": 62
    }
   ],
   "metadata": {}
  },
  {
   "cell_type": "code",
   "execution_count": 63,
   "source": [
    "%%time\n",
    "PR_rf_g50 = (confusion_matrix_g50[1,1] +confusion_matrix_g50[0,1])/(confusion_matrix_g50[0][0] + confusion_matrix_g50[0][1] + confusion_matrix_g50[1][0] + confusion_matrix_g50[1][1])\n",
    "PR_rf_g50 # 2136"
   ],
   "outputs": [
    {
     "output_type": "stream",
     "name": "stdout",
     "text": [
      "CPU times: user 365 µs, sys: 91 µs, total: 456 µs\n",
      "Wall time: 835 µs\n"
     ]
    },
    {
     "output_type": "execute_result",
     "data": {
      "text/plain": [
       "0.42833333333333334"
      ]
     },
     "metadata": {},
     "execution_count": 63
    }
   ],
   "metadata": {}
  },
  {
   "cell_type": "code",
   "execution_count": 64,
   "source": [
    "%%time\n",
    "# Equalized Opportunity\n",
    "#TPR = TP/TP+FN\n",
    "\n",
    "TPR_rf_l30 = confusion_matrix_l30[1,1] / (confusion_matrix_l30[1,1] + confusion_matrix_l30[1,0])\n",
    "\n",
    "TPR_rf_l30"
   ],
   "outputs": [
    {
     "output_type": "stream",
     "name": "stdout",
     "text": [
      "CPU times: user 54 µs, sys: 1 µs, total: 55 µs\n",
      "Wall time: 64.1 µs\n"
     ]
    },
    {
     "output_type": "execute_result",
     "data": {
      "text/plain": [
       "0.3602150537634409"
      ]
     },
     "metadata": {},
     "execution_count": 64
    }
   ],
   "metadata": {}
  },
  {
   "cell_type": "code",
   "execution_count": 65,
   "source": [
    "%%time\n",
    "TPR_rf_30to40 = confusion_matrix_30to40[1,1] / (confusion_matrix_30to40[1,1] + confusion_matrix_30to40[1,0])\n",
    "\n",
    "TPR_rf_30to40  "
   ],
   "outputs": [
    {
     "output_type": "stream",
     "name": "stdout",
     "text": [
      "CPU times: user 68 µs, sys: 1 µs, total: 69 µs\n",
      "Wall time: 78.9 µs\n"
     ]
    },
    {
     "output_type": "execute_result",
     "data": {
      "text/plain": [
       "0.41745283018867924"
      ]
     },
     "metadata": {},
     "execution_count": 65
    }
   ],
   "metadata": {}
  },
  {
   "cell_type": "code",
   "execution_count": 66,
   "source": [
    "%%time\n",
    "TPR_rf_40to50  = confusion_matrix_40to50[1,1] / (confusion_matrix_40to50[1,1] + confusion_matrix_40to50[1,0])\n",
    "\n",
    "TPR_rf_40to50 "
   ],
   "outputs": [
    {
     "output_type": "stream",
     "name": "stdout",
     "text": [
      "CPU times: user 58 µs, sys: 1 µs, total: 59 µs\n",
      "Wall time: 69.1 µs\n"
     ]
    },
    {
     "output_type": "execute_result",
     "data": {
      "text/plain": [
       "0.3129496402877698"
      ]
     },
     "metadata": {},
     "execution_count": 66
    }
   ],
   "metadata": {}
  },
  {
   "cell_type": "code",
   "execution_count": 67,
   "source": [
    "%%time\n",
    "TPR_rf_g50  = confusion_matrix_g50[1,1] / (confusion_matrix_g50[1,1] + confusion_matrix_g50[1,0])\n",
    "\n",
    "TPR_rf_g50 "
   ],
   "outputs": [
    {
     "output_type": "stream",
     "name": "stdout",
     "text": [
      "CPU times: user 66 µs, sys: 2 µs, total: 68 µs\n",
      "Wall time: 77 µs\n"
     ]
    },
    {
     "output_type": "execute_result",
     "data": {
      "text/plain": [
       "0.415"
      ]
     },
     "metadata": {},
     "execution_count": 67
    }
   ],
   "metadata": {}
  },
  {
   "cell_type": "code",
   "execution_count": 68,
   "source": [
    "%%time\n",
    "# Equalized Odds\n",
    "#TPR = TP/TP+FN\n",
    "#FNR = FN/FN+TP\n",
    "\n",
    "\n",
    "FNR_rf_l30 = confusion_matrix_l30[1,0] / (confusion_matrix_l30[1,0] + confusion_matrix_l30[1,1])\n",
    "\n",
    "FNR_rf_l30 # 0.11652109273369263\n"
   ],
   "outputs": [
    {
     "output_type": "stream",
     "name": "stdout",
     "text": [
      "CPU times: user 57 µs, sys: 1e+03 ns, total: 58 µs\n",
      "Wall time: 66 µs\n"
     ]
    },
    {
     "output_type": "execute_result",
     "data": {
      "text/plain": [
       "0.6397849462365591"
      ]
     },
     "metadata": {},
     "execution_count": 68
    }
   ],
   "metadata": {}
  },
  {
   "cell_type": "code",
   "execution_count": 69,
   "source": [
    "%%time\n",
    "FNR_rf_30to40 = confusion_matrix_30to40[1,0] / (confusion_matrix_30to40[1,0] + confusion_matrix_30to40[1,1])\n",
    "\n",
    "FNR_rf_30to40"
   ],
   "outputs": [
    {
     "output_type": "stream",
     "name": "stdout",
     "text": [
      "CPU times: user 65 µs, sys: 1 µs, total: 66 µs\n",
      "Wall time: 82 µs\n"
     ]
    },
    {
     "output_type": "execute_result",
     "data": {
      "text/plain": [
       "0.5825471698113207"
      ]
     },
     "metadata": {},
     "execution_count": 69
    }
   ],
   "metadata": {}
  },
  {
   "cell_type": "code",
   "execution_count": 70,
   "source": [
    "%%time\n",
    "FNR_rf_40to50 = confusion_matrix_40to50[1,0] / (confusion_matrix_40to50[1,0] + confusion_matrix_40to50[1,1])\n",
    "\n",
    "FNR_rf_40to50"
   ],
   "outputs": [
    {
     "output_type": "stream",
     "name": "stdout",
     "text": [
      "CPU times: user 55 µs, sys: 2 µs, total: 57 µs\n",
      "Wall time: 65.1 µs\n"
     ]
    },
    {
     "output_type": "execute_result",
     "data": {
      "text/plain": [
       "0.6870503597122302"
      ]
     },
     "metadata": {},
     "execution_count": 70
    }
   ],
   "metadata": {}
  },
  {
   "cell_type": "code",
   "execution_count": 71,
   "source": [
    "%%time\n",
    "FNR_rf_g50 = confusion_matrix_g50[1,0] / (confusion_matrix_g50[1,0] + confusion_matrix_g50[1,1])\n",
    "\n",
    "FNR_rf_g50"
   ],
   "outputs": [
    {
     "output_type": "stream",
     "name": "stdout",
     "text": [
      "CPU times: user 91 µs, sys: 1 µs, total: 92 µs\n",
      "Wall time: 102 µs\n"
     ]
    },
    {
     "output_type": "execute_result",
     "data": {
      "text/plain": [
       "0.585"
      ]
     },
     "metadata": {},
     "execution_count": 71
    }
   ],
   "metadata": {}
  },
  {
   "cell_type": "code",
   "execution_count": 72,
   "source": [
    "%%time\n",
    "# Fairness Through Unwareness\n",
    "\n",
    "x_train_unawareness = x_train.copy()\n",
    "x_train_unawareness\n",
    "x_train_unawareness.drop('catAge_<=30', inplace=True, axis=1)\n",
    "x_train_unawareness.drop('catAge_30-40', inplace=True, axis=1)\n",
    "x_train_unawareness.drop('catAge_40-50', inplace=True, axis=1)\n",
    "x_train_unawareness.drop('catAge_>=50', inplace=True, axis=1)\n",
    "\n",
    "# x_train_unawareness.columns.values\n",
    "# x_train.columns.values"
   ],
   "outputs": [
    {
     "output_type": "stream",
     "name": "stdout",
     "text": [
      "CPU times: user 52.3 ms, sys: 44 ms, total: 96.3 ms\n",
      "Wall time: 114 ms\n"
     ]
    }
   ],
   "metadata": {}
  },
  {
   "cell_type": "code",
   "execution_count": 73,
   "source": [
    "%%time\n",
    "#Fairness through unawareness\n",
    "\n",
    "x_test_unawareness = x_test.copy()\n",
    "x_test_unawareness\n",
    "x_test_l30 = x_test_unawareness[x_test_unawareness['catAge_<=30'] == 1]\n",
    "x_test_30to40 = x_test_unawareness[x_test_unawareness['catAge_30-40'] == 1]\n",
    "x_test_40to50 = x_test_unawareness[x_test_unawareness['catAge_40-50'] == 1]\n",
    "x_test_g50 = x_test_unawareness[x_test_unawareness['catAge_>=50'] == 1]\n",
    "\n",
    "\n",
    "x_test_l30.drop('catAge_<=30', inplace=True, axis=1)\n",
    "x_test_l30.drop('catAge_30-40', inplace=True, axis=1)\n",
    "x_test_l30.drop('catAge_40-50', inplace=True, axis=1)\n",
    "x_test_l30.drop('catAge_>=50', inplace=True, axis=1)\n",
    "\n",
    "x_test_30to40.drop('catAge_<=30', inplace=True, axis=1)\n",
    "x_test_30to40.drop('catAge_30-40', inplace=True, axis=1)\n",
    "x_test_30to40.drop('catAge_40-50', inplace=True, axis=1)\n",
    "x_test_30to40.drop('catAge_>=50', inplace=True, axis=1)\n",
    "\n",
    "x_test_40to50.drop('catAge_<=30', inplace=True, axis=1)\n",
    "x_test_40to50.drop('catAge_30-40', inplace=True, axis=1)\n",
    "x_test_40to50.drop('catAge_40-50', inplace=True, axis=1)\n",
    "x_test_40to50.drop('catAge_>=50', inplace=True, axis=1)\n",
    "\n",
    "x_test_g50.drop('catAge_<=30', inplace=True, axis=1)\n",
    "x_test_g50.drop('catAge_30-40', inplace=True, axis=1)\n",
    "x_test_g50.drop('catAge_40-50', inplace=True, axis=1)\n",
    "x_test_g50.drop('catAge_>=50', inplace=True, axis=1)\n",
    "\n",
    "\n",
    "\n",
    "# x_test_unawareness.columns.values\n",
    "# x_test.columns.values"
   ],
   "outputs": [
    {
     "output_type": "stream",
     "name": "stdout",
     "text": [
      "CPU times: user 44.5 ms, sys: 7.98 ms, total: 52.4 ms\n",
      "Wall time: 58.6 ms\n"
     ]
    },
    {
     "output_type": "stream",
     "name": "stderr",
     "text": [
      "/Library/Frameworks/Python.framework/Versions/3.8/lib/python3.8/site-packages/pandas/core/frame.py:4163: SettingWithCopyWarning: \n",
      "A value is trying to be set on a copy of a slice from a DataFrame\n",
      "\n",
      "See the caveats in the documentation: https://pandas.pydata.org/pandas-docs/stable/user_guide/indexing.html#returning-a-view-versus-a-copy\n",
      "  return super().drop(\n"
     ]
    }
   ],
   "metadata": {}
  },
  {
   "cell_type": "code",
   "execution_count": 74,
   "source": [
    "%%time\n",
    "# Test on l30 set\n",
    "\n",
    "rf_pred_l30 = rf.fit(x_train_unawareness, y_train).predict(x_test_l30)\n",
    "\n",
    "test_df = x_test_l30.copy()\n",
    "test_df['biY'] = y_test\n",
    "test_df['pred'] = pd.Series(rf_pred_l30, index=test_df.index)\n",
    "test_df['accurate'] = (test_df['pred'] == test_df['biY'])\n",
    "\n",
    "from sklearn.metrics import confusion_matrix\n",
    "\n",
    "confusion_matrix_l30 = confusion_matrix(test_df['biY'], test_df['pred'])\n",
    "confusion_matrix_l30\n"
   ],
   "outputs": [
    {
     "output_type": "stream",
     "name": "stdout",
     "text": [
      "CPU times: user 3.42 s, sys: 57.8 ms, total: 3.47 s\n",
      "Wall time: 4.84 s\n"
     ]
    },
    {
     "output_type": "execute_result",
     "data": {
      "text/plain": [
       "array([[868, 310],\n",
       "       [126,  60]])"
      ]
     },
     "metadata": {},
     "execution_count": 74
    }
   ],
   "metadata": {}
  },
  {
   "cell_type": "code",
   "execution_count": 75,
   "source": [
    "%%time\n",
    "accuracy_rf_l30 = (confusion_matrix_l30[0][0] + confusion_matrix_l30[1][1]) / (confusion_matrix_l30[0][0] + confusion_matrix_l30[0][1] + confusion_matrix_l30[1][0] + confusion_matrix_l30[1][1])\n",
    "accuracy_rf_l30"
   ],
   "outputs": [
    {
     "output_type": "stream",
     "name": "stdout",
     "text": [
      "CPU times: user 86 µs, sys: 2 µs, total: 88 µs\n",
      "Wall time: 98 µs\n"
     ]
    },
    {
     "output_type": "execute_result",
     "data": {
      "text/plain": [
       "0.6803519061583577"
      ]
     },
     "metadata": {},
     "execution_count": 75
    }
   ],
   "metadata": {}
  },
  {
   "cell_type": "code",
   "execution_count": 76,
   "source": [
    "%%time\n",
    "# Test on 30to40 set\n",
    "\n",
    "rf_pred_30to40 = rf.fit(x_train_unawareness, y_train).predict(x_test_30to40)\n",
    "\n",
    "test_df = x_test_30to40.copy()\n",
    "test_df['biY'] = y_test\n",
    "test_df['pred'] = pd.Series(rf_pred_30to40, index=test_df.index)\n",
    "test_df['accurate'] = (test_df['pred'] == test_df['biY'])\n",
    "\n",
    "from sklearn.metrics import confusion_matrix\n",
    "\n",
    "confusion_matrix_30to40 = confusion_matrix(test_df['biY'], test_df['pred'])\n",
    "confusion_matrix_30to40\n"
   ],
   "outputs": [
    {
     "output_type": "stream",
     "name": "stdout",
     "text": [
      "CPU times: user 3.33 s, sys: 43.7 ms, total: 3.38 s\n",
      "Wall time: 3.65 s\n"
     ]
    },
    {
     "output_type": "execute_result",
     "data": {
      "text/plain": [
       "array([[2013, 1104],\n",
       "       [ 280,  144]])"
      ]
     },
     "metadata": {},
     "execution_count": 76
    }
   ],
   "metadata": {}
  },
  {
   "cell_type": "code",
   "execution_count": 77,
   "source": [
    "%%time\n",
    "accuracy_rf_30to40 = (confusion_matrix_30to40[0][0] + confusion_matrix_30to40[1][1]) / (confusion_matrix_30to40[0][0] + confusion_matrix_30to40[0][1] + confusion_matrix_30to40[1][0] + confusion_matrix_30to40[1][1])\n",
    "accuracy_rf_30to40 "
   ],
   "outputs": [
    {
     "output_type": "stream",
     "name": "stdout",
     "text": [
      "CPU times: user 59 µs, sys: 1e+03 ns, total: 60 µs\n",
      "Wall time: 67.9 µs\n"
     ]
    },
    {
     "output_type": "execute_result",
     "data": {
      "text/plain": [
       "0.609149957639085"
      ]
     },
     "metadata": {},
     "execution_count": 77
    }
   ],
   "metadata": {}
  },
  {
   "cell_type": "code",
   "execution_count": 78,
   "source": [
    "%%time\n",
    "# Test on 40to50 set\n",
    "\n",
    "rf_pred_40to50 = rf.fit(x_train_unawareness, y_train).predict(x_test_40to50)\n",
    "\n",
    "test_df = x_test_40to50.copy()\n",
    "test_df['biY'] = y_test\n",
    "test_df['pred'] = pd.Series(rf_pred_40to50, index=test_df.index)\n",
    "test_df['accurate'] = (test_df['pred'] == test_df['biY'])\n",
    "\n",
    "from sklearn.metrics import confusion_matrix\n",
    "\n",
    "confusion_matrix_40to50 = confusion_matrix(test_df['biY'], test_df['pred'])\n",
    "confusion_matrix_40to50"
   ],
   "outputs": [
    {
     "output_type": "stream",
     "name": "stdout",
     "text": [
      "CPU times: user 3.24 s, sys: 41.3 ms, total: 3.28 s\n",
      "Wall time: 3.36 s\n"
     ]
    },
    {
     "output_type": "execute_result",
     "data": {
      "text/plain": [
       "array([[1296,  730],\n",
       "       [ 178,  100]])"
      ]
     },
     "metadata": {},
     "execution_count": 78
    }
   ],
   "metadata": {}
  },
  {
   "cell_type": "code",
   "execution_count": 79,
   "source": [
    "%%time\n",
    "accuracy_rf_40to50 = (confusion_matrix_40to50[0][0] + confusion_matrix_40to50[1][1]) / (confusion_matrix_40to50[0][0] + confusion_matrix_40to50[0][1] + confusion_matrix_40to50[1][0] + confusion_matrix_40to50[1][1])\n",
    "accuracy_rf_40to50 # 0.8718606782768102"
   ],
   "outputs": [
    {
     "output_type": "stream",
     "name": "stdout",
     "text": [
      "CPU times: user 58 µs, sys: 1 µs, total: 59 µs\n",
      "Wall time: 65.1 µs\n"
     ]
    },
    {
     "output_type": "execute_result",
     "data": {
      "text/plain": [
       "0.6059027777777778"
      ]
     },
     "metadata": {},
     "execution_count": 79
    }
   ],
   "metadata": {}
  },
  {
   "cell_type": "code",
   "execution_count": 80,
   "source": [
    "%%time\n",
    "# Test on g50 set\n",
    "\n",
    "rf_pred_g50 = rf.fit(x_train_unawareness, y_train).predict(x_test_g50)\n",
    "\n",
    "test_df = x_test_g50.copy()\n",
    "test_df['biY'] = y_test\n",
    "test_df['pred'] = pd.Series(rf_pred_g50, index=test_df.index)\n",
    "test_df['accurate'] = (test_df['pred'] == test_df['biY'])\n",
    "\n",
    "from sklearn.metrics import confusion_matrix\n",
    "\n",
    "confusion_matrix_g50 = confusion_matrix(test_df['biY'], test_df['pred'])\n",
    "confusion_matrix_g50"
   ],
   "outputs": [
    {
     "output_type": "stream",
     "name": "stdout",
     "text": [
      "CPU times: user 3.31 s, sys: 42.9 ms, total: 3.35 s\n",
      "Wall time: 3.47 s\n"
     ]
    },
    {
     "output_type": "execute_result",
     "data": {
      "text/plain": [
       "array([[1047,  553],\n",
       "       [ 128,   72]])"
      ]
     },
     "metadata": {},
     "execution_count": 80
    }
   ],
   "metadata": {}
  },
  {
   "cell_type": "code",
   "execution_count": 81,
   "source": [
    "%%time\n",
    "accuracy_rf_g50 = (confusion_matrix_g50[0][0] + confusion_matrix_g50[1][1]) / (confusion_matrix_g50[0][0] + confusion_matrix_g50[0][1] + confusion_matrix_g50[1][0] + confusion_matrix_g50[1][1])\n",
    "accuracy_rf_g50 # 0.8718606782768102"
   ],
   "outputs": [
    {
     "output_type": "stream",
     "name": "stdout",
     "text": [
      "CPU times: user 60 µs, sys: 0 ns, total: 60 µs\n",
      "Wall time: 68.2 µs\n"
     ]
    },
    {
     "output_type": "execute_result",
     "data": {
      "text/plain": [
       "0.6216666666666667"
      ]
     },
     "metadata": {},
     "execution_count": 81
    }
   ],
   "metadata": {}
  },
  {
   "cell_type": "markdown",
   "source": [
    "Support Vector Machine"
   ],
   "metadata": {}
  },
  {
   "cell_type": "code",
   "execution_count": 82,
   "source": [
    "%%time\n",
    "from sklearn import svm as svm_model\n",
    "svm = svm_model.SVC(class_weight='balanced') # add class_weight='balanced' is to avoid classifying all data as 0\n",
    "svm_pred = svm.fit(x_train, y_train).predict(x_test)"
   ],
   "outputs": [
    {
     "output_type": "stream",
     "name": "stdout",
     "text": [
      "CPU times: user 6min 14s, sys: 4.18 s, total: 6min 18s\n",
      "Wall time: 7min 20s\n"
     ]
    }
   ],
   "metadata": {}
  },
  {
   "cell_type": "code",
   "execution_count": 83,
   "source": [
    "%%time\n",
    "test_df = x_test.copy()\n",
    "test_df['biY'] = y_test\n",
    "test_df['pred'] = pd.Series(svm_pred, index=test_df.index)\n",
    "test_df['accurate'] = (test_df['pred'] == test_df['biY'])\n",
    "test_df.columns.values"
   ],
   "outputs": [
    {
     "output_type": "stream",
     "name": "stdout",
     "text": [
      "CPU times: user 10.6 ms, sys: 5.01 ms, total: 15.7 ms\n",
      "Wall time: 17.2 ms\n"
     ]
    },
    {
     "output_type": "execute_result",
     "data": {
      "text/plain": [
       "array(['balance', 'day', 'duration', 'campaign', 'pdays', 'previous',\n",
       "       'biDefault', 'biHousing', 'biLoan', 'catAge_30-40', 'catAge_40-50',\n",
       "       'catAge_<=30', 'catAge_>=50', 'job_admin.', 'job_blue-collar',\n",
       "       'job_entrepreneur', 'job_housemaid', 'job_management',\n",
       "       'job_retired', 'job_self-employed', 'job_services', 'job_student',\n",
       "       'job_technician', 'job_unemployed', 'marital_divorced',\n",
       "       'marital_married', 'marital_single', 'education_primary',\n",
       "       'education_secondary', 'education_tertiary', 'month_apr',\n",
       "       'month_aug', 'month_dec', 'month_feb', 'month_jan', 'month_jul',\n",
       "       'month_jun', 'month_mar', 'month_may', 'month_nov', 'month_oct',\n",
       "       'month_sep', 'Fmonth_apr', 'Fmonth_aug', 'Fmonth_dec',\n",
       "       'Fmonth_feb', 'Fmonth_jan', 'Fmonth_jul', 'Fmonth_jun',\n",
       "       'Fmonth_mar', 'Fmonth_may', 'Fmonth_nov', 'Fmonth_oct', 'biY',\n",
       "       'pred', 'accurate'], dtype=object)"
      ]
     },
     "metadata": {},
     "execution_count": 83
    }
   ],
   "metadata": {}
  },
  {
   "cell_type": "code",
   "execution_count": 84,
   "source": [
    "%%time\n",
    "from sklearn.metrics import confusion_matrix\n",
    "confusion_matrix = confusion_matrix(test_df['biY'], test_df['pred'])\n",
    "confusion_matrix"
   ],
   "outputs": [
    {
     "output_type": "stream",
     "name": "stdout",
     "text": [
      "CPU times: user 33.8 ms, sys: 4.52 ms, total: 38.3 ms\n",
      "Wall time: 80.3 ms\n"
     ]
    },
    {
     "output_type": "execute_result",
     "data": {
      "text/plain": [
       "array([[6873, 1048],\n",
       "       [ 928,  160]])"
      ]
     },
     "metadata": {},
     "execution_count": 84
    }
   ],
   "metadata": {}
  },
  {
   "cell_type": "code",
   "execution_count": 85,
   "source": [
    "%%time\n",
    "# Accuracy\n",
    "# \"Accuracy: \", test_df.accurate.mean()\n",
    "\n",
    "accuracy_svm = (confusion_matrix[0][0] + confusion_matrix[1][1]) / (confusion_matrix[0][0] + confusion_matrix[0][1] + confusion_matrix[1][0] + confusion_matrix[1][1])\n",
    "accuracy_svm\n"
   ],
   "outputs": [
    {
     "output_type": "stream",
     "name": "stdout",
     "text": [
      "CPU times: user 62 µs, sys: 1 µs, total: 63 µs\n",
      "Wall time: 69.9 µs\n"
     ]
    },
    {
     "output_type": "execute_result",
     "data": {
      "text/plain": [
       "0.7806637806637806"
      ]
     },
     "metadata": {},
     "execution_count": 85
    }
   ],
   "metadata": {}
  },
  {
   "cell_type": "code",
   "execution_count": 86,
   "source": [
    "%%time\n",
    "# Split dataset based on marital status\n",
    "\n",
    "test_df.columns.values\n",
    "test_l30 = x_test[x_test['catAge_<=30'] == 1]\n",
    "test_30to40 = x_test[x_test['catAge_30-40'] == 1]\n",
    "test_40to50 = x_test[x_test['catAge_40-50'] == 1]\n",
    "test_g50 = x_test[x_test['catAge_>=50'] == 1]"
   ],
   "outputs": [
    {
     "output_type": "stream",
     "name": "stdout",
     "text": [
      "CPU times: user 9.01 ms, sys: 2.59 ms, total: 11.6 ms\n",
      "Wall time: 17.3 ms\n"
     ]
    }
   ],
   "metadata": {}
  },
  {
   "cell_type": "code",
   "execution_count": 87,
   "source": [
    "%%time\n",
    "# Test on l30 subset\n",
    "\n",
    "svm_pred_l30 = svm.fit(x_train, y_train).predict(test_l30)\n",
    "\n",
    "test_df = test_l30.copy()\n",
    "test_df['biY'] = y_test\n",
    "test_df['pred'] = pd.Series(svm_pred_l30, index=test_df.index)\n",
    "test_df['accurate'] = (test_df['pred'] == test_df['biY'])\n",
    "\n",
    "from sklearn.metrics import confusion_matrix\n",
    "\n",
    "confusion_matrix_l30 = confusion_matrix(test_df['biY'], test_df['pred'])\n",
    "confusion_matrix_l30"
   ],
   "outputs": [
    {
     "output_type": "stream",
     "name": "stdout",
     "text": [
      "CPU times: user 5min 52s, sys: 4.8 s, total: 5min 57s\n",
      "Wall time: 7min 18s\n"
     ]
    },
    {
     "output_type": "execute_result",
     "data": {
      "text/plain": [
       "array([[1045,  133],\n",
       "       [ 168,   18]])"
      ]
     },
     "metadata": {},
     "execution_count": 87
    }
   ],
   "metadata": {}
  },
  {
   "cell_type": "code",
   "execution_count": 88,
   "source": [
    "%%time\n",
    "accuracy_svm_l30 = (confusion_matrix_l30[0][0] + confusion_matrix_l30[1][1]) / (confusion_matrix_l30[0][0] + confusion_matrix_l30[0][1] + confusion_matrix_l30[1][0] + confusion_matrix_l30[1][1])\n",
    "accuracy_svm_l30"
   ],
   "outputs": [
    {
     "output_type": "stream",
     "name": "stdout",
     "text": [
      "CPU times: user 60 µs, sys: 1e+03 ns, total: 61 µs\n",
      "Wall time: 67.9 µs\n"
     ]
    },
    {
     "output_type": "execute_result",
     "data": {
      "text/plain": [
       "0.7793255131964809"
      ]
     },
     "metadata": {},
     "execution_count": 88
    }
   ],
   "metadata": {}
  },
  {
   "cell_type": "code",
   "execution_count": 89,
   "source": [
    "%%time\n",
    "# Test on married subset\n",
    "\n",
    "svm_pred_30to40 = svm.fit(x_train, y_train).predict(test_30to40)\n",
    "\n",
    "test_df = test_30to40.copy()\n",
    "test_df['biY'] = y_test\n",
    "test_df['pred'] = pd.Series(svm_pred_30to40, index=test_df.index)\n",
    "test_df['accurate'] = (test_df['pred'] == test_df['biY'])\n",
    "\n",
    "from sklearn.metrics import confusion_matrix\n",
    "\n",
    "confusion_matrix_30to40 = confusion_matrix(test_df['biY'], test_df['pred'])\n",
    "confusion_matrix_30to40"
   ],
   "outputs": [
    {
     "output_type": "stream",
     "name": "stdout",
     "text": [
      "CPU times: user 6min 27s, sys: 7.74 s, total: 6min 35s\n",
      "Wall time: 9min 22s\n"
     ]
    },
    {
     "output_type": "execute_result",
     "data": {
      "text/plain": [
       "array([[2674,  443],\n",
       "       [ 354,   70]])"
      ]
     },
     "metadata": {},
     "execution_count": 89
    }
   ],
   "metadata": {}
  },
  {
   "cell_type": "code",
   "execution_count": 90,
   "source": [
    "%%time\n",
    "accuracy_svm_30to40 = (confusion_matrix_30to40[0][0] + confusion_matrix_30to40[1][1]) / (confusion_matrix_30to40[0][0] + confusion_matrix_30to40[0][1] + confusion_matrix_30to40[1][0] + confusion_matrix_30to40[1][1])\n",
    "accuracy_svm_30to40 # 0.8718606782768102"
   ],
   "outputs": [
    {
     "output_type": "stream",
     "name": "stdout",
     "text": [
      "CPU times: user 74 µs, sys: 15 µs, total: 89 µs\n",
      "Wall time: 97 µs\n"
     ]
    },
    {
     "output_type": "execute_result",
     "data": {
      "text/plain": [
       "0.7749223383225078"
      ]
     },
     "metadata": {},
     "execution_count": 90
    }
   ],
   "metadata": {}
  },
  {
   "cell_type": "code",
   "execution_count": 91,
   "source": [
    "%%time\n",
    "# Test on 40to50 subset\n",
    "\n",
    "svm_pred_40to50 = svm.fit(x_train, y_train).predict(test_40to50)\n",
    "\n",
    "test_df = test_40to50.copy()\n",
    "test_df['biY'] = y_test\n",
    "test_df['pred'] = pd.Series(svm_pred_40to50, index=test_df.index)\n",
    "test_df['accurate'] = (test_df['pred'] == test_df['biY'])\n",
    "\n",
    "from sklearn.metrics import confusion_matrix\n",
    "\n",
    "confusion_matrix_40to50 = confusion_matrix(test_df['biY'], test_df['pred'])\n",
    "confusion_matrix_40to50"
   ],
   "outputs": [
    {
     "output_type": "stream",
     "name": "stdout",
     "text": [
      "CPU times: user 5min 56s, sys: 4.37 s, total: 6min\n",
      "Wall time: 7min 20s\n"
     ]
    },
    {
     "output_type": "execute_result",
     "data": {
      "text/plain": [
       "array([[1765,  261],\n",
       "       [ 243,   35]])"
      ]
     },
     "metadata": {},
     "execution_count": 91
    }
   ],
   "metadata": {}
  },
  {
   "cell_type": "code",
   "execution_count": 92,
   "source": [
    "%%time\n",
    "accuracy_svm_40to50 = (confusion_matrix_40to50[0][0] + confusion_matrix_40to50[1][1]) / (confusion_matrix_40to50[0][0] + confusion_matrix_40to50[0][1] + confusion_matrix_40to50[1][0] + confusion_matrix_40to50[1][1])\n",
    "accuracy_svm_40to50 "
   ],
   "outputs": [
    {
     "output_type": "stream",
     "name": "stdout",
     "text": [
      "CPU times: user 95 µs, sys: 1 µs, total: 96 µs\n",
      "Wall time: 108 µs\n"
     ]
    },
    {
     "output_type": "execute_result",
     "data": {
      "text/plain": [
       "0.78125"
      ]
     },
     "metadata": {},
     "execution_count": 92
    }
   ],
   "metadata": {}
  },
  {
   "cell_type": "code",
   "execution_count": 93,
   "source": [
    "%%time\n",
    "# Test on g50 subset\n",
    "\n",
    "svm_pred_g50 = svm.fit(x_train, y_train).predict(test_g50)\n",
    "\n",
    "test_df = test_g50.copy()\n",
    "test_df['biY'] = y_test\n",
    "test_df['pred'] = pd.Series(svm_pred_g50, index=test_df.index)\n",
    "test_df['accurate'] = (test_df['pred'] == test_df['biY'])\n",
    "\n",
    "from sklearn.metrics import confusion_matrix\n",
    "\n",
    "confusion_matrix_g50 = confusion_matrix(test_df['biY'], test_df['pred'])\n",
    "confusion_matrix_g50"
   ],
   "outputs": [
    {
     "output_type": "stream",
     "name": "stdout",
     "text": [
      "CPU times: user 4min 44s, sys: 2.16 s, total: 4min 46s\n",
      "Wall time: 5min 10s\n"
     ]
    },
    {
     "output_type": "execute_result",
     "data": {
      "text/plain": [
       "array([[1389,  211],\n",
       "       [ 163,   37]])"
      ]
     },
     "metadata": {},
     "execution_count": 93
    }
   ],
   "metadata": {}
  },
  {
   "cell_type": "code",
   "execution_count": 94,
   "source": [
    "%%time\n",
    "accuracy_svm_g50 = (confusion_matrix_g50[0][0] + confusion_matrix_g50[1][1]) / (confusion_matrix_g50[0][0] + confusion_matrix_g50[0][1] + confusion_matrix_g50[1][0] + confusion_matrix_g50[1][1])\n",
    "accuracy_svm_g50 # 0.8718606782768102"
   ],
   "outputs": [
    {
     "output_type": "stream",
     "name": "stdout",
     "text": [
      "CPU times: user 45 µs, sys: 0 ns, total: 45 µs\n",
      "Wall time: 51.3 µs\n"
     ]
    },
    {
     "output_type": "execute_result",
     "data": {
      "text/plain": [
       "0.7922222222222223"
      ]
     },
     "metadata": {},
     "execution_count": 94
    }
   ],
   "metadata": {}
  },
  {
   "cell_type": "code",
   "execution_count": 95,
   "source": [
    "%%time\n",
    "#Demographic Parity\n",
    "# positive rate = (TP + FP)/total\n",
    "\n",
    "PR_svm_l30 = (confusion_matrix_l30[1,1] +confusion_matrix_l30[0,1])/(confusion_matrix_l30[0][0] + confusion_matrix_l30[0][1] + confusion_matrix_l30[1][0] + confusion_matrix_l30[1][1])\n",
    "\n",
    "PR_svm_l30"
   ],
   "outputs": [
    {
     "output_type": "stream",
     "name": "stdout",
     "text": [
      "CPU times: user 47 µs, sys: 1 µs, total: 48 µs\n",
      "Wall time: 54.1 µs\n"
     ]
    },
    {
     "output_type": "execute_result",
     "data": {
      "text/plain": [
       "0.11070381231671554"
      ]
     },
     "metadata": {},
     "execution_count": 95
    }
   ],
   "metadata": {}
  },
  {
   "cell_type": "code",
   "execution_count": 96,
   "source": [
    "%%time\n",
    "PR_svm_30to40 = (confusion_matrix_30to40[1,1] +confusion_matrix_30to40[0,1])/(confusion_matrix_30to40[0][0] + confusion_matrix_30to40[0][1] + confusion_matrix_30to40[1][0] + confusion_matrix_30to40[1][1])\n",
    "PR_svm_30to40"
   ],
   "outputs": [
    {
     "output_type": "stream",
     "name": "stdout",
     "text": [
      "CPU times: user 73 µs, sys: 1 µs, total: 74 µs\n",
      "Wall time: 82 µs\n"
     ]
    },
    {
     "output_type": "execute_result",
     "data": {
      "text/plain": [
       "0.14487432928551255"
      ]
     },
     "metadata": {},
     "execution_count": 96
    }
   ],
   "metadata": {}
  },
  {
   "cell_type": "code",
   "execution_count": 97,
   "source": [
    "%%time\n",
    "PR_svm_40to50 = (confusion_matrix_40to50[1,1] +confusion_matrix_40to50[0,1])/(confusion_matrix_40to50[0][0] + confusion_matrix_40to50[0][1] + confusion_matrix_40to50[1][0] + confusion_matrix_40to50[1][1])\n",
    "PR_svm_40to50"
   ],
   "outputs": [
    {
     "output_type": "stream",
     "name": "stdout",
     "text": [
      "CPU times: user 71 µs, sys: 2 µs, total: 73 µs\n",
      "Wall time: 80.8 µs\n"
     ]
    },
    {
     "output_type": "execute_result",
     "data": {
      "text/plain": [
       "0.1284722222222222"
      ]
     },
     "metadata": {},
     "execution_count": 97
    }
   ],
   "metadata": {}
  },
  {
   "cell_type": "code",
   "execution_count": 98,
   "source": [
    "%%time\n",
    "PR_svm_g50 = (confusion_matrix_g50[1,1] +confusion_matrix_g50[0,1])/(confusion_matrix_g50[0][0] + confusion_matrix_g50[0][1] + confusion_matrix_g50[1][0] + confusion_matrix_g50[1][1])\n",
    "PR_svm_g50"
   ],
   "outputs": [
    {
     "output_type": "stream",
     "name": "stdout",
     "text": [
      "CPU times: user 63 µs, sys: 1 µs, total: 64 µs\n",
      "Wall time: 70.1 µs\n"
     ]
    },
    {
     "output_type": "execute_result",
     "data": {
      "text/plain": [
       "0.13777777777777778"
      ]
     },
     "metadata": {},
     "execution_count": 98
    }
   ],
   "metadata": {}
  },
  {
   "cell_type": "code",
   "execution_count": 99,
   "source": [
    "%%time\n",
    "# Equalized Opportunity\n",
    "#TPR = TP/TP+FN\n",
    "\n",
    "TPR_svm_l30 = confusion_matrix_l30[1,1] / (confusion_matrix_l30[1,1] + confusion_matrix_l30[1,0])\n",
    "\n",
    "TPR_svm_l30"
   ],
   "outputs": [
    {
     "output_type": "stream",
     "name": "stdout",
     "text": [
      "CPU times: user 41 µs, sys: 1 µs, total: 42 µs\n",
      "Wall time: 47.9 µs\n"
     ]
    },
    {
     "output_type": "execute_result",
     "data": {
      "text/plain": [
       "0.0967741935483871"
      ]
     },
     "metadata": {},
     "execution_count": 99
    }
   ],
   "metadata": {}
  },
  {
   "cell_type": "code",
   "execution_count": 100,
   "source": [
    "%%time\n",
    "TPR_svm_30to40 = confusion_matrix_30to40[1,1] / (confusion_matrix_30to40[1,1] + confusion_matrix_30to40[1,0])\n",
    "\n",
    "TPR_svm_30to40 "
   ],
   "outputs": [
    {
     "output_type": "stream",
     "name": "stdout",
     "text": [
      "CPU times: user 44 µs, sys: 0 ns, total: 44 µs\n",
      "Wall time: 50.1 µs\n"
     ]
    },
    {
     "output_type": "execute_result",
     "data": {
      "text/plain": [
       "0.1650943396226415"
      ]
     },
     "metadata": {},
     "execution_count": 100
    }
   ],
   "metadata": {}
  },
  {
   "cell_type": "code",
   "execution_count": 101,
   "source": [
    "%%time\n",
    "TPR_svm_40to50 = confusion_matrix_40to50[1,1] / (confusion_matrix_40to50[1,1] + confusion_matrix_40to50[1,0])\n",
    "\n",
    "TPR_svm_40to50 "
   ],
   "outputs": [
    {
     "output_type": "stream",
     "name": "stdout",
     "text": [
      "CPU times: user 61 µs, sys: 1 µs, total: 62 µs\n",
      "Wall time: 68.9 µs\n"
     ]
    },
    {
     "output_type": "execute_result",
     "data": {
      "text/plain": [
       "0.12589928057553956"
      ]
     },
     "metadata": {},
     "execution_count": 101
    }
   ],
   "metadata": {}
  },
  {
   "cell_type": "code",
   "execution_count": 102,
   "source": [
    "%%time\n",
    "TPR_svm_g50 = confusion_matrix_g50[1,1] / (confusion_matrix_g50[1,1] + confusion_matrix_g50[1,0])\n",
    "\n",
    "TPR_svm_g50 "
   ],
   "outputs": [
    {
     "output_type": "stream",
     "name": "stdout",
     "text": [
      "CPU times: user 59 µs, sys: 2 µs, total: 61 µs\n",
      "Wall time: 69.1 µs\n"
     ]
    },
    {
     "output_type": "execute_result",
     "data": {
      "text/plain": [
       "0.185"
      ]
     },
     "metadata": {},
     "execution_count": 102
    }
   ],
   "metadata": {}
  },
  {
   "cell_type": "code",
   "execution_count": 103,
   "source": [
    "%%time\n",
    "# Equalized Odds\n",
    "#TPR = TP/TP+FN\n",
    "#FNR = FN/FN+TP\n",
    "\n",
    "\n",
    "FNR_svm_l30 = confusion_matrix_l30[1,0] / (confusion_matrix_l30[1,0] + confusion_matrix_l30[1,1])\n",
    "\n",
    "FNR_svm_l30"
   ],
   "outputs": [
    {
     "output_type": "stream",
     "name": "stdout",
     "text": [
      "CPU times: user 38 µs, sys: 1 µs, total: 39 µs\n",
      "Wall time: 45.1 µs\n"
     ]
    },
    {
     "output_type": "execute_result",
     "data": {
      "text/plain": [
       "0.9032258064516129"
      ]
     },
     "metadata": {},
     "execution_count": 103
    }
   ],
   "metadata": {}
  },
  {
   "cell_type": "code",
   "execution_count": 104,
   "source": [
    "%%time\n",
    "FNR_svm_30to40 = confusion_matrix_30to40[1,0] / (confusion_matrix_30to40[1,0] + confusion_matrix_30to40[1,1])\n",
    "\n",
    "FNR_svm_30to40 "
   ],
   "outputs": [
    {
     "output_type": "stream",
     "name": "stdout",
     "text": [
      "CPU times: user 63 µs, sys: 1 µs, total: 64 µs\n",
      "Wall time: 73.2 µs\n"
     ]
    },
    {
     "output_type": "execute_result",
     "data": {
      "text/plain": [
       "0.8349056603773585"
      ]
     },
     "metadata": {},
     "execution_count": 104
    }
   ],
   "metadata": {}
  },
  {
   "cell_type": "code",
   "execution_count": 105,
   "source": [
    "%%time\n",
    "FNR_svm_40to50 = confusion_matrix_40to50[1,0] / (confusion_matrix_40to50[1,0] + confusion_matrix_40to50[1,1])\n",
    "\n",
    "FNR_svm_40to50 "
   ],
   "outputs": [
    {
     "output_type": "stream",
     "name": "stdout",
     "text": [
      "CPU times: user 38 µs, sys: 0 ns, total: 38 µs\n",
      "Wall time: 44.1 µs\n"
     ]
    },
    {
     "output_type": "execute_result",
     "data": {
      "text/plain": [
       "0.8741007194244604"
      ]
     },
     "metadata": {},
     "execution_count": 105
    }
   ],
   "metadata": {}
  },
  {
   "cell_type": "code",
   "execution_count": 106,
   "source": [
    "%%time\n",
    "FNR_svm_g50 = confusion_matrix_g50[1,0] / (confusion_matrix_g50[1,0] + confusion_matrix_g50[1,1])\n",
    "\n",
    "FNR_svm_g50 "
   ],
   "outputs": [
    {
     "output_type": "stream",
     "name": "stdout",
     "text": [
      "CPU times: user 36 µs, sys: 1e+03 ns, total: 37 µs\n",
      "Wall time: 42 µs\n"
     ]
    },
    {
     "output_type": "execute_result",
     "data": {
      "text/plain": [
       "0.815"
      ]
     },
     "metadata": {},
     "execution_count": 106
    }
   ],
   "metadata": {}
  },
  {
   "cell_type": "code",
   "execution_count": 107,
   "source": [
    "%%time\n",
    "# Fairness Through Unwareness\n",
    "\n",
    "x_train_unawareness = x_train.copy()\n",
    "x_train_unawareness\n",
    "x_train_unawareness.drop('catAge_<=30', inplace=True, axis=1)\n",
    "x_train_unawareness.drop('catAge_30-40', inplace=True, axis=1)\n",
    "x_train_unawareness.drop('catAge_40-50', inplace=True, axis=1)\n",
    "x_train_unawareness.drop('catAge_>=50', inplace=True, axis=1)\n",
    "\n",
    "\n",
    "# x_train_unawareness.columns.values\n",
    "# x_train.columns.values"
   ],
   "outputs": [
    {
     "output_type": "stream",
     "name": "stdout",
     "text": [
      "CPU times: user 23.6 ms, sys: 14.4 ms, total: 38 ms\n",
      "Wall time: 36.1 ms\n"
     ]
    }
   ],
   "metadata": {}
  },
  {
   "cell_type": "code",
   "execution_count": 108,
   "source": [
    "%%time\n",
    "#Fairness through unawareness\n",
    "\n",
    "\n",
    "x_test_unawareness = x_test.copy()\n",
    "x_test_unawareness\n",
    "x_test_l30 = x_test_unawareness[x_test_unawareness['catAge_<=30'] == 1]\n",
    "x_test_30to40 = x_test_unawareness[x_test_unawareness['catAge_30-40'] == 1]\n",
    "x_test_40to50 = x_test_unawareness[x_test_unawareness['catAge_40-50'] == 1]\n",
    "x_test_g50 = x_test_unawareness[x_test_unawareness['catAge_>=50'] == 1]\n",
    "\n",
    "\n",
    "x_test_l30.drop('catAge_<=30', inplace=True, axis=1)\n",
    "x_test_l30.drop('catAge_30-40', inplace=True, axis=1)\n",
    "x_test_l30.drop('catAge_40-50', inplace=True, axis=1)\n",
    "x_test_l30.drop('catAge_>=50', inplace=True, axis=1)\n",
    "\n",
    "x_test_30to40.drop('catAge_<=30', inplace=True, axis=1)\n",
    "x_test_30to40.drop('catAge_30-40', inplace=True, axis=1)\n",
    "x_test_30to40.drop('catAge_40-50', inplace=True, axis=1)\n",
    "x_test_30to40.drop('catAge_>=50', inplace=True, axis=1)\n",
    "\n",
    "x_test_40to50.drop('catAge_<=30', inplace=True, axis=1)\n",
    "x_test_40to50.drop('catAge_30-40', inplace=True, axis=1)\n",
    "x_test_40to50.drop('catAge_40-50', inplace=True, axis=1)\n",
    "x_test_40to50.drop('catAge_>=50', inplace=True, axis=1)\n",
    "\n",
    "x_test_g50.drop('catAge_<=30', inplace=True, axis=1)\n",
    "x_test_g50.drop('catAge_30-40', inplace=True, axis=1)\n",
    "x_test_g50.drop('catAge_40-50', inplace=True, axis=1)\n",
    "x_test_g50.drop('catAge_>=50', inplace=True, axis=1)\n",
    "\n"
   ],
   "outputs": [
    {
     "output_type": "stream",
     "name": "stdout",
     "text": [
      "CPU times: user 32.4 ms, sys: 12.7 ms, total: 45.1 ms\n",
      "Wall time: 44.1 ms\n"
     ]
    },
    {
     "output_type": "stream",
     "name": "stderr",
     "text": [
      "/Library/Frameworks/Python.framework/Versions/3.8/lib/python3.8/site-packages/pandas/core/frame.py:4163: SettingWithCopyWarning: \n",
      "A value is trying to be set on a copy of a slice from a DataFrame\n",
      "\n",
      "See the caveats in the documentation: https://pandas.pydata.org/pandas-docs/stable/user_guide/indexing.html#returning-a-view-versus-a-copy\n",
      "  return super().drop(\n"
     ]
    }
   ],
   "metadata": {}
  },
  {
   "cell_type": "code",
   "execution_count": 109,
   "source": [
    "%%time\n",
    "# Test on l30 set\n",
    "\n",
    "svm_pred_l30 = svm.fit(x_train_unawareness, y_train).predict(x_test_l30)\n",
    "\n",
    "test_df = x_test_l30.copy()\n",
    "test_df['biY'] = y_test\n",
    "test_df['pred'] = pd.Series(svm_pred_l30, index=test_df.index)\n",
    "test_df['accurate'] = (test_df['pred'] == test_df['biY'])\n",
    "\n",
    "from sklearn.metrics import confusion_matrix\n",
    "\n",
    "confusion_matrix_l30 = confusion_matrix(test_df['biY'], test_df['pred'])\n",
    "confusion_matrix_l30\n"
   ],
   "outputs": [
    {
     "output_type": "stream",
     "name": "stdout",
     "text": [
      "CPU times: user 4min 15s, sys: 1.67 s, total: 4min 17s\n",
      "Wall time: 4min 32s\n"
     ]
    },
    {
     "output_type": "execute_result",
     "data": {
      "text/plain": [
       "array([[1045,  133],\n",
       "       [ 168,   18]])"
      ]
     },
     "metadata": {},
     "execution_count": 109
    }
   ],
   "metadata": {}
  },
  {
   "cell_type": "code",
   "execution_count": 110,
   "source": [
    "%%time\n",
    "accuracy_svm_l30 = (confusion_matrix_l30[0][0] + confusion_matrix_l30[1][1]) / (confusion_matrix_l30[0][0] + confusion_matrix_l30[0][1] + confusion_matrix_l30[1][0] + confusion_matrix_l30[1][1])\n",
    "accuracy_svm_l30"
   ],
   "outputs": [
    {
     "output_type": "stream",
     "name": "stdout",
     "text": [
      "CPU times: user 52 µs, sys: 1e+03 ns, total: 53 µs\n",
      "Wall time: 58.9 µs\n"
     ]
    },
    {
     "output_type": "execute_result",
     "data": {
      "text/plain": [
       "0.7793255131964809"
      ]
     },
     "metadata": {},
     "execution_count": 110
    }
   ],
   "metadata": {}
  },
  {
   "cell_type": "code",
   "execution_count": 111,
   "source": [
    "%%time\n",
    "# Test on 30to40 set\n",
    "\n",
    "svm_pred_30to40 = svm.fit(x_train_unawareness, y_train).predict(x_test_30to40)\n",
    "\n",
    "test_df = x_test_30to40.copy()\n",
    "test_df['biY'] = y_test\n",
    "test_df['pred'] = pd.Series(svm_pred_30to40, index=test_df.index)\n",
    "test_df['accurate'] = (test_df['pred'] == test_df['biY'])\n",
    "\n",
    "from sklearn.metrics import confusion_matrix\n",
    "\n",
    "confusion_matrix_30to40 = confusion_matrix(test_df['biY'], test_df['pred'])\n",
    "confusion_matrix_30to40"
   ],
   "outputs": [
    {
     "output_type": "stream",
     "name": "stdout",
     "text": [
      "CPU times: user 4min 56s, sys: 3.44 s, total: 4min 59s\n",
      "Wall time: 5min 51s\n"
     ]
    },
    {
     "output_type": "execute_result",
     "data": {
      "text/plain": [
       "array([[2674,  443],\n",
       "       [ 354,   70]])"
      ]
     },
     "metadata": {},
     "execution_count": 111
    }
   ],
   "metadata": {}
  },
  {
   "cell_type": "code",
   "execution_count": 112,
   "source": [
    "%%time\n",
    "accuracy_svm_30to40 = (confusion_matrix_30to40[0][0] + confusion_matrix_30to40[1][1]) / (confusion_matrix_30to40[0][0] + confusion_matrix_30to40[0][1] + confusion_matrix_30to40[1][0] + confusion_matrix_30to40[1][1])\n",
    "accuracy_svm_30to40 # 0.8718606782768102"
   ],
   "outputs": [
    {
     "output_type": "stream",
     "name": "stdout",
     "text": [
      "CPU times: user 52 µs, sys: 0 ns, total: 52 µs\n",
      "Wall time: 61.3 µs\n"
     ]
    },
    {
     "output_type": "execute_result",
     "data": {
      "text/plain": [
       "0.7749223383225078"
      ]
     },
     "metadata": {},
     "execution_count": 112
    }
   ],
   "metadata": {}
  },
  {
   "cell_type": "code",
   "execution_count": 113,
   "source": [
    "%%time\n",
    "# Test on 40to50 subset\n",
    "\n",
    "svm_pred_40to50 = svm.fit(x_train_unawareness, y_train).predict(x_test_40to50)\n",
    "\n",
    "test_df = x_test_40to50.copy()\n",
    "test_df['biY'] = y_test\n",
    "test_df['pred'] = pd.Series(svm_pred_40to50, index=test_df.index)\n",
    "test_df['accurate'] = (test_df['pred'] == test_df['biY'])\n",
    "\n",
    "from sklearn.metrics import confusion_matrix\n",
    "\n",
    "confusion_matrix_40to50 = confusion_matrix(test_df['biY'], test_df['pred'])\n",
    "confusion_matrix_40to50"
   ],
   "outputs": [
    {
     "output_type": "stream",
     "name": "stdout",
     "text": [
      "CPU times: user 3min 54s, sys: 2.25 s, total: 3min 56s\n",
      "Wall time: 4min 25s\n"
     ]
    },
    {
     "output_type": "execute_result",
     "data": {
      "text/plain": [
       "array([[1766,  260],\n",
       "       [ 243,   35]])"
      ]
     },
     "metadata": {},
     "execution_count": 113
    }
   ],
   "metadata": {}
  },
  {
   "cell_type": "code",
   "execution_count": 114,
   "source": [
    "%%time\n",
    "accuracy_svm_40to50 = (confusion_matrix_40to50[0][0] + confusion_matrix_40to50[1][1]) / (confusion_matrix_40to50[0][0] + confusion_matrix_40to50[0][1] + confusion_matrix_40to50[1][0] + confusion_matrix_40to50[1][1])\n",
    "accuracy_svm_40to50 "
   ],
   "outputs": [
    {
     "output_type": "stream",
     "name": "stdout",
     "text": [
      "CPU times: user 61 µs, sys: 1 µs, total: 62 µs\n",
      "Wall time: 69.1 µs\n"
     ]
    },
    {
     "output_type": "execute_result",
     "data": {
      "text/plain": [
       "0.7816840277777778"
      ]
     },
     "metadata": {},
     "execution_count": 114
    }
   ],
   "metadata": {}
  },
  {
   "cell_type": "code",
   "execution_count": 115,
   "source": [
    "%%time\n",
    "# Test on g50 subset\n",
    "\n",
    "svm_pred_g50 = svm.fit(x_train_unawareness, y_train).predict(x_test_g50)\n",
    "\n",
    "test_df = x_test_g50.copy()\n",
    "test_df['biY'] = y_test\n",
    "test_df['pred'] = pd.Series(svm_pred_g50, index=test_df.index)\n",
    "test_df['accurate'] = (test_df['pred'] == test_df['biY'])\n",
    "\n",
    "from sklearn.metrics import confusion_matrix\n",
    "\n",
    "confusion_matrix_g50 = confusion_matrix(test_df['biY'], test_df['pred'])\n",
    "confusion_matrix_g50"
   ],
   "outputs": [
    {
     "output_type": "stream",
     "name": "stdout",
     "text": [
      "CPU times: user 3min 50s, sys: 2.75 s, total: 3min 53s\n",
      "Wall time: 4min 26s\n"
     ]
    },
    {
     "output_type": "execute_result",
     "data": {
      "text/plain": [
       "array([[1388,  212],\n",
       "       [ 163,   37]])"
      ]
     },
     "metadata": {},
     "execution_count": 115
    }
   ],
   "metadata": {}
  },
  {
   "cell_type": "code",
   "execution_count": 116,
   "source": [
    "%%time\n",
    "accuracy_svm_g50 = (confusion_matrix_g50[0][0] + confusion_matrix_g50[1][1]) / (confusion_matrix_g50[0][0] + confusion_matrix_g50[0][1] + confusion_matrix_g50[1][0] + confusion_matrix_g50[1][1])\n",
    "accuracy_svm_g50 "
   ],
   "outputs": [
    {
     "output_type": "stream",
     "name": "stdout",
     "text": [
      "CPU times: user 59 µs, sys: 1e+03 ns, total: 60 µs\n",
      "Wall time: 68.2 µs\n"
     ]
    },
    {
     "output_type": "execute_result",
     "data": {
      "text/plain": [
       "0.7916666666666666"
      ]
     },
     "metadata": {},
     "execution_count": 116
    }
   ],
   "metadata": {}
  },
  {
   "cell_type": "markdown",
   "source": [
    "Logistic Regression Model"
   ],
   "metadata": {}
  },
  {
   "cell_type": "code",
   "execution_count": 117,
   "source": [
    "%%time\n",
    "from sklearn.datasets import load_iris\n",
    "from sklearn.linear_model import LogisticRegression\n",
    "clf = LogisticRegression(random_state=0, class_weight='balanced')\n",
    "clf_pred = clf.fit(x_train, y_train).predict(x_test)"
   ],
   "outputs": [
    {
     "output_type": "stream",
     "name": "stdout",
     "text": [
      "CPU times: user 962 ms, sys: 126 ms, total: 1.09 s\n",
      "Wall time: 681 ms\n"
     ]
    }
   ],
   "metadata": {}
  },
  {
   "cell_type": "code",
   "execution_count": 118,
   "source": [
    "%%time\n",
    "test_df = x_test.copy()\n",
    "test_df['biY'] = y_test\n",
    "test_df['pred'] = pd.Series(clf_pred, index=test_df.index)\n",
    "test_df['accurate'] = (test_df['pred'] == test_df['biY'])\n",
    "test_df.columns.values"
   ],
   "outputs": [
    {
     "output_type": "stream",
     "name": "stdout",
     "text": [
      "CPU times: user 11.4 ms, sys: 4.41 ms, total: 15.8 ms\n",
      "Wall time: 10.8 ms\n"
     ]
    },
    {
     "output_type": "execute_result",
     "data": {
      "text/plain": [
       "array(['balance', 'day', 'duration', 'campaign', 'pdays', 'previous',\n",
       "       'biDefault', 'biHousing', 'biLoan', 'catAge_30-40', 'catAge_40-50',\n",
       "       'catAge_<=30', 'catAge_>=50', 'job_admin.', 'job_blue-collar',\n",
       "       'job_entrepreneur', 'job_housemaid', 'job_management',\n",
       "       'job_retired', 'job_self-employed', 'job_services', 'job_student',\n",
       "       'job_technician', 'job_unemployed', 'marital_divorced',\n",
       "       'marital_married', 'marital_single', 'education_primary',\n",
       "       'education_secondary', 'education_tertiary', 'month_apr',\n",
       "       'month_aug', 'month_dec', 'month_feb', 'month_jan', 'month_jul',\n",
       "       'month_jun', 'month_mar', 'month_may', 'month_nov', 'month_oct',\n",
       "       'month_sep', 'Fmonth_apr', 'Fmonth_aug', 'Fmonth_dec',\n",
       "       'Fmonth_feb', 'Fmonth_jan', 'Fmonth_jul', 'Fmonth_jun',\n",
       "       'Fmonth_mar', 'Fmonth_may', 'Fmonth_nov', 'Fmonth_oct', 'biY',\n",
       "       'pred', 'accurate'], dtype=object)"
      ]
     },
     "metadata": {},
     "execution_count": 118
    }
   ],
   "metadata": {}
  },
  {
   "cell_type": "code",
   "execution_count": 119,
   "source": [
    "%%time\n",
    "from sklearn.metrics import confusion_matrix\n",
    "confusion_matrix = confusion_matrix(test_df['biY'], test_df['pred'])\n",
    "confusion_matrix"
   ],
   "outputs": [
    {
     "output_type": "stream",
     "name": "stdout",
     "text": [
      "CPU times: user 22.6 ms, sys: 1.44 ms, total: 24.1 ms\n",
      "Wall time: 43 ms\n"
     ]
    },
    {
     "output_type": "execute_result",
     "data": {
      "text/plain": [
       "array([[5176, 2745],\n",
       "       [ 709,  379]])"
      ]
     },
     "metadata": {},
     "execution_count": 119
    }
   ],
   "metadata": {}
  },
  {
   "cell_type": "code",
   "execution_count": 120,
   "source": [
    "%%time\n",
    "# Accuracy\n",
    "# \"Accuracy: \", test_df.accurate.mean()\n",
    "\n",
    "accuracy_clf = (confusion_matrix[0][0] + confusion_matrix[1][1]) / (confusion_matrix[0][0] + confusion_matrix[0][1] + confusion_matrix[1][0] + confusion_matrix[1][1])\n",
    "accuracy_clf"
   ],
   "outputs": [
    {
     "output_type": "stream",
     "name": "stdout",
     "text": [
      "CPU times: user 65 µs, sys: 2 µs, total: 67 µs\n",
      "Wall time: 73.9 µs\n"
     ]
    },
    {
     "output_type": "execute_result",
     "data": {
      "text/plain": [
       "0.6166056166056166"
      ]
     },
     "metadata": {},
     "execution_count": 120
    }
   ],
   "metadata": {}
  },
  {
   "cell_type": "code",
   "execution_count": 121,
   "source": [
    "%%time\n",
    "# Split dataset based on marital status\n",
    "\n",
    "test_df.columns.values\n",
    "test_l30 = x_test[x_test['catAge_<=30'] == 1]\n",
    "test_30to40 = x_test[x_test['catAge_30-40'] == 1]\n",
    "test_40to50 = x_test[x_test['catAge_40-50'] == 1]\n",
    "test_g50 = x_test[x_test['catAge_>=50'] == 1]"
   ],
   "outputs": [
    {
     "output_type": "stream",
     "name": "stdout",
     "text": [
      "CPU times: user 17.3 ms, sys: 4.06 ms, total: 21.3 ms\n",
      "Wall time: 162 ms\n"
     ]
    }
   ],
   "metadata": {}
  },
  {
   "cell_type": "code",
   "execution_count": 122,
   "source": [
    "%%time\n",
    "# Test on l30 subset\n",
    "\n",
    "clf_pred_l30 = clf.fit(x_train, y_train).predict(test_l30)\n",
    "\n",
    "test_df = test_l30.copy()\n",
    "test_df['biY'] = y_test\n",
    "test_df['pred'] = pd.Series(clf_pred_l30, index=test_df.index)\n",
    "test_df['accurate'] = (test_df['pred'] == test_df['biY'])\n",
    "\n",
    "from sklearn.metrics import confusion_matrix\n",
    "\n",
    "confusion_matrix_l30 = confusion_matrix(test_df['biY'], test_df['pred'])\n",
    "confusion_matrix_l30"
   ],
   "outputs": [
    {
     "output_type": "stream",
     "name": "stdout",
     "text": [
      "CPU times: user 1.64 s, sys: 132 ms, total: 1.77 s\n",
      "Wall time: 1.53 s\n"
     ]
    },
    {
     "output_type": "execute_result",
     "data": {
      "text/plain": [
       "array([[804, 374],\n",
       "       [120,  66]])"
      ]
     },
     "metadata": {},
     "execution_count": 122
    }
   ],
   "metadata": {}
  },
  {
   "cell_type": "code",
   "execution_count": 123,
   "source": [
    "%%time\n",
    "accuracy_clf_l30 = (confusion_matrix_l30[0][0] + confusion_matrix_l30[1][1]) / (confusion_matrix_l30[0][0] + confusion_matrix_l30[0][1] + confusion_matrix_l30[1][0] + confusion_matrix_l30[1][1])\n",
    "accuracy_clf_l30"
   ],
   "outputs": [
    {
     "output_type": "stream",
     "name": "stdout",
     "text": [
      "CPU times: user 2.41 ms, sys: 1.55 ms, total: 3.96 ms\n",
      "Wall time: 2.97 ms\n"
     ]
    },
    {
     "output_type": "execute_result",
     "data": {
      "text/plain": [
       "0.6378299120234604"
      ]
     },
     "metadata": {},
     "execution_count": 123
    }
   ],
   "metadata": {}
  },
  {
   "cell_type": "code",
   "execution_count": 124,
   "source": [
    "%%time\n",
    "# Test on 30to40 subset\n",
    "\n",
    "clf_pred_30to40 = clf.fit(x_train, y_train).predict(test_30to40)\n",
    "\n",
    "test_df = test_30to40.copy()\n",
    "test_df['biY'] = y_test\n",
    "test_df['pred'] = pd.Series(clf_pred_30to40, index=test_df.index)\n",
    "test_df['accurate'] = (test_df['pred'] == test_df['biY'])\n",
    "\n",
    "from sklearn.metrics import confusion_matrix\n",
    "\n",
    "confusion_matrix_30to40 = confusion_matrix(test_df['biY'], test_df['pred'])\n",
    "confusion_matrix_30to40"
   ],
   "outputs": [
    {
     "output_type": "stream",
     "name": "stdout",
     "text": [
      "CPU times: user 934 ms, sys: 63.2 ms, total: 997 ms\n",
      "Wall time: 616 ms\n"
     ]
    },
    {
     "output_type": "execute_result",
     "data": {
      "text/plain": [
       "array([[1963, 1154],\n",
       "       [ 268,  156]])"
      ]
     },
     "metadata": {},
     "execution_count": 124
    }
   ],
   "metadata": {}
  },
  {
   "cell_type": "code",
   "execution_count": 125,
   "source": [
    "%%time\n",
    "accuracy_clf_30to40 = (confusion_matrix_30to40[0][0] + confusion_matrix_30to40[1][1]) / (confusion_matrix_30to40[0][0] + confusion_matrix_30to40[0][1] + confusion_matrix_30to40[1][0] + confusion_matrix_30to40[1][1])\n",
    "accuracy_clf_30to40"
   ],
   "outputs": [
    {
     "output_type": "stream",
     "name": "stdout",
     "text": [
      "CPU times: user 118 µs, sys: 11 µs, total: 129 µs\n",
      "Wall time: 72 µs\n"
     ]
    },
    {
     "output_type": "execute_result",
     "data": {
      "text/plain": [
       "0.5984185258401582"
      ]
     },
     "metadata": {},
     "execution_count": 125
    }
   ],
   "metadata": {}
  },
  {
   "cell_type": "code",
   "execution_count": 126,
   "source": [
    "%%time\n",
    "# Test on 40to50 subset\n",
    "\n",
    "clf_pred_40to50 = clf.fit(x_train, y_train).predict(test_40to50)\n",
    " \n",
    "test_df = test_40to50.copy()\n",
    "test_df['biY'] = y_test\n",
    "test_df['pred'] = pd.Series(clf_pred_40to50, index=test_df.index)\n",
    "test_df['accurate'] = (test_df['pred'] == test_df['biY'])\n",
    " \n",
    "from sklearn.metrics import confusion_matrix\n",
    " \n",
    "confusion_matrix_40to50 = confusion_matrix(test_df['biY'], test_df['pred'])\n",
    "confusion_matrix_40to50"
   ],
   "outputs": [
    {
     "output_type": "stream",
     "name": "stdout",
     "text": [
      "CPU times: user 990 ms, sys: 75.4 ms, total: 1.07 s\n",
      "Wall time: 626 ms\n"
     ]
    },
    {
     "output_type": "execute_result",
     "data": {
      "text/plain": [
       "array([[1356,  670],\n",
       "       [ 186,   92]])"
      ]
     },
     "metadata": {},
     "execution_count": 126
    }
   ],
   "metadata": {}
  },
  {
   "cell_type": "code",
   "execution_count": 127,
   "source": [
    "%%time\n",
    "accuracy_clf_40to50 = (confusion_matrix_40to50[0][0] + confusion_matrix_40to50[1][1]) / (confusion_matrix_40to50[0][0] + confusion_matrix_40to50[0][1] + confusion_matrix_40to50[1][0] + confusion_matrix_40to50[1][1])\n",
    "accuracy_clf_40to50 "
   ],
   "outputs": [
    {
     "output_type": "stream",
     "name": "stdout",
     "text": [
      "CPU times: user 113 µs, sys: 8 µs, total: 121 µs\n",
      "Wall time: 67 µs\n"
     ]
    },
    {
     "output_type": "execute_result",
     "data": {
      "text/plain": [
       "0.6284722222222222"
      ]
     },
     "metadata": {},
     "execution_count": 127
    }
   ],
   "metadata": {}
  },
  {
   "cell_type": "code",
   "execution_count": 128,
   "source": [
    "%%time\n",
    "# Test on g50 subset\n",
    "\n",
    "clf_pred_g50 = clf.fit(x_train, y_train).predict(test_g50)\n",
    " \n",
    "test_df = test_g50.copy()\n",
    "test_df['biY'] = y_test\n",
    "test_df['pred'] = pd.Series(clf_pred_g50, index=test_df.index)\n",
    "test_df['accurate'] = (test_df['pred'] == test_df['biY'])\n",
    " \n",
    "from sklearn.metrics import confusion_matrix\n",
    " \n",
    "confusion_matrix_g50 = confusion_matrix(test_df['biY'], test_df['pred'])\n",
    "confusion_matrix_g50"
   ],
   "outputs": [
    {
     "output_type": "stream",
     "name": "stdout",
     "text": [
      "CPU times: user 1.06 s, sys: 109 ms, total: 1.17 s\n",
      "Wall time: 898 ms\n"
     ]
    },
    {
     "output_type": "execute_result",
     "data": {
      "text/plain": [
       "array([[1053,  547],\n",
       "       [ 135,   65]])"
      ]
     },
     "metadata": {},
     "execution_count": 128
    }
   ],
   "metadata": {}
  },
  {
   "cell_type": "code",
   "execution_count": 129,
   "source": [
    "%%time\n",
    "accuracy_clf_g50 = (confusion_matrix_g50[0][0] + confusion_matrix_g50[1][1]) / (confusion_matrix_g50[0][0] + confusion_matrix_g50[0][1] + confusion_matrix_g50[1][0] + confusion_matrix_g50[1][1])\n",
    "accuracy_clf_g50 "
   ],
   "outputs": [
    {
     "output_type": "stream",
     "name": "stdout",
     "text": [
      "CPU times: user 131 µs, sys: 21 µs, total: 152 µs\n",
      "Wall time: 88.2 µs\n"
     ]
    },
    {
     "output_type": "execute_result",
     "data": {
      "text/plain": [
       "0.6211111111111111"
      ]
     },
     "metadata": {},
     "execution_count": 129
    }
   ],
   "metadata": {}
  },
  {
   "cell_type": "code",
   "execution_count": 130,
   "source": [
    "%%time\n",
    "#Demographic Parity\n",
    "# positive rate = (TP + FP)/total\n",
    "\n",
    "PR_clf_l30 = (confusion_matrix_l30[1,1] +confusion_matrix_l30[0,1])/(confusion_matrix_l30[0][0] + confusion_matrix_l30[0][1] + confusion_matrix_l30[1][0] + confusion_matrix_l30[1][1])\n",
    "PR_clf_l30 # 4756"
   ],
   "outputs": [
    {
     "output_type": "stream",
     "name": "stdout",
     "text": [
      "CPU times: user 154 µs, sys: 14 µs, total: 168 µs\n",
      "Wall time: 93.9 µs\n"
     ]
    },
    {
     "output_type": "execute_result",
     "data": {
      "text/plain": [
       "0.3225806451612903"
      ]
     },
     "metadata": {},
     "execution_count": 130
    }
   ],
   "metadata": {}
  },
  {
   "cell_type": "code",
   "execution_count": 131,
   "source": [
    "%%time\n",
    "PR_clf_30to40 = (confusion_matrix_30to40[1,1] +confusion_matrix_30to40[0,1])/(confusion_matrix_30to40[0][0] + confusion_matrix_30to40[0][1] + confusion_matrix_30to40[1][0] + confusion_matrix_30to40[1][1])\n",
    "PR_clf_30to40 # 2136"
   ],
   "outputs": [
    {
     "output_type": "stream",
     "name": "stdout",
     "text": [
      "CPU times: user 42 µs, sys: 0 ns, total: 42 µs\n",
      "Wall time: 50.1 µs\n"
     ]
    },
    {
     "output_type": "execute_result",
     "data": {
      "text/plain": [
       "0.3699519909630048"
      ]
     },
     "metadata": {},
     "execution_count": 131
    }
   ],
   "metadata": {}
  },
  {
   "cell_type": "code",
   "execution_count": 132,
   "source": [
    "%%time\n",
    "PR_clf_40to50 = (confusion_matrix_40to50[1,1] +confusion_matrix_40to50[0,1])/(confusion_matrix_40to50[0][0] + confusion_matrix_40to50[0][1] + confusion_matrix_40to50[1][0] + confusion_matrix_40to50[1][1])\n",
    "PR_clf_40to50 # 2136"
   ],
   "outputs": [
    {
     "output_type": "stream",
     "name": "stdout",
     "text": [
      "CPU times: user 60 µs, sys: 1 µs, total: 61 µs\n",
      "Wall time: 69.1 µs\n"
     ]
    },
    {
     "output_type": "execute_result",
     "data": {
      "text/plain": [
       "0.3307291666666667"
      ]
     },
     "metadata": {},
     "execution_count": 132
    }
   ],
   "metadata": {}
  },
  {
   "cell_type": "code",
   "execution_count": 133,
   "source": [
    "%%time\n",
    "PR_clf_g50 = (confusion_matrix_g50[1,1] +confusion_matrix_g50[0,1])/(confusion_matrix_g50[0][0] + confusion_matrix_g50[0][1] + confusion_matrix_g50[1][0] + confusion_matrix_g50[1][1])\n",
    "PR_clf_g50 # 2136"
   ],
   "outputs": [
    {
     "output_type": "stream",
     "name": "stdout",
     "text": [
      "CPU times: user 43 µs, sys: 1e+03 ns, total: 44 µs\n",
      "Wall time: 47.9 µs\n"
     ]
    },
    {
     "output_type": "execute_result",
     "data": {
      "text/plain": [
       "0.34"
      ]
     },
     "metadata": {},
     "execution_count": 133
    }
   ],
   "metadata": {}
  },
  {
   "cell_type": "code",
   "execution_count": 134,
   "source": [
    "%%time\n",
    "# Equalized Opportunity\n",
    "#TPR = TP/TP+FN\n",
    "\n",
    "TPR_clf_l30 = confusion_matrix_l30[1,1] / (confusion_matrix_l30[1,1] + confusion_matrix_l30[1,0])\n",
    "\n",
    "TPR_clf_l30"
   ],
   "outputs": [
    {
     "output_type": "stream",
     "name": "stdout",
     "text": [
      "CPU times: user 423 µs, sys: 1.13 ms, total: 1.55 ms\n",
      "Wall time: 2.75 ms\n"
     ]
    },
    {
     "output_type": "execute_result",
     "data": {
      "text/plain": [
       "0.3548387096774194"
      ]
     },
     "metadata": {},
     "execution_count": 134
    }
   ],
   "metadata": {}
  },
  {
   "cell_type": "code",
   "execution_count": 135,
   "source": [
    "%%time\n",
    "TPR_clf_30to40 = confusion_matrix_30to40[1,1] / (confusion_matrix_30to40[1,1] + confusion_matrix_30to40[1,0])\n",
    "\n",
    "TPR_clf_30to40  "
   ],
   "outputs": [
    {
     "output_type": "stream",
     "name": "stdout",
     "text": [
      "CPU times: user 33 µs, sys: 1e+03 ns, total: 34 µs\n",
      "Wall time: 39.8 µs\n"
     ]
    },
    {
     "output_type": "execute_result",
     "data": {
      "text/plain": [
       "0.36792452830188677"
      ]
     },
     "metadata": {},
     "execution_count": 135
    }
   ],
   "metadata": {}
  },
  {
   "cell_type": "code",
   "execution_count": 136,
   "source": [
    "%%time\n",
    "TPR_clf_40to50  = confusion_matrix_40to50[1,1] / (confusion_matrix_40to50[1,1] + confusion_matrix_40to50[1,0])\n",
    "\n",
    "TPR_clf_40to50 "
   ],
   "outputs": [
    {
     "output_type": "stream",
     "name": "stdout",
     "text": [
      "CPU times: user 35 µs, sys: 1e+03 ns, total: 36 µs\n",
      "Wall time: 41 µs\n"
     ]
    },
    {
     "output_type": "execute_result",
     "data": {
      "text/plain": [
       "0.33093525179856115"
      ]
     },
     "metadata": {},
     "execution_count": 136
    }
   ],
   "metadata": {}
  },
  {
   "cell_type": "code",
   "execution_count": 137,
   "source": [
    "%%time\n",
    "TPR_clf_g50  = confusion_matrix_g50[1,1] / (confusion_matrix_g50[1,1] + confusion_matrix_g50[1,0])\n",
    "\n",
    "TPR_clf_g50 "
   ],
   "outputs": [
    {
     "output_type": "stream",
     "name": "stdout",
     "text": [
      "CPU times: user 51 µs, sys: 1e+03 ns, total: 52 µs\n",
      "Wall time: 57.9 µs\n"
     ]
    },
    {
     "output_type": "execute_result",
     "data": {
      "text/plain": [
       "0.325"
      ]
     },
     "metadata": {},
     "execution_count": 137
    }
   ],
   "metadata": {}
  },
  {
   "cell_type": "code",
   "execution_count": 138,
   "source": [
    "%%time\n",
    "# Equalized Odds\n",
    "#TPR = TP/TP+FN\n",
    "#FNR = FN/FN+TP\n",
    "\n",
    "\n",
    "FNR_clf_l30 = confusion_matrix_l30[1,0] / (confusion_matrix_l30[1,0] + confusion_matrix_l30[1,1])\n",
    "\n",
    "FNR_clf_l30 # 0.11652109273369263"
   ],
   "outputs": [
    {
     "output_type": "stream",
     "name": "stdout",
     "text": [
      "CPU times: user 73 µs, sys: 1e+03 ns, total: 74 µs\n",
      "Wall time: 82 µs\n"
     ]
    },
    {
     "output_type": "execute_result",
     "data": {
      "text/plain": [
       "0.6451612903225806"
      ]
     },
     "metadata": {},
     "execution_count": 138
    }
   ],
   "metadata": {}
  },
  {
   "cell_type": "code",
   "execution_count": 139,
   "source": [
    "%%time\n",
    "FNR_clf_30to40 = confusion_matrix_30to40[1,0] / (confusion_matrix_30to40[1,0] + confusion_matrix_30to40[1,1])\n",
    "\n",
    "FNR_clf_30to40"
   ],
   "outputs": [
    {
     "output_type": "stream",
     "name": "stdout",
     "text": [
      "CPU times: user 333 µs, sys: 9 µs, total: 342 µs\n",
      "Wall time: 407 µs\n"
     ]
    },
    {
     "output_type": "execute_result",
     "data": {
      "text/plain": [
       "0.6320754716981132"
      ]
     },
     "metadata": {},
     "execution_count": 139
    }
   ],
   "metadata": {}
  },
  {
   "cell_type": "code",
   "execution_count": 140,
   "source": [
    "%%time\n",
    "FNR_clf_40to50 = confusion_matrix_40to50[1,0] / (confusion_matrix_40to50[1,0] + confusion_matrix_40to50[1,1])\n",
    "\n",
    "FNR_clf_40to50"
   ],
   "outputs": [
    {
     "output_type": "stream",
     "name": "stdout",
     "text": [
      "CPU times: user 113 µs, sys: 12 µs, total: 125 µs\n",
      "Wall time: 143 µs\n"
     ]
    },
    {
     "output_type": "execute_result",
     "data": {
      "text/plain": [
       "0.6690647482014388"
      ]
     },
     "metadata": {},
     "execution_count": 140
    }
   ],
   "metadata": {}
  },
  {
   "cell_type": "code",
   "execution_count": 141,
   "source": [
    "%%time\n",
    "FNR_clf_g50 = confusion_matrix_g50[1,0] / (confusion_matrix_g50[1,0] + confusion_matrix_g50[1,1])\n",
    "\n",
    "FNR_clf_g50"
   ],
   "outputs": [
    {
     "output_type": "stream",
     "name": "stdout",
     "text": [
      "CPU times: user 77 µs, sys: 2 µs, total: 79 µs\n",
      "Wall time: 88.2 µs\n"
     ]
    },
    {
     "output_type": "execute_result",
     "data": {
      "text/plain": [
       "0.675"
      ]
     },
     "metadata": {},
     "execution_count": 141
    }
   ],
   "metadata": {}
  },
  {
   "cell_type": "code",
   "execution_count": 142,
   "source": [
    "%%time\n",
    "# Fairness Through Unwareness\n",
    "\n",
    "x_train_unawareness = x_train.copy()\n",
    "x_train_unawareness\n",
    "x_train_unawareness.drop('catAge_<=30', inplace=True, axis=1)\n",
    "x_train_unawareness.drop('catAge_30-40', inplace=True, axis=1)\n",
    "x_train_unawareness.drop('catAge_40-50', inplace=True, axis=1)\n",
    "x_train_unawareness.drop('catAge_>=50', inplace=True, axis=1)\n",
    "\n",
    "# x_train_unawareness.columns.values\n",
    "# x_train.columns.values"
   ],
   "outputs": [
    {
     "output_type": "stream",
     "name": "stdout",
     "text": [
      "CPU times: user 43 ms, sys: 18.7 ms, total: 61.7 ms\n",
      "Wall time: 88.2 ms\n"
     ]
    }
   ],
   "metadata": {}
  },
  {
   "cell_type": "code",
   "execution_count": 143,
   "source": [
    "%%time\n",
    "#Fairness through unawareness\n",
    "\n",
    "x_test_unawareness = x_test.copy()\n",
    "x_test_unawareness\n",
    "x_test_l30 = x_test_unawareness[x_test_unawareness['catAge_<=30'] == 1]\n",
    "x_test_30to40 = x_test_unawareness[x_test_unawareness['catAge_30-40'] == 1]\n",
    "x_test_40to50 = x_test_unawareness[x_test_unawareness['catAge_40-50'] == 1]\n",
    "x_test_g50 = x_test_unawareness[x_test_unawareness['catAge_>=50'] == 1]\n",
    "\n",
    "\n",
    "x_test_l30.drop('catAge_<=30', inplace=True, axis=1)\n",
    "x_test_l30.drop('catAge_30-40', inplace=True, axis=1)\n",
    "x_test_l30.drop('catAge_40-50', inplace=True, axis=1)\n",
    "x_test_l30.drop('catAge_>=50', inplace=True, axis=1)\n",
    "\n",
    "x_test_30to40.drop('catAge_<=30', inplace=True, axis=1)\n",
    "x_test_30to40.drop('catAge_30-40', inplace=True, axis=1)\n",
    "x_test_30to40.drop('catAge_40-50', inplace=True, axis=1)\n",
    "x_test_30to40.drop('catAge_>=50', inplace=True, axis=1)\n",
    "\n",
    "x_test_40to50.drop('catAge_<=30', inplace=True, axis=1)\n",
    "x_test_40to50.drop('catAge_30-40', inplace=True, axis=1)\n",
    "x_test_40to50.drop('catAge_40-50', inplace=True, axis=1)\n",
    "x_test_40to50.drop('catAge_>=50', inplace=True, axis=1)\n",
    "\n",
    "x_test_g50.drop('catAge_<=30', inplace=True, axis=1)\n",
    "x_test_g50.drop('catAge_30-40', inplace=True, axis=1)\n",
    "x_test_g50.drop('catAge_40-50', inplace=True, axis=1)\n",
    "x_test_g50.drop('catAge_>=50', inplace=True, axis=1)\n",
    "\n",
    "\n",
    "\n",
    "# x_test_unawareness.columns.values\n",
    "# x_test.columns.values"
   ],
   "outputs": [
    {
     "output_type": "stream",
     "name": "stdout",
     "text": [
      "CPU times: user 85 ms, sys: 12.6 ms, total: 97.6 ms\n",
      "Wall time: 134 ms\n"
     ]
    },
    {
     "output_type": "stream",
     "name": "stderr",
     "text": [
      "/Library/Frameworks/Python.framework/Versions/3.8/lib/python3.8/site-packages/pandas/core/frame.py:4163: SettingWithCopyWarning: \n",
      "A value is trying to be set on a copy of a slice from a DataFrame\n",
      "\n",
      "See the caveats in the documentation: https://pandas.pydata.org/pandas-docs/stable/user_guide/indexing.html#returning-a-view-versus-a-copy\n",
      "  return super().drop(\n"
     ]
    }
   ],
   "metadata": {}
  },
  {
   "cell_type": "code",
   "execution_count": 144,
   "source": [
    "%%time\n",
    "# Test on l30 set\n",
    "\n",
    "clf_pred_l30 = clf.fit(x_train_unawareness, y_train).predict(x_test_l30)\n",
    "\n",
    "test_df = x_test_l30.copy()\n",
    "test_df['biY'] = y_test\n",
    "test_df['pred'] = pd.Series(clf_pred_l30, index=test_df.index)\n",
    "test_df['accurate'] = (test_df['pred'] == test_df['biY'])\n",
    "\n",
    "from sklearn.metrics import confusion_matrix\n",
    "\n",
    "confusion_matrix_l30 = confusion_matrix(test_df['biY'], test_df['pred'])\n",
    "confusion_matrix_l30"
   ],
   "outputs": [
    {
     "output_type": "stream",
     "name": "stdout",
     "text": [
      "CPU times: user 2.99 s, sys: 258 ms, total: 3.25 s\n",
      "Wall time: 3.03 s\n"
     ]
    },
    {
     "output_type": "stream",
     "name": "stderr",
     "text": [
      "/Library/Frameworks/Python.framework/Versions/3.8/lib/python3.8/site-packages/sklearn/linear_model/_logistic.py:762: ConvergenceWarning: lbfgs failed to converge (status=1):\n",
      "STOP: TOTAL NO. of ITERATIONS REACHED LIMIT.\n",
      "\n",
      "Increase the number of iterations (max_iter) or scale the data as shown in:\n",
      "    https://scikit-learn.org/stable/modules/preprocessing.html\n",
      "Please also refer to the documentation for alternative solver options:\n",
      "    https://scikit-learn.org/stable/modules/linear_model.html#logistic-regression\n",
      "  n_iter_i = _check_optimize_result(\n"
     ]
    },
    {
     "output_type": "execute_result",
     "data": {
      "text/plain": [
       "array([[692, 486],\n",
       "       [105,  81]])"
      ]
     },
     "metadata": {},
     "execution_count": 144
    }
   ],
   "metadata": {}
  },
  {
   "cell_type": "code",
   "execution_count": 145,
   "source": [
    "%%time\n",
    "accuracy_clf_l30 = (confusion_matrix_l30[0][0] + confusion_matrix_l30[1][1]) / (confusion_matrix_l30[0][0] + confusion_matrix_l30[0][1] + confusion_matrix_l30[1][0] + confusion_matrix_l30[1][1])\n",
    "accuracy_clf_l30"
   ],
   "outputs": [
    {
     "output_type": "stream",
     "name": "stdout",
     "text": [
      "CPU times: user 94 µs, sys: 2 µs, total: 96 µs\n",
      "Wall time: 108 µs\n"
     ]
    },
    {
     "output_type": "execute_result",
     "data": {
      "text/plain": [
       "0.5667155425219942"
      ]
     },
     "metadata": {},
     "execution_count": 145
    }
   ],
   "metadata": {}
  },
  {
   "cell_type": "code",
   "execution_count": 146,
   "source": [
    "%%time\n",
    "# Test on 30to40 set\n",
    "\n",
    "clf_pred_30to40 = clf.fit(x_train_unawareness, y_train).predict(x_test_30to40)\n",
    "\n",
    "test_df = x_test_30to40.copy()\n",
    "test_df['biY'] = y_test\n",
    "test_df['pred'] = pd.Series(clf_pred_30to40, index=test_df.index)\n",
    "test_df['accurate'] = (test_df['pred'] == test_df['biY'])\n",
    "\n",
    "from sklearn.metrics import confusion_matrix\n",
    "\n",
    "confusion_matrix_30to40 = confusion_matrix(test_df['biY'], test_df['pred'])\n",
    "confusion_matrix_30to40\n"
   ],
   "outputs": [
    {
     "output_type": "stream",
     "name": "stdout",
     "text": [
      "CPU times: user 2.66 s, sys: 197 ms, total: 2.86 s\n",
      "Wall time: 2.66 s\n"
     ]
    },
    {
     "output_type": "stream",
     "name": "stderr",
     "text": [
      "/Library/Frameworks/Python.framework/Versions/3.8/lib/python3.8/site-packages/sklearn/linear_model/_logistic.py:762: ConvergenceWarning: lbfgs failed to converge (status=1):\n",
      "STOP: TOTAL NO. of ITERATIONS REACHED LIMIT.\n",
      "\n",
      "Increase the number of iterations (max_iter) or scale the data as shown in:\n",
      "    https://scikit-learn.org/stable/modules/preprocessing.html\n",
      "Please also refer to the documentation for alternative solver options:\n",
      "    https://scikit-learn.org/stable/modules/linear_model.html#logistic-regression\n",
      "  n_iter_i = _check_optimize_result(\n"
     ]
    },
    {
     "output_type": "execute_result",
     "data": {
      "text/plain": [
       "array([[1566, 1551],\n",
       "       [ 204,  220]])"
      ]
     },
     "metadata": {},
     "execution_count": 146
    }
   ],
   "metadata": {}
  },
  {
   "cell_type": "code",
   "execution_count": 147,
   "source": [
    "%%time\n",
    "accuracy_clf_30to40 = (confusion_matrix_30to40[0][0] + confusion_matrix_30to40[1][1]) / (confusion_matrix_30to40[0][0] + confusion_matrix_30to40[0][1] + confusion_matrix_30to40[1][0] + confusion_matrix_30to40[1][1])\n",
    "accuracy_clf_30to40 "
   ],
   "outputs": [
    {
     "output_type": "stream",
     "name": "stdout",
     "text": [
      "CPU times: user 85 µs, sys: 2 µs, total: 87 µs\n",
      "Wall time: 98 µs\n"
     ]
    },
    {
     "output_type": "execute_result",
     "data": {
      "text/plain": [
       "0.5043772945495623"
      ]
     },
     "metadata": {},
     "execution_count": 147
    }
   ],
   "metadata": {}
  },
  {
   "cell_type": "code",
   "execution_count": 148,
   "source": [
    "%%time\n",
    "# Test on 40to50 set\n",
    "\n",
    "clf_pred_40to50 = clf.fit(x_train_unawareness, y_train).predict(x_test_40to50)\n",
    "\n",
    "test_df = x_test_40to50.copy()\n",
    "test_df['biY'] = y_test\n",
    "test_df['pred'] = pd.Series(clf_pred_40to50, index=test_df.index)\n",
    "test_df['accurate'] = (test_df['pred'] == test_df['biY'])\n",
    "\n",
    "from sklearn.metrics import confusion_matrix\n",
    "\n",
    "confusion_matrix_40to50 = confusion_matrix(test_df['biY'], test_df['pred'])\n",
    "confusion_matrix_40to50"
   ],
   "outputs": [
    {
     "output_type": "stream",
     "name": "stdout",
     "text": [
      "CPU times: user 2.31 s, sys: 148 ms, total: 2.46 s\n",
      "Wall time: 2.04 s\n"
     ]
    },
    {
     "output_type": "stream",
     "name": "stderr",
     "text": [
      "/Library/Frameworks/Python.framework/Versions/3.8/lib/python3.8/site-packages/sklearn/linear_model/_logistic.py:762: ConvergenceWarning: lbfgs failed to converge (status=1):\n",
      "STOP: TOTAL NO. of ITERATIONS REACHED LIMIT.\n",
      "\n",
      "Increase the number of iterations (max_iter) or scale the data as shown in:\n",
      "    https://scikit-learn.org/stable/modules/preprocessing.html\n",
      "Please also refer to the documentation for alternative solver options:\n",
      "    https://scikit-learn.org/stable/modules/linear_model.html#logistic-regression\n",
      "  n_iter_i = _check_optimize_result(\n"
     ]
    },
    {
     "output_type": "execute_result",
     "data": {
      "text/plain": [
       "array([[ 971, 1055],\n",
       "       [ 126,  152]])"
      ]
     },
     "metadata": {},
     "execution_count": 148
    }
   ],
   "metadata": {}
  },
  {
   "cell_type": "code",
   "execution_count": 149,
   "source": [
    "%%time\n",
    "accuracy_clf_40to50 = (confusion_matrix_40to50[0][0] + confusion_matrix_40to50[1][1]) / (confusion_matrix_40to50[0][0] + confusion_matrix_40to50[0][1] + confusion_matrix_40to50[1][0] + confusion_matrix_40to50[1][1])\n",
    "accuracy_clf_40to50 # 0.8718606782768102"
   ],
   "outputs": [
    {
     "output_type": "stream",
     "name": "stdout",
     "text": [
      "CPU times: user 113 µs, sys: 8 µs, total: 121 µs\n",
      "Wall time: 65.8 µs\n"
     ]
    },
    {
     "output_type": "execute_result",
     "data": {
      "text/plain": [
       "0.4874131944444444"
      ]
     },
     "metadata": {},
     "execution_count": 149
    }
   ],
   "metadata": {}
  },
  {
   "cell_type": "code",
   "execution_count": 150,
   "source": [
    "%%time\n",
    "# Test on g50 set\n",
    "\n",
    "clf_pred_g50 = clf.fit(x_train_unawareness, y_train).predict(x_test_g50)\n",
    "\n",
    "test_df = x_test_g50.copy()\n",
    "test_df['biY'] = y_test\n",
    "test_df['pred'] = pd.Series(clf_pred_g50, index=test_df.index)\n",
    "test_df['accurate'] = (test_df['pred'] == test_df['biY'])\n",
    "\n",
    "from sklearn.metrics import confusion_matrix\n",
    "\n",
    "confusion_matrix_g50 = confusion_matrix(test_df['biY'], test_df['pred'])\n",
    "confusion_matrix_g50"
   ],
   "outputs": [
    {
     "output_type": "stream",
     "name": "stdout",
     "text": [
      "CPU times: user 2.42 s, sys: 178 ms, total: 2.6 s\n",
      "Wall time: 2.59 s\n"
     ]
    },
    {
     "output_type": "stream",
     "name": "stderr",
     "text": [
      "/Library/Frameworks/Python.framework/Versions/3.8/lib/python3.8/site-packages/sklearn/linear_model/_logistic.py:762: ConvergenceWarning: lbfgs failed to converge (status=1):\n",
      "STOP: TOTAL NO. of ITERATIONS REACHED LIMIT.\n",
      "\n",
      "Increase the number of iterations (max_iter) or scale the data as shown in:\n",
      "    https://scikit-learn.org/stable/modules/preprocessing.html\n",
      "Please also refer to the documentation for alternative solver options:\n",
      "    https://scikit-learn.org/stable/modules/linear_model.html#logistic-regression\n",
      "  n_iter_i = _check_optimize_result(\n"
     ]
    },
    {
     "output_type": "execute_result",
     "data": {
      "text/plain": [
       "array([[782, 818],\n",
       "       [ 98, 102]])"
      ]
     },
     "metadata": {},
     "execution_count": 150
    }
   ],
   "metadata": {}
  },
  {
   "cell_type": "code",
   "execution_count": 151,
   "source": [
    "%%time\n",
    "accuracy_clf_g50 = (confusion_matrix_g50[0][0] + confusion_matrix_g50[1][1]) / (confusion_matrix_g50[0][0] + confusion_matrix_g50[0][1] + confusion_matrix_g50[1][0] + confusion_matrix_g50[1][1])\n",
    "accuracy_clf_g50 # 0.8718606782768102"
   ],
   "outputs": [
    {
     "output_type": "stream",
     "name": "stdout",
     "text": [
      "CPU times: user 128 µs, sys: 41 µs, total: 169 µs\n",
      "Wall time: 101 µs\n"
     ]
    },
    {
     "output_type": "execute_result",
     "data": {
      "text/plain": [
       "0.4911111111111111"
      ]
     },
     "metadata": {},
     "execution_count": 151
    }
   ],
   "metadata": {}
  }
 ],
 "metadata": {
  "kernelspec": {
   "name": "python3",
   "display_name": "Python 3.8.1 64-bit"
  },
  "language_info": {
   "codemirror_mode": {
    "name": "ipython",
    "version": 3
   },
   "file_extension": ".py",
   "mimetype": "text/x-python",
   "name": "python",
   "nbconvert_exporter": "python",
   "pygments_lexer": "ipython3",
   "version": "3.8.1"
  },
  "interpreter": {
   "hash": "0adcc2737ebf6a4a119f135174df96668767fca1ef1112612db5ecadf2b6d608"
  }
 },
 "nbformat": 4,
 "nbformat_minor": 4
}