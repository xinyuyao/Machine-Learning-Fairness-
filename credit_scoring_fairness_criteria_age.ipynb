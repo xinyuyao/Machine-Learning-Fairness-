{
 "cells": [
  {
   "cell_type": "markdown",
   "source": [
    "Credit Scoring Fairness Criteria"
   ],
   "metadata": {}
  },
  {
   "cell_type": "markdown",
   "source": [
    "Load the dataset"
   ],
   "metadata": {}
  },
  {
   "cell_type": "code",
   "execution_count": 1,
   "source": [
    "import pandas as pd\n",
    "import numpy as np\n",
    "import matplotlib.pyplot as plt\n",
    "import matplotlib.cm as cm"
   ],
   "outputs": [],
   "metadata": {}
  },
  {
   "cell_type": "markdown",
   "source": [
    "Load the dataset"
   ],
   "metadata": {}
  },
  {
   "cell_type": "code",
   "execution_count": 2,
   "source": [
    "import os\n",
    "BANK_PATH = os.path.join(os.getcwd(), 'ML fairness/ml bank dataset/bankfullclean.csv') # Assign this to the location of the dataset\n",
    "print(os.getcwd())\n",
    "print(BANK_PATH)\n",
    "\n",
    "# 5254 number of rows have 'biY' == 1\n",
    "# 39787 number of rows have 'biY' == 0\n"
   ],
   "outputs": [
    {
     "output_type": "stream",
     "name": "stdout",
     "text": [
      "/Users/xinyu/Desktop/Research/Machine-Learning-Fairness--main\n",
      "/Users/xinyu/Desktop/Research/Machine-Learning-Fairness--main/ML fairness/ml bank dataset/bankfullclean.csv\n"
     ]
    }
   ],
   "metadata": {}
  },
  {
   "cell_type": "code",
   "execution_count": 3,
   "source": [
    "bank = pd.read_csv(BANK_PATH)\n",
    "df = pd.DataFrame(bank)\n",
    "df.head()\n",
    "dummy = df[['catAge', 'job', 'marital','education','balance','day', 'month', 'duration', 'campaign', 'pdays', 'previous', 'Fmonth', 'biDefault', 'biHousing', 'biLoan']]\n",
    "# dummy.columns.values\n",
    "dummy = pd.get_dummies(data=dummy)\n",
    "# dummy.head()\n",
    "dummy.columns.values\n",
    "# df['marital'].unique()\n",
    "\n",
    "# df['biY'].replace({0: False, 1: True}, inplace=True)\n",
    "# print(df['biY'])\n"
   ],
   "outputs": [
    {
     "output_type": "execute_result",
     "data": {
      "text/plain": [
       "array(['balance', 'day', 'duration', 'campaign', 'pdays', 'previous',\n",
       "       'biDefault', 'biHousing', 'biLoan', 'catAge_30-40', 'catAge_40-50',\n",
       "       'catAge_<=30', 'catAge_>=50', 'job_admin.', 'job_blue-collar',\n",
       "       'job_entrepreneur', 'job_housemaid', 'job_management',\n",
       "       'job_retired', 'job_self-employed', 'job_services', 'job_student',\n",
       "       'job_technician', 'job_unemployed', 'marital_divorced',\n",
       "       'marital_married', 'marital_single', 'education_primary',\n",
       "       'education_secondary', 'education_tertiary', 'month_apr',\n",
       "       'month_aug', 'month_dec', 'month_feb', 'month_jan', 'month_jul',\n",
       "       'month_jun', 'month_mar', 'month_may', 'month_nov', 'month_oct',\n",
       "       'month_sep', 'Fmonth_apr', 'Fmonth_aug', 'Fmonth_dec',\n",
       "       'Fmonth_feb', 'Fmonth_jan', 'Fmonth_jul', 'Fmonth_jun',\n",
       "       'Fmonth_mar', 'Fmonth_may', 'Fmonth_nov', 'Fmonth_oct'],\n",
       "      dtype=object)"
      ]
     },
     "metadata": {},
     "execution_count": 3
    }
   ],
   "metadata": {}
  },
  {
   "cell_type": "markdown",
   "source": [
    "Machine Learning Classification Model"
   ],
   "metadata": {}
  },
  {
   "cell_type": "code",
   "execution_count": 4,
   "source": [
    "%%time\n",
    "from sklearn.model_selection import train_test_split\n",
    "from sklearn.model_selection import LeaveOneOut"
   ],
   "outputs": [
    {
     "output_type": "stream",
     "name": "stdout",
     "text": [
      "CPU times: user 1.31 s, sys: 335 ms, total: 1.64 s\n",
      "Wall time: 5.44 s\n"
     ]
    }
   ],
   "metadata": {}
  },
  {
   "cell_type": "code",
   "execution_count": 5,
   "source": [
    "%%time\n",
    "def get_naive_dataset(dataset):\n",
    "    dataset = dataset.sample(frac=1).reset_index(drop=True)\n",
    "    X = dummy\n",
    "    y = dataset['biY']\n",
    "    x_train, x_test, y_train, y_test = train_test_split(X, y, test_size=0.2)\n",
    "    \n",
    "    return (x_train, y_train), (x_test, y_test)"
   ],
   "outputs": [
    {
     "output_type": "stream",
     "name": "stdout",
     "text": [
      "CPU times: user 10 µs, sys: 2 µs, total: 12 µs\n",
      "Wall time: 20 µs\n"
     ]
    }
   ],
   "metadata": {}
  },
  {
   "cell_type": "code",
   "execution_count": 6,
   "source": [
    "%%time\n",
    "(x_train, y_train), (x_test, y_test) = get_naive_dataset(df)"
   ],
   "outputs": [
    {
     "output_type": "stream",
     "name": "stdout",
     "text": [
      "CPU times: user 80.3 ms, sys: 25.8 ms, total: 106 ms\n",
      "Wall time: 115 ms\n"
     ]
    }
   ],
   "metadata": {}
  },
  {
   "cell_type": "code",
   "execution_count": 7,
   "source": [
    "%%time\n",
    "x_train.columns.values"
   ],
   "outputs": [
    {
     "output_type": "stream",
     "name": "stdout",
     "text": [
      "CPU times: user 23 µs, sys: 1e+03 ns, total: 24 µs\n",
      "Wall time: 28.8 µs\n"
     ]
    },
    {
     "output_type": "execute_result",
     "data": {
      "text/plain": [
       "array(['balance', 'day', 'duration', 'campaign', 'pdays', 'previous',\n",
       "       'biDefault', 'biHousing', 'biLoan', 'catAge_30-40', 'catAge_40-50',\n",
       "       'catAge_<=30', 'catAge_>=50', 'job_admin.', 'job_blue-collar',\n",
       "       'job_entrepreneur', 'job_housemaid', 'job_management',\n",
       "       'job_retired', 'job_self-employed', 'job_services', 'job_student',\n",
       "       'job_technician', 'job_unemployed', 'marital_divorced',\n",
       "       'marital_married', 'marital_single', 'education_primary',\n",
       "       'education_secondary', 'education_tertiary', 'month_apr',\n",
       "       'month_aug', 'month_dec', 'month_feb', 'month_jan', 'month_jul',\n",
       "       'month_jun', 'month_mar', 'month_may', 'month_nov', 'month_oct',\n",
       "       'month_sep', 'Fmonth_apr', 'Fmonth_aug', 'Fmonth_dec',\n",
       "       'Fmonth_feb', 'Fmonth_jan', 'Fmonth_jul', 'Fmonth_jun',\n",
       "       'Fmonth_mar', 'Fmonth_may', 'Fmonth_nov', 'Fmonth_oct'],\n",
       "      dtype=object)"
      ]
     },
     "metadata": {},
     "execution_count": 7
    }
   ],
   "metadata": {}
  },
  {
   "cell_type": "code",
   "execution_count": 8,
   "source": [
    "%%time\n",
    "y_train.values"
   ],
   "outputs": [
    {
     "output_type": "stream",
     "name": "stdout",
     "text": [
      "CPU times: user 33 µs, sys: 1e+03 ns, total: 34 µs\n",
      "Wall time: 44.1 µs\n"
     ]
    },
    {
     "output_type": "execute_result",
     "data": {
      "text/plain": [
       "array([0, 0, 0, ..., 0, 1, 1])"
      ]
     },
     "metadata": {},
     "execution_count": 8
    }
   ],
   "metadata": {}
  },
  {
   "cell_type": "code",
   "execution_count": 9,
   "source": [
    "%%time\n",
    "x_test.columns.values"
   ],
   "outputs": [
    {
     "output_type": "stream",
     "name": "stdout",
     "text": [
      "CPU times: user 28 µs, sys: 2 µs, total: 30 µs\n",
      "Wall time: 39.1 µs\n"
     ]
    },
    {
     "output_type": "execute_result",
     "data": {
      "text/plain": [
       "array(['balance', 'day', 'duration', 'campaign', 'pdays', 'previous',\n",
       "       'biDefault', 'biHousing', 'biLoan', 'catAge_30-40', 'catAge_40-50',\n",
       "       'catAge_<=30', 'catAge_>=50', 'job_admin.', 'job_blue-collar',\n",
       "       'job_entrepreneur', 'job_housemaid', 'job_management',\n",
       "       'job_retired', 'job_self-employed', 'job_services', 'job_student',\n",
       "       'job_technician', 'job_unemployed', 'marital_divorced',\n",
       "       'marital_married', 'marital_single', 'education_primary',\n",
       "       'education_secondary', 'education_tertiary', 'month_apr',\n",
       "       'month_aug', 'month_dec', 'month_feb', 'month_jan', 'month_jul',\n",
       "       'month_jun', 'month_mar', 'month_may', 'month_nov', 'month_oct',\n",
       "       'month_sep', 'Fmonth_apr', 'Fmonth_aug', 'Fmonth_dec',\n",
       "       'Fmonth_feb', 'Fmonth_jan', 'Fmonth_jul', 'Fmonth_jun',\n",
       "       'Fmonth_mar', 'Fmonth_may', 'Fmonth_nov', 'Fmonth_oct'],\n",
       "      dtype=object)"
      ]
     },
     "metadata": {},
     "execution_count": 9
    }
   ],
   "metadata": {}
  },
  {
   "cell_type": "code",
   "execution_count": 10,
   "source": [
    "%%time\n",
    "y_test.values"
   ],
   "outputs": [
    {
     "output_type": "stream",
     "name": "stdout",
     "text": [
      "CPU times: user 20 µs, sys: 0 ns, total: 20 µs\n",
      "Wall time: 26.2 µs\n"
     ]
    },
    {
     "output_type": "execute_result",
     "data": {
      "text/plain": [
       "array([0, 0, 1, ..., 0, 0, 0])"
      ]
     },
     "metadata": {},
     "execution_count": 10
    }
   ],
   "metadata": {}
  },
  {
   "cell_type": "markdown",
   "source": [
    "Naive Bayes Model"
   ],
   "metadata": {}
  },
  {
   "cell_type": "code",
   "execution_count": 11,
   "source": [
    "%%time\n",
    "from sklearn.naive_bayes import GaussianNB\n",
    "gnb = GaussianNB()\n",
    "gnb_pred = gnb.fit(x_train, y_train).predict(x_test)"
   ],
   "outputs": [
    {
     "output_type": "stream",
     "name": "stdout",
     "text": [
      "CPU times: user 141 ms, sys: 72 ms, total: 213 ms\n",
      "Wall time: 427 ms\n"
     ]
    }
   ],
   "metadata": {}
  },
  {
   "cell_type": "markdown",
   "source": [
    "Result"
   ],
   "metadata": {}
  },
  {
   "cell_type": "code",
   "execution_count": 12,
   "source": [
    "%%time\n",
    "test_df = x_test.copy()\n",
    "test_df['biY'] = y_test\n",
    "test_df['pred'] = pd.Series(gnb_pred, index=test_df.index)\n",
    "test_df['accurate'] = (test_df['pred'] == test_df['biY'])\n",
    "test_df.columns.values"
   ],
   "outputs": [
    {
     "output_type": "stream",
     "name": "stdout",
     "text": [
      "CPU times: user 10.8 ms, sys: 4.46 ms, total: 15.2 ms\n",
      "Wall time: 14.8 ms\n"
     ]
    },
    {
     "output_type": "execute_result",
     "data": {
      "text/plain": [
       "array(['balance', 'day', 'duration', 'campaign', 'pdays', 'previous',\n",
       "       'biDefault', 'biHousing', 'biLoan', 'catAge_30-40', 'catAge_40-50',\n",
       "       'catAge_<=30', 'catAge_>=50', 'job_admin.', 'job_blue-collar',\n",
       "       'job_entrepreneur', 'job_housemaid', 'job_management',\n",
       "       'job_retired', 'job_self-employed', 'job_services', 'job_student',\n",
       "       'job_technician', 'job_unemployed', 'marital_divorced',\n",
       "       'marital_married', 'marital_single', 'education_primary',\n",
       "       'education_secondary', 'education_tertiary', 'month_apr',\n",
       "       'month_aug', 'month_dec', 'month_feb', 'month_jan', 'month_jul',\n",
       "       'month_jun', 'month_mar', 'month_may', 'month_nov', 'month_oct',\n",
       "       'month_sep', 'Fmonth_apr', 'Fmonth_aug', 'Fmonth_dec',\n",
       "       'Fmonth_feb', 'Fmonth_jan', 'Fmonth_jul', 'Fmonth_jun',\n",
       "       'Fmonth_mar', 'Fmonth_may', 'Fmonth_nov', 'Fmonth_oct', 'biY',\n",
       "       'pred', 'accurate'], dtype=object)"
      ]
     },
     "metadata": {},
     "execution_count": 12
    }
   ],
   "metadata": {}
  },
  {
   "cell_type": "code",
   "execution_count": 13,
   "source": [
    "%%time\n",
    "from sklearn.metrics import confusion_matrix"
   ],
   "outputs": [
    {
     "output_type": "stream",
     "name": "stdout",
     "text": [
      "CPU times: user 14 µs, sys: 1e+03 ns, total: 15 µs\n",
      "Wall time: 19.3 µs\n"
     ]
    }
   ],
   "metadata": {}
  },
  {
   "cell_type": "code",
   "execution_count": 14,
   "source": [
    "%%time\n",
    "confusion_matrix = confusion_matrix(test_df['biY'], test_df['pred'])\n",
    "confusion_matrix"
   ],
   "outputs": [
    {
     "output_type": "stream",
     "name": "stdout",
     "text": [
      "CPU times: user 24.1 ms, sys: 4 ms, total: 28.1 ms\n",
      "Wall time: 27.6 ms\n"
     ]
    },
    {
     "output_type": "execute_result",
     "data": {
      "text/plain": [
       "array([[7694,  233],\n",
       "       [1055,   27]])"
      ]
     },
     "metadata": {},
     "execution_count": 14
    }
   ],
   "metadata": {}
  },
  {
   "cell_type": "code",
   "execution_count": 15,
   "source": [
    "%%time\n",
    "# Accuracy\n",
    "# \"Accuracy: \", test_df.accurate.mean()\n",
    "accuracy_naive_bayes = (confusion_matrix[0][0] + confusion_matrix[1][1]) / (confusion_matrix[0][0] + confusion_matrix[0][1] + confusion_matrix[1][0] + confusion_matrix[1][1])\n",
    "accuracy_naive_bayes\n",
    "\n"
   ],
   "outputs": [
    {
     "output_type": "stream",
     "name": "stdout",
     "text": [
      "CPU times: user 115 µs, sys: 277 µs, total: 392 µs\n",
      "Wall time: 126 µs\n"
     ]
    },
    {
     "output_type": "execute_result",
     "data": {
      "text/plain": [
       "0.857031857031857"
      ]
     },
     "metadata": {},
     "execution_count": 15
    }
   ],
   "metadata": {}
  },
  {
   "cell_type": "code",
   "execution_count": 16,
   "source": [
    "%%time\n",
    "# Split dataset based on marital status\n",
    "test_df.columns.values\n",
    "test_l30 = x_test[x_test['catAge_<=30'] == 1]\n",
    "test_30to40 = x_test[x_test['catAge_30-40'] == 1]\n",
    "test_40to50 = x_test[x_test['catAge_40-50'] == 1]\n",
    "test_g50 = x_test[x_test['catAge_>=50'] == 1]"
   ],
   "outputs": [
    {
     "output_type": "stream",
     "name": "stdout",
     "text": [
      "CPU times: user 14.1 ms, sys: 4.07 ms, total: 18.2 ms\n",
      "Wall time: 17.1 ms\n"
     ]
    }
   ],
   "metadata": {}
  },
  {
   "cell_type": "code",
   "execution_count": 17,
   "source": [
    "%%time\n",
    "# Test on l30 subset\n",
    "gnb_pred_l30 = gnb.fit(x_train, y_train).predict(test_l30)\n",
    "\n",
    "test_df = test_l30.copy()\n",
    "test_df['biY'] = y_test\n",
    "test_df['pred'] = pd.Series(gnb_pred_l30, index=test_df.index)\n",
    "test_df['accurate'] = (test_df['pred'] == test_df['biY'])\n",
    "\n",
    "from sklearn.metrics import confusion_matrix\n",
    "\n",
    "confusion_matrix_l30 = confusion_matrix(test_df['biY'], test_df['pred'])\n",
    "confusion_matrix_l30\n"
   ],
   "outputs": [
    {
     "output_type": "stream",
     "name": "stdout",
     "text": [
      "CPU times: user 143 ms, sys: 32.9 ms, total: 176 ms\n",
      "Wall time: 350 ms\n"
     ]
    },
    {
     "output_type": "execute_result",
     "data": {
      "text/plain": [
       "array([[1226,   25],\n",
       "       [ 160,    5]])"
      ]
     },
     "metadata": {},
     "execution_count": 17
    }
   ],
   "metadata": {}
  },
  {
   "cell_type": "code",
   "execution_count": 18,
   "source": [
    "%%time\n",
    "accuracy_naive_bayes_l30 = (confusion_matrix_l30[0][0] + confusion_matrix_l30[1][1]) / (confusion_matrix_l30[0][0] + confusion_matrix_l30[0][1] + confusion_matrix_l30[1][0] + confusion_matrix_l30[1][1])\n",
    "accuracy_naive_bayes_l30"
   ],
   "outputs": [
    {
     "output_type": "stream",
     "name": "stdout",
     "text": [
      "CPU times: user 99 µs, sys: 2 µs, total: 101 µs\n",
      "Wall time: 114 µs\n"
     ]
    },
    {
     "output_type": "execute_result",
     "data": {
      "text/plain": [
       "0.8693502824858758"
      ]
     },
     "metadata": {},
     "execution_count": 18
    }
   ],
   "metadata": {}
  },
  {
   "cell_type": "code",
   "execution_count": 19,
   "source": [
    "%%time\n",
    "# Test on 30to40 subset\n",
    "gnb_pred_30to40 = gnb.fit(x_train, y_train).predict(test_30to40)\n",
    "\n",
    "test_df = test_30to40.copy()\n",
    "test_df['biY'] = y_test\n",
    "test_df['pred'] = pd.Series(gnb_pred_30to40, index=test_df.index)\n",
    "test_df['accurate'] = (test_df['pred'] == test_df['biY'])\n",
    "\n",
    "from sklearn.metrics import confusion_matrix\n",
    "\n",
    "confusion_matrix_30to40 = confusion_matrix(test_df['biY'], test_df['pred'])\n",
    "confusion_matrix_30to40"
   ],
   "outputs": [
    {
     "output_type": "stream",
     "name": "stdout",
     "text": [
      "CPU times: user 140 ms, sys: 17.6 ms, total: 158 ms\n",
      "Wall time: 405 ms\n"
     ]
    },
    {
     "output_type": "execute_result",
     "data": {
      "text/plain": [
       "array([[2940,   94],\n",
       "       [ 402,    8]])"
      ]
     },
     "metadata": {},
     "execution_count": 19
    }
   ],
   "metadata": {}
  },
  {
   "cell_type": "code",
   "execution_count": 20,
   "source": [
    "%%time\n",
    "accuracy_naive_bayes_30to40 = (confusion_matrix_30to40[0][0] + confusion_matrix_30to40[1][1]) / (confusion_matrix_30to40[0][0] + confusion_matrix_30to40[0][1] + confusion_matrix_30to40[1][0] + confusion_matrix_30to40[1][1])\n",
    "accuracy_naive_bayes_30to40"
   ],
   "outputs": [
    {
     "output_type": "stream",
     "name": "stdout",
     "text": [
      "CPU times: user 97 µs, sys: 2 µs, total: 99 µs\n",
      "Wall time: 111 µs\n"
     ]
    },
    {
     "output_type": "execute_result",
     "data": {
      "text/plain": [
       "0.8559814169570267"
      ]
     },
     "metadata": {},
     "execution_count": 20
    }
   ],
   "metadata": {}
  },
  {
   "cell_type": "code",
   "execution_count": 21,
   "source": [
    "%%time\n",
    "# Test on 40to50 subset\n",
    "gnb_pred_40to50 = gnb.fit(x_train, y_train).predict(test_40to50)\n",
    "\n",
    "test_df = test_40to50.copy()\n",
    "test_df['biY'] = y_test\n",
    "test_df['pred'] = pd.Series(gnb_pred_40to50, index=test_df.index)\n",
    "test_df['accurate'] = (test_df['pred'] == test_df['biY'])\n",
    "\n",
    "from sklearn.metrics import confusion_matrix\n",
    "\n",
    "confusion_matrix_40to50 = confusion_matrix(test_df['biY'], test_df['pred'])\n",
    "confusion_matrix_40to50"
   ],
   "outputs": [
    {
     "output_type": "stream",
     "name": "stdout",
     "text": [
      "CPU times: user 121 ms, sys: 15.4 ms, total: 137 ms\n",
      "Wall time: 166 ms\n"
     ]
    },
    {
     "output_type": "execute_result",
     "data": {
      "text/plain": [
       "array([[1947,   49],\n",
       "       [ 270,    8]])"
      ]
     },
     "metadata": {},
     "execution_count": 21
    }
   ],
   "metadata": {}
  },
  {
   "cell_type": "code",
   "execution_count": 22,
   "source": [
    "%%time\n",
    "accuracy_naive_bayes_40to50 = (confusion_matrix_40to50[0][0] + confusion_matrix_40to50[1][1]) / (confusion_matrix_40to50[0][0] + confusion_matrix_40to50[0][1] + confusion_matrix_40to50[1][0] + confusion_matrix_40to50[1][1])\n",
    "accuracy_naive_bayes_40to50 # 0.8718606782768102"
   ],
   "outputs": [
    {
     "output_type": "stream",
     "name": "stdout",
     "text": [
      "CPU times: user 91 µs, sys: 2 µs, total: 93 µs\n",
      "Wall time: 103 µs\n"
     ]
    },
    {
     "output_type": "execute_result",
     "data": {
      "text/plain": [
       "0.8597185576077396"
      ]
     },
     "metadata": {},
     "execution_count": 22
    }
   ],
   "metadata": {}
  },
  {
   "cell_type": "code",
   "execution_count": 23,
   "source": [
    "%%time\n",
    "# Test on g50 subset\n",
    "\n",
    "gnb_pred_g50 = gnb.fit(x_train, y_train).predict(test_g50)\n",
    "\n",
    "test_df = test_g50.copy()\n",
    "test_df['biY'] = y_test\n",
    "test_df['pred'] = pd.Series(gnb_pred_g50, index=test_df.index)\n",
    "test_df['accurate'] = (test_df['pred'] == test_df['biY'])\n",
    "\n",
    "from sklearn.metrics import confusion_matrix\n",
    "\n",
    "confusion_matrix_g50 = confusion_matrix(test_df['biY'], test_df['pred'])\n",
    "confusion_matrix_g50"
   ],
   "outputs": [
    {
     "output_type": "stream",
     "name": "stdout",
     "text": [
      "CPU times: user 126 ms, sys: 17.7 ms, total: 143 ms\n",
      "Wall time: 250 ms\n"
     ]
    },
    {
     "output_type": "execute_result",
     "data": {
      "text/plain": [
       "array([[1581,   65],\n",
       "       [ 223,    6]])"
      ]
     },
     "metadata": {},
     "execution_count": 23
    }
   ],
   "metadata": {}
  },
  {
   "cell_type": "code",
   "execution_count": 24,
   "source": [
    "%%time\n",
    "accuracy_naive_bayes_g50 = (confusion_matrix_g50[0][0] + confusion_matrix_g50[1][1]) / (confusion_matrix_g50[0][0] + confusion_matrix_g50[0][1] + confusion_matrix_g50[1][0] + confusion_matrix_g50[1][1])\n",
    "accuracy_naive_bayes_g50 # 0.8718606782768102"
   ],
   "outputs": [
    {
     "output_type": "stream",
     "name": "stdout",
     "text": [
      "CPU times: user 77 µs, sys: 1 µs, total: 78 µs\n",
      "Wall time: 88.2 µs\n"
     ]
    },
    {
     "output_type": "execute_result",
     "data": {
      "text/plain": [
       "0.8464"
      ]
     },
     "metadata": {},
     "execution_count": 24
    }
   ],
   "metadata": {}
  },
  {
   "cell_type": "code",
   "execution_count": 25,
   "source": [
    "%%time\n",
    "#Demographic Parity\n",
    "# positive rate = TP + TN\n",
    "PR_Naive_Bayes_l30 = confusion_matrix_l30[0,0] +confusion_matrix_l30[1,1]\n",
    "\n",
    "PR_Naive_Bayes_l30 \n"
   ],
   "outputs": [
    {
     "output_type": "stream",
     "name": "stdout",
     "text": [
      "CPU times: user 73 µs, sys: 2 µs, total: 75 µs\n",
      "Wall time: 83.9 µs\n"
     ]
    },
    {
     "output_type": "execute_result",
     "data": {
      "text/plain": [
       "1231"
      ]
     },
     "metadata": {},
     "execution_count": 25
    }
   ],
   "metadata": {}
  },
  {
   "cell_type": "code",
   "execution_count": 26,
   "source": [
    "%%time\n",
    "PR_Naive_Bayes_30to40 = confusion_matrix_30to40[0,0] +confusion_matrix_30to40[1,1]\n",
    "PR_Naive_Bayes_30to40"
   ],
   "outputs": [
    {
     "output_type": "stream",
     "name": "stdout",
     "text": [
      "CPU times: user 55 µs, sys: 2 µs, total: 57 µs\n",
      "Wall time: 65.1 µs\n"
     ]
    },
    {
     "output_type": "execute_result",
     "data": {
      "text/plain": [
       "2948"
      ]
     },
     "metadata": {},
     "execution_count": 26
    }
   ],
   "metadata": {}
  },
  {
   "cell_type": "code",
   "execution_count": 27,
   "source": [
    "%%time\n",
    "PR_Naive_Bayes_40to50 = confusion_matrix_40to50[0,0] +confusion_matrix_40to50[1,1]\n",
    "PR_Naive_Bayes_40to50 "
   ],
   "outputs": [
    {
     "output_type": "stream",
     "name": "stdout",
     "text": [
      "CPU times: user 75 µs, sys: 2 µs, total: 77 µs\n",
      "Wall time: 86.8 µs\n"
     ]
    },
    {
     "output_type": "execute_result",
     "data": {
      "text/plain": [
       "1955"
      ]
     },
     "metadata": {},
     "execution_count": 27
    }
   ],
   "metadata": {}
  },
  {
   "cell_type": "code",
   "execution_count": 28,
   "source": [
    "%%time\n",
    "PR_Naive_Bayes_g50 = confusion_matrix_g50[0,0] +confusion_matrix_g50[1,1]\n",
    "PR_Naive_Bayes_g50 "
   ],
   "outputs": [
    {
     "output_type": "stream",
     "name": "stdout",
     "text": [
      "CPU times: user 47 µs, sys: 1e+03 ns, total: 48 µs\n",
      "Wall time: 54.8 µs\n"
     ]
    },
    {
     "output_type": "execute_result",
     "data": {
      "text/plain": [
       "1587"
      ]
     },
     "metadata": {},
     "execution_count": 28
    }
   ],
   "metadata": {}
  },
  {
   "cell_type": "code",
   "execution_count": 29,
   "source": [
    "%%time\n",
    "# Equalized Opportunity\n",
    "#TPR = TP/TP+FN\n",
    "\n",
    "TPR_Naive_Bayes_l30 = confusion_matrix_l30[0,0] / (confusion_matrix_l30[0,0] + confusion_matrix_l30[1,0])\n",
    "\n",
    "TPR_Naive_Bayes_l30\n"
   ],
   "outputs": [
    {
     "output_type": "stream",
     "name": "stdout",
     "text": [
      "CPU times: user 74 µs, sys: 2 µs, total: 76 µs\n",
      "Wall time: 87 µs\n"
     ]
    },
    {
     "output_type": "execute_result",
     "data": {
      "text/plain": [
       "0.8845598845598845"
      ]
     },
     "metadata": {},
     "execution_count": 29
    }
   ],
   "metadata": {}
  },
  {
   "cell_type": "code",
   "execution_count": 30,
   "source": [
    "%%time\n",
    "TPR_Naive_Bayes_30to40 = confusion_matrix_30to40[0,0] / (confusion_matrix_30to40[0,0] + confusion_matrix_30to40[1,0])\n",
    "\n",
    "TPR_Naive_Bayes_30to40"
   ],
   "outputs": [
    {
     "output_type": "stream",
     "name": "stdout",
     "text": [
      "CPU times: user 73 µs, sys: 1e+03 ns, total: 74 µs\n",
      "Wall time: 85.1 µs\n"
     ]
    },
    {
     "output_type": "execute_result",
     "data": {
      "text/plain": [
       "0.8797127468581688"
      ]
     },
     "metadata": {},
     "execution_count": 30
    }
   ],
   "metadata": {}
  },
  {
   "cell_type": "code",
   "execution_count": 31,
   "source": [
    "%%time\n",
    "TPR_Naive_Bayes_40to50 = confusion_matrix_40to50[0,0] / (confusion_matrix_40to50[0,0] + confusion_matrix_40to50[1,0])\n",
    "\n",
    "TPR_Naive_Bayes_40to50 "
   ],
   "outputs": [
    {
     "output_type": "stream",
     "name": "stdout",
     "text": [
      "CPU times: user 88 µs, sys: 10 µs, total: 98 µs\n",
      "Wall time: 139 µs\n"
     ]
    },
    {
     "output_type": "execute_result",
     "data": {
      "text/plain": [
       "0.878213802435724"
      ]
     },
     "metadata": {},
     "execution_count": 31
    }
   ],
   "metadata": {}
  },
  {
   "cell_type": "code",
   "execution_count": 32,
   "source": [
    "%%time\n",
    "TPR_Naive_Bayes_g50 = confusion_matrix_g50[0,0] / (confusion_matrix_g50[0,0] + confusion_matrix_g50[1,0])\n",
    "\n",
    "TPR_Naive_Bayes_g50 # 0.8925619834710744"
   ],
   "outputs": [
    {
     "output_type": "stream",
     "name": "stdout",
     "text": [
      "CPU times: user 142 µs, sys: 11 µs, total: 153 µs\n",
      "Wall time: 845 µs\n"
     ]
    },
    {
     "output_type": "execute_result",
     "data": {
      "text/plain": [
       "0.8763858093126385"
      ]
     },
     "metadata": {},
     "execution_count": 32
    }
   ],
   "metadata": {}
  },
  {
   "cell_type": "code",
   "execution_count": 33,
   "source": [
    "%%time\n",
    "# Equalized Odds\n",
    "#TPR = TP/TP+FN\n",
    "#FNR = FN/FN+TP\n",
    "\n",
    "\n",
    "FNR_Naive_Bayes_l30 = confusion_matrix_l30[1,0] / (confusion_matrix_l30[1,0] + confusion_matrix_l30[0,0])\n",
    "\n",
    "FNR_Naive_Bayes_l30\n",
    "\n"
   ],
   "outputs": [
    {
     "output_type": "stream",
     "name": "stdout",
     "text": [
      "CPU times: user 79 µs, sys: 3 µs, total: 82 µs\n",
      "Wall time: 93 µs\n"
     ]
    },
    {
     "output_type": "execute_result",
     "data": {
      "text/plain": [
       "0.11544011544011544"
      ]
     },
     "metadata": {},
     "execution_count": 33
    }
   ],
   "metadata": {}
  },
  {
   "cell_type": "code",
   "execution_count": 34,
   "source": [
    "%%time\n",
    "FNR_Naive_Bayes_30to40 = confusion_matrix_30to40[1,0] / (confusion_matrix_30to40[1,0] + confusion_matrix_30to40[0,0])\n",
    "\n",
    "FNR_Naive_Bayes_30to40"
   ],
   "outputs": [
    {
     "output_type": "stream",
     "name": "stdout",
     "text": [
      "CPU times: user 47 µs, sys: 1 µs, total: 48 µs\n",
      "Wall time: 55.1 µs\n"
     ]
    },
    {
     "output_type": "execute_result",
     "data": {
      "text/plain": [
       "0.12028725314183124"
      ]
     },
     "metadata": {},
     "execution_count": 34
    }
   ],
   "metadata": {}
  },
  {
   "cell_type": "code",
   "execution_count": 35,
   "source": [
    "%%time\n",
    "FNR_Naive_Bayes_40to50 = confusion_matrix_40to50[1,0] / (confusion_matrix_40to50[1,0] + confusion_matrix_40to50[0,0])\n",
    "\n",
    "FNR_Naive_Bayes_40to50"
   ],
   "outputs": [
    {
     "output_type": "stream",
     "name": "stdout",
     "text": [
      "CPU times: user 124 µs, sys: 15 µs, total: 139 µs\n",
      "Wall time: 1.1 ms\n"
     ]
    },
    {
     "output_type": "execute_result",
     "data": {
      "text/plain": [
       "0.12178619756427606"
      ]
     },
     "metadata": {},
     "execution_count": 35
    }
   ],
   "metadata": {}
  },
  {
   "cell_type": "code",
   "execution_count": 36,
   "source": [
    "%%time\n",
    "FNR_Naive_Bayes_g50 = confusion_matrix_g50[1,0] / (confusion_matrix_g50[1,0] + confusion_matrix_g50[0,0])\n",
    "\n",
    "FNR_Naive_Bayes_g50"
   ],
   "outputs": [
    {
     "output_type": "stream",
     "name": "stdout",
     "text": [
      "CPU times: user 80 µs, sys: 2 µs, total: 82 µs\n",
      "Wall time: 94.9 µs\n"
     ]
    },
    {
     "output_type": "execute_result",
     "data": {
      "text/plain": [
       "0.12361419068736142"
      ]
     },
     "metadata": {},
     "execution_count": 36
    }
   ],
   "metadata": {}
  },
  {
   "cell_type": "code",
   "execution_count": 37,
   "source": [
    "%%time\n",
    "# Fairness Through Unwareness\n",
    "\n",
    "x_train_unawareness = x_train.copy()\n",
    "x_train_unawareness\n",
    "x_train_unawareness.drop('catAge_<=30', inplace=True, axis=1)\n",
    "x_train_unawareness.drop('catAge_30-40', inplace=True, axis=1)\n",
    "x_train_unawareness.drop('catAge_40-50', inplace=True, axis=1)\n",
    "x_train_unawareness.drop('catAge_>=50', inplace=True, axis=1)\n",
    "\n",
    "# x_train_unawareness.columns.values\n",
    "# x_train.columns.values\n",
    "\n",
    "\n",
    "\n",
    "\n"
   ],
   "outputs": [
    {
     "output_type": "stream",
     "name": "stdout",
     "text": [
      "CPU times: user 27.6 ms, sys: 11.5 ms, total: 39.1 ms\n",
      "Wall time: 40.3 ms\n"
     ]
    }
   ],
   "metadata": {}
  },
  {
   "cell_type": "code",
   "execution_count": 38,
   "source": [
    "%%time\n",
    "#Fairness through unawareness\n",
    "\n",
    "x_test_unawareness = x_test.copy()\n",
    "x_test_unawareness\n",
    "x_test_l30 = x_test_unawareness[x_test_unawareness['catAge_<=30'] == 1]\n",
    "x_test_30to40 = x_test_unawareness[x_test_unawareness['catAge_30-40'] == 1]\n",
    "x_test_40to50 = x_test_unawareness[x_test_unawareness['catAge_40-50'] == 1]\n",
    "x_test_g50 = x_test_unawareness[x_test_unawareness['catAge_>=50'] == 1]\n",
    "\n",
    "\n",
    "x_test_l30.drop('catAge_<=30', inplace=True, axis=1)\n",
    "x_test_l30.drop('catAge_30-40', inplace=True, axis=1)\n",
    "x_test_l30.drop('catAge_40-50', inplace=True, axis=1)\n",
    "x_test_l30.drop('catAge_>=50', inplace=True, axis=1)\n",
    "\n",
    "x_test_30to40.drop('catAge_<=30', inplace=True, axis=1)\n",
    "x_test_30to40.drop('catAge_30-40', inplace=True, axis=1)\n",
    "x_test_30to40.drop('catAge_40-50', inplace=True, axis=1)\n",
    "x_test_30to40.drop('catAge_>=50', inplace=True, axis=1)\n",
    "\n",
    "x_test_40to50.drop('catAge_<=30', inplace=True, axis=1)\n",
    "x_test_40to50.drop('catAge_30-40', inplace=True, axis=1)\n",
    "x_test_40to50.drop('catAge_40-50', inplace=True, axis=1)\n",
    "x_test_40to50.drop('catAge_>=50', inplace=True, axis=1)\n",
    "\n",
    "x_test_g50.drop('catAge_<=30', inplace=True, axis=1)\n",
    "x_test_g50.drop('catAge_30-40', inplace=True, axis=1)\n",
    "x_test_g50.drop('catAge_40-50', inplace=True, axis=1)\n",
    "x_test_g50.drop('catAge_>=50', inplace=True, axis=1)\n",
    "\n",
    "\n",
    "\n",
    "\n",
    "# x_test_unawareness.columns.values\n",
    "# x_test.columns.values\n",
    "# test_married"
   ],
   "outputs": [
    {
     "output_type": "stream",
     "name": "stdout",
     "text": [
      "CPU times: user 70.4 ms, sys: 12.8 ms, total: 83.1 ms\n",
      "Wall time: 182 ms\n"
     ]
    },
    {
     "output_type": "stream",
     "name": "stderr",
     "text": [
      "/Library/Frameworks/Python.framework/Versions/3.8/lib/python3.8/site-packages/pandas/core/frame.py:4163: SettingWithCopyWarning: \n",
      "A value is trying to be set on a copy of a slice from a DataFrame\n",
      "\n",
      "See the caveats in the documentation: https://pandas.pydata.org/pandas-docs/stable/user_guide/indexing.html#returning-a-view-versus-a-copy\n",
      "  return super().drop(\n"
     ]
    }
   ],
   "metadata": {}
  },
  {
   "cell_type": "code",
   "execution_count": 39,
   "source": [
    "%%time\n",
    "# Test on l30 set\n",
    "\n",
    "gnb_pred_l30 = gnb.fit(x_train_unawareness, y_train).predict(x_test_l30)\n",
    "\n",
    "test_df = x_test_l30.copy()\n",
    "test_df['biY'] = y_test\n",
    "test_df['pred'] = pd.Series(gnb_pred_l30, index=test_df.index)\n",
    "test_df['accurate'] = (test_df['pred'] == test_df['biY'])\n",
    "\n",
    "from sklearn.metrics import confusion_matrix\n",
    "\n",
    "confusion_matrix_l30 = confusion_matrix(test_df['biY'], test_df['pred'])\n",
    "confusion_matrix_l30\n",
    "\n"
   ],
   "outputs": [
    {
     "output_type": "stream",
     "name": "stdout",
     "text": [
      "CPU times: user 136 ms, sys: 44.1 ms, total: 180 ms\n",
      "Wall time: 481 ms\n"
     ]
    },
    {
     "output_type": "execute_result",
     "data": {
      "text/plain": [
       "array([[1225,   26],\n",
       "       [ 160,    5]])"
      ]
     },
     "metadata": {},
     "execution_count": 39
    }
   ],
   "metadata": {}
  },
  {
   "cell_type": "code",
   "execution_count": 40,
   "source": [
    "%%time\n",
    "accuracy_naive_bayes_l30 = (confusion_matrix_l30[0][0] + confusion_matrix_l30[1][1]) / (confusion_matrix_l30[0][0] + confusion_matrix_l30[0][1] + confusion_matrix_l30[1][0] + confusion_matrix_l30[1][1])\n",
    "accuracy_naive_bayes_l30 "
   ],
   "outputs": [
    {
     "output_type": "stream",
     "name": "stdout",
     "text": [
      "CPU times: user 125 µs, sys: 13 µs, total: 138 µs\n",
      "Wall time: 175 µs\n"
     ]
    },
    {
     "output_type": "execute_result",
     "data": {
      "text/plain": [
       "0.8686440677966102"
      ]
     },
     "metadata": {},
     "execution_count": 40
    }
   ],
   "metadata": {}
  },
  {
   "cell_type": "code",
   "execution_count": 41,
   "source": [
    "%%time\n",
    "# Test on 30to40 set\n",
    "\n",
    "gnb_pred_30to40 = gnb.fit(x_train_unawareness, y_train).predict(x_test_30to40)\n",
    "\n",
    "test_df = x_test_30to40.copy()\n",
    "test_df['biY'] = y_test\n",
    "test_df['pred'] = pd.Series(gnb_pred_30to40, index=test_df.index)\n",
    "test_df['accurate'] = (test_df['pred'] == test_df['biY'])\n",
    "\n",
    "from sklearn.metrics import confusion_matrix\n",
    "\n",
    "confusion_matrix_30to40 = confusion_matrix(test_df['biY'], test_df['pred'])\n",
    "confusion_matrix_30to40\n",
    "\n"
   ],
   "outputs": [
    {
     "output_type": "stream",
     "name": "stdout",
     "text": [
      "CPU times: user 137 ms, sys: 14.4 ms, total: 151 ms\n",
      "Wall time: 247 ms\n"
     ]
    },
    {
     "output_type": "execute_result",
     "data": {
      "text/plain": [
       "array([[2940,   94],\n",
       "       [ 402,    8]])"
      ]
     },
     "metadata": {},
     "execution_count": 41
    }
   ],
   "metadata": {}
  },
  {
   "cell_type": "code",
   "execution_count": 42,
   "source": [
    "%%time\n",
    "accuracy_naive_bayes_30to40 = (confusion_matrix_30to40[0][0] + confusion_matrix_30to40[1][1]) / (confusion_matrix_30to40[0][0] + confusion_matrix_30to40[0][1] + confusion_matrix_30to40[1][0] + confusion_matrix_30to40[1][1])\n",
    "accuracy_naive_bayes_30to40 "
   ],
   "outputs": [
    {
     "output_type": "stream",
     "name": "stdout",
     "text": [
      "CPU times: user 576 µs, sys: 379 µs, total: 955 µs\n",
      "Wall time: 694 µs\n"
     ]
    },
    {
     "output_type": "execute_result",
     "data": {
      "text/plain": [
       "0.8559814169570267"
      ]
     },
     "metadata": {},
     "execution_count": 42
    }
   ],
   "metadata": {}
  },
  {
   "cell_type": "code",
   "execution_count": 43,
   "source": [
    "%%time\n",
    "# Test on 40to50 set\n",
    "\n",
    "gnb_pred_40to50 = gnb.fit(x_train_unawareness, y_train).predict(x_test_40to50)\n",
    "\n",
    "test_df = x_test_40to50.copy()\n",
    "test_df['biY'] = y_test\n",
    "test_df['pred'] = pd.Series(gnb_pred_40to50, index=test_df.index)\n",
    "test_df['accurate'] = (test_df['pred'] == test_df['biY'])\n",
    "\n",
    "from sklearn.metrics import confusion_matrix\n",
    "\n",
    "confusion_matrix_40to50 = confusion_matrix(test_df['biY'], test_df['pred'])\n",
    "confusion_matrix_40to50"
   ],
   "outputs": [
    {
     "output_type": "stream",
     "name": "stdout",
     "text": [
      "CPU times: user 113 ms, sys: 14.2 ms, total: 128 ms\n",
      "Wall time: 197 ms\n"
     ]
    },
    {
     "output_type": "execute_result",
     "data": {
      "text/plain": [
       "array([[1947,   49],\n",
       "       [ 270,    8]])"
      ]
     },
     "metadata": {},
     "execution_count": 43
    }
   ],
   "metadata": {}
  },
  {
   "cell_type": "code",
   "execution_count": 44,
   "source": [
    "%%time\n",
    "accuracy_naive_bayes_40to50 = (confusion_matrix_40to50[0][0] + confusion_matrix_40to50[1][1]) / (confusion_matrix_40to50[0][0] + confusion_matrix_40to50[0][1] + confusion_matrix_40to50[1][0] + confusion_matrix_40to50[1][1])\n",
    "accuracy_naive_bayes_40to50 # 0.8718606782768102"
   ],
   "outputs": [
    {
     "output_type": "stream",
     "name": "stdout",
     "text": [
      "CPU times: user 88 µs, sys: 2 µs, total: 90 µs\n",
      "Wall time: 99.2 µs\n"
     ]
    },
    {
     "output_type": "execute_result",
     "data": {
      "text/plain": [
       "0.8597185576077396"
      ]
     },
     "metadata": {},
     "execution_count": 44
    }
   ],
   "metadata": {}
  },
  {
   "cell_type": "code",
   "execution_count": 45,
   "source": [
    "%%time\n",
    "# Test on g50 set\n",
    "\n",
    "gnb_pred_g50 = gnb.fit(x_train_unawareness, y_train).predict(x_test_g50)\n",
    "\n",
    "test_df = x_test_g50.copy()\n",
    "test_df['biY'] = y_test\n",
    "test_df['pred'] = pd.Series(gnb_pred_g50, index=test_df.index)\n",
    "test_df['accurate'] = (test_df['pred'] == test_df['biY'])\n",
    "\n",
    "from sklearn.metrics import confusion_matrix\n",
    "\n",
    "confusion_matrix_g50 = confusion_matrix(test_df['biY'], test_df['pred'])\n",
    "confusion_matrix_g50"
   ],
   "outputs": [
    {
     "output_type": "stream",
     "name": "stdout",
     "text": [
      "CPU times: user 115 ms, sys: 12.7 ms, total: 128 ms\n",
      "Wall time: 226 ms\n"
     ]
    },
    {
     "output_type": "execute_result",
     "data": {
      "text/plain": [
       "array([[1581,   65],\n",
       "       [ 223,    6]])"
      ]
     },
     "metadata": {},
     "execution_count": 45
    }
   ],
   "metadata": {}
  },
  {
   "cell_type": "code",
   "execution_count": 46,
   "source": [
    "%%time\n",
    "accuracy_naive_bayes_g50 = (confusion_matrix_g50[0][0] + confusion_matrix_g50[1][1]) / (confusion_matrix_g50[0][0] + confusion_matrix_g50[0][1] + confusion_matrix_g50[1][0] + confusion_matrix_g50[1][1])\n",
    "accuracy_naive_bayes_g50 # 0.8718606782768102"
   ],
   "outputs": [
    {
     "output_type": "stream",
     "name": "stdout",
     "text": [
      "CPU times: user 70 µs, sys: 1e+03 ns, total: 71 µs\n",
      "Wall time: 79.2 µs\n"
     ]
    },
    {
     "output_type": "execute_result",
     "data": {
      "text/plain": [
       "0.8464"
      ]
     },
     "metadata": {},
     "execution_count": 46
    }
   ],
   "metadata": {}
  },
  {
   "cell_type": "markdown",
   "source": [
    "Random Forest Model"
   ],
   "metadata": {}
  },
  {
   "cell_type": "code",
   "execution_count": 47,
   "source": [
    "%%time\n",
    "from sklearn.ensemble import RandomForestClassifier\n",
    "rf = RandomForestClassifier(max_depth=5, random_state=0, class_weight='balanced')\n",
    "rf_pred = rf.fit(x_train, y_train).predict(x_test)"
   ],
   "outputs": [
    {
     "output_type": "stream",
     "name": "stdout",
     "text": [
      "CPU times: user 4.72 s, sys: 86.6 ms, total: 4.81 s\n",
      "Wall time: 6.74 s\n"
     ]
    }
   ],
   "metadata": {}
  },
  {
   "cell_type": "code",
   "execution_count": 48,
   "source": [
    "%%time\n",
    "test_df = x_test.copy()\n",
    "test_df['biY'] = y_test\n",
    "test_df['pred'] = pd.Series(rf_pred, index=test_df.index)\n",
    "test_df['accurate'] = (test_df['pred'] == test_df['biY'])\n",
    "test_df.columns.values"
   ],
   "outputs": [
    {
     "output_type": "stream",
     "name": "stdout",
     "text": [
      "CPU times: user 6.93 ms, sys: 2.63 ms, total: 9.57 ms\n",
      "Wall time: 9.34 ms\n"
     ]
    },
    {
     "output_type": "execute_result",
     "data": {
      "text/plain": [
       "array(['balance', 'day', 'duration', 'campaign', 'pdays', 'previous',\n",
       "       'biDefault', 'biHousing', 'biLoan', 'catAge_30-40', 'catAge_40-50',\n",
       "       'catAge_<=30', 'catAge_>=50', 'job_admin.', 'job_blue-collar',\n",
       "       'job_entrepreneur', 'job_housemaid', 'job_management',\n",
       "       'job_retired', 'job_self-employed', 'job_services', 'job_student',\n",
       "       'job_technician', 'job_unemployed', 'marital_divorced',\n",
       "       'marital_married', 'marital_single', 'education_primary',\n",
       "       'education_secondary', 'education_tertiary', 'month_apr',\n",
       "       'month_aug', 'month_dec', 'month_feb', 'month_jan', 'month_jul',\n",
       "       'month_jun', 'month_mar', 'month_may', 'month_nov', 'month_oct',\n",
       "       'month_sep', 'Fmonth_apr', 'Fmonth_aug', 'Fmonth_dec',\n",
       "       'Fmonth_feb', 'Fmonth_jan', 'Fmonth_jul', 'Fmonth_jun',\n",
       "       'Fmonth_mar', 'Fmonth_may', 'Fmonth_nov', 'Fmonth_oct', 'biY',\n",
       "       'pred', 'accurate'], dtype=object)"
      ]
     },
     "metadata": {},
     "execution_count": 48
    }
   ],
   "metadata": {}
  },
  {
   "cell_type": "code",
   "execution_count": 49,
   "source": [
    "%%time\n",
    "from sklearn.metrics import confusion_matrix\n",
    "confusion_matrix = confusion_matrix(test_df['biY'], test_df['pred'])\n",
    "confusion_matrix"
   ],
   "outputs": [
    {
     "output_type": "stream",
     "name": "stdout",
     "text": [
      "CPU times: user 30.5 ms, sys: 3.15 ms, total: 33.7 ms\n",
      "Wall time: 134 ms\n"
     ]
    },
    {
     "output_type": "execute_result",
     "data": {
      "text/plain": [
       "array([[5006, 2921],\n",
       "       [ 700,  382]])"
      ]
     },
     "metadata": {},
     "execution_count": 49
    }
   ],
   "metadata": {}
  },
  {
   "cell_type": "code",
   "execution_count": 50,
   "source": [
    "%%time\n",
    "# Accuracy\n",
    "# \"Accuracy: \", test_df.accurate.mean()\n",
    "\n",
    "accuracy_rf = (confusion_matrix[0][0] + confusion_matrix[1][1]) / (confusion_matrix[0][0] + confusion_matrix[0][1] + confusion_matrix[1][0] + confusion_matrix[1][1])\n",
    "accuracy_rf\n"
   ],
   "outputs": [
    {
     "output_type": "stream",
     "name": "stdout",
     "text": [
      "CPU times: user 94 µs, sys: 2 µs, total: 96 µs\n",
      "Wall time: 106 µs\n"
     ]
    },
    {
     "output_type": "execute_result",
     "data": {
      "text/plain": [
       "0.598068598068598"
      ]
     },
     "metadata": {},
     "execution_count": 50
    }
   ],
   "metadata": {}
  },
  {
   "cell_type": "code",
   "execution_count": 51,
   "source": [
    "%%time\n",
    "# Split dataset based on marital status\n",
    "\n",
    "test_df.columns.values\n",
    "test_l30 = x_test[x_test['catAge_<=30'] == 1]\n",
    "test_30to40 = x_test[x_test['catAge_30-40'] == 1]\n",
    "test_40to50 = x_test[x_test['catAge_40-50'] == 1]\n",
    "test_g50 = x_test[x_test['catAge_>=50'] == 1]"
   ],
   "outputs": [
    {
     "output_type": "stream",
     "name": "stdout",
     "text": [
      "CPU times: user 15 ms, sys: 3.74 ms, total: 18.7 ms\n",
      "Wall time: 18.7 ms\n"
     ]
    }
   ],
   "metadata": {}
  },
  {
   "cell_type": "code",
   "execution_count": 52,
   "source": [
    "%%time\n",
    "# Test on single subset\n",
    "\n",
    "rf_pred_l30 = rf.fit(x_train, y_train).predict(test_l30)\n",
    "\n",
    "test_df = test_l30.copy()\n",
    "test_df['biY'] = y_test\n",
    "test_df['pred'] = pd.Series(rf_pred_l30, index=test_df.index)\n",
    "test_df['accurate'] = (test_df['pred'] == test_df['biY'])\n",
    "\n",
    "from sklearn.metrics import confusion_matrix\n",
    "\n",
    "confusion_matrix_l30 = confusion_matrix(test_df['biY'], test_df['pred'])\n",
    "confusion_matrix_l30"
   ],
   "outputs": [
    {
     "output_type": "stream",
     "name": "stdout",
     "text": [
      "CPU times: user 4.61 s, sys: 93.2 ms, total: 4.7 s\n",
      "Wall time: 9.73 s\n"
     ]
    },
    {
     "output_type": "execute_result",
     "data": {
      "text/plain": [
       "array([[951, 300],\n",
       "       [122,  43]])"
      ]
     },
     "metadata": {},
     "execution_count": 52
    }
   ],
   "metadata": {}
  },
  {
   "cell_type": "code",
   "execution_count": 53,
   "source": [
    "%%time\n",
    "accuracy_rf_l30 = (confusion_matrix_l30[0][0] + confusion_matrix_l30[1][1]) / (confusion_matrix_l30[0][0] + confusion_matrix_l30[0][1] + confusion_matrix_l30[1][0] + confusion_matrix_l30[1][1])\n",
    "accuracy_rf_l30"
   ],
   "outputs": [
    {
     "output_type": "stream",
     "name": "stdout",
     "text": [
      "CPU times: user 82 µs, sys: 1 µs, total: 83 µs\n",
      "Wall time: 92 µs\n"
     ]
    },
    {
     "output_type": "execute_result",
     "data": {
      "text/plain": [
       "0.7019774011299436"
      ]
     },
     "metadata": {},
     "execution_count": 53
    }
   ],
   "metadata": {}
  },
  {
   "cell_type": "code",
   "execution_count": 54,
   "source": [
    "%%time\n",
    "# Test on 30to40 subset\n",
    "\n",
    "rf_pred_30to40 = rf.fit(x_train, y_train).predict(test_30to40)\n",
    "\n",
    "test_df = test_30to40.copy()\n",
    "test_df['biY'] = y_test\n",
    "test_df['pred'] = pd.Series(rf_pred_30to40, index=test_df.index)\n",
    "test_df['accurate'] = (test_df['pred'] == test_df['biY'])\n",
    "\n",
    "from sklearn.metrics import confusion_matrix\n",
    "\n",
    "confusion_matrix_30to40 = confusion_matrix(test_df['biY'], test_df['pred'])\n",
    "confusion_matrix_30to40"
   ],
   "outputs": [
    {
     "output_type": "stream",
     "name": "stdout",
     "text": [
      "CPU times: user 4.48 s, sys: 58.5 ms, total: 4.54 s\n",
      "Wall time: 6.26 s\n"
     ]
    },
    {
     "output_type": "execute_result",
     "data": {
      "text/plain": [
       "array([[1932, 1102],\n",
       "       [ 261,  149]])"
      ]
     },
     "metadata": {},
     "execution_count": 54
    }
   ],
   "metadata": {}
  },
  {
   "cell_type": "code",
   "execution_count": 55,
   "source": [
    "%%time\n",
    "accuracy_rf_30to40 = (confusion_matrix_30to40[0][0] + confusion_matrix_30to40[1][1]) / (confusion_matrix_30to40[0][0] + confusion_matrix_30to40[0][1] + confusion_matrix_30to40[1][0] + confusion_matrix_30to40[1][1])\n",
    "accuracy_rf_30to40"
   ],
   "outputs": [
    {
     "output_type": "stream",
     "name": "stdout",
     "text": [
      "CPU times: user 81 µs, sys: 2 µs, total: 83 µs\n",
      "Wall time: 93.2 µs\n"
     ]
    },
    {
     "output_type": "execute_result",
     "data": {
      "text/plain": [
       "0.604239256678281"
      ]
     },
     "metadata": {},
     "execution_count": 55
    }
   ],
   "metadata": {}
  },
  {
   "cell_type": "code",
   "execution_count": 56,
   "source": [
    "%%time\n",
    "# Test on 40to50 subset\n",
    "\n",
    "rf_pred_40to50 = rf.fit(x_train, y_train).predict(test_40to50)\n",
    " \n",
    "test_df = test_40to50.copy()\n",
    "test_df['biY'] = y_test\n",
    "test_df['pred'] = pd.Series(rf_pred_40to50, index=test_df.index)\n",
    "test_df['accurate'] = (test_df['pred'] == test_df['biY'])\n",
    " \n",
    "from sklearn.metrics import confusion_matrix\n",
    " \n",
    "confusion_matrix_40to50 = confusion_matrix(test_df['biY'], test_df['pred'])\n",
    "confusion_matrix_40to50\n"
   ],
   "outputs": [
    {
     "output_type": "stream",
     "name": "stdout",
     "text": [
      "CPU times: user 4.96 s, sys: 98.3 ms, total: 5.06 s\n",
      "Wall time: 7.56 s\n"
     ]
    },
    {
     "output_type": "execute_result",
     "data": {
      "text/plain": [
       "array([[1219,  777],\n",
       "       [ 176,  102]])"
      ]
     },
     "metadata": {},
     "execution_count": 56
    }
   ],
   "metadata": {}
  },
  {
   "cell_type": "code",
   "execution_count": 57,
   "source": [
    "%%time\n",
    "accuracy_rf_40to50 = (confusion_matrix_40to50[0][0] + confusion_matrix_40to50[1][1]) / (confusion_matrix_40to50[0][0] + confusion_matrix_40to50[0][1] + confusion_matrix_40to50[1][0] + confusion_matrix_40to50[1][1])\n",
    "accuracy_rf_40to50 "
   ],
   "outputs": [
    {
     "output_type": "stream",
     "name": "stdout",
     "text": [
      "CPU times: user 148 µs, sys: 297 µs, total: 445 µs\n",
      "Wall time: 192 µs\n"
     ]
    },
    {
     "output_type": "execute_result",
     "data": {
      "text/plain": [
       "0.5809146877748461"
      ]
     },
     "metadata": {},
     "execution_count": 57
    }
   ],
   "metadata": {}
  },
  {
   "cell_type": "code",
   "execution_count": 58,
   "source": [
    "%%time\n",
    "# Test on g50 subset\n",
    "\n",
    "rf_pred_g50 = rf.fit(x_train, y_train).predict(test_g50)\n",
    " \n",
    "test_df = test_g50.copy()\n",
    "test_df['biY'] = y_test\n",
    "test_df['pred'] = pd.Series(rf_pred_g50, index=test_df.index)\n",
    "test_df['accurate'] = (test_df['pred'] == test_df['biY'])\n",
    " \n",
    "from sklearn.metrics import confusion_matrix\n",
    " \n",
    "confusion_matrix_g50 = confusion_matrix(test_df['biY'], test_df['pred'])\n",
    "confusion_matrix_g50"
   ],
   "outputs": [
    {
     "output_type": "stream",
     "name": "stdout",
     "text": [
      "CPU times: user 5.02 s, sys: 86.5 ms, total: 5.11 s\n",
      "Wall time: 6.89 s\n"
     ]
    },
    {
     "output_type": "execute_result",
     "data": {
      "text/plain": [
       "array([[904, 742],\n",
       "       [141,  88]])"
      ]
     },
     "metadata": {},
     "execution_count": 58
    }
   ],
   "metadata": {}
  },
  {
   "cell_type": "code",
   "execution_count": 59,
   "source": [
    "%%time\n",
    "accuracy_rf_g50 = (confusion_matrix_g50[0][0] + confusion_matrix_g50[1][1]) / (confusion_matrix_g50[0][0] + confusion_matrix_g50[0][1] + confusion_matrix_g50[1][0] + confusion_matrix_g50[1][1])\n",
    "accuracy_rf_g50 "
   ],
   "outputs": [
    {
     "output_type": "stream",
     "name": "stdout",
     "text": [
      "CPU times: user 65 µs, sys: 1 µs, total: 66 µs\n",
      "Wall time: 74.9 µs\n"
     ]
    },
    {
     "output_type": "execute_result",
     "data": {
      "text/plain": [
       "0.5290666666666667"
      ]
     },
     "metadata": {},
     "execution_count": 59
    }
   ],
   "metadata": {}
  },
  {
   "cell_type": "code",
   "execution_count": 60,
   "source": [
    "%%time\n",
    "#Demographic Parity\n",
    "# positive rate = TP + TN\n",
    "\n",
    "PR_rf_l30 = confusion_matrix_l30[0,0] +confusion_matrix_l30[1,1]\n",
    "PR_rf_l30 # 4756"
   ],
   "outputs": [
    {
     "output_type": "stream",
     "name": "stdout",
     "text": [
      "CPU times: user 67 µs, sys: 1 µs, total: 68 µs\n",
      "Wall time: 77 µs\n"
     ]
    },
    {
     "output_type": "execute_result",
     "data": {
      "text/plain": [
       "994"
      ]
     },
     "metadata": {},
     "execution_count": 60
    }
   ],
   "metadata": {}
  },
  {
   "cell_type": "code",
   "execution_count": 61,
   "source": [
    "%%time\n",
    "PR_rf_30to40 = confusion_matrix_30to40[0,0] +confusion_matrix_30to40[1,1]\n",
    "PR_rf_30to40 # 2136"
   ],
   "outputs": [
    {
     "output_type": "stream",
     "name": "stdout",
     "text": [
      "CPU times: user 71 µs, sys: 2 µs, total: 73 µs\n",
      "Wall time: 81.8 µs\n"
     ]
    },
    {
     "output_type": "execute_result",
     "data": {
      "text/plain": [
       "2081"
      ]
     },
     "metadata": {},
     "execution_count": 61
    }
   ],
   "metadata": {}
  },
  {
   "cell_type": "code",
   "execution_count": 62,
   "source": [
    "%%time\n",
    "PR_rf_40to50 = confusion_matrix_40to50[0,0] +confusion_matrix_40to50[1,1]\n",
    "PR_rf_40to50 # 2136"
   ],
   "outputs": [
    {
     "output_type": "stream",
     "name": "stdout",
     "text": [
      "CPU times: user 66 µs, sys: 1 µs, total: 67 µs\n",
      "Wall time: 76.1 µs\n"
     ]
    },
    {
     "output_type": "execute_result",
     "data": {
      "text/plain": [
       "1321"
      ]
     },
     "metadata": {},
     "execution_count": 62
    }
   ],
   "metadata": {}
  },
  {
   "cell_type": "code",
   "execution_count": 63,
   "source": [
    "%%time\n",
    "PR_rf_g50 = confusion_matrix_g50[0,0] +confusion_matrix_g50[1,1]\n",
    "PR_rf_g50 # 2136"
   ],
   "outputs": [
    {
     "output_type": "stream",
     "name": "stdout",
     "text": [
      "CPU times: user 90 µs, sys: 2 µs, total: 92 µs\n",
      "Wall time: 105 µs\n"
     ]
    },
    {
     "output_type": "execute_result",
     "data": {
      "text/plain": [
       "992"
      ]
     },
     "metadata": {},
     "execution_count": 63
    }
   ],
   "metadata": {}
  },
  {
   "cell_type": "code",
   "execution_count": 64,
   "source": [
    "%%time\n",
    "# Equalized Opportunity\n",
    "#TPR = TP/TP+FN\n",
    "\n",
    "TPR_rf_l30 = confusion_matrix_l30[0,0] / (confusion_matrix_l30[0,0] + confusion_matrix_l30[1,0])\n",
    "\n",
    "TPR_rf_l30"
   ],
   "outputs": [
    {
     "output_type": "stream",
     "name": "stdout",
     "text": [
      "CPU times: user 73 µs, sys: 2 µs, total: 75 µs\n",
      "Wall time: 86.1 µs\n"
     ]
    },
    {
     "output_type": "execute_result",
     "data": {
      "text/plain": [
       "0.8863000931966449"
      ]
     },
     "metadata": {},
     "execution_count": 64
    }
   ],
   "metadata": {}
  },
  {
   "cell_type": "code",
   "execution_count": 65,
   "source": [
    "%%time\n",
    "TPR_rf_30to40 = confusion_matrix_30to40[0,0] / (confusion_matrix_30to40[0,0] + confusion_matrix_30to40[1,0])\n",
    "\n",
    "TPR_rf_30to40  "
   ],
   "outputs": [
    {
     "output_type": "stream",
     "name": "stdout",
     "text": [
      "CPU times: user 68 µs, sys: 2 µs, total: 70 µs\n",
      "Wall time: 80.1 µs\n"
     ]
    },
    {
     "output_type": "execute_result",
     "data": {
      "text/plain": [
       "0.8809849521203831"
      ]
     },
     "metadata": {},
     "execution_count": 65
    }
   ],
   "metadata": {}
  },
  {
   "cell_type": "code",
   "execution_count": 66,
   "source": [
    "%%time\n",
    "TPR_rf_40to50  = confusion_matrix_40to50[0,0] / (confusion_matrix_40to50[0,0] + confusion_matrix_40to50[1,0])\n",
    "\n",
    "TPR_rf_40to50 "
   ],
   "outputs": [
    {
     "output_type": "stream",
     "name": "stdout",
     "text": [
      "CPU times: user 94 µs, sys: 27 µs, total: 121 µs\n",
      "Wall time: 230 µs\n"
     ]
    },
    {
     "output_type": "execute_result",
     "data": {
      "text/plain": [
       "0.8738351254480287"
      ]
     },
     "metadata": {},
     "execution_count": 66
    }
   ],
   "metadata": {}
  },
  {
   "cell_type": "code",
   "execution_count": 67,
   "source": [
    "%%time\n",
    "TPR_rf_g50  = confusion_matrix_g50[0,0] / (confusion_matrix_g50[0,0] + confusion_matrix_g50[1,0])\n",
    "\n",
    "TPR_rf_g50 "
   ],
   "outputs": [
    {
     "output_type": "stream",
     "name": "stdout",
     "text": [
      "CPU times: user 67 µs, sys: 2 µs, total: 69 µs\n",
      "Wall time: 77.7 µs\n"
     ]
    },
    {
     "output_type": "execute_result",
     "data": {
      "text/plain": [
       "0.8650717703349282"
      ]
     },
     "metadata": {},
     "execution_count": 67
    }
   ],
   "metadata": {}
  },
  {
   "cell_type": "code",
   "execution_count": 68,
   "source": [
    "%%time\n",
    "# Equalized Odds\n",
    "#TPR = TP/TP+FN\n",
    "#FNR = FN/FN+TP\n",
    "\n",
    "\n",
    "FNR_rf_l30 = confusion_matrix_l30[1,0] / (confusion_matrix_l30[1,0] + confusion_matrix_l30[0,0])\n",
    "\n",
    "FNR_rf_l30 # 0.11652109273369263\n"
   ],
   "outputs": [
    {
     "output_type": "stream",
     "name": "stdout",
     "text": [
      "CPU times: user 71 µs, sys: 2 µs, total: 73 µs\n",
      "Wall time: 81.1 µs\n"
     ]
    },
    {
     "output_type": "execute_result",
     "data": {
      "text/plain": [
       "0.11369990680335508"
      ]
     },
     "metadata": {},
     "execution_count": 68
    }
   ],
   "metadata": {}
  },
  {
   "cell_type": "code",
   "execution_count": 69,
   "source": [
    "%%time\n",
    "FNR_rf_30to40 = confusion_matrix_30to40[1,0] / (confusion_matrix_30to40[1,0] + confusion_matrix_30to40[0,0])\n",
    "\n",
    "FNR_rf_30to40"
   ],
   "outputs": [
    {
     "output_type": "stream",
     "name": "stdout",
     "text": [
      "CPU times: user 80 µs, sys: 2 µs, total: 82 µs\n",
      "Wall time: 99.2 µs\n"
     ]
    },
    {
     "output_type": "execute_result",
     "data": {
      "text/plain": [
       "0.11901504787961696"
      ]
     },
     "metadata": {},
     "execution_count": 69
    }
   ],
   "metadata": {}
  },
  {
   "cell_type": "code",
   "execution_count": 70,
   "source": [
    "%%time\n",
    "FNR_rf_40to50 = confusion_matrix_40to50[1,0] / (confusion_matrix_40to50[1,0] + confusion_matrix_40to50[0,0])\n",
    "\n",
    "FNR_rf_40to50"
   ],
   "outputs": [
    {
     "output_type": "stream",
     "name": "stdout",
     "text": [
      "CPU times: user 51 µs, sys: 1 µs, total: 52 µs\n",
      "Wall time: 58.9 µs\n"
     ]
    },
    {
     "output_type": "execute_result",
     "data": {
      "text/plain": [
       "0.12616487455197134"
      ]
     },
     "metadata": {},
     "execution_count": 70
    }
   ],
   "metadata": {}
  },
  {
   "cell_type": "code",
   "execution_count": 71,
   "source": [
    "%%time\n",
    "FNR_rf_g50 = confusion_matrix_g50[1,0] / (confusion_matrix_g50[1,0] + confusion_matrix_g50[0,0])\n",
    "\n",
    "FNR_rf_g50"
   ],
   "outputs": [
    {
     "output_type": "stream",
     "name": "stdout",
     "text": [
      "CPU times: user 72 µs, sys: 2 µs, total: 74 µs\n",
      "Wall time: 83 µs\n"
     ]
    },
    {
     "output_type": "execute_result",
     "data": {
      "text/plain": [
       "0.13492822966507176"
      ]
     },
     "metadata": {},
     "execution_count": 71
    }
   ],
   "metadata": {}
  },
  {
   "cell_type": "code",
   "execution_count": 72,
   "source": [
    "%%time\n",
    "# Fairness Through Unwareness\n",
    "\n",
    "x_train_unawareness = x_train.copy()\n",
    "x_train_unawareness\n",
    "x_train_unawareness.drop('catAge_<=30', inplace=True, axis=1)\n",
    "x_train_unawareness.drop('catAge_30-40', inplace=True, axis=1)\n",
    "x_train_unawareness.drop('catAge_40-50', inplace=True, axis=1)\n",
    "x_train_unawareness.drop('catAge_>=50', inplace=True, axis=1)\n",
    "\n",
    "# x_train_unawareness.columns.values\n",
    "# x_train.columns.values"
   ],
   "outputs": [
    {
     "output_type": "stream",
     "name": "stdout",
     "text": [
      "CPU times: user 27.6 ms, sys: 8.76 ms, total: 36.4 ms\n",
      "Wall time: 39.2 ms\n"
     ]
    }
   ],
   "metadata": {}
  },
  {
   "cell_type": "code",
   "execution_count": 73,
   "source": [
    "%%time\n",
    "#Fairness through unawareness\n",
    "\n",
    "x_test_unawareness = x_test.copy()\n",
    "x_test_unawareness\n",
    "x_test_l30 = x_test_unawareness[x_test_unawareness['catAge_<=30'] == 1]\n",
    "x_test_30to40 = x_test_unawareness[x_test_unawareness['catAge_30-40'] == 1]\n",
    "x_test_40to50 = x_test_unawareness[x_test_unawareness['catAge_40-50'] == 1]\n",
    "x_test_g50 = x_test_unawareness[x_test_unawareness['catAge_>=50'] == 1]\n",
    "\n",
    "\n",
    "x_test_l30.drop('catAge_<=30', inplace=True, axis=1)\n",
    "x_test_l30.drop('catAge_30-40', inplace=True, axis=1)\n",
    "x_test_l30.drop('catAge_40-50', inplace=True, axis=1)\n",
    "x_test_l30.drop('catAge_>=50', inplace=True, axis=1)\n",
    "\n",
    "x_test_30to40.drop('catAge_<=30', inplace=True, axis=1)\n",
    "x_test_30to40.drop('catAge_30-40', inplace=True, axis=1)\n",
    "x_test_30to40.drop('catAge_40-50', inplace=True, axis=1)\n",
    "x_test_30to40.drop('catAge_>=50', inplace=True, axis=1)\n",
    "\n",
    "x_test_40to50.drop('catAge_<=30', inplace=True, axis=1)\n",
    "x_test_40to50.drop('catAge_30-40', inplace=True, axis=1)\n",
    "x_test_40to50.drop('catAge_40-50', inplace=True, axis=1)\n",
    "x_test_40to50.drop('catAge_>=50', inplace=True, axis=1)\n",
    "\n",
    "x_test_g50.drop('catAge_<=30', inplace=True, axis=1)\n",
    "x_test_g50.drop('catAge_30-40', inplace=True, axis=1)\n",
    "x_test_g50.drop('catAge_40-50', inplace=True, axis=1)\n",
    "x_test_g50.drop('catAge_>=50', inplace=True, axis=1)\n",
    "\n",
    "\n",
    "\n",
    "# x_test_unawareness.columns.values\n",
    "# x_test.columns.values"
   ],
   "outputs": [
    {
     "output_type": "stream",
     "name": "stdout",
     "text": [
      "CPU times: user 51 ms, sys: 2.75 ms, total: 53.8 ms\n",
      "Wall time: 59 ms\n"
     ]
    },
    {
     "output_type": "stream",
     "name": "stderr",
     "text": [
      "/Library/Frameworks/Python.framework/Versions/3.8/lib/python3.8/site-packages/pandas/core/frame.py:4163: SettingWithCopyWarning: \n",
      "A value is trying to be set on a copy of a slice from a DataFrame\n",
      "\n",
      "See the caveats in the documentation: https://pandas.pydata.org/pandas-docs/stable/user_guide/indexing.html#returning-a-view-versus-a-copy\n",
      "  return super().drop(\n"
     ]
    }
   ],
   "metadata": {}
  },
  {
   "cell_type": "code",
   "execution_count": 74,
   "source": [
    "%%time\n",
    "# Test on l30 set\n",
    "\n",
    "rf_pred_l30 = rf.fit(x_train_unawareness, y_train).predict(x_test_l30)\n",
    "\n",
    "test_df = x_test_l30.copy()\n",
    "test_df['biY'] = y_test\n",
    "test_df['pred'] = pd.Series(rf_pred_l30, index=test_df.index)\n",
    "test_df['accurate'] = (test_df['pred'] == test_df['biY'])\n",
    "\n",
    "from sklearn.metrics import confusion_matrix\n",
    "\n",
    "confusion_matrix_l30 = confusion_matrix(test_df['biY'], test_df['pred'])\n",
    "confusion_matrix_l30\n"
   ],
   "outputs": [
    {
     "output_type": "stream",
     "name": "stdout",
     "text": [
      "CPU times: user 4.73 s, sys: 64.7 ms, total: 4.79 s\n",
      "Wall time: 6.82 s\n"
     ]
    },
    {
     "output_type": "execute_result",
     "data": {
      "text/plain": [
       "array([[882, 369],\n",
       "       [108,  57]])"
      ]
     },
     "metadata": {},
     "execution_count": 74
    }
   ],
   "metadata": {}
  },
  {
   "cell_type": "code",
   "execution_count": 75,
   "source": [
    "%%time\n",
    "accuracy_rf_l30 = (confusion_matrix_l30[0][0] + confusion_matrix_l30[1][1]) / (confusion_matrix_l30[0][0] + confusion_matrix_l30[0][1] + confusion_matrix_l30[1][0] + confusion_matrix_l30[1][1])\n",
    "accuracy_rf_l30"
   ],
   "outputs": [
    {
     "output_type": "stream",
     "name": "stdout",
     "text": [
      "CPU times: user 89 µs, sys: 1 µs, total: 90 µs\n",
      "Wall time: 102 µs\n"
     ]
    },
    {
     "output_type": "execute_result",
     "data": {
      "text/plain": [
       "0.663135593220339"
      ]
     },
     "metadata": {},
     "execution_count": 75
    }
   ],
   "metadata": {}
  },
  {
   "cell_type": "code",
   "execution_count": 76,
   "source": [
    "%%time\n",
    "# Test on 30to40 set\n",
    "\n",
    "rf_pred_30to40 = rf.fit(x_train_unawareness, y_train).predict(x_test_30to40)\n",
    "\n",
    "test_df = x_test_30to40.copy()\n",
    "test_df['biY'] = y_test\n",
    "test_df['pred'] = pd.Series(rf_pred_30to40, index=test_df.index)\n",
    "test_df['accurate'] = (test_df['pred'] == test_df['biY'])\n",
    "\n",
    "from sklearn.metrics import confusion_matrix\n",
    "\n",
    "confusion_matrix_30to40 = confusion_matrix(test_df['biY'], test_df['pred'])\n",
    "confusion_matrix_30to40\n"
   ],
   "outputs": [
    {
     "output_type": "stream",
     "name": "stdout",
     "text": [
      "CPU times: user 4.63 s, sys: 77.7 ms, total: 4.71 s\n",
      "Wall time: 6.43 s\n"
     ]
    },
    {
     "output_type": "execute_result",
     "data": {
      "text/plain": [
       "array([[1983, 1051],\n",
       "       [ 274,  136]])"
      ]
     },
     "metadata": {},
     "execution_count": 76
    }
   ],
   "metadata": {}
  },
  {
   "cell_type": "code",
   "execution_count": 77,
   "source": [
    "%%time\n",
    "accuracy_rf_30to40 = (confusion_matrix_30to40[0][0] + confusion_matrix_30to40[1][1]) / (confusion_matrix_30to40[0][0] + confusion_matrix_30to40[0][1] + confusion_matrix_30to40[1][0] + confusion_matrix_30to40[1][1])\n",
    "accuracy_rf_30to40 "
   ],
   "outputs": [
    {
     "output_type": "stream",
     "name": "stdout",
     "text": [
      "CPU times: user 76 µs, sys: 1e+03 ns, total: 77 µs\n",
      "Wall time: 86.1 µs\n"
     ]
    },
    {
     "output_type": "execute_result",
     "data": {
      "text/plain": [
       "0.6152729384436701"
      ]
     },
     "metadata": {},
     "execution_count": 77
    }
   ],
   "metadata": {}
  },
  {
   "cell_type": "code",
   "execution_count": 78,
   "source": [
    "%%time\n",
    "# Test on 40to50 set\n",
    "\n",
    "rf_pred_40to50 = rf.fit(x_train_unawareness, y_train).predict(x_test_40to50)\n",
    "\n",
    "test_df = x_test_40to50.copy()\n",
    "test_df['biY'] = y_test\n",
    "test_df['pred'] = pd.Series(rf_pred_40to50, index=test_df.index)\n",
    "test_df['accurate'] = (test_df['pred'] == test_df['biY'])\n",
    "\n",
    "from sklearn.metrics import confusion_matrix\n",
    "\n",
    "confusion_matrix_40to50 = confusion_matrix(test_df['biY'], test_df['pred'])\n",
    "confusion_matrix_40to50"
   ],
   "outputs": [
    {
     "output_type": "stream",
     "name": "stdout",
     "text": [
      "CPU times: user 4.85 s, sys: 76 ms, total: 4.93 s\n",
      "Wall time: 6.61 s\n"
     ]
    },
    {
     "output_type": "execute_result",
     "data": {
      "text/plain": [
       "array([[1140,  856],\n",
       "       [ 160,  118]])"
      ]
     },
     "metadata": {},
     "execution_count": 78
    }
   ],
   "metadata": {}
  },
  {
   "cell_type": "code",
   "execution_count": 79,
   "source": [
    "%%time\n",
    "accuracy_rf_40to50 = (confusion_matrix_40to50[0][0] + confusion_matrix_40to50[1][1]) / (confusion_matrix_40to50[0][0] + confusion_matrix_40to50[0][1] + confusion_matrix_40to50[1][0] + confusion_matrix_40to50[1][1])\n",
    "accuracy_rf_40to50 # 0.8718606782768102"
   ],
   "outputs": [
    {
     "output_type": "stream",
     "name": "stdout",
     "text": [
      "CPU times: user 98 µs, sys: 2 µs, total: 100 µs\n",
      "Wall time: 112 µs\n"
     ]
    },
    {
     "output_type": "execute_result",
     "data": {
      "text/plain": [
       "0.5532102022867195"
      ]
     },
     "metadata": {},
     "execution_count": 79
    }
   ],
   "metadata": {}
  },
  {
   "cell_type": "code",
   "execution_count": 80,
   "source": [
    "%%time\n",
    "# Test on g50 set\n",
    "\n",
    "rf_pred_g50 = rf.fit(x_train_unawareness, y_train).predict(x_test_g50)\n",
    "\n",
    "test_df = x_test_g50.copy()\n",
    "test_df['biY'] = y_test\n",
    "test_df['pred'] = pd.Series(rf_pred_g50, index=test_df.index)\n",
    "test_df['accurate'] = (test_df['pred'] == test_df['biY'])\n",
    "\n",
    "from sklearn.metrics import confusion_matrix\n",
    "\n",
    "confusion_matrix_g50 = confusion_matrix(test_df['biY'], test_df['pred'])\n",
    "confusion_matrix_g50"
   ],
   "outputs": [
    {
     "output_type": "stream",
     "name": "stdout",
     "text": [
      "CPU times: user 4.91 s, sys: 83.9 ms, total: 5 s\n",
      "Wall time: 6.79 s\n"
     ]
    },
    {
     "output_type": "execute_result",
     "data": {
      "text/plain": [
       "array([[943, 703],\n",
       "       [129, 100]])"
      ]
     },
     "metadata": {},
     "execution_count": 80
    }
   ],
   "metadata": {}
  },
  {
   "cell_type": "code",
   "execution_count": 81,
   "source": [
    "%%time\n",
    "accuracy_rf_g50 = (confusion_matrix_g50[0][0] + confusion_matrix_g50[1][1]) / (confusion_matrix_g50[0][0] + confusion_matrix_g50[0][1] + confusion_matrix_g50[1][0] + confusion_matrix_g50[1][1])\n",
    "accuracy_rf_g50 # 0.8718606782768102"
   ],
   "outputs": [
    {
     "output_type": "stream",
     "name": "stdout",
     "text": [
      "CPU times: user 100 µs, sys: 2 µs, total: 102 µs\n",
      "Wall time: 113 µs\n"
     ]
    },
    {
     "output_type": "execute_result",
     "data": {
      "text/plain": [
       "0.5562666666666667"
      ]
     },
     "metadata": {},
     "execution_count": 81
    }
   ],
   "metadata": {}
  },
  {
   "cell_type": "markdown",
   "source": [
    "Support Vector Machine"
   ],
   "metadata": {}
  },
  {
   "cell_type": "code",
   "execution_count": 82,
   "source": [
    "%%time\n",
    "from sklearn import svm as svm_model\n",
    "svm = svm_model.SVC(class_weight='balanced') # add class_weight='balanced' is to avoid classifying all data as 0\n",
    "svm_pred = svm.fit(x_train, y_train).predict(x_test)"
   ],
   "outputs": [
    {
     "output_type": "stream",
     "name": "stdout",
     "text": [
      "CPU times: user 7min 5s, sys: 6.18 s, total: 7min 11s\n",
      "Wall time: 11min 8s\n"
     ]
    }
   ],
   "metadata": {}
  },
  {
   "cell_type": "code",
   "execution_count": 83,
   "source": [
    "%%time\n",
    "test_df = x_test.copy()\n",
    "test_df['biY'] = y_test\n",
    "test_df['pred'] = pd.Series(svm_pred, index=test_df.index)\n",
    "test_df['accurate'] = (test_df['pred'] == test_df['biY'])\n",
    "test_df.columns.values"
   ],
   "outputs": [
    {
     "output_type": "stream",
     "name": "stdout",
     "text": [
      "CPU times: user 9.67 ms, sys: 13.7 ms, total: 23.4 ms\n",
      "Wall time: 19.9 ms\n"
     ]
    },
    {
     "output_type": "execute_result",
     "data": {
      "text/plain": [
       "array(['balance', 'day', 'duration', 'campaign', 'pdays', 'previous',\n",
       "       'biDefault', 'biHousing', 'biLoan', 'catAge_30-40', 'catAge_40-50',\n",
       "       'catAge_<=30', 'catAge_>=50', 'job_admin.', 'job_blue-collar',\n",
       "       'job_entrepreneur', 'job_housemaid', 'job_management',\n",
       "       'job_retired', 'job_self-employed', 'job_services', 'job_student',\n",
       "       'job_technician', 'job_unemployed', 'marital_divorced',\n",
       "       'marital_married', 'marital_single', 'education_primary',\n",
       "       'education_secondary', 'education_tertiary', 'month_apr',\n",
       "       'month_aug', 'month_dec', 'month_feb', 'month_jan', 'month_jul',\n",
       "       'month_jun', 'month_mar', 'month_may', 'month_nov', 'month_oct',\n",
       "       'month_sep', 'Fmonth_apr', 'Fmonth_aug', 'Fmonth_dec',\n",
       "       'Fmonth_feb', 'Fmonth_jan', 'Fmonth_jul', 'Fmonth_jun',\n",
       "       'Fmonth_mar', 'Fmonth_may', 'Fmonth_nov', 'Fmonth_oct', 'biY',\n",
       "       'pred', 'accurate'], dtype=object)"
      ]
     },
     "metadata": {},
     "execution_count": 83
    }
   ],
   "metadata": {}
  },
  {
   "cell_type": "code",
   "execution_count": 84,
   "source": [
    "%%time\n",
    "from sklearn.metrics import confusion_matrix\n",
    "confusion_matrix = confusion_matrix(test_df['biY'], test_df['pred'])\n",
    "confusion_matrix"
   ],
   "outputs": [
    {
     "output_type": "stream",
     "name": "stdout",
     "text": [
      "CPU times: user 34.6 ms, sys: 6.45 ms, total: 41.1 ms\n",
      "Wall time: 47.8 ms\n"
     ]
    },
    {
     "output_type": "execute_result",
     "data": {
      "text/plain": [
       "array([[5273, 2654],\n",
       "       [ 717,  365]])"
      ]
     },
     "metadata": {},
     "execution_count": 84
    }
   ],
   "metadata": {}
  },
  {
   "cell_type": "code",
   "execution_count": 85,
   "source": [
    "%%time\n",
    "# Accuracy\n",
    "# \"Accuracy: \", test_df.accurate.mean()\n",
    "\n",
    "accuracy_svm = (confusion_matrix[0][0] + confusion_matrix[1][1]) / (confusion_matrix[0][0] + confusion_matrix[0][1] + confusion_matrix[1][0] + confusion_matrix[1][1])\n",
    "accuracy_svm\n"
   ],
   "outputs": [
    {
     "output_type": "stream",
     "name": "stdout",
     "text": [
      "CPU times: user 89 µs, sys: 1 µs, total: 90 µs\n",
      "Wall time: 105 µs\n"
     ]
    },
    {
     "output_type": "execute_result",
     "data": {
      "text/plain": [
       "0.6258186258186258"
      ]
     },
     "metadata": {},
     "execution_count": 85
    }
   ],
   "metadata": {}
  },
  {
   "cell_type": "code",
   "execution_count": 86,
   "source": [
    "%%time\n",
    "# Split dataset based on marital status\n",
    "\n",
    "test_df.columns.values\n",
    "test_l30 = x_test[x_test['catAge_<=30'] == 1]\n",
    "test_30to40 = x_test[x_test['catAge_30-40'] == 1]\n",
    "test_40to50 = x_test[x_test['catAge_40-50'] == 1]\n",
    "test_g50 = x_test[x_test['catAge_>=50'] == 1]"
   ],
   "outputs": [
    {
     "output_type": "stream",
     "name": "stdout",
     "text": [
      "CPU times: user 10.2 ms, sys: 4.27 ms, total: 14.4 ms\n",
      "Wall time: 14.6 ms\n"
     ]
    }
   ],
   "metadata": {}
  },
  {
   "cell_type": "code",
   "execution_count": 87,
   "source": [
    "%%time\n",
    "# Test on l30 subset\n",
    "\n",
    "svm_pred_l30 = svm.fit(x_train, y_train).predict(test_l30)\n",
    "\n",
    "test_df = test_l30.copy()\n",
    "test_df['biY'] = y_test\n",
    "test_df['pred'] = pd.Series(svm_pred_l30, index=test_df.index)\n",
    "test_df['accurate'] = (test_df['pred'] == test_df['biY'])\n",
    "\n",
    "from sklearn.metrics import confusion_matrix\n",
    "\n",
    "confusion_matrix_l30 = confusion_matrix(test_df['biY'], test_df['pred'])\n",
    "confusion_matrix_l30"
   ],
   "outputs": [
    {
     "output_type": "stream",
     "name": "stdout",
     "text": [
      "CPU times: user 6min 18s, sys: 5.04 s, total: 6min 23s\n",
      "Wall time: 8min 43s\n"
     ]
    },
    {
     "output_type": "execute_result",
     "data": {
      "text/plain": [
       "array([[855, 396],\n",
       "       [118,  47]])"
      ]
     },
     "metadata": {},
     "execution_count": 87
    }
   ],
   "metadata": {}
  },
  {
   "cell_type": "code",
   "execution_count": 88,
   "source": [
    "%%time\n",
    "accuracy_svm_l30 = (confusion_matrix_l30[0][0] + confusion_matrix_l30[1][1]) / (confusion_matrix_l30[0][0] + confusion_matrix_l30[0][1] + confusion_matrix_l30[1][0] + confusion_matrix_l30[1][1])\n",
    "accuracy_svm_l30"
   ],
   "outputs": [
    {
     "output_type": "stream",
     "name": "stdout",
     "text": [
      "CPU times: user 95 µs, sys: 2 µs, total: 97 µs\n",
      "Wall time: 107 µs\n"
     ]
    },
    {
     "output_type": "execute_result",
     "data": {
      "text/plain": [
       "0.6370056497175142"
      ]
     },
     "metadata": {},
     "execution_count": 88
    }
   ],
   "metadata": {}
  },
  {
   "cell_type": "code",
   "execution_count": 89,
   "source": [
    "%%time\n",
    "# Test on married subset\n",
    "\n",
    "svm_pred_30to40 = svm.fit(x_train, y_train).predict(test_30to40)\n",
    "\n",
    "test_df = test_30to40.copy()\n",
    "test_df['biY'] = y_test\n",
    "test_df['pred'] = pd.Series(svm_pred_30to40, index=test_df.index)\n",
    "test_df['accurate'] = (test_df['pred'] == test_df['biY'])\n",
    "\n",
    "from sklearn.metrics import confusion_matrix\n",
    "\n",
    "confusion_matrix_30to40 = confusion_matrix(test_df['biY'], test_df['pred'])\n",
    "confusion_matrix_30to40"
   ],
   "outputs": [
    {
     "output_type": "stream",
     "name": "stdout",
     "text": [
      "CPU times: user 6min, sys: 3.41 s, total: 6min 4s\n",
      "Wall time: 7min 21s\n"
     ]
    },
    {
     "output_type": "execute_result",
     "data": {
      "text/plain": [
       "array([[2029, 1005],\n",
       "       [ 275,  135]])"
      ]
     },
     "metadata": {},
     "execution_count": 89
    }
   ],
   "metadata": {}
  },
  {
   "cell_type": "code",
   "execution_count": 90,
   "source": [
    "%%time\n",
    "accuracy_svm_30to40 = (confusion_matrix_30to40[0][0] + confusion_matrix_30to40[1][1]) / (confusion_matrix_30to40[0][0] + confusion_matrix_30to40[0][1] + confusion_matrix_30to40[1][0] + confusion_matrix_30to40[1][1])\n",
    "accuracy_svm_30to40 # 0.8718606782768102"
   ],
   "outputs": [
    {
     "output_type": "stream",
     "name": "stdout",
     "text": [
      "CPU times: user 63 µs, sys: 18 µs, total: 81 µs\n",
      "Wall time: 89.9 µs\n"
     ]
    },
    {
     "output_type": "execute_result",
     "data": {
      "text/plain": [
       "0.6283391405342624"
      ]
     },
     "metadata": {},
     "execution_count": 90
    }
   ],
   "metadata": {}
  },
  {
   "cell_type": "code",
   "execution_count": 91,
   "source": [
    "%%time\n",
    "# Test on 40to50 subset\n",
    "\n",
    "svm_pred_40to50 = svm.fit(x_train, y_train).predict(test_40to50)\n",
    "\n",
    "test_df = test_40to50.copy()\n",
    "test_df['biY'] = y_test\n",
    "test_df['pred'] = pd.Series(svm_pred_40to50, index=test_df.index)\n",
    "test_df['accurate'] = (test_df['pred'] == test_df['biY'])\n",
    "\n",
    "from sklearn.metrics import confusion_matrix\n",
    "\n",
    "confusion_matrix_40to50 = confusion_matrix(test_df['biY'], test_df['pred'])\n",
    "confusion_matrix_40to50"
   ],
   "outputs": [
    {
     "output_type": "stream",
     "name": "stdout",
     "text": [
      "CPU times: user 4min 57s, sys: 2.54 s, total: 5min\n",
      "Wall time: 5min 20s\n"
     ]
    },
    {
     "output_type": "execute_result",
     "data": {
      "text/plain": [
       "array([[1342,  654],\n",
       "       [ 190,   88]])"
      ]
     },
     "metadata": {},
     "execution_count": 91
    }
   ],
   "metadata": {}
  },
  {
   "cell_type": "code",
   "execution_count": 92,
   "source": [
    "%%time\n",
    "accuracy_svm_40to50 = (confusion_matrix_40to50[0][0] + confusion_matrix_40to50[1][1]) / (confusion_matrix_40to50[0][0] + confusion_matrix_40to50[0][1] + confusion_matrix_40to50[1][0] + confusion_matrix_40to50[1][1])\n",
    "accuracy_svm_40to50 "
   ],
   "outputs": [
    {
     "output_type": "stream",
     "name": "stdout",
     "text": [
      "CPU times: user 103 µs, sys: 3 µs, total: 106 µs\n",
      "Wall time: 118 µs\n"
     ]
    },
    {
     "output_type": "execute_result",
     "data": {
      "text/plain": [
       "0.6288478452066842"
      ]
     },
     "metadata": {},
     "execution_count": 92
    }
   ],
   "metadata": {}
  },
  {
   "cell_type": "code",
   "execution_count": 93,
   "source": [
    "%%time\n",
    "# Test on g50 subset\n",
    "\n",
    "svm_pred_g50 = svm.fit(x_train, y_train).predict(test_g50)\n",
    "\n",
    "test_df = test_g50.copy()\n",
    "test_df['biY'] = y_test\n",
    "test_df['pred'] = pd.Series(svm_pred_g50, index=test_df.index)\n",
    "test_df['accurate'] = (test_df['pred'] == test_df['biY'])\n",
    "\n",
    "from sklearn.metrics import confusion_matrix\n",
    "\n",
    "confusion_matrix_g50 = confusion_matrix(test_df['biY'], test_df['pred'])\n",
    "confusion_matrix_g50"
   ],
   "outputs": [
    {
     "output_type": "stream",
     "name": "stdout",
     "text": [
      "CPU times: user 4min 46s, sys: 2.19 s, total: 4min 48s\n",
      "Wall time: 4min 59s\n"
     ]
    },
    {
     "output_type": "execute_result",
     "data": {
      "text/plain": [
       "array([[1047,  599],\n",
       "       [ 134,   95]])"
      ]
     },
     "metadata": {},
     "execution_count": 93
    }
   ],
   "metadata": {}
  },
  {
   "cell_type": "code",
   "execution_count": 94,
   "source": [
    "%%time\n",
    "accuracy_svm_g50 = (confusion_matrix_g50[0][0] + confusion_matrix_g50[1][1]) / (confusion_matrix_g50[0][0] + confusion_matrix_g50[0][1] + confusion_matrix_g50[1][0] + confusion_matrix_g50[1][1])\n",
    "accuracy_svm_g50 # 0.8718606782768102"
   ],
   "outputs": [
    {
     "output_type": "stream",
     "name": "stdout",
     "text": [
      "CPU times: user 81 µs, sys: 1 µs, total: 82 µs\n",
      "Wall time: 93.9 µs\n"
     ]
    },
    {
     "output_type": "execute_result",
     "data": {
      "text/plain": [
       "0.6090666666666666"
      ]
     },
     "metadata": {},
     "execution_count": 94
    }
   ],
   "metadata": {}
  },
  {
   "cell_type": "code",
   "execution_count": 95,
   "source": [
    "%%time\n",
    "#Demographic Parity\n",
    "# positive rate = TP + TN\n",
    "\n",
    "PR_svm_l30 = confusion_matrix_l30[0,0] +confusion_matrix_l30[1,1]\n",
    "\n",
    "PR_svm_l30"
   ],
   "outputs": [
    {
     "output_type": "stream",
     "name": "stdout",
     "text": [
      "CPU times: user 68 µs, sys: 1 µs, total: 69 µs\n",
      "Wall time: 79.9 µs\n"
     ]
    },
    {
     "output_type": "execute_result",
     "data": {
      "text/plain": [
       "902"
      ]
     },
     "metadata": {},
     "execution_count": 95
    }
   ],
   "metadata": {}
  },
  {
   "cell_type": "code",
   "execution_count": 96,
   "source": [
    "%%time\n",
    "PR_svm_30to40 = confusion_matrix_30to40[0,0] +confusion_matrix_30to40[1,1]\n",
    "PR_svm_30to40"
   ],
   "outputs": [
    {
     "output_type": "stream",
     "name": "stdout",
     "text": [
      "CPU times: user 225 µs, sys: 10 µs, total: 235 µs\n",
      "Wall time: 277 µs\n"
     ]
    },
    {
     "output_type": "execute_result",
     "data": {
      "text/plain": [
       "2164"
      ]
     },
     "metadata": {},
     "execution_count": 96
    }
   ],
   "metadata": {}
  },
  {
   "cell_type": "code",
   "execution_count": 97,
   "source": [
    "%%time\n",
    "PR_svm_40to50 = confusion_matrix_40to50[0,0] +confusion_matrix_40to50[1,1]\n",
    "PR_svm_40to50"
   ],
   "outputs": [
    {
     "output_type": "stream",
     "name": "stdout",
     "text": [
      "CPU times: user 83 µs, sys: 3 µs, total: 86 µs\n",
      "Wall time: 95.1 µs\n"
     ]
    },
    {
     "output_type": "execute_result",
     "data": {
      "text/plain": [
       "1430"
      ]
     },
     "metadata": {},
     "execution_count": 97
    }
   ],
   "metadata": {}
  },
  {
   "cell_type": "code",
   "execution_count": 98,
   "source": [
    "%%time\n",
    "PR_svm_g50 = confusion_matrix_g50[0,0] +confusion_matrix_g50[1,1]\n",
    "PR_svm_g50"
   ],
   "outputs": [
    {
     "output_type": "stream",
     "name": "stdout",
     "text": [
      "CPU times: user 41 µs, sys: 1e+03 ns, total: 42 µs\n",
      "Wall time: 47 µs\n"
     ]
    },
    {
     "output_type": "execute_result",
     "data": {
      "text/plain": [
       "1142"
      ]
     },
     "metadata": {},
     "execution_count": 98
    }
   ],
   "metadata": {}
  },
  {
   "cell_type": "code",
   "execution_count": 99,
   "source": [
    "%%time\n",
    "# Equalized Opportunity\n",
    "#TPR = TP/TP+FN\n",
    "\n",
    "TPR_svm_l30 = confusion_matrix_l30[0,0] / (confusion_matrix_l30[0,0] + confusion_matrix_l30[1,0])\n",
    "\n",
    "TPR_svm_l30"
   ],
   "outputs": [
    {
     "output_type": "stream",
     "name": "stdout",
     "text": [
      "CPU times: user 74 µs, sys: 2 µs, total: 76 µs\n",
      "Wall time: 87 µs\n"
     ]
    },
    {
     "output_type": "execute_result",
     "data": {
      "text/plain": [
       "0.8787255909558068"
      ]
     },
     "metadata": {},
     "execution_count": 99
    }
   ],
   "metadata": {}
  },
  {
   "cell_type": "code",
   "execution_count": 100,
   "source": [
    "%%time\n",
    "TPR_svm_30to40 = confusion_matrix_30to40[0,0] / (confusion_matrix_30to40[0,0] + confusion_matrix_30to40[1,0])\n",
    "\n",
    "TPR_svm_30to40 "
   ],
   "outputs": [
    {
     "output_type": "stream",
     "name": "stdout",
     "text": [
      "CPU times: user 48 µs, sys: 1e+03 ns, total: 49 µs\n",
      "Wall time: 56 µs\n"
     ]
    },
    {
     "output_type": "execute_result",
     "data": {
      "text/plain": [
       "0.8806423611111112"
      ]
     },
     "metadata": {},
     "execution_count": 100
    }
   ],
   "metadata": {}
  },
  {
   "cell_type": "code",
   "execution_count": 101,
   "source": [
    "%%time\n",
    "TPR_svm_40to50 = confusion_matrix_40to50[0,0] / (confusion_matrix_40to50[0,0] + confusion_matrix_40to50[1,0])\n",
    "\n",
    "TPR_svm_40to50 "
   ],
   "outputs": [
    {
     "output_type": "stream",
     "name": "stdout",
     "text": [
      "CPU times: user 64 µs, sys: 1 µs, total: 65 µs\n",
      "Wall time: 75.1 µs\n"
     ]
    },
    {
     "output_type": "execute_result",
     "data": {
      "text/plain": [
       "0.8759791122715405"
      ]
     },
     "metadata": {},
     "execution_count": 101
    }
   ],
   "metadata": {}
  },
  {
   "cell_type": "code",
   "execution_count": 102,
   "source": [
    "%%time\n",
    "TPR_svm_g50 = confusion_matrix_g50[0,0] / (confusion_matrix_g50[0,0] + confusion_matrix_g50[1,0])\n",
    "\n",
    "TPR_svm_g50 "
   ],
   "outputs": [
    {
     "output_type": "stream",
     "name": "stdout",
     "text": [
      "CPU times: user 45 µs, sys: 1 µs, total: 46 µs\n",
      "Wall time: 51.7 µs\n"
     ]
    },
    {
     "output_type": "execute_result",
     "data": {
      "text/plain": [
       "0.88653683319221"
      ]
     },
     "metadata": {},
     "execution_count": 102
    }
   ],
   "metadata": {}
  },
  {
   "cell_type": "code",
   "execution_count": 103,
   "source": [
    "%%time\n",
    "# Equalized Odds\n",
    "#TPR = TP/TP+FN\n",
    "#FNR = FN/FN+TP\n",
    "\n",
    "\n",
    "FNR_svm_l30 = confusion_matrix_l30[1,0] / (confusion_matrix_l30[1,0] + confusion_matrix_l30[0,0])\n",
    "\n",
    "FNR_svm_l30"
   ],
   "outputs": [
    {
     "output_type": "stream",
     "name": "stdout",
     "text": [
      "CPU times: user 49 µs, sys: 1e+03 ns, total: 50 µs\n",
      "Wall time: 56 µs\n"
     ]
    },
    {
     "output_type": "execute_result",
     "data": {
      "text/plain": [
       "0.12127440904419322"
      ]
     },
     "metadata": {},
     "execution_count": 103
    }
   ],
   "metadata": {}
  },
  {
   "cell_type": "code",
   "execution_count": 104,
   "source": [
    "%%time\n",
    "FNR_svm_30to40 = confusion_matrix_30to40[1,0] / (confusion_matrix_30to40[1,0] + confusion_matrix_30to40[0,0])\n",
    "\n",
    "FNR_svm_30to40 "
   ],
   "outputs": [
    {
     "output_type": "stream",
     "name": "stdout",
     "text": [
      "CPU times: user 59 µs, sys: 1 µs, total: 60 µs\n",
      "Wall time: 67.2 µs\n"
     ]
    },
    {
     "output_type": "execute_result",
     "data": {
      "text/plain": [
       "0.1193576388888889"
      ]
     },
     "metadata": {},
     "execution_count": 104
    }
   ],
   "metadata": {}
  },
  {
   "cell_type": "code",
   "execution_count": 105,
   "source": [
    "%%time\n",
    "FNR_svm_40to50 = confusion_matrix_40to50[1,0] / (confusion_matrix_40to50[1,0] + confusion_matrix_40to50[0,0])\n",
    "\n",
    "FNR_svm_40to50 "
   ],
   "outputs": [
    {
     "output_type": "stream",
     "name": "stdout",
     "text": [
      "CPU times: user 96 µs, sys: 33 µs, total: 129 µs\n",
      "Wall time: 233 µs\n"
     ]
    },
    {
     "output_type": "execute_result",
     "data": {
      "text/plain": [
       "0.12402088772845953"
      ]
     },
     "metadata": {},
     "execution_count": 105
    }
   ],
   "metadata": {}
  },
  {
   "cell_type": "code",
   "execution_count": 106,
   "source": [
    "%%time\n",
    "FNR_svm_g50 = confusion_matrix_g50[1,0] / (confusion_matrix_g50[1,0] + confusion_matrix_g50[0,0])\n",
    "\n",
    "FNR_svm_g50 "
   ],
   "outputs": [
    {
     "output_type": "stream",
     "name": "stdout",
     "text": [
      "CPU times: user 55 µs, sys: 1 µs, total: 56 µs\n",
      "Wall time: 62.9 µs\n"
     ]
    },
    {
     "output_type": "execute_result",
     "data": {
      "text/plain": [
       "0.11346316680779"
      ]
     },
     "metadata": {},
     "execution_count": 106
    }
   ],
   "metadata": {}
  },
  {
   "cell_type": "code",
   "execution_count": 107,
   "source": [
    "%%time\n",
    "# Fairness Through Unwareness\n",
    "\n",
    "x_train_unawareness = x_train.copy()\n",
    "x_train_unawareness\n",
    "x_train_unawareness.drop('catAge_<=30', inplace=True, axis=1)\n",
    "x_train_unawareness.drop('catAge_30-40', inplace=True, axis=1)\n",
    "x_train_unawareness.drop('catAge_40-50', inplace=True, axis=1)\n",
    "x_train_unawareness.drop('catAge_>=50', inplace=True, axis=1)\n",
    "\n",
    "\n",
    "# x_train_unawareness.columns.values\n",
    "# x_train.columns.values"
   ],
   "outputs": [
    {
     "output_type": "stream",
     "name": "stdout",
     "text": [
      "CPU times: user 26.5 ms, sys: 19.3 ms, total: 45.9 ms\n",
      "Wall time: 45.6 ms\n"
     ]
    }
   ],
   "metadata": {}
  },
  {
   "cell_type": "code",
   "execution_count": 108,
   "source": [
    "%%time\n",
    "#Fairness through unawareness\n",
    "\n",
    "\n",
    "x_test_unawareness = x_test.copy()\n",
    "x_test_unawareness\n",
    "x_test_l30 = x_test_unawareness[x_test_unawareness['catAge_<=30'] == 1]\n",
    "x_test_30to40 = x_test_unawareness[x_test_unawareness['catAge_30-40'] == 1]\n",
    "x_test_40to50 = x_test_unawareness[x_test_unawareness['catAge_40-50'] == 1]\n",
    "x_test_g50 = x_test_unawareness[x_test_unawareness['catAge_>=50'] == 1]\n",
    "\n",
    "\n",
    "x_test_l30.drop('catAge_<=30', inplace=True, axis=1)\n",
    "x_test_l30.drop('catAge_30-40', inplace=True, axis=1)\n",
    "x_test_l30.drop('catAge_40-50', inplace=True, axis=1)\n",
    "x_test_l30.drop('catAge_>=50', inplace=True, axis=1)\n",
    "\n",
    "x_test_30to40.drop('catAge_<=30', inplace=True, axis=1)\n",
    "x_test_30to40.drop('catAge_30-40', inplace=True, axis=1)\n",
    "x_test_30to40.drop('catAge_40-50', inplace=True, axis=1)\n",
    "x_test_30to40.drop('catAge_>=50', inplace=True, axis=1)\n",
    "\n",
    "x_test_40to50.drop('catAge_<=30', inplace=True, axis=1)\n",
    "x_test_40to50.drop('catAge_30-40', inplace=True, axis=1)\n",
    "x_test_40to50.drop('catAge_40-50', inplace=True, axis=1)\n",
    "x_test_40to50.drop('catAge_>=50', inplace=True, axis=1)\n",
    "\n",
    "x_test_g50.drop('catAge_<=30', inplace=True, axis=1)\n",
    "x_test_g50.drop('catAge_30-40', inplace=True, axis=1)\n",
    "x_test_g50.drop('catAge_40-50', inplace=True, axis=1)\n",
    "x_test_g50.drop('catAge_>=50', inplace=True, axis=1)\n",
    "\n"
   ],
   "outputs": [
    {
     "output_type": "stream",
     "name": "stdout",
     "text": [
      "CPU times: user 45.8 ms, sys: 16.4 ms, total: 62.3 ms\n",
      "Wall time: 62.5 ms\n"
     ]
    },
    {
     "output_type": "stream",
     "name": "stderr",
     "text": [
      "/Library/Frameworks/Python.framework/Versions/3.8/lib/python3.8/site-packages/pandas/core/frame.py:4163: SettingWithCopyWarning: \n",
      "A value is trying to be set on a copy of a slice from a DataFrame\n",
      "\n",
      "See the caveats in the documentation: https://pandas.pydata.org/pandas-docs/stable/user_guide/indexing.html#returning-a-view-versus-a-copy\n",
      "  return super().drop(\n"
     ]
    }
   ],
   "metadata": {}
  },
  {
   "cell_type": "code",
   "execution_count": 109,
   "source": [
    "%%time\n",
    "# Test on l30 set\n",
    "\n",
    "svm_pred_l30 = svm.fit(x_train_unawareness, y_train).predict(x_test_l30)\n",
    "\n",
    "test_df = x_test_l30.copy()\n",
    "test_df['biY'] = y_test\n",
    "test_df['pred'] = pd.Series(svm_pred_l30, index=test_df.index)\n",
    "test_df['accurate'] = (test_df['pred'] == test_df['biY'])\n",
    "\n",
    "from sklearn.metrics import confusion_matrix\n",
    "\n",
    "confusion_matrix_l30 = confusion_matrix(test_df['biY'], test_df['pred'])\n",
    "confusion_matrix_l30\n"
   ],
   "outputs": [
    {
     "output_type": "stream",
     "name": "stdout",
     "text": [
      "CPU times: user 4min 3s, sys: 1.3 s, total: 4min 4s\n",
      "Wall time: 4min 10s\n"
     ]
    },
    {
     "output_type": "execute_result",
     "data": {
      "text/plain": [
       "array([[855, 396],\n",
       "       [118,  47]])"
      ]
     },
     "metadata": {},
     "execution_count": 109
    }
   ],
   "metadata": {}
  },
  {
   "cell_type": "code",
   "execution_count": 110,
   "source": [
    "%%time\n",
    "accuracy_svm_l30 = (confusion_matrix_l30[0][0] + confusion_matrix_l30[1][1]) / (confusion_matrix_l30[0][0] + confusion_matrix_l30[0][1] + confusion_matrix_l30[1][0] + confusion_matrix_l30[1][1])\n",
    "accuracy_svm_l30"
   ],
   "outputs": [
    {
     "output_type": "stream",
     "name": "stdout",
     "text": [
      "CPU times: user 104 µs, sys: 207 µs, total: 311 µs\n",
      "Wall time: 113 µs\n"
     ]
    },
    {
     "output_type": "execute_result",
     "data": {
      "text/plain": [
       "0.6370056497175142"
      ]
     },
     "metadata": {},
     "execution_count": 110
    }
   ],
   "metadata": {}
  },
  {
   "cell_type": "code",
   "execution_count": 111,
   "source": [
    "%%time\n",
    "# Test on 30to40 set\n",
    "\n",
    "svm_pred_30to40 = svm.fit(x_train_unawareness, y_train).predict(x_test_30to40)\n",
    "\n",
    "test_df = x_test_30to40.copy()\n",
    "test_df['biY'] = y_test\n",
    "test_df['pred'] = pd.Series(svm_pred_30to40, index=test_df.index)\n",
    "test_df['accurate'] = (test_df['pred'] == test_df['biY'])\n",
    "\n",
    "from sklearn.metrics import confusion_matrix\n",
    "\n",
    "confusion_matrix_30to40 = confusion_matrix(test_df['biY'], test_df['pred'])\n",
    "confusion_matrix_30to40"
   ],
   "outputs": [
    {
     "output_type": "stream",
     "name": "stdout",
     "text": [
      "CPU times: user 4min 36s, sys: 3.4 s, total: 4min 39s\n",
      "Wall time: 5min 7s\n"
     ]
    },
    {
     "output_type": "execute_result",
     "data": {
      "text/plain": [
       "array([[2030, 1004],\n",
       "       [ 275,  135]])"
      ]
     },
     "metadata": {},
     "execution_count": 111
    }
   ],
   "metadata": {}
  },
  {
   "cell_type": "code",
   "execution_count": 112,
   "source": [
    "%%time\n",
    "accuracy_svm_30to40 = (confusion_matrix_30to40[0][0] + confusion_matrix_30to40[1][1]) / (confusion_matrix_30to40[0][0] + confusion_matrix_30to40[0][1] + confusion_matrix_30to40[1][0] + confusion_matrix_30to40[1][1])\n",
    "accuracy_svm_30to40 # 0.8718606782768102"
   ],
   "outputs": [
    {
     "output_type": "stream",
     "name": "stdout",
     "text": [
      "CPU times: user 88 µs, sys: 2 µs, total: 90 µs\n",
      "Wall time: 101 µs\n"
     ]
    },
    {
     "output_type": "execute_result",
     "data": {
      "text/plain": [
       "0.6286295005807201"
      ]
     },
     "metadata": {},
     "execution_count": 112
    }
   ],
   "metadata": {}
  },
  {
   "cell_type": "code",
   "execution_count": 113,
   "source": [
    "%%time\n",
    "# Test on 40to50 subset\n",
    "\n",
    "svm_pred_40to50 = svm.fit(x_train_unawareness, y_train).predict(x_test_40to50)\n",
    "\n",
    "test_df = x_test_40to50.copy()\n",
    "test_df['biY'] = y_test\n",
    "test_df['pred'] = pd.Series(svm_pred_40to50, index=test_df.index)\n",
    "test_df['accurate'] = (test_df['pred'] == test_df['biY'])\n",
    "\n",
    "from sklearn.metrics import confusion_matrix\n",
    "\n",
    "confusion_matrix_40to50 = confusion_matrix(test_df['biY'], test_df['pred'])\n",
    "confusion_matrix_40to50"
   ],
   "outputs": [
    {
     "output_type": "stream",
     "name": "stdout",
     "text": [
      "CPU times: user 3min 36s, sys: 966 ms, total: 3min 37s\n",
      "Wall time: 3min 39s\n"
     ]
    },
    {
     "output_type": "execute_result",
     "data": {
      "text/plain": [
       "array([[1342,  654],\n",
       "       [ 190,   88]])"
      ]
     },
     "metadata": {},
     "execution_count": 113
    }
   ],
   "metadata": {}
  },
  {
   "cell_type": "code",
   "execution_count": 114,
   "source": [
    "%%time\n",
    "accuracy_svm_40to50 = (confusion_matrix_40to50[0][0] + confusion_matrix_40to50[1][1]) / (confusion_matrix_40to50[0][0] + confusion_matrix_40to50[0][1] + confusion_matrix_40to50[1][0] + confusion_matrix_40to50[1][1])\n",
    "accuracy_svm_40to50 "
   ],
   "outputs": [
    {
     "output_type": "stream",
     "name": "stdout",
     "text": [
      "CPU times: user 52 µs, sys: 0 ns, total: 52 µs\n",
      "Wall time: 59.8 µs\n"
     ]
    },
    {
     "output_type": "execute_result",
     "data": {
      "text/plain": [
       "0.6288478452066842"
      ]
     },
     "metadata": {},
     "execution_count": 114
    }
   ],
   "metadata": {}
  },
  {
   "cell_type": "code",
   "execution_count": 115,
   "source": [
    "%%time\n",
    "# Test on g50 subset\n",
    "\n",
    "svm_pred_g50 = svm.fit(x_train_unawareness, y_train).predict(x_test_g50)\n",
    "\n",
    "test_df = x_test_g50.copy()\n",
    "test_df['biY'] = y_test\n",
    "test_df['pred'] = pd.Series(svm_pred_g50, index=test_df.index)\n",
    "test_df['accurate'] = (test_df['pred'] == test_df['biY'])\n",
    "\n",
    "from sklearn.metrics import confusion_matrix\n",
    "\n",
    "confusion_matrix_g50 = confusion_matrix(test_df['biY'], test_df['pred'])\n",
    "confusion_matrix_g50"
   ],
   "outputs": [
    {
     "output_type": "stream",
     "name": "stdout",
     "text": [
      "CPU times: user 3min 15s, sys: 1.46 s, total: 3min 17s\n",
      "Wall time: 3min 19s\n"
     ]
    },
    {
     "output_type": "execute_result",
     "data": {
      "text/plain": [
       "array([[1047,  599],\n",
       "       [ 134,   95]])"
      ]
     },
     "metadata": {},
     "execution_count": 115
    }
   ],
   "metadata": {}
  },
  {
   "cell_type": "code",
   "execution_count": 116,
   "source": [
    "%%time\n",
    "accuracy_svm_g50 = (confusion_matrix_g50[0][0] + confusion_matrix_g50[1][1]) / (confusion_matrix_g50[0][0] + confusion_matrix_g50[0][1] + confusion_matrix_g50[1][0] + confusion_matrix_g50[1][1])\n",
    "accuracy_svm_g50 "
   ],
   "outputs": [
    {
     "output_type": "stream",
     "name": "stdout",
     "text": [
      "CPU times: user 65 µs, sys: 2 µs, total: 67 µs\n",
      "Wall time: 73.9 µs\n"
     ]
    },
    {
     "output_type": "execute_result",
     "data": {
      "text/plain": [
       "0.6090666666666666"
      ]
     },
     "metadata": {},
     "execution_count": 116
    }
   ],
   "metadata": {}
  },
  {
   "cell_type": "markdown",
   "source": [
    "Logistic Regression Model"
   ],
   "metadata": {}
  },
  {
   "cell_type": "code",
   "execution_count": 117,
   "source": [
    "%%time\n",
    "from sklearn.datasets import load_iris\n",
    "from sklearn.linear_model import LogisticRegression\n",
    "clf = LogisticRegression(random_state=0, class_weight='balanced')\n",
    "clf_pred = clf.fit(x_train, y_train).predict(x_test)"
   ],
   "outputs": [
    {
     "output_type": "stream",
     "name": "stdout",
     "text": [
      "CPU times: user 1.63 s, sys: 132 ms, total: 1.76 s\n",
      "Wall time: 1.19 s\n"
     ]
    }
   ],
   "metadata": {}
  },
  {
   "cell_type": "code",
   "execution_count": 118,
   "source": [
    "%%time\n",
    "test_df = x_test.copy()\n",
    "test_df['biY'] = y_test\n",
    "test_df['pred'] = pd.Series(clf_pred, index=test_df.index)\n",
    "test_df['accurate'] = (test_df['pred'] == test_df['biY'])\n",
    "test_df.columns.values"
   ],
   "outputs": [
    {
     "output_type": "stream",
     "name": "stdout",
     "text": [
      "CPU times: user 4.06 ms, sys: 1.18 ms, total: 5.24 ms\n",
      "Wall time: 4.82 ms\n"
     ]
    },
    {
     "output_type": "execute_result",
     "data": {
      "text/plain": [
       "array(['balance', 'day', 'duration', 'campaign', 'pdays', 'previous',\n",
       "       'biDefault', 'biHousing', 'biLoan', 'catAge_30-40', 'catAge_40-50',\n",
       "       'catAge_<=30', 'catAge_>=50', 'job_admin.', 'job_blue-collar',\n",
       "       'job_entrepreneur', 'job_housemaid', 'job_management',\n",
       "       'job_retired', 'job_self-employed', 'job_services', 'job_student',\n",
       "       'job_technician', 'job_unemployed', 'marital_divorced',\n",
       "       'marital_married', 'marital_single', 'education_primary',\n",
       "       'education_secondary', 'education_tertiary', 'month_apr',\n",
       "       'month_aug', 'month_dec', 'month_feb', 'month_jan', 'month_jul',\n",
       "       'month_jun', 'month_mar', 'month_may', 'month_nov', 'month_oct',\n",
       "       'month_sep', 'Fmonth_apr', 'Fmonth_aug', 'Fmonth_dec',\n",
       "       'Fmonth_feb', 'Fmonth_jan', 'Fmonth_jul', 'Fmonth_jun',\n",
       "       'Fmonth_mar', 'Fmonth_may', 'Fmonth_nov', 'Fmonth_oct', 'biY',\n",
       "       'pred', 'accurate'], dtype=object)"
      ]
     },
     "metadata": {},
     "execution_count": 118
    }
   ],
   "metadata": {}
  },
  {
   "cell_type": "code",
   "execution_count": 119,
   "source": [
    "%%time\n",
    "from sklearn.metrics import confusion_matrix\n",
    "confusion_matrix = confusion_matrix(test_df['biY'], test_df['pred'])\n",
    "confusion_matrix"
   ],
   "outputs": [
    {
     "output_type": "stream",
     "name": "stdout",
     "text": [
      "CPU times: user 21.5 ms, sys: 6.07 ms, total: 27.5 ms\n",
      "Wall time: 39 ms\n"
     ]
    },
    {
     "output_type": "execute_result",
     "data": {
      "text/plain": [
       "array([[3904, 4023],\n",
       "       [ 539,  543]])"
      ]
     },
     "metadata": {},
     "execution_count": 119
    }
   ],
   "metadata": {}
  },
  {
   "cell_type": "code",
   "execution_count": 120,
   "source": [
    "%%time\n",
    "# Accuracy\n",
    "# \"Accuracy: \", test_df.accurate.mean()\n",
    "\n",
    "accuracy_clf = (confusion_matrix[0][0] + confusion_matrix[1][1]) / (confusion_matrix[0][0] + confusion_matrix[0][1] + confusion_matrix[1][0] + confusion_matrix[1][1])\n",
    "accuracy_clf"
   ],
   "outputs": [
    {
     "output_type": "stream",
     "name": "stdout",
     "text": [
      "CPU times: user 45 µs, sys: 1 µs, total: 46 µs\n",
      "Wall time: 50.3 µs\n"
     ]
    },
    {
     "output_type": "execute_result",
     "data": {
      "text/plain": [
       "0.49361749361749363"
      ]
     },
     "metadata": {},
     "execution_count": 120
    }
   ],
   "metadata": {}
  },
  {
   "cell_type": "code",
   "execution_count": 121,
   "source": [
    "%%time\n",
    "# Split dataset based on marital status\n",
    "\n",
    "test_df.columns.values\n",
    "test_l30 = x_test[x_test['catAge_<=30'] == 1]\n",
    "test_30to40 = x_test[x_test['catAge_30-40'] == 1]\n",
    "test_40to50 = x_test[x_test['catAge_40-50'] == 1]\n",
    "test_g50 = x_test[x_test['catAge_>=50'] == 1]"
   ],
   "outputs": [
    {
     "output_type": "stream",
     "name": "stdout",
     "text": [
      "CPU times: user 9.62 ms, sys: 2.74 ms, total: 12.4 ms\n",
      "Wall time: 11.4 ms\n"
     ]
    }
   ],
   "metadata": {}
  },
  {
   "cell_type": "code",
   "execution_count": 122,
   "source": [
    "%%time\n",
    "# Test on l30 subset\n",
    "\n",
    "clf_pred_l30 = clf.fit(x_train, y_train).predict(test_l30)\n",
    "\n",
    "test_df = test_l30.copy()\n",
    "test_df['biY'] = y_test\n",
    "test_df['pred'] = pd.Series(clf_pred_l30, index=test_df.index)\n",
    "test_df['accurate'] = (test_df['pred'] == test_df['biY'])\n",
    "\n",
    "from sklearn.metrics import confusion_matrix\n",
    "\n",
    "confusion_matrix_l30 = confusion_matrix(test_df['biY'], test_df['pred'])\n",
    "confusion_matrix_l30"
   ],
   "outputs": [
    {
     "output_type": "stream",
     "name": "stdout",
     "text": [
      "CPU times: user 1.4 s, sys: 61.8 ms, total: 1.46 s\n",
      "Wall time: 773 ms\n"
     ]
    },
    {
     "output_type": "execute_result",
     "data": {
      "text/plain": [
       "array([[865, 386],\n",
       "       [104,  61]])"
      ]
     },
     "metadata": {},
     "execution_count": 122
    }
   ],
   "metadata": {}
  },
  {
   "cell_type": "code",
   "execution_count": 123,
   "source": [
    "%%time\n",
    "accuracy_clf_l30 = (confusion_matrix_l30[0][0] + confusion_matrix_l30[1][1]) / (confusion_matrix_l30[0][0] + confusion_matrix_l30[0][1] + confusion_matrix_l30[1][0] + confusion_matrix_l30[1][1])\n",
    "accuracy_clf_l30"
   ],
   "outputs": [
    {
     "output_type": "stream",
     "name": "stdout",
     "text": [
      "CPU times: user 84 µs, sys: 7 µs, total: 91 µs\n",
      "Wall time: 50.8 µs\n"
     ]
    },
    {
     "output_type": "execute_result",
     "data": {
      "text/plain": [
       "0.653954802259887"
      ]
     },
     "metadata": {},
     "execution_count": 123
    }
   ],
   "metadata": {}
  },
  {
   "cell_type": "code",
   "execution_count": 124,
   "source": [
    "%%time\n",
    "# Test on 30to40 subset\n",
    "\n",
    "clf_pred_30to40 = clf.fit(x_train, y_train).predict(test_30to40)\n",
    "\n",
    "test_df = test_30to40.copy()\n",
    "test_df['biY'] = y_test\n",
    "test_df['pred'] = pd.Series(clf_pred_30to40, index=test_df.index)\n",
    "test_df['accurate'] = (test_df['pred'] == test_df['biY'])\n",
    "\n",
    "from sklearn.metrics import confusion_matrix\n",
    "\n",
    "confusion_matrix_30to40 = confusion_matrix(test_df['biY'], test_df['pred'])\n",
    "confusion_matrix_30to40"
   ],
   "outputs": [
    {
     "output_type": "stream",
     "name": "stdout",
     "text": [
      "CPU times: user 1.45 s, sys: 66.5 ms, total: 1.52 s\n",
      "Wall time: 783 ms\n"
     ]
    },
    {
     "output_type": "execute_result",
     "data": {
      "text/plain": [
       "array([[1689, 1345],\n",
       "       [ 236,  174]])"
      ]
     },
     "metadata": {},
     "execution_count": 124
    }
   ],
   "metadata": {}
  },
  {
   "cell_type": "code",
   "execution_count": 125,
   "source": [
    "%%time\n",
    "accuracy_clf_30to40 = (confusion_matrix_30to40[0][0] + confusion_matrix_30to40[1][1]) / (confusion_matrix_30to40[0][0] + confusion_matrix_30to40[0][1] + confusion_matrix_30to40[1][0] + confusion_matrix_30to40[1][1])\n",
    "accuracy_clf_30to40"
   ],
   "outputs": [
    {
     "output_type": "stream",
     "name": "stdout",
     "text": [
      "CPU times: user 82 µs, sys: 6 µs, total: 88 µs\n",
      "Wall time: 48.2 µs\n"
     ]
    },
    {
     "output_type": "execute_result",
     "data": {
      "text/plain": [
       "0.5409407665505227"
      ]
     },
     "metadata": {},
     "execution_count": 125
    }
   ],
   "metadata": {}
  },
  {
   "cell_type": "code",
   "execution_count": 126,
   "source": [
    "%%time\n",
    "# Test on 40to50 subset\n",
    "\n",
    "clf_pred_40to50 = clf.fit(x_train, y_train).predict(test_40to50)\n",
    " \n",
    "test_df = test_40to50.copy()\n",
    "test_df['biY'] = y_test\n",
    "test_df['pred'] = pd.Series(clf_pred_40to50, index=test_df.index)\n",
    "test_df['accurate'] = (test_df['pred'] == test_df['biY'])\n",
    " \n",
    "from sklearn.metrics import confusion_matrix\n",
    " \n",
    "confusion_matrix_40to50 = confusion_matrix(test_df['biY'], test_df['pred'])\n",
    "confusion_matrix_40to50"
   ],
   "outputs": [
    {
     "output_type": "stream",
     "name": "stdout",
     "text": [
      "CPU times: user 1.45 s, sys: 68.2 ms, total: 1.51 s\n",
      "Wall time: 772 ms\n"
     ]
    },
    {
     "output_type": "execute_result",
     "data": {
      "text/plain": [
       "array([[ 828, 1168],\n",
       "       [ 114,  164]])"
      ]
     },
     "metadata": {},
     "execution_count": 126
    }
   ],
   "metadata": {}
  },
  {
   "cell_type": "code",
   "execution_count": 127,
   "source": [
    "%%time\n",
    "accuracy_clf_40to50 = (confusion_matrix_40to50[0][0] + confusion_matrix_40to50[1][1]) / (confusion_matrix_40to50[0][0] + confusion_matrix_40to50[0][1] + confusion_matrix_40to50[1][0] + confusion_matrix_40to50[1][1])\n",
    "accuracy_clf_40to50 "
   ],
   "outputs": [
    {
     "output_type": "stream",
     "name": "stdout",
     "text": [
      "CPU times: user 77 µs, sys: 6 µs, total: 83 µs\n",
      "Wall time: 46 µs\n"
     ]
    },
    {
     "output_type": "execute_result",
     "data": {
      "text/plain": [
       "0.436235708003518"
      ]
     },
     "metadata": {},
     "execution_count": 127
    }
   ],
   "metadata": {}
  },
  {
   "cell_type": "code",
   "execution_count": 128,
   "source": [
    "%%time\n",
    "# Test on g50 subset\n",
    "\n",
    "clf_pred_g50 = clf.fit(x_train, y_train).predict(test_g50)\n",
    " \n",
    "test_df = test_g50.copy()\n",
    "test_df['biY'] = y_test\n",
    "test_df['pred'] = pd.Series(clf_pred_g50, index=test_df.index)\n",
    "test_df['accurate'] = (test_df['pred'] == test_df['biY'])\n",
    " \n",
    "from sklearn.metrics import confusion_matrix\n",
    " \n",
    "confusion_matrix_g50 = confusion_matrix(test_df['biY'], test_df['pred'])\n",
    "confusion_matrix_g50"
   ],
   "outputs": [
    {
     "output_type": "stream",
     "name": "stdout",
     "text": [
      "CPU times: user 1.45 s, sys: 79.8 ms, total: 1.53 s\n",
      "Wall time: 789 ms\n"
     ]
    },
    {
     "output_type": "execute_result",
     "data": {
      "text/plain": [
       "array([[ 522, 1124],\n",
       "       [  85,  144]])"
      ]
     },
     "metadata": {},
     "execution_count": 128
    }
   ],
   "metadata": {}
  },
  {
   "cell_type": "code",
   "execution_count": 129,
   "source": [
    "%%time\n",
    "accuracy_clf_g50 = (confusion_matrix_g50[0][0] + confusion_matrix_g50[1][1]) / (confusion_matrix_g50[0][0] + confusion_matrix_g50[0][1] + confusion_matrix_g50[1][0] + confusion_matrix_g50[1][1])\n",
    "accuracy_clf_g50 "
   ],
   "outputs": [
    {
     "output_type": "stream",
     "name": "stdout",
     "text": [
      "CPU times: user 83 µs, sys: 6 µs, total: 89 µs\n",
      "Wall time: 49.8 µs\n"
     ]
    },
    {
     "output_type": "execute_result",
     "data": {
      "text/plain": [
       "0.3552"
      ]
     },
     "metadata": {},
     "execution_count": 129
    }
   ],
   "metadata": {}
  },
  {
   "cell_type": "code",
   "execution_count": 130,
   "source": [
    "%%time\n",
    "#Demographic Parity\n",
    "# positive rate = TP + TN\n",
    "\n",
    "PR_clf_l30 = confusion_matrix_l30[0,0] +confusion_matrix_l30[1,1]\n",
    "PR_clf_l30 # 4756"
   ],
   "outputs": [
    {
     "output_type": "stream",
     "name": "stdout",
     "text": [
      "CPU times: user 78 µs, sys: 8 µs, total: 86 µs\n",
      "Wall time: 48.9 µs\n"
     ]
    },
    {
     "output_type": "execute_result",
     "data": {
      "text/plain": [
       "926"
      ]
     },
     "metadata": {},
     "execution_count": 130
    }
   ],
   "metadata": {}
  },
  {
   "cell_type": "code",
   "execution_count": 131,
   "source": [
    "%%time\n",
    "PR_clf_30to40 = confusion_matrix_30to40[0,0] +confusion_matrix_30to40[1,1]\n",
    "PR_clf_30to40 # 2136"
   ],
   "outputs": [
    {
     "output_type": "stream",
     "name": "stdout",
     "text": [
      "CPU times: user 63 µs, sys: 4 µs, total: 67 µs\n",
      "Wall time: 38.1 µs\n"
     ]
    },
    {
     "output_type": "execute_result",
     "data": {
      "text/plain": [
       "1863"
      ]
     },
     "metadata": {},
     "execution_count": 131
    }
   ],
   "metadata": {}
  },
  {
   "cell_type": "code",
   "execution_count": 132,
   "source": [
    "%%time\n",
    "PR_clf_40to50 = confusion_matrix_40to50[0,0] +confusion_matrix_40to50[1,1]\n",
    "PR_clf_40to50 # 2136"
   ],
   "outputs": [
    {
     "output_type": "stream",
     "name": "stdout",
     "text": [
      "CPU times: user 37 µs, sys: 0 ns, total: 37 µs\n",
      "Wall time: 42.2 µs\n"
     ]
    },
    {
     "output_type": "execute_result",
     "data": {
      "text/plain": [
       "992"
      ]
     },
     "metadata": {},
     "execution_count": 132
    }
   ],
   "metadata": {}
  },
  {
   "cell_type": "code",
   "execution_count": 133,
   "source": [
    "%%time\n",
    "PR_clf_g50 = confusion_matrix_g50[0,0] +confusion_matrix_g50[1,1]\n",
    "PR_clf_g50 # 2136"
   ],
   "outputs": [
    {
     "output_type": "stream",
     "name": "stdout",
     "text": [
      "CPU times: user 46 µs, sys: 1 µs, total: 47 µs\n",
      "Wall time: 53.9 µs\n"
     ]
    },
    {
     "output_type": "execute_result",
     "data": {
      "text/plain": [
       "666"
      ]
     },
     "metadata": {},
     "execution_count": 133
    }
   ],
   "metadata": {}
  },
  {
   "cell_type": "code",
   "execution_count": 134,
   "source": [
    "%%time\n",
    "# Equalized Opportunity\n",
    "#TPR = TP/TP+FN\n",
    "\n",
    "TPR_clf_l30 = confusion_matrix_l30[0,0] / (confusion_matrix_l30[0,0] + confusion_matrix_l30[1,0])\n",
    "\n",
    "TPR_clf_l30"
   ],
   "outputs": [
    {
     "output_type": "stream",
     "name": "stdout",
     "text": [
      "CPU times: user 40 µs, sys: 0 ns, total: 40 µs\n",
      "Wall time: 47 µs\n"
     ]
    },
    {
     "output_type": "execute_result",
     "data": {
      "text/plain": [
       "0.8926728586171311"
      ]
     },
     "metadata": {},
     "execution_count": 134
    }
   ],
   "metadata": {}
  },
  {
   "cell_type": "code",
   "execution_count": 135,
   "source": [
    "%%time\n",
    "TPR_clf_30to40 = confusion_matrix_30to40[0,0] / (confusion_matrix_30to40[0,0] + confusion_matrix_30to40[1,0])\n",
    "\n",
    "TPR_clf_30to40  "
   ],
   "outputs": [
    {
     "output_type": "stream",
     "name": "stdout",
     "text": [
      "CPU times: user 54 µs, sys: 2 µs, total: 56 µs\n",
      "Wall time: 64.1 µs\n"
     ]
    },
    {
     "output_type": "execute_result",
     "data": {
      "text/plain": [
       "0.8774025974025974"
      ]
     },
     "metadata": {},
     "execution_count": 135
    }
   ],
   "metadata": {}
  },
  {
   "cell_type": "code",
   "execution_count": 136,
   "source": [
    "%%time\n",
    "TPR_clf_40to50  = confusion_matrix_40to50[0,0] / (confusion_matrix_40to50[0,0] + confusion_matrix_40to50[1,0])\n",
    "\n",
    "TPR_clf_40to50 "
   ],
   "outputs": [
    {
     "output_type": "stream",
     "name": "stdout",
     "text": [
      "CPU times: user 35 µs, sys: 1 µs, total: 36 µs\n",
      "Wall time: 41 µs\n"
     ]
    },
    {
     "output_type": "execute_result",
     "data": {
      "text/plain": [
       "0.8789808917197452"
      ]
     },
     "metadata": {},
     "execution_count": 136
    }
   ],
   "metadata": {}
  },
  {
   "cell_type": "code",
   "execution_count": 137,
   "source": [
    "%%time\n",
    "TPR_clf_g50  = confusion_matrix_g50[0,0] / (confusion_matrix_g50[0,0] + confusion_matrix_g50[1,0])\n",
    "\n",
    "TPR_clf_g50 "
   ],
   "outputs": [
    {
     "output_type": "stream",
     "name": "stdout",
     "text": [
      "CPU times: user 51 µs, sys: 1 µs, total: 52 µs\n",
      "Wall time: 59.4 µs\n"
     ]
    },
    {
     "output_type": "execute_result",
     "data": {
      "text/plain": [
       "0.8599670510708401"
      ]
     },
     "metadata": {},
     "execution_count": 137
    }
   ],
   "metadata": {}
  },
  {
   "cell_type": "code",
   "execution_count": 138,
   "source": [
    "%%time\n",
    "# Equalized Odds\n",
    "#TPR = TP/TP+FN\n",
    "#FNR = FN/FN+TP\n",
    "\n",
    "\n",
    "FNR_clf_l30 = confusion_matrix_l30[1,0] / (confusion_matrix_l30[1,0] + confusion_matrix_l30[0,0])\n",
    "\n",
    "FNR_clf_l30 # 0.11652109273369263"
   ],
   "outputs": [
    {
     "output_type": "stream",
     "name": "stdout",
     "text": [
      "CPU times: user 51 µs, sys: 1 µs, total: 52 µs\n",
      "Wall time: 58.9 µs\n"
     ]
    },
    {
     "output_type": "execute_result",
     "data": {
      "text/plain": [
       "0.10732714138286893"
      ]
     },
     "metadata": {},
     "execution_count": 138
    }
   ],
   "metadata": {}
  },
  {
   "cell_type": "code",
   "execution_count": 139,
   "source": [
    "%%time\n",
    "FNR_clf_30to40 = confusion_matrix_30to40[1,0] / (confusion_matrix_30to40[1,0] + confusion_matrix_30to40[0,0])\n",
    "\n",
    "FNR_clf_30to40"
   ],
   "outputs": [
    {
     "output_type": "stream",
     "name": "stdout",
     "text": [
      "CPU times: user 49 µs, sys: 1 µs, total: 50 µs\n",
      "Wall time: 58.2 µs\n"
     ]
    },
    {
     "output_type": "execute_result",
     "data": {
      "text/plain": [
       "0.1225974025974026"
      ]
     },
     "metadata": {},
     "execution_count": 139
    }
   ],
   "metadata": {}
  },
  {
   "cell_type": "code",
   "execution_count": 140,
   "source": [
    "%%time\n",
    "FNR_clf_40to50 = confusion_matrix_40to50[1,0] / (confusion_matrix_40to50[1,0] + confusion_matrix_40to50[0,0])\n",
    "\n",
    "FNR_clf_40to50"
   ],
   "outputs": [
    {
     "output_type": "stream",
     "name": "stdout",
     "text": [
      "CPU times: user 51 µs, sys: 1 µs, total: 52 µs\n",
      "Wall time: 58.7 µs\n"
     ]
    },
    {
     "output_type": "execute_result",
     "data": {
      "text/plain": [
       "0.12101910828025478"
      ]
     },
     "metadata": {},
     "execution_count": 140
    }
   ],
   "metadata": {}
  },
  {
   "cell_type": "code",
   "execution_count": 141,
   "source": [
    "%%time\n",
    "FNR_clf_g50 = confusion_matrix_g50[1,0] / (confusion_matrix_g50[1,0] + confusion_matrix_g50[0,0])\n",
    "\n",
    "FNR_clf_g50"
   ],
   "outputs": [
    {
     "output_type": "stream",
     "name": "stdout",
     "text": [
      "CPU times: user 38 µs, sys: 1e+03 ns, total: 39 µs\n",
      "Wall time: 43.2 µs\n"
     ]
    },
    {
     "output_type": "execute_result",
     "data": {
      "text/plain": [
       "0.1400329489291598"
      ]
     },
     "metadata": {},
     "execution_count": 141
    }
   ],
   "metadata": {}
  },
  {
   "cell_type": "code",
   "execution_count": 142,
   "source": [
    "%%time\n",
    "# Fairness Through Unwareness\n",
    "\n",
    "x_train_unawareness = x_train.copy()\n",
    "x_train_unawareness\n",
    "x_train_unawareness.drop('catAge_<=30', inplace=True, axis=1)\n",
    "x_train_unawareness.drop('catAge_30-40', inplace=True, axis=1)\n",
    "x_train_unawareness.drop('catAge_40-50', inplace=True, axis=1)\n",
    "x_train_unawareness.drop('catAge_>=50', inplace=True, axis=1)\n",
    "\n",
    "# x_train_unawareness.columns.values\n",
    "# x_train.columns.values"
   ],
   "outputs": [
    {
     "output_type": "stream",
     "name": "stdout",
     "text": [
      "CPU times: user 21.8 ms, sys: 10.4 ms, total: 32.2 ms\n",
      "Wall time: 32.6 ms\n"
     ]
    }
   ],
   "metadata": {}
  },
  {
   "cell_type": "code",
   "execution_count": 143,
   "source": [
    "%%time\n",
    "#Fairness through unawareness\n",
    "\n",
    "x_test_unawareness = x_test.copy()\n",
    "x_test_unawareness\n",
    "x_test_l30 = x_test_unawareness[x_test_unawareness['catAge_<=30'] == 1]\n",
    "x_test_30to40 = x_test_unawareness[x_test_unawareness['catAge_30-40'] == 1]\n",
    "x_test_40to50 = x_test_unawareness[x_test_unawareness['catAge_40-50'] == 1]\n",
    "x_test_g50 = x_test_unawareness[x_test_unawareness['catAge_>=50'] == 1]\n",
    "\n",
    "\n",
    "x_test_l30.drop('catAge_<=30', inplace=True, axis=1)\n",
    "x_test_l30.drop('catAge_30-40', inplace=True, axis=1)\n",
    "x_test_l30.drop('catAge_40-50', inplace=True, axis=1)\n",
    "x_test_l30.drop('catAge_>=50', inplace=True, axis=1)\n",
    "\n",
    "x_test_30to40.drop('catAge_<=30', inplace=True, axis=1)\n",
    "x_test_30to40.drop('catAge_30-40', inplace=True, axis=1)\n",
    "x_test_30to40.drop('catAge_40-50', inplace=True, axis=1)\n",
    "x_test_30to40.drop('catAge_>=50', inplace=True, axis=1)\n",
    "\n",
    "x_test_40to50.drop('catAge_<=30', inplace=True, axis=1)\n",
    "x_test_40to50.drop('catAge_30-40', inplace=True, axis=1)\n",
    "x_test_40to50.drop('catAge_40-50', inplace=True, axis=1)\n",
    "x_test_40to50.drop('catAge_>=50', inplace=True, axis=1)\n",
    "\n",
    "x_test_g50.drop('catAge_<=30', inplace=True, axis=1)\n",
    "x_test_g50.drop('catAge_30-40', inplace=True, axis=1)\n",
    "x_test_g50.drop('catAge_40-50', inplace=True, axis=1)\n",
    "x_test_g50.drop('catAge_>=50', inplace=True, axis=1)\n",
    "\n",
    "\n",
    "\n",
    "# x_test_unawareness.columns.values\n",
    "# x_test.columns.values"
   ],
   "outputs": [
    {
     "output_type": "stream",
     "name": "stdout",
     "text": [
      "CPU times: user 30.8 ms, sys: 5.09 ms, total: 35.9 ms\n",
      "Wall time: 33.5 ms\n"
     ]
    },
    {
     "output_type": "stream",
     "name": "stderr",
     "text": [
      "/Library/Frameworks/Python.framework/Versions/3.8/lib/python3.8/site-packages/pandas/core/frame.py:4163: SettingWithCopyWarning: \n",
      "A value is trying to be set on a copy of a slice from a DataFrame\n",
      "\n",
      "See the caveats in the documentation: https://pandas.pydata.org/pandas-docs/stable/user_guide/indexing.html#returning-a-view-versus-a-copy\n",
      "  return super().drop(\n"
     ]
    }
   ],
   "metadata": {}
  },
  {
   "cell_type": "code",
   "execution_count": 144,
   "source": [
    "%%time\n",
    "# Test on l30 set\n",
    "\n",
    "clf_pred_l30 = clf.fit(x_train_unawareness, y_train).predict(x_test_l30)\n",
    "\n",
    "test_df = x_test_l30.copy()\n",
    "test_df['biY'] = y_test\n",
    "test_df['pred'] = pd.Series(clf_pred_l30, index=test_df.index)\n",
    "test_df['accurate'] = (test_df['pred'] == test_df['biY'])\n",
    "\n",
    "from sklearn.metrics import confusion_matrix\n",
    "\n",
    "confusion_matrix_l30 = confusion_matrix(test_df['biY'], test_df['pred'])\n",
    "confusion_matrix_l30"
   ],
   "outputs": [
    {
     "output_type": "stream",
     "name": "stdout",
     "text": [
      "CPU times: user 1.17 s, sys: 60.1 ms, total: 1.23 s\n",
      "Wall time: 833 ms\n"
     ]
    },
    {
     "output_type": "execute_result",
     "data": {
      "text/plain": [
       "array([[788, 463],\n",
       "       [ 86,  79]])"
      ]
     },
     "metadata": {},
     "execution_count": 144
    }
   ],
   "metadata": {}
  },
  {
   "cell_type": "code",
   "execution_count": 145,
   "source": [
    "%%time\n",
    "accuracy_clf_l30 = (confusion_matrix_l30[0][0] + confusion_matrix_l30[1][1]) / (confusion_matrix_l30[0][0] + confusion_matrix_l30[0][1] + confusion_matrix_l30[1][0] + confusion_matrix_l30[1][1])\n",
    "accuracy_clf_l30"
   ],
   "outputs": [
    {
     "output_type": "stream",
     "name": "stdout",
     "text": [
      "CPU times: user 75 µs, sys: 6 µs, total: 81 µs\n",
      "Wall time: 44.1 µs\n"
     ]
    },
    {
     "output_type": "execute_result",
     "data": {
      "text/plain": [
       "0.6122881355932204"
      ]
     },
     "metadata": {},
     "execution_count": 145
    }
   ],
   "metadata": {}
  },
  {
   "cell_type": "code",
   "execution_count": 146,
   "source": [
    "%%time\n",
    "# Test on 30to40 set\n",
    "\n",
    "clf_pred_30to40 = clf.fit(x_train_unawareness, y_train).predict(x_test_30to40)\n",
    "\n",
    "test_df = x_test_30to40.copy()\n",
    "test_df['biY'] = y_test\n",
    "test_df['pred'] = pd.Series(clf_pred_30to40, index=test_df.index)\n",
    "test_df['accurate'] = (test_df['pred'] == test_df['biY'])\n",
    "\n",
    "from sklearn.metrics import confusion_matrix\n",
    "\n",
    "confusion_matrix_30to40 = confusion_matrix(test_df['biY'], test_df['pred'])\n",
    "confusion_matrix_30to40\n"
   ],
   "outputs": [
    {
     "output_type": "stream",
     "name": "stdout",
     "text": [
      "CPU times: user 1.23 s, sys: 71.4 ms, total: 1.3 s\n",
      "Wall time: 689 ms\n"
     ]
    },
    {
     "output_type": "execute_result",
     "data": {
      "text/plain": [
       "array([[1606, 1428],\n",
       "       [ 229,  181]])"
      ]
     },
     "metadata": {},
     "execution_count": 146
    }
   ],
   "metadata": {}
  },
  {
   "cell_type": "code",
   "execution_count": 147,
   "source": [
    "%%time\n",
    "accuracy_clf_30to40 = (confusion_matrix_30to40[0][0] + confusion_matrix_30to40[1][1]) / (confusion_matrix_30to40[0][0] + confusion_matrix_30to40[0][1] + confusion_matrix_30to40[1][0] + confusion_matrix_30to40[1][1])\n",
    "accuracy_clf_30to40 "
   ],
   "outputs": [
    {
     "output_type": "stream",
     "name": "stdout",
     "text": [
      "CPU times: user 83 µs, sys: 7 µs, total: 90 µs\n",
      "Wall time: 50.1 µs\n"
     ]
    },
    {
     "output_type": "execute_result",
     "data": {
      "text/plain": [
       "0.5188734030197445"
      ]
     },
     "metadata": {},
     "execution_count": 147
    }
   ],
   "metadata": {}
  },
  {
   "cell_type": "code",
   "execution_count": 148,
   "source": [
    "%%time\n",
    "# Test on 40to50 set\n",
    "\n",
    "clf_pred_40to50 = clf.fit(x_train_unawareness, y_train).predict(x_test_40to50)\n",
    "\n",
    "test_df = x_test_40to50.copy()\n",
    "test_df['biY'] = y_test\n",
    "test_df['pred'] = pd.Series(clf_pred_40to50, index=test_df.index)\n",
    "test_df['accurate'] = (test_df['pred'] == test_df['biY'])\n",
    "\n",
    "from sklearn.metrics import confusion_matrix\n",
    "\n",
    "confusion_matrix_40to50 = confusion_matrix(test_df['biY'], test_df['pred'])\n",
    "confusion_matrix_40to50"
   ],
   "outputs": [
    {
     "output_type": "stream",
     "name": "stdout",
     "text": [
      "CPU times: user 1.22 s, sys: 65.7 ms, total: 1.28 s\n",
      "Wall time: 657 ms\n"
     ]
    },
    {
     "output_type": "execute_result",
     "data": {
      "text/plain": [
       "array([[ 874, 1122],\n",
       "       [ 121,  157]])"
      ]
     },
     "metadata": {},
     "execution_count": 148
    }
   ],
   "metadata": {}
  },
  {
   "cell_type": "code",
   "execution_count": 149,
   "source": [
    "%%time\n",
    "accuracy_clf_40to50 = (confusion_matrix_40to50[0][0] + confusion_matrix_40to50[1][1]) / (confusion_matrix_40to50[0][0] + confusion_matrix_40to50[0][1] + confusion_matrix_40to50[1][0] + confusion_matrix_40to50[1][1])\n",
    "accuracy_clf_40to50 # 0.8718606782768102"
   ],
   "outputs": [
    {
     "output_type": "stream",
     "name": "stdout",
     "text": [
      "CPU times: user 78 µs, sys: 6 µs, total: 84 µs\n",
      "Wall time: 46.7 µs\n"
     ]
    },
    {
     "output_type": "execute_result",
     "data": {
      "text/plain": [
       "0.45338610378188215"
      ]
     },
     "metadata": {},
     "execution_count": 149
    }
   ],
   "metadata": {}
  },
  {
   "cell_type": "code",
   "execution_count": 150,
   "source": [
    "%%time\n",
    "# Test on g50 set\n",
    "\n",
    "clf_pred_g50 = clf.fit(x_train_unawareness, y_train).predict(x_test_g50)\n",
    "\n",
    "test_df = x_test_g50.copy()\n",
    "test_df['biY'] = y_test\n",
    "test_df['pred'] = pd.Series(clf_pred_g50, index=test_df.index)\n",
    "test_df['accurate'] = (test_df['pred'] == test_df['biY'])\n",
    "\n",
    "from sklearn.metrics import confusion_matrix\n",
    "\n",
    "confusion_matrix_g50 = confusion_matrix(test_df['biY'], test_df['pred'])\n",
    "confusion_matrix_g50"
   ],
   "outputs": [
    {
     "output_type": "stream",
     "name": "stdout",
     "text": [
      "CPU times: user 1.27 s, sys: 70.6 ms, total: 1.34 s\n",
      "Wall time: 698 ms\n"
     ]
    },
    {
     "output_type": "execute_result",
     "data": {
      "text/plain": [
       "array([[ 641, 1005],\n",
       "       [ 103,  126]])"
      ]
     },
     "metadata": {},
     "execution_count": 150
    }
   ],
   "metadata": {}
  },
  {
   "cell_type": "code",
   "execution_count": 151,
   "source": [
    "%%time\n",
    "accuracy_clf_g50 = (confusion_matrix_g50[0][0] + confusion_matrix_g50[1][1]) / (confusion_matrix_g50[0][0] + confusion_matrix_g50[0][1] + confusion_matrix_g50[1][0] + confusion_matrix_g50[1][1])\n",
    "accuracy_clf_g50 # 0.8718606782768102"
   ],
   "outputs": [
    {
     "output_type": "stream",
     "name": "stdout",
     "text": [
      "CPU times: user 92 µs, sys: 7 µs, total: 99 µs\n",
      "Wall time: 56 µs\n"
     ]
    },
    {
     "output_type": "execute_result",
     "data": {
      "text/plain": [
       "0.4090666666666667"
      ]
     },
     "metadata": {},
     "execution_count": 151
    }
   ],
   "metadata": {}
  }
 ],
 "metadata": {
  "kernelspec": {
   "name": "python3",
   "display_name": "Python 3.8.1 64-bit"
  },
  "language_info": {
   "codemirror_mode": {
    "name": "ipython",
    "version": 3
   },
   "file_extension": ".py",
   "mimetype": "text/x-python",
   "name": "python",
   "nbconvert_exporter": "python",
   "pygments_lexer": "ipython3",
   "version": "3.8.1"
  },
  "interpreter": {
   "hash": "0adcc2737ebf6a4a119f135174df96668767fca1ef1112612db5ecadf2b6d608"
  }
 },
 "nbformat": 4,
 "nbformat_minor": 4
}