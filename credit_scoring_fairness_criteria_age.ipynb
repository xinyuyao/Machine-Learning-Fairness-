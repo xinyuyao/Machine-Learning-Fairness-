{
 "cells": [
  {
   "cell_type": "markdown",
   "source": [
    "Credit Scoring Fairness Criteria"
   ],
   "metadata": {}
  },
  {
   "cell_type": "markdown",
   "source": [
    "Load the dataset"
   ],
   "metadata": {}
  },
  {
   "cell_type": "code",
   "execution_count": 1,
   "source": [
    "import pandas as pd\n",
    "import numpy as np\n",
    "import matplotlib.pyplot as plt\n",
    "import matplotlib.cm as cm"
   ],
   "outputs": [],
   "metadata": {}
  },
  {
   "cell_type": "markdown",
   "source": [
    "Load the dataset"
   ],
   "metadata": {}
  },
  {
   "cell_type": "code",
   "execution_count": 2,
   "source": [
    "import os\n",
    "BANK_PATH = os.path.join(os.getcwd(), 'ML fairness/ml bank dataset/bankfullclean.csv') # Assign this to the location of the dataset\n",
    "print(os.getcwd())\n",
    "print(BANK_PATH)\n",
    "\n",
    "# 5254 number of rows have 'biY' == 1\n",
    "# 39787 number of rows have 'biY' == 0\n"
   ],
   "outputs": [
    {
     "output_type": "stream",
     "name": "stdout",
     "text": [
      "/Users/xinyu/Desktop/Research/Machine-Learning-Fairness--main\n",
      "/Users/xinyu/Desktop/Research/Machine-Learning-Fairness--main/ML fairness/ml bank dataset/bankfullclean.csv\n"
     ]
    }
   ],
   "metadata": {}
  },
  {
   "cell_type": "code",
   "execution_count": 3,
   "source": [
    "bank = pd.read_csv(BANK_PATH)\n",
    "df = pd.DataFrame(bank)\n",
    "df.head()\n",
    "dummy = df[['catAge', 'job', 'marital','education','balance','day', 'month', 'duration', 'campaign', 'pdays', 'previous', 'Fmonth', 'biDefault', 'biHousing', 'biLoan']]\n",
    "# dummy.columns.values\n",
    "dummy = pd.get_dummies(data=dummy)\n",
    "# dummy.head()\n",
    "dummy.columns.values\n",
    "# df['marital'].unique()\n",
    "\n",
    "# df['biY'].replace({0: False, 1: True}, inplace=True)\n",
    "# print(df['biY'])\n"
   ],
   "outputs": [
    {
     "output_type": "execute_result",
     "data": {
      "text/plain": [
       "array(['balance', 'day', 'duration', 'campaign', 'pdays', 'previous',\n",
       "       'biDefault', 'biHousing', 'biLoan', 'catAge_30-40', 'catAge_40-50',\n",
       "       'catAge_<=30', 'catAge_>=50', 'job_admin.', 'job_blue-collar',\n",
       "       'job_entrepreneur', 'job_housemaid', 'job_management',\n",
       "       'job_retired', 'job_self-employed', 'job_services', 'job_student',\n",
       "       'job_technician', 'job_unemployed', 'marital_divorced',\n",
       "       'marital_married', 'marital_single', 'education_primary',\n",
       "       'education_secondary', 'education_tertiary', 'month_apr',\n",
       "       'month_aug', 'month_dec', 'month_feb', 'month_jan', 'month_jul',\n",
       "       'month_jun', 'month_mar', 'month_may', 'month_nov', 'month_oct',\n",
       "       'month_sep', 'Fmonth_apr', 'Fmonth_aug', 'Fmonth_dec',\n",
       "       'Fmonth_feb', 'Fmonth_jan', 'Fmonth_jul', 'Fmonth_jun',\n",
       "       'Fmonth_mar', 'Fmonth_may', 'Fmonth_nov', 'Fmonth_oct'],\n",
       "      dtype=object)"
      ]
     },
     "metadata": {},
     "execution_count": 3
    }
   ],
   "metadata": {}
  },
  {
   "cell_type": "markdown",
   "source": [
    "Machine Learning Classification Model"
   ],
   "metadata": {}
  },
  {
   "cell_type": "code",
   "execution_count": 4,
   "source": [
    "from sklearn.model_selection import train_test_split\n",
    "from sklearn.model_selection import LeaveOneOut"
   ],
   "outputs": [],
   "metadata": {}
  },
  {
   "cell_type": "code",
   "execution_count": 5,
   "source": [
    "def get_naive_dataset(dataset):\n",
    "    dataset = dataset.sample(frac=1).reset_index(drop=True)\n",
    "    X = dummy\n",
    "    y = dataset['biY']\n",
    "    x_train, x_test, y_train, y_test = train_test_split(X, y, test_size=0.2)\n",
    "    \n",
    "    return (x_train, y_train), (x_test, y_test)"
   ],
   "outputs": [],
   "metadata": {}
  },
  {
   "cell_type": "code",
   "execution_count": 6,
   "source": [
    "(x_train, y_train), (x_test, y_test) = get_naive_dataset(df)"
   ],
   "outputs": [],
   "metadata": {}
  },
  {
   "cell_type": "code",
   "execution_count": 7,
   "source": [
    "x_train.columns.values"
   ],
   "outputs": [
    {
     "output_type": "execute_result",
     "data": {
      "text/plain": [
       "array(['balance', 'day', 'duration', 'campaign', 'pdays', 'previous',\n",
       "       'biDefault', 'biHousing', 'biLoan', 'catAge_30-40', 'catAge_40-50',\n",
       "       'catAge_<=30', 'catAge_>=50', 'job_admin.', 'job_blue-collar',\n",
       "       'job_entrepreneur', 'job_housemaid', 'job_management',\n",
       "       'job_retired', 'job_self-employed', 'job_services', 'job_student',\n",
       "       'job_technician', 'job_unemployed', 'marital_divorced',\n",
       "       'marital_married', 'marital_single', 'education_primary',\n",
       "       'education_secondary', 'education_tertiary', 'month_apr',\n",
       "       'month_aug', 'month_dec', 'month_feb', 'month_jan', 'month_jul',\n",
       "       'month_jun', 'month_mar', 'month_may', 'month_nov', 'month_oct',\n",
       "       'month_sep', 'Fmonth_apr', 'Fmonth_aug', 'Fmonth_dec',\n",
       "       'Fmonth_feb', 'Fmonth_jan', 'Fmonth_jul', 'Fmonth_jun',\n",
       "       'Fmonth_mar', 'Fmonth_may', 'Fmonth_nov', 'Fmonth_oct'],\n",
       "      dtype=object)"
      ]
     },
     "metadata": {},
     "execution_count": 7
    }
   ],
   "metadata": {}
  },
  {
   "cell_type": "code",
   "execution_count": 8,
   "source": [
    "y_train.values"
   ],
   "outputs": [
    {
     "output_type": "execute_result",
     "data": {
      "text/plain": [
       "array([0, 0, 0, ..., 0, 0, 0])"
      ]
     },
     "metadata": {},
     "execution_count": 8
    }
   ],
   "metadata": {}
  },
  {
   "cell_type": "code",
   "execution_count": 9,
   "source": [
    "x_test.columns.values"
   ],
   "outputs": [
    {
     "output_type": "execute_result",
     "data": {
      "text/plain": [
       "array(['balance', 'day', 'duration', 'campaign', 'pdays', 'previous',\n",
       "       'biDefault', 'biHousing', 'biLoan', 'catAge_30-40', 'catAge_40-50',\n",
       "       'catAge_<=30', 'catAge_>=50', 'job_admin.', 'job_blue-collar',\n",
       "       'job_entrepreneur', 'job_housemaid', 'job_management',\n",
       "       'job_retired', 'job_self-employed', 'job_services', 'job_student',\n",
       "       'job_technician', 'job_unemployed', 'marital_divorced',\n",
       "       'marital_married', 'marital_single', 'education_primary',\n",
       "       'education_secondary', 'education_tertiary', 'month_apr',\n",
       "       'month_aug', 'month_dec', 'month_feb', 'month_jan', 'month_jul',\n",
       "       'month_jun', 'month_mar', 'month_may', 'month_nov', 'month_oct',\n",
       "       'month_sep', 'Fmonth_apr', 'Fmonth_aug', 'Fmonth_dec',\n",
       "       'Fmonth_feb', 'Fmonth_jan', 'Fmonth_jul', 'Fmonth_jun',\n",
       "       'Fmonth_mar', 'Fmonth_may', 'Fmonth_nov', 'Fmonth_oct'],\n",
       "      dtype=object)"
      ]
     },
     "metadata": {},
     "execution_count": 9
    }
   ],
   "metadata": {}
  },
  {
   "cell_type": "code",
   "execution_count": 10,
   "source": [
    "y_test.values"
   ],
   "outputs": [
    {
     "output_type": "execute_result",
     "data": {
      "text/plain": [
       "array([0, 0, 0, ..., 0, 0, 0])"
      ]
     },
     "metadata": {},
     "execution_count": 10
    }
   ],
   "metadata": {}
  },
  {
   "cell_type": "markdown",
   "source": [
    "Naive Bayes Model"
   ],
   "metadata": {}
  },
  {
   "cell_type": "code",
   "execution_count": 11,
   "source": [
    "%%time\n",
    "from sklearn.naive_bayes import GaussianNB\n",
    "gnb = GaussianNB()\n",
    "gnb_pred = gnb.fit(x_train, y_train).predict(x_test)"
   ],
   "outputs": [
    {
     "output_type": "stream",
     "name": "stdout",
     "text": [
      "CPU times: user 148 ms, sys: 78.1 ms, total: 226 ms\n",
      "Wall time: 487 ms\n"
     ]
    }
   ],
   "metadata": {}
  },
  {
   "cell_type": "markdown",
   "source": [
    "Result"
   ],
   "metadata": {}
  },
  {
   "cell_type": "code",
   "execution_count": 12,
   "source": [
    "test_df = x_test.copy()\n",
    "test_df['biY'] = y_test\n",
    "test_df['pred'] = pd.Series(gnb_pred, index=test_df.index)\n",
    "test_df['accurate'] = (test_df['pred'] == test_df['biY'])\n",
    "test_df.columns.values"
   ],
   "outputs": [
    {
     "output_type": "execute_result",
     "data": {
      "text/plain": [
       "array(['balance', 'day', 'duration', 'campaign', 'pdays', 'previous',\n",
       "       'biDefault', 'biHousing', 'biLoan', 'catAge_30-40', 'catAge_40-50',\n",
       "       'catAge_<=30', 'catAge_>=50', 'job_admin.', 'job_blue-collar',\n",
       "       'job_entrepreneur', 'job_housemaid', 'job_management',\n",
       "       'job_retired', 'job_self-employed', 'job_services', 'job_student',\n",
       "       'job_technician', 'job_unemployed', 'marital_divorced',\n",
       "       'marital_married', 'marital_single', 'education_primary',\n",
       "       'education_secondary', 'education_tertiary', 'month_apr',\n",
       "       'month_aug', 'month_dec', 'month_feb', 'month_jan', 'month_jul',\n",
       "       'month_jun', 'month_mar', 'month_may', 'month_nov', 'month_oct',\n",
       "       'month_sep', 'Fmonth_apr', 'Fmonth_aug', 'Fmonth_dec',\n",
       "       'Fmonth_feb', 'Fmonth_jan', 'Fmonth_jul', 'Fmonth_jun',\n",
       "       'Fmonth_mar', 'Fmonth_may', 'Fmonth_nov', 'Fmonth_oct', 'biY',\n",
       "       'pred', 'accurate'], dtype=object)"
      ]
     },
     "metadata": {},
     "execution_count": 12
    }
   ],
   "metadata": {}
  },
  {
   "cell_type": "code",
   "execution_count": 13,
   "source": [
    "from sklearn.metrics import confusion_matrix"
   ],
   "outputs": [],
   "metadata": {}
  },
  {
   "cell_type": "code",
   "execution_count": 14,
   "source": [
    "\n",
    "confusion_matrix = confusion_matrix(test_df['biY'], test_df['pred'])\n",
    "confusion_matrix"
   ],
   "outputs": [
    {
     "output_type": "execute_result",
     "data": {
      "text/plain": [
       "array([[7539,  407],\n",
       "       [ 993,   70]])"
      ]
     },
     "metadata": {},
     "execution_count": 14
    }
   ],
   "metadata": {}
  },
  {
   "cell_type": "code",
   "execution_count": 15,
   "source": [
    "# Accuracy\n",
    "# \"Accuracy: \", test_df.accurate.mean()\n",
    "accuracy_naive_bayes = (confusion_matrix[0][0] + confusion_matrix[1][1]) / (confusion_matrix[0][0] + confusion_matrix[0][1] + confusion_matrix[1][0] + confusion_matrix[1][1])\n",
    "accuracy_naive_bayes\n",
    "\n"
   ],
   "outputs": [
    {
     "output_type": "execute_result",
     "data": {
      "text/plain": [
       "0.8445998445998446"
      ]
     },
     "metadata": {},
     "execution_count": 15
    }
   ],
   "metadata": {}
  },
  {
   "cell_type": "code",
   "execution_count": 16,
   "source": [
    "# Split dataset based on marital status\n",
    "test_df.columns.values\n",
    "test_l30 = x_test[x_test['catAge_<=30'] == 1]\n",
    "test_30to40 = x_test[x_test['catAge_30-40'] == 1]\n",
    "test_40to50 = x_test[x_test['catAge_40-50'] == 1]\n",
    "test_g50 = x_test[x_test['catAge_>=50'] == 1]"
   ],
   "outputs": [],
   "metadata": {}
  },
  {
   "cell_type": "code",
   "execution_count": 17,
   "source": [
    "# Test on l30 subset\n",
    "gnb_pred_l30 = gnb.fit(x_train, y_train).predict(test_l30)\n",
    "\n",
    "test_df = test_l30.copy()\n",
    "test_df['biY'] = y_test\n",
    "test_df['pred'] = pd.Series(gnb_pred_l30, index=test_df.index)\n",
    "test_df['accurate'] = (test_df['pred'] == test_df['biY'])\n",
    "\n",
    "from sklearn.metrics import confusion_matrix\n",
    "\n",
    "confusion_matrix_l30 = confusion_matrix(test_df['biY'], test_df['pred'])\n",
    "confusion_matrix_l30\n"
   ],
   "outputs": [
    {
     "output_type": "execute_result",
     "data": {
      "text/plain": [
       "array([[1120,  107],\n",
       "       [ 148,   19]])"
      ]
     },
     "metadata": {},
     "execution_count": 17
    }
   ],
   "metadata": {}
  },
  {
   "cell_type": "code",
   "execution_count": 18,
   "source": [
    "accuracy_naive_bayes_l30 = (confusion_matrix_l30[0][0] + confusion_matrix_l30[1][1]) / (confusion_matrix_l30[0][0] + confusion_matrix_l30[0][1] + confusion_matrix_l30[1][0] + confusion_matrix_l30[1][1])\n",
    "accuracy_naive_bayes_l30"
   ],
   "outputs": [
    {
     "output_type": "execute_result",
     "data": {
      "text/plain": [
       "0.8170731707317073"
      ]
     },
     "metadata": {},
     "execution_count": 18
    }
   ],
   "metadata": {}
  },
  {
   "cell_type": "code",
   "execution_count": 19,
   "source": [
    "# Test on 30to40 subset\n",
    "gnb_pred_30to40 = gnb.fit(x_train, y_train).predict(test_30to40)\n",
    "\n",
    "test_df = test_30to40.copy()\n",
    "test_df['biY'] = y_test\n",
    "test_df['pred'] = pd.Series(gnb_pred_30to40, index=test_df.index)\n",
    "test_df['accurate'] = (test_df['pred'] == test_df['biY'])\n",
    "\n",
    "from sklearn.metrics import confusion_matrix\n",
    "\n",
    "confusion_matrix_30to40 = confusion_matrix(test_df['biY'], test_df['pred'])\n",
    "confusion_matrix_30to40"
   ],
   "outputs": [
    {
     "output_type": "execute_result",
     "data": {
      "text/plain": [
       "array([[2973,  142],\n",
       "       [ 419,   26]])"
      ]
     },
     "metadata": {},
     "execution_count": 19
    }
   ],
   "metadata": {}
  },
  {
   "cell_type": "code",
   "execution_count": 20,
   "source": [
    "accuracy_naive_bayes_30to40 = (confusion_matrix_30to40[0][0] + confusion_matrix_30to40[1][1]) / (confusion_matrix_30to40[0][0] + confusion_matrix_30to40[0][1] + confusion_matrix_30to40[1][0] + confusion_matrix_30to40[1][1])\n",
    "accuracy_naive_bayes_30to40"
   ],
   "outputs": [
    {
     "output_type": "execute_result",
     "data": {
      "text/plain": [
       "0.8424157303370786"
      ]
     },
     "metadata": {},
     "execution_count": 20
    }
   ],
   "metadata": {}
  },
  {
   "cell_type": "code",
   "execution_count": 21,
   "source": [
    "# Test on 40to50 subset\n",
    "gnb_pred_40to50 = gnb.fit(x_train, y_train).predict(test_40to50)\n",
    "\n",
    "test_df = test_40to50.copy()\n",
    "test_df['biY'] = y_test\n",
    "test_df['pred'] = pd.Series(gnb_pred_40to50, index=test_df.index)\n",
    "test_df['accurate'] = (test_df['pred'] == test_df['biY'])\n",
    "\n",
    "from sklearn.metrics import confusion_matrix\n",
    "\n",
    "confusion_matrix_40to50 = confusion_matrix(test_df['biY'], test_df['pred'])\n",
    "confusion_matrix_40to50"
   ],
   "outputs": [
    {
     "output_type": "execute_result",
     "data": {
      "text/plain": [
       "array([[1918,   84],\n",
       "       [ 229,   13]])"
      ]
     },
     "metadata": {},
     "execution_count": 21
    }
   ],
   "metadata": {}
  },
  {
   "cell_type": "code",
   "execution_count": 22,
   "source": [
    "accuracy_naive_bayes_40to50 = (confusion_matrix_40to50[0][0] + confusion_matrix_40to50[1][1]) / (confusion_matrix_40to50[0][0] + confusion_matrix_40to50[0][1] + confusion_matrix_40to50[1][0] + confusion_matrix_40to50[1][1])\n",
    "accuracy_naive_bayes_40to50 # 0.8718606782768102"
   ],
   "outputs": [
    {
     "output_type": "execute_result",
     "data": {
      "text/plain": [
       "0.8605169340463458"
      ]
     },
     "metadata": {},
     "execution_count": 22
    }
   ],
   "metadata": {}
  },
  {
   "cell_type": "code",
   "execution_count": 23,
   "source": [
    "# Test on g50 subset\n",
    "gnb_pred_g50 = gnb.fit(x_train, y_train).predict(test_g50)\n",
    "\n",
    "test_df = test_g50.copy()\n",
    "test_df['biY'] = y_test\n",
    "test_df['pred'] = pd.Series(gnb_pred_g50, index=test_df.index)\n",
    "test_df['accurate'] = (test_df['pred'] == test_df['biY'])\n",
    "\n",
    "from sklearn.metrics import confusion_matrix\n",
    "\n",
    "confusion_matrix_g50 = confusion_matrix(test_df['biY'], test_df['pred'])\n",
    "confusion_matrix_g50"
   ],
   "outputs": [
    {
     "output_type": "execute_result",
     "data": {
      "text/plain": [
       "array([[1528,   74],\n",
       "       [ 197,   12]])"
      ]
     },
     "metadata": {},
     "execution_count": 23
    }
   ],
   "metadata": {}
  },
  {
   "cell_type": "code",
   "execution_count": 24,
   "source": [
    "accuracy_naive_bayes_g50 = (confusion_matrix_g50[0][0] + confusion_matrix_g50[1][1]) / (confusion_matrix_g50[0][0] + confusion_matrix_g50[0][1] + confusion_matrix_g50[1][0] + confusion_matrix_g50[1][1])\n",
    "accuracy_naive_bayes_g50 # 0.8718606782768102"
   ],
   "outputs": [
    {
     "output_type": "execute_result",
     "data": {
      "text/plain": [
       "0.8503589177250138"
      ]
     },
     "metadata": {},
     "execution_count": 24
    }
   ],
   "metadata": {}
  },
  {
   "cell_type": "code",
   "execution_count": 25,
   "source": [
    "#Demographic Parity\n",
    "# positive rate = TP + TN\n",
    "PR_Naive_Bayes_l30 = confusion_matrix_l30[0,0] +confusion_matrix_l30[1,1]\n",
    "\n",
    "PR_Naive_Bayes_l30 \n"
   ],
   "outputs": [
    {
     "output_type": "execute_result",
     "data": {
      "text/plain": [
       "1139"
      ]
     },
     "metadata": {},
     "execution_count": 25
    }
   ],
   "metadata": {}
  },
  {
   "cell_type": "code",
   "execution_count": 26,
   "source": [
    "PR_Naive_Bayes_30to40 = confusion_matrix_30to40[0,0] +confusion_matrix_30to40[1,1]\n",
    "PR_Naive_Bayes_30to40"
   ],
   "outputs": [
    {
     "output_type": "execute_result",
     "data": {
      "text/plain": [
       "2999"
      ]
     },
     "metadata": {},
     "execution_count": 26
    }
   ],
   "metadata": {}
  },
  {
   "cell_type": "code",
   "execution_count": 27,
   "source": [
    "PR_Naive_Bayes_40to50 = confusion_matrix_40to50[0,0] +confusion_matrix_40to50[1,1]\n",
    "PR_Naive_Bayes_40to50 "
   ],
   "outputs": [
    {
     "output_type": "execute_result",
     "data": {
      "text/plain": [
       "1931"
      ]
     },
     "metadata": {},
     "execution_count": 27
    }
   ],
   "metadata": {}
  },
  {
   "cell_type": "code",
   "execution_count": 28,
   "source": [
    "PR_Naive_Bayes_g50 = confusion_matrix_g50[0,0] +confusion_matrix_g50[1,1]\n",
    "PR_Naive_Bayes_g50 "
   ],
   "outputs": [
    {
     "output_type": "execute_result",
     "data": {
      "text/plain": [
       "1540"
      ]
     },
     "metadata": {},
     "execution_count": 28
    }
   ],
   "metadata": {}
  },
  {
   "cell_type": "code",
   "execution_count": 29,
   "source": [
    "# Equalized Opportunity\n",
    "#TPR = TP/TP+FN\n",
    "\n",
    "TPR_Naive_Bayes_l30 = confusion_matrix_l30[0,0] / (confusion_matrix_l30[0,0] + confusion_matrix_l30[1,0])\n",
    "\n",
    "TPR_Naive_Bayes_l30\n"
   ],
   "outputs": [
    {
     "output_type": "execute_result",
     "data": {
      "text/plain": [
       "0.8832807570977917"
      ]
     },
     "metadata": {},
     "execution_count": 29
    }
   ],
   "metadata": {}
  },
  {
   "cell_type": "code",
   "execution_count": 30,
   "source": [
    "TPR_Naive_Bayes_30to40 = confusion_matrix_30to40[0,0] / (confusion_matrix_30to40[0,0] + confusion_matrix_30to40[1,0])\n",
    "\n",
    "TPR_Naive_Bayes_30to40"
   ],
   "outputs": [
    {
     "output_type": "execute_result",
     "data": {
      "text/plain": [
       "0.8764740566037735"
      ]
     },
     "metadata": {},
     "execution_count": 30
    }
   ],
   "metadata": {}
  },
  {
   "cell_type": "code",
   "execution_count": 31,
   "source": [
    "TPR_Naive_Bayes_40to50 = confusion_matrix_40to50[0,0] / (confusion_matrix_40to50[0,0] + confusion_matrix_40to50[1,0])\n",
    "\n",
    "TPR_Naive_Bayes_40to50 "
   ],
   "outputs": [
    {
     "output_type": "execute_result",
     "data": {
      "text/plain": [
       "0.8933395435491384"
      ]
     },
     "metadata": {},
     "execution_count": 31
    }
   ],
   "metadata": {}
  },
  {
   "cell_type": "code",
   "execution_count": 32,
   "source": [
    "TPR_Naive_Bayes_g50 = confusion_matrix_g50[0,0] / (confusion_matrix_g50[0,0] + confusion_matrix_g50[1,0])\n",
    "\n",
    "TPR_Naive_Bayes_g50 # 0.8925619834710744"
   ],
   "outputs": [
    {
     "output_type": "execute_result",
     "data": {
      "text/plain": [
       "0.8857971014492754"
      ]
     },
     "metadata": {},
     "execution_count": 32
    }
   ],
   "metadata": {}
  },
  {
   "cell_type": "code",
   "execution_count": 33,
   "source": [
    "# Equalized Odds\n",
    "#TPR = TP/TP+FN\n",
    "#FNR = FN/FN+TP\n",
    "\n",
    "\n",
    "FNR_Naive_Bayes_l30 = confusion_matrix_l30[1,0] / (confusion_matrix_l30[1,0] + confusion_matrix_l30[0,0])\n",
    "\n",
    "FNR_Naive_Bayes_l30\n",
    "\n"
   ],
   "outputs": [
    {
     "output_type": "execute_result",
     "data": {
      "text/plain": [
       "0.1167192429022082"
      ]
     },
     "metadata": {},
     "execution_count": 33
    }
   ],
   "metadata": {}
  },
  {
   "cell_type": "code",
   "execution_count": 34,
   "source": [
    "FNR_Naive_Bayes_30to40 = confusion_matrix_30to40[1,0] / (confusion_matrix_30to40[1,0] + confusion_matrix_30to40[0,0])\n",
    "\n",
    "FNR_Naive_Bayes_30to40"
   ],
   "outputs": [
    {
     "output_type": "execute_result",
     "data": {
      "text/plain": [
       "0.12352594339622641"
      ]
     },
     "metadata": {},
     "execution_count": 34
    }
   ],
   "metadata": {}
  },
  {
   "cell_type": "code",
   "execution_count": 35,
   "source": [
    "FNR_Naive_Bayes_40to50 = confusion_matrix_40to50[1,0] / (confusion_matrix_40to50[1,0] + confusion_matrix_40to50[0,0])\n",
    "\n",
    "FNR_Naive_Bayes_40to50"
   ],
   "outputs": [
    {
     "output_type": "execute_result",
     "data": {
      "text/plain": [
       "0.10666045645086167"
      ]
     },
     "metadata": {},
     "execution_count": 35
    }
   ],
   "metadata": {}
  },
  {
   "cell_type": "code",
   "execution_count": 36,
   "source": [
    "FNR_Naive_Bayes_g50 = confusion_matrix_g50[1,0] / (confusion_matrix_g50[1,0] + confusion_matrix_g50[0,0])\n",
    "\n",
    "FNR_Naive_Bayes_g50"
   ],
   "outputs": [
    {
     "output_type": "execute_result",
     "data": {
      "text/plain": [
       "0.11420289855072464"
      ]
     },
     "metadata": {},
     "execution_count": 36
    }
   ],
   "metadata": {}
  },
  {
   "cell_type": "code",
   "execution_count": 37,
   "source": [
    "# Fairness Through Unwareness\n",
    "x_train_unawareness = x_train.copy()\n",
    "x_train_unawareness\n",
    "x_train_unawareness.drop('catAge_<=30', inplace=True, axis=1)\n",
    "x_train_unawareness.drop('catAge_30-40', inplace=True, axis=1)\n",
    "x_train_unawareness.drop('catAge_40-50', inplace=True, axis=1)\n",
    "x_train_unawareness.drop('catAge_>=50', inplace=True, axis=1)\n",
    "\n",
    "# x_train_unawareness.columns.values\n",
    "# x_train.columns.values\n",
    "\n",
    "\n",
    "\n",
    "\n"
   ],
   "outputs": [],
   "metadata": {}
  },
  {
   "cell_type": "code",
   "execution_count": 38,
   "source": [
    "#Fairness through unawareness\n",
    "\n",
    "x_test_unawareness = x_test.copy()\n",
    "x_test_unawareness\n",
    "x_test_l30 = x_test_unawareness[x_test_unawareness['catAge_<=30'] == 1]\n",
    "x_test_30to40 = x_test_unawareness[x_test_unawareness['catAge_30-40'] == 1]\n",
    "x_test_40to50 = x_test_unawareness[x_test_unawareness['catAge_40-50'] == 1]\n",
    "x_test_g50 = x_test_unawareness[x_test_unawareness['catAge_>=50'] == 1]\n",
    "\n",
    "\n",
    "x_test_l30.drop('catAge_<=30', inplace=True, axis=1)\n",
    "x_test_l30.drop('catAge_30-40', inplace=True, axis=1)\n",
    "x_test_l30.drop('catAge_40-50', inplace=True, axis=1)\n",
    "x_test_l30.drop('catAge_>=50', inplace=True, axis=1)\n",
    "\n",
    "x_test_30to40.drop('catAge_<=30', inplace=True, axis=1)\n",
    "x_test_30to40.drop('catAge_30-40', inplace=True, axis=1)\n",
    "x_test_30to40.drop('catAge_40-50', inplace=True, axis=1)\n",
    "x_test_30to40.drop('catAge_>=50', inplace=True, axis=1)\n",
    "\n",
    "x_test_40to50.drop('catAge_<=30', inplace=True, axis=1)\n",
    "x_test_40to50.drop('catAge_30-40', inplace=True, axis=1)\n",
    "x_test_40to50.drop('catAge_40-50', inplace=True, axis=1)\n",
    "x_test_40to50.drop('catAge_>=50', inplace=True, axis=1)\n",
    "\n",
    "x_test_g50.drop('catAge_<=30', inplace=True, axis=1)\n",
    "x_test_g50.drop('catAge_30-40', inplace=True, axis=1)\n",
    "x_test_g50.drop('catAge_40-50', inplace=True, axis=1)\n",
    "x_test_g50.drop('catAge_>=50', inplace=True, axis=1)\n",
    "\n",
    "\n",
    "\n",
    "\n",
    "# x_test_unawareness.columns.values\n",
    "# x_test.columns.values\n",
    "# test_married"
   ],
   "outputs": [
    {
     "output_type": "stream",
     "name": "stderr",
     "text": [
      "/Library/Frameworks/Python.framework/Versions/3.8/lib/python3.8/site-packages/pandas/core/frame.py:4163: SettingWithCopyWarning: \n",
      "A value is trying to be set on a copy of a slice from a DataFrame\n",
      "\n",
      "See the caveats in the documentation: https://pandas.pydata.org/pandas-docs/stable/user_guide/indexing.html#returning-a-view-versus-a-copy\n",
      "  return super().drop(\n"
     ]
    }
   ],
   "metadata": {}
  },
  {
   "cell_type": "code",
   "execution_count": 39,
   "source": [
    "# Test on l30 set\n",
    "gnb_pred_l30 = gnb.fit(x_train_unawareness, y_train).predict(x_test_l30)\n",
    "\n",
    "test_df = x_test_l30.copy()\n",
    "test_df['biY'] = y_test\n",
    "test_df['pred'] = pd.Series(gnb_pred_l30, index=test_df.index)\n",
    "test_df['accurate'] = (test_df['pred'] == test_df['biY'])\n",
    "\n",
    "from sklearn.metrics import confusion_matrix\n",
    "\n",
    "confusion_matrix_l30 = confusion_matrix(test_df['biY'], test_df['pred'])\n",
    "confusion_matrix_l30\n",
    "\n"
   ],
   "outputs": [
    {
     "output_type": "execute_result",
     "data": {
      "text/plain": [
       "array([[1120,  107],\n",
       "       [ 148,   19]])"
      ]
     },
     "metadata": {},
     "execution_count": 39
    }
   ],
   "metadata": {}
  },
  {
   "cell_type": "code",
   "execution_count": 40,
   "source": [
    "accuracy_naive_bayes_l30 = (confusion_matrix_l30[0][0] + confusion_matrix_l30[1][1]) / (confusion_matrix_l30[0][0] + confusion_matrix_l30[0][1] + confusion_matrix_l30[1][0] + confusion_matrix_l30[1][1])\n",
    "accuracy_naive_bayes_l30 "
   ],
   "outputs": [
    {
     "output_type": "execute_result",
     "data": {
      "text/plain": [
       "0.8170731707317073"
      ]
     },
     "metadata": {},
     "execution_count": 40
    }
   ],
   "metadata": {}
  },
  {
   "cell_type": "code",
   "execution_count": 41,
   "source": [
    "# Test on 30to40 set\n",
    "gnb_pred_30to40 = gnb.fit(x_train_unawareness, y_train).predict(x_test_30to40)\n",
    "\n",
    "test_df = x_test_30to40.copy()\n",
    "test_df['biY'] = y_test\n",
    "test_df['pred'] = pd.Series(gnb_pred_30to40, index=test_df.index)\n",
    "test_df['accurate'] = (test_df['pred'] == test_df['biY'])\n",
    "\n",
    "from sklearn.metrics import confusion_matrix\n",
    "\n",
    "confusion_matrix_30to40 = confusion_matrix(test_df['biY'], test_df['pred'])\n",
    "confusion_matrix_30to40\n",
    "\n"
   ],
   "outputs": [
    {
     "output_type": "execute_result",
     "data": {
      "text/plain": [
       "array([[2973,  142],\n",
       "       [ 419,   26]])"
      ]
     },
     "metadata": {},
     "execution_count": 41
    }
   ],
   "metadata": {}
  },
  {
   "cell_type": "code",
   "execution_count": 42,
   "source": [
    "accuracy_naive_bayes_30to40 = (confusion_matrix_30to40[0][0] + confusion_matrix_30to40[1][1]) / (confusion_matrix_30to40[0][0] + confusion_matrix_30to40[0][1] + confusion_matrix_30to40[1][0] + confusion_matrix_30to40[1][1])\n",
    "accuracy_naive_bayes_30to40 "
   ],
   "outputs": [
    {
     "output_type": "execute_result",
     "data": {
      "text/plain": [
       "0.8424157303370786"
      ]
     },
     "metadata": {},
     "execution_count": 42
    }
   ],
   "metadata": {}
  },
  {
   "cell_type": "code",
   "execution_count": 43,
   "source": [
    "# Test on 40to50 set\n",
    "gnb_pred_40to50 = gnb.fit(x_train_unawareness, y_train).predict(x_test_40to50)\n",
    "\n",
    "test_df = x_test_40to50.copy()\n",
    "test_df['biY'] = y_test\n",
    "test_df['pred'] = pd.Series(gnb_pred_40to50, index=test_df.index)\n",
    "test_df['accurate'] = (test_df['pred'] == test_df['biY'])\n",
    "\n",
    "from sklearn.metrics import confusion_matrix\n",
    "\n",
    "confusion_matrix_40to50 = confusion_matrix(test_df['biY'], test_df['pred'])\n",
    "confusion_matrix_40to50"
   ],
   "outputs": [
    {
     "output_type": "execute_result",
     "data": {
      "text/plain": [
       "array([[1918,   84],\n",
       "       [ 229,   13]])"
      ]
     },
     "metadata": {},
     "execution_count": 43
    }
   ],
   "metadata": {}
  },
  {
   "cell_type": "code",
   "execution_count": 44,
   "source": [
    "accuracy_naive_bayes_40to50 = (confusion_matrix_40to50[0][0] + confusion_matrix_40to50[1][1]) / (confusion_matrix_40to50[0][0] + confusion_matrix_40to50[0][1] + confusion_matrix_40to50[1][0] + confusion_matrix_40to50[1][1])\n",
    "accuracy_naive_bayes_40to50 # 0.8718606782768102"
   ],
   "outputs": [
    {
     "output_type": "execute_result",
     "data": {
      "text/plain": [
       "0.8605169340463458"
      ]
     },
     "metadata": {},
     "execution_count": 44
    }
   ],
   "metadata": {}
  },
  {
   "cell_type": "code",
   "execution_count": 45,
   "source": [
    "# Test on g50 set\n",
    "gnb_pred_g50 = gnb.fit(x_train_unawareness, y_train).predict(x_test_g50)\n",
    "\n",
    "test_df = x_test_g50.copy()\n",
    "test_df['biY'] = y_test\n",
    "test_df['pred'] = pd.Series(gnb_pred_g50, index=test_df.index)\n",
    "test_df['accurate'] = (test_df['pred'] == test_df['biY'])\n",
    "\n",
    "from sklearn.metrics import confusion_matrix\n",
    "\n",
    "confusion_matrix_g50 = confusion_matrix(test_df['biY'], test_df['pred'])\n",
    "confusion_matrix_g50"
   ],
   "outputs": [
    {
     "output_type": "execute_result",
     "data": {
      "text/plain": [
       "array([[1528,   74],\n",
       "       [ 197,   12]])"
      ]
     },
     "metadata": {},
     "execution_count": 45
    }
   ],
   "metadata": {}
  },
  {
   "cell_type": "code",
   "execution_count": 46,
   "source": [
    "accuracy_naive_bayes_g50 = (confusion_matrix_g50[0][0] + confusion_matrix_g50[1][1]) / (confusion_matrix_g50[0][0] + confusion_matrix_g50[0][1] + confusion_matrix_g50[1][0] + confusion_matrix_g50[1][1])\n",
    "accuracy_naive_bayes_g50 # 0.8718606782768102"
   ],
   "outputs": [
    {
     "output_type": "execute_result",
     "data": {
      "text/plain": [
       "0.8503589177250138"
      ]
     },
     "metadata": {},
     "execution_count": 46
    }
   ],
   "metadata": {}
  },
  {
   "cell_type": "markdown",
   "source": [
    "Random Forest Model"
   ],
   "metadata": {}
  },
  {
   "cell_type": "code",
   "execution_count": 47,
   "source": [
    "%%time\n",
    "from sklearn.ensemble import RandomForestClassifier\n",
    "rf = RandomForestClassifier(max_depth=5, random_state=0, class_weight='balanced')\n",
    "rf_pred = rf.fit(x_train, y_train).predict(x_test)"
   ],
   "outputs": [
    {
     "output_type": "stream",
     "name": "stdout",
     "text": [
      "CPU times: user 5.07 s, sys: 228 ms, total: 5.29 s\n",
      "Wall time: 9.52 s\n"
     ]
    }
   ],
   "metadata": {}
  },
  {
   "cell_type": "code",
   "execution_count": 48,
   "source": [
    "test_df = x_test.copy()\n",
    "test_df['biY'] = y_test\n",
    "test_df['pred'] = pd.Series(rf_pred, index=test_df.index)\n",
    "test_df['accurate'] = (test_df['pred'] == test_df['biY'])\n",
    "test_df.columns.values"
   ],
   "outputs": [
    {
     "output_type": "execute_result",
     "data": {
      "text/plain": [
       "array(['balance', 'day', 'duration', 'campaign', 'pdays', 'previous',\n",
       "       'biDefault', 'biHousing', 'biLoan', 'catAge_30-40', 'catAge_40-50',\n",
       "       'catAge_<=30', 'catAge_>=50', 'job_admin.', 'job_blue-collar',\n",
       "       'job_entrepreneur', 'job_housemaid', 'job_management',\n",
       "       'job_retired', 'job_self-employed', 'job_services', 'job_student',\n",
       "       'job_technician', 'job_unemployed', 'marital_divorced',\n",
       "       'marital_married', 'marital_single', 'education_primary',\n",
       "       'education_secondary', 'education_tertiary', 'month_apr',\n",
       "       'month_aug', 'month_dec', 'month_feb', 'month_jan', 'month_jul',\n",
       "       'month_jun', 'month_mar', 'month_may', 'month_nov', 'month_oct',\n",
       "       'month_sep', 'Fmonth_apr', 'Fmonth_aug', 'Fmonth_dec',\n",
       "       'Fmonth_feb', 'Fmonth_jan', 'Fmonth_jul', 'Fmonth_jun',\n",
       "       'Fmonth_mar', 'Fmonth_may', 'Fmonth_nov', 'Fmonth_oct', 'biY',\n",
       "       'pred', 'accurate'], dtype=object)"
      ]
     },
     "metadata": {},
     "execution_count": 48
    }
   ],
   "metadata": {}
  },
  {
   "cell_type": "code",
   "execution_count": 49,
   "source": [
    "from sklearn.metrics import confusion_matrix\n",
    "confusion_matrix = confusion_matrix(test_df['biY'], test_df['pred'])\n",
    "confusion_matrix"
   ],
   "outputs": [
    {
     "output_type": "execute_result",
     "data": {
      "text/plain": [
       "array([[5205, 2741],\n",
       "       [ 707,  356]])"
      ]
     },
     "metadata": {},
     "execution_count": 49
    }
   ],
   "metadata": {}
  },
  {
   "cell_type": "code",
   "execution_count": 50,
   "source": [
    "# Accuracy\n",
    "# \"Accuracy: \", test_df.accurate.mean()\n",
    "accuracy_rf = (confusion_matrix[0][0] + confusion_matrix[1][1]) / (confusion_matrix[0][0] + confusion_matrix[0][1] + confusion_matrix[1][0] + confusion_matrix[1][1])\n",
    "accuracy_rf\n"
   ],
   "outputs": [
    {
     "output_type": "execute_result",
     "data": {
      "text/plain": [
       "0.6172716172716173"
      ]
     },
     "metadata": {},
     "execution_count": 50
    }
   ],
   "metadata": {}
  },
  {
   "cell_type": "code",
   "execution_count": 51,
   "source": [
    "# Split dataset based on marital status\n",
    "test_df.columns.values\n",
    "test_l30 = x_test[x_test['catAge_<=30'] == 1]\n",
    "test_30to40 = x_test[x_test['catAge_30-40'] == 1]\n",
    "test_40to50 = x_test[x_test['catAge_40-50'] == 1]\n",
    "test_g50 = x_test[x_test['catAge_>=50'] == 1]"
   ],
   "outputs": [],
   "metadata": {}
  },
  {
   "cell_type": "code",
   "execution_count": 52,
   "source": [
    "# Test on single subset\n",
    "rf_pred_l30 = rf.fit(x_train, y_train).predict(test_l30)\n",
    "\n",
    "test_df = test_l30.copy()\n",
    "test_df['biY'] = y_test\n",
    "test_df['pred'] = pd.Series(rf_pred_l30, index=test_df.index)\n",
    "test_df['accurate'] = (test_df['pred'] == test_df['biY'])\n",
    "\n",
    "from sklearn.metrics import confusion_matrix\n",
    "\n",
    "confusion_matrix_l30 = confusion_matrix(test_df['biY'], test_df['pred'])\n",
    "confusion_matrix_l30"
   ],
   "outputs": [
    {
     "output_type": "execute_result",
     "data": {
      "text/plain": [
       "array([[698, 529],\n",
       "       [ 97,  70]])"
      ]
     },
     "metadata": {},
     "execution_count": 52
    }
   ],
   "metadata": {}
  },
  {
   "cell_type": "code",
   "execution_count": 53,
   "source": [
    "accuracy_rf_l30 = (confusion_matrix_l30[0][0] + confusion_matrix_l30[1][1]) / (confusion_matrix_l30[0][0] + confusion_matrix_l30[0][1] + confusion_matrix_l30[1][0] + confusion_matrix_l30[1][1])\n",
    "accuracy_rf_l30"
   ],
   "outputs": [
    {
     "output_type": "execute_result",
     "data": {
      "text/plain": [
       "0.5509325681492109"
      ]
     },
     "metadata": {},
     "execution_count": 53
    }
   ],
   "metadata": {}
  },
  {
   "cell_type": "code",
   "execution_count": 54,
   "source": [
    "# Test on 30to40 subset\n",
    "rf_pred_30to40 = rf.fit(x_train, y_train).predict(test_30to40)\n",
    "\n",
    "test_df = test_30to40.copy()\n",
    "test_df['biY'] = y_test\n",
    "test_df['pred'] = pd.Series(rf_pred_30to40, index=test_df.index)\n",
    "test_df['accurate'] = (test_df['pred'] == test_df['biY'])\n",
    "\n",
    "from sklearn.metrics import confusion_matrix\n",
    "\n",
    "confusion_matrix_30to40 = confusion_matrix(test_df['biY'], test_df['pred'])\n",
    "confusion_matrix_30to40"
   ],
   "outputs": [
    {
     "output_type": "execute_result",
     "data": {
      "text/plain": [
       "array([[2491,  624],\n",
       "       [ 354,   91]])"
      ]
     },
     "metadata": {},
     "execution_count": 54
    }
   ],
   "metadata": {}
  },
  {
   "cell_type": "code",
   "execution_count": 55,
   "source": [
    "accuracy_rf_30to40 = (confusion_matrix_30to40[0][0] + confusion_matrix_30to40[1][1]) / (confusion_matrix_30to40[0][0] + confusion_matrix_30to40[0][1] + confusion_matrix_30to40[1][0] + confusion_matrix_30to40[1][1])\n",
    "accuracy_rf_30to40"
   ],
   "outputs": [
    {
     "output_type": "execute_result",
     "data": {
      "text/plain": [
       "0.7252808988764045"
      ]
     },
     "metadata": {},
     "execution_count": 55
    }
   ],
   "metadata": {}
  },
  {
   "cell_type": "code",
   "execution_count": 56,
   "source": [
    "# Test on 40to50 subset\n",
    "rf_pred_40to50 = rf.fit(x_train, y_train).predict(test_40to50)\n",
    " \n",
    "test_df = test_40to50.copy()\n",
    "test_df['biY'] = y_test\n",
    "test_df['pred'] = pd.Series(rf_pred_40to50, index=test_df.index)\n",
    "test_df['accurate'] = (test_df['pred'] == test_df['biY'])\n",
    " \n",
    "from sklearn.metrics import confusion_matrix\n",
    " \n",
    "confusion_matrix_40to50 = confusion_matrix(test_df['biY'], test_df['pred'])\n",
    "confusion_matrix_40to50\n"
   ],
   "outputs": [
    {
     "output_type": "execute_result",
     "data": {
      "text/plain": [
       "array([[1152,  850],\n",
       "       [ 136,  106]])"
      ]
     },
     "metadata": {},
     "execution_count": 56
    }
   ],
   "metadata": {}
  },
  {
   "cell_type": "code",
   "execution_count": 57,
   "source": [
    "accuracy_rf_40to50 = (confusion_matrix_40to50[0][0] + confusion_matrix_40to50[1][1]) / (confusion_matrix_40to50[0][0] + confusion_matrix_40to50[0][1] + confusion_matrix_40to50[1][0] + confusion_matrix_40to50[1][1])\n",
    "accuracy_rf_40to50 "
   ],
   "outputs": [
    {
     "output_type": "execute_result",
     "data": {
      "text/plain": [
       "0.5606060606060606"
      ]
     },
     "metadata": {},
     "execution_count": 57
    }
   ],
   "metadata": {}
  },
  {
   "cell_type": "code",
   "execution_count": 58,
   "source": [
    "# Test on g50 subset\n",
    "rf_pred_g50 = rf.fit(x_train, y_train).predict(test_g50)\n",
    " \n",
    "test_df = test_g50.copy()\n",
    "test_df['biY'] = y_test\n",
    "test_df['pred'] = pd.Series(rf_pred_g50, index=test_df.index)\n",
    "test_df['accurate'] = (test_df['pred'] == test_df['biY'])\n",
    " \n",
    "from sklearn.metrics import confusion_matrix\n",
    " \n",
    "confusion_matrix_g50 = confusion_matrix(test_df['biY'], test_df['pred'])\n",
    "confusion_matrix_g50"
   ],
   "outputs": [
    {
     "output_type": "execute_result",
     "data": {
      "text/plain": [
       "array([[864, 738],\n",
       "       [120,  89]])"
      ]
     },
     "metadata": {},
     "execution_count": 58
    }
   ],
   "metadata": {}
  },
  {
   "cell_type": "code",
   "execution_count": 59,
   "source": [
    "accuracy_rf_g50 = (confusion_matrix_g50[0][0] + confusion_matrix_g50[1][1]) / (confusion_matrix_g50[0][0] + confusion_matrix_g50[0][1] + confusion_matrix_g50[1][0] + confusion_matrix_g50[1][1])\n",
    "accuracy_rf_g50 "
   ],
   "outputs": [
    {
     "output_type": "execute_result",
     "data": {
      "text/plain": [
       "0.526228602981778"
      ]
     },
     "metadata": {},
     "execution_count": 59
    }
   ],
   "metadata": {}
  },
  {
   "cell_type": "code",
   "execution_count": 60,
   "source": [
    "#Demographic Parity\n",
    "# positive rate = TP + TN\n",
    "PR_rf_l30 = confusion_matrix_l30[0,0] +confusion_matrix_l30[1,1]\n",
    "PR_rf_l30 # 4756"
   ],
   "outputs": [
    {
     "output_type": "execute_result",
     "data": {
      "text/plain": [
       "768"
      ]
     },
     "metadata": {},
     "execution_count": 60
    }
   ],
   "metadata": {}
  },
  {
   "cell_type": "code",
   "execution_count": 61,
   "source": [
    "PR_rf_30to40 = confusion_matrix_30to40[0,0] +confusion_matrix_30to40[1,1]\n",
    "PR_rf_30to40 # 2136"
   ],
   "outputs": [
    {
     "output_type": "execute_result",
     "data": {
      "text/plain": [
       "2582"
      ]
     },
     "metadata": {},
     "execution_count": 61
    }
   ],
   "metadata": {}
  },
  {
   "cell_type": "code",
   "execution_count": 62,
   "source": [
    "PR_rf_40to50 = confusion_matrix_40to50[0,0] +confusion_matrix_40to50[1,1]\n",
    "PR_rf_40to50 # 2136"
   ],
   "outputs": [
    {
     "output_type": "execute_result",
     "data": {
      "text/plain": [
       "1258"
      ]
     },
     "metadata": {},
     "execution_count": 62
    }
   ],
   "metadata": {}
  },
  {
   "cell_type": "code",
   "execution_count": 63,
   "source": [
    "PR_rf_g50 = confusion_matrix_g50[0,0] +confusion_matrix_g50[1,1]\n",
    "PR_rf_g50 # 2136"
   ],
   "outputs": [
    {
     "output_type": "execute_result",
     "data": {
      "text/plain": [
       "953"
      ]
     },
     "metadata": {},
     "execution_count": 63
    }
   ],
   "metadata": {}
  },
  {
   "cell_type": "code",
   "execution_count": 64,
   "source": [
    "# Equalized Opportunity\n",
    "#TPR = TP/TP+FN\n",
    "\n",
    "TPR_rf_l30 = confusion_matrix_l30[0,0] / (confusion_matrix_l30[0,0] + confusion_matrix_l30[1,0])\n",
    "\n",
    "TPR_rf_l30"
   ],
   "outputs": [
    {
     "output_type": "execute_result",
     "data": {
      "text/plain": [
       "0.8779874213836478"
      ]
     },
     "metadata": {},
     "execution_count": 64
    }
   ],
   "metadata": {}
  },
  {
   "cell_type": "code",
   "execution_count": 65,
   "source": [
    "TPR_rf_30to40 = confusion_matrix_30to40[0,0] / (confusion_matrix_30to40[0,0] + confusion_matrix_30to40[1,0])\n",
    "\n",
    "TPR_rf_30to40  "
   ],
   "outputs": [
    {
     "output_type": "execute_result",
     "data": {
      "text/plain": [
       "0.8755711775043937"
      ]
     },
     "metadata": {},
     "execution_count": 65
    }
   ],
   "metadata": {}
  },
  {
   "cell_type": "code",
   "execution_count": 66,
   "source": [
    "TPR_rf_40to50  = confusion_matrix_40to50[0,0] / (confusion_matrix_40to50[0,0] + confusion_matrix_40to50[1,0])\n",
    "\n",
    "TPR_rf_40to50 "
   ],
   "outputs": [
    {
     "output_type": "execute_result",
     "data": {
      "text/plain": [
       "0.8944099378881988"
      ]
     },
     "metadata": {},
     "execution_count": 66
    }
   ],
   "metadata": {}
  },
  {
   "cell_type": "code",
   "execution_count": 67,
   "source": [
    "TPR_rf_g50  = confusion_matrix_g50[0,0] / (confusion_matrix_g50[0,0] + confusion_matrix_g50[1,0])\n",
    "\n",
    "TPR_rf_g50 "
   ],
   "outputs": [
    {
     "output_type": "execute_result",
     "data": {
      "text/plain": [
       "0.8780487804878049"
      ]
     },
     "metadata": {},
     "execution_count": 67
    }
   ],
   "metadata": {}
  },
  {
   "cell_type": "code",
   "execution_count": 68,
   "source": [
    "# Equalized Odds\n",
    "#TPR = TP/TP+FN\n",
    "#FNR = FN/FN+TP\n",
    "\n",
    "\n",
    "FNR_rf_l30 = confusion_matrix_l30[1,0] / (confusion_matrix_l30[1,0] + confusion_matrix_l30[0,0])\n",
    "\n",
    "FNR_rf_l30 # 0.11652109273369263\n"
   ],
   "outputs": [
    {
     "output_type": "execute_result",
     "data": {
      "text/plain": [
       "0.1220125786163522"
      ]
     },
     "metadata": {},
     "execution_count": 68
    }
   ],
   "metadata": {}
  },
  {
   "cell_type": "code",
   "execution_count": 69,
   "source": [
    "FNR_rf_30to40 = confusion_matrix_30to40[1,0] / (confusion_matrix_30to40[1,0] + confusion_matrix_30to40[0,0])\n",
    "\n",
    "FNR_rf_30to40"
   ],
   "outputs": [
    {
     "output_type": "execute_result",
     "data": {
      "text/plain": [
       "0.12442882249560633"
      ]
     },
     "metadata": {},
     "execution_count": 69
    }
   ],
   "metadata": {}
  },
  {
   "cell_type": "code",
   "execution_count": 70,
   "source": [
    "FNR_rf_40to50 = confusion_matrix_40to50[1,0] / (confusion_matrix_40to50[1,0] + confusion_matrix_40to50[0,0])\n",
    "\n",
    "FNR_rf_40to50"
   ],
   "outputs": [
    {
     "output_type": "execute_result",
     "data": {
      "text/plain": [
       "0.10559006211180125"
      ]
     },
     "metadata": {},
     "execution_count": 70
    }
   ],
   "metadata": {}
  },
  {
   "cell_type": "code",
   "execution_count": 71,
   "source": [
    "FNR_rf_g50 = confusion_matrix_g50[1,0] / (confusion_matrix_g50[1,0] + confusion_matrix_g50[0,0])\n",
    "\n",
    "FNR_rf_g50"
   ],
   "outputs": [
    {
     "output_type": "execute_result",
     "data": {
      "text/plain": [
       "0.12195121951219512"
      ]
     },
     "metadata": {},
     "execution_count": 71
    }
   ],
   "metadata": {}
  },
  {
   "cell_type": "code",
   "execution_count": 72,
   "source": [
    "# Fairness Through Unwareness\n",
    "x_train_unawareness = x_train.copy()\n",
    "x_train_unawareness\n",
    "x_train_unawareness.drop('catAge_<=30', inplace=True, axis=1)\n",
    "x_train_unawareness.drop('catAge_30-40', inplace=True, axis=1)\n",
    "x_train_unawareness.drop('catAge_40-50', inplace=True, axis=1)\n",
    "x_train_unawareness.drop('catAge_>=50', inplace=True, axis=1)\n",
    "\n",
    "# x_train_unawareness.columns.values\n",
    "# x_train.columns.values"
   ],
   "outputs": [],
   "metadata": {}
  },
  {
   "cell_type": "code",
   "execution_count": 73,
   "source": [
    "#Fairness through unawareness\n",
    "\n",
    "x_test_unawareness = x_test.copy()\n",
    "x_test_unawareness\n",
    "x_test_l30 = x_test_unawareness[x_test_unawareness['catAge_<=30'] == 1]\n",
    "x_test_30to40 = x_test_unawareness[x_test_unawareness['catAge_30-40'] == 1]\n",
    "x_test_40to50 = x_test_unawareness[x_test_unawareness['catAge_40-50'] == 1]\n",
    "x_test_g50 = x_test_unawareness[x_test_unawareness['catAge_>=50'] == 1]\n",
    "\n",
    "\n",
    "x_test_l30.drop('catAge_<=30', inplace=True, axis=1)\n",
    "x_test_l30.drop('catAge_30-40', inplace=True, axis=1)\n",
    "x_test_l30.drop('catAge_40-50', inplace=True, axis=1)\n",
    "x_test_l30.drop('catAge_>=50', inplace=True, axis=1)\n",
    "\n",
    "x_test_30to40.drop('catAge_<=30', inplace=True, axis=1)\n",
    "x_test_30to40.drop('catAge_30-40', inplace=True, axis=1)\n",
    "x_test_30to40.drop('catAge_40-50', inplace=True, axis=1)\n",
    "x_test_30to40.drop('catAge_>=50', inplace=True, axis=1)\n",
    "\n",
    "x_test_40to50.drop('catAge_<=30', inplace=True, axis=1)\n",
    "x_test_40to50.drop('catAge_30-40', inplace=True, axis=1)\n",
    "x_test_40to50.drop('catAge_40-50', inplace=True, axis=1)\n",
    "x_test_40to50.drop('catAge_>=50', inplace=True, axis=1)\n",
    "\n",
    "x_test_g50.drop('catAge_<=30', inplace=True, axis=1)\n",
    "x_test_g50.drop('catAge_30-40', inplace=True, axis=1)\n",
    "x_test_g50.drop('catAge_40-50', inplace=True, axis=1)\n",
    "x_test_g50.drop('catAge_>=50', inplace=True, axis=1)\n",
    "\n",
    "\n",
    "\n",
    "# x_test_unawareness.columns.values\n",
    "# x_test.columns.values"
   ],
   "outputs": [
    {
     "output_type": "stream",
     "name": "stderr",
     "text": [
      "/Library/Frameworks/Python.framework/Versions/3.8/lib/python3.8/site-packages/pandas/core/frame.py:4163: SettingWithCopyWarning: \n",
      "A value is trying to be set on a copy of a slice from a DataFrame\n",
      "\n",
      "See the caveats in the documentation: https://pandas.pydata.org/pandas-docs/stable/user_guide/indexing.html#returning-a-view-versus-a-copy\n",
      "  return super().drop(\n"
     ]
    }
   ],
   "metadata": {}
  },
  {
   "cell_type": "code",
   "execution_count": 74,
   "source": [
    "# Test on l30 set\n",
    "rf_pred_l30 = rf.fit(x_train_unawareness, y_train).predict(x_test_l30)\n",
    "\n",
    "test_df = x_test_l30.copy()\n",
    "test_df['biY'] = y_test\n",
    "test_df['pred'] = pd.Series(rf_pred_l30, index=test_df.index)\n",
    "test_df['accurate'] = (test_df['pred'] == test_df['biY'])\n",
    "\n",
    "from sklearn.metrics import confusion_matrix\n",
    "\n",
    "confusion_matrix_l30 = confusion_matrix(test_df['biY'], test_df['pred'])\n",
    "confusion_matrix_l30\n"
   ],
   "outputs": [
    {
     "output_type": "execute_result",
     "data": {
      "text/plain": [
       "array([[816, 411],\n",
       "       [103,  64]])"
      ]
     },
     "metadata": {},
     "execution_count": 74
    }
   ],
   "metadata": {}
  },
  {
   "cell_type": "code",
   "execution_count": 75,
   "source": [
    "accuracy_rf_l30 = (confusion_matrix_l30[0][0] + confusion_matrix_l30[1][1]) / (confusion_matrix_l30[0][0] + confusion_matrix_l30[0][1] + confusion_matrix_l30[1][0] + confusion_matrix_l30[1][1])\n",
    "accuracy_rf_l30"
   ],
   "outputs": [
    {
     "output_type": "execute_result",
     "data": {
      "text/plain": [
       "0.6312769010043041"
      ]
     },
     "metadata": {},
     "execution_count": 75
    }
   ],
   "metadata": {}
  },
  {
   "cell_type": "code",
   "execution_count": 76,
   "source": [
    "# Test on 30to40 set\n",
    "rf_pred_30to40 = rf.fit(x_train_unawareness, y_train).predict(x_test_30to40)\n",
    "\n",
    "test_df = x_test_30to40.copy()\n",
    "test_df['biY'] = y_test\n",
    "test_df['pred'] = pd.Series(rf_pred_30to40, index=test_df.index)\n",
    "test_df['accurate'] = (test_df['pred'] == test_df['biY'])\n",
    "\n",
    "from sklearn.metrics import confusion_matrix\n",
    "\n",
    "confusion_matrix_30to40 = confusion_matrix(test_df['biY'], test_df['pred'])\n",
    "confusion_matrix_30to40\n"
   ],
   "outputs": [
    {
     "output_type": "execute_result",
     "data": {
      "text/plain": [
       "array([[2067, 1048],\n",
       "       [ 300,  145]])"
      ]
     },
     "metadata": {},
     "execution_count": 76
    }
   ],
   "metadata": {}
  },
  {
   "cell_type": "code",
   "execution_count": 77,
   "source": [
    "accuracy_rf_30to40 = (confusion_matrix_30to40[0][0] + confusion_matrix_30to40[1][1]) / (confusion_matrix_30to40[0][0] + confusion_matrix_30to40[0][1] + confusion_matrix_30to40[1][0] + confusion_matrix_30to40[1][1])\n",
    "accuracy_rf_30to40 "
   ],
   "outputs": [
    {
     "output_type": "execute_result",
     "data": {
      "text/plain": [
       "0.6213483146067416"
      ]
     },
     "metadata": {},
     "execution_count": 77
    }
   ],
   "metadata": {}
  },
  {
   "cell_type": "code",
   "execution_count": 78,
   "source": [
    "# Test on 40to50 set\n",
    "rf_pred_40to50 = rf.fit(x_train_unawareness, y_train).predict(x_test_40to50)\n",
    "\n",
    "test_df = x_test_40to50.copy()\n",
    "test_df['biY'] = y_test\n",
    "test_df['pred'] = pd.Series(rf_pred_40to50, index=test_df.index)\n",
    "test_df['accurate'] = (test_df['pred'] == test_df['biY'])\n",
    "\n",
    "from sklearn.metrics import confusion_matrix\n",
    "\n",
    "confusion_matrix_40to50 = confusion_matrix(test_df['biY'], test_df['pred'])\n",
    "confusion_matrix_40to50"
   ],
   "outputs": [
    {
     "output_type": "execute_result",
     "data": {
      "text/plain": [
       "array([[1210,  792],\n",
       "       [ 139,  103]])"
      ]
     },
     "metadata": {},
     "execution_count": 78
    }
   ],
   "metadata": {}
  },
  {
   "cell_type": "code",
   "execution_count": 79,
   "source": [
    "accuracy_rf_40to50 = (confusion_matrix_40to50[0][0] + confusion_matrix_40to50[1][1]) / (confusion_matrix_40to50[0][0] + confusion_matrix_40to50[0][1] + confusion_matrix_40to50[1][0] + confusion_matrix_40to50[1][1])\n",
    "accuracy_rf_40to50 # 0.8718606782768102"
   ],
   "outputs": [
    {
     "output_type": "execute_result",
     "data": {
      "text/plain": [
       "0.5851158645276292"
      ]
     },
     "metadata": {},
     "execution_count": 79
    }
   ],
   "metadata": {}
  },
  {
   "cell_type": "code",
   "execution_count": 80,
   "source": [
    "# Test on g50 set\n",
    "rf_pred_g50 = rf.fit(x_train_unawareness, y_train).predict(x_test_g50)\n",
    "\n",
    "test_df = x_test_g50.copy()\n",
    "test_df['biY'] = y_test\n",
    "test_df['pred'] = pd.Series(rf_pred_g50, index=test_df.index)\n",
    "test_df['accurate'] = (test_df['pred'] == test_df['biY'])\n",
    "\n",
    "from sklearn.metrics import confusion_matrix\n",
    "\n",
    "confusion_matrix_g50 = confusion_matrix(test_df['biY'], test_df['pred'])\n",
    "confusion_matrix_g50"
   ],
   "outputs": [
    {
     "output_type": "execute_result",
     "data": {
      "text/plain": [
       "array([[916, 686],\n",
       "       [131,  78]])"
      ]
     },
     "metadata": {},
     "execution_count": 80
    }
   ],
   "metadata": {}
  },
  {
   "cell_type": "code",
   "execution_count": 81,
   "source": [
    "accuracy_rf_g50 = (confusion_matrix_g50[0][0] + confusion_matrix_g50[1][1]) / (confusion_matrix_g50[0][0] + confusion_matrix_g50[0][1] + confusion_matrix_g50[1][0] + confusion_matrix_g50[1][1])\n",
    "accuracy_rf_g50 # 0.8718606782768102"
   ],
   "outputs": [
    {
     "output_type": "execute_result",
     "data": {
      "text/plain": [
       "0.548868028713418"
      ]
     },
     "metadata": {},
     "execution_count": 81
    }
   ],
   "metadata": {}
  },
  {
   "cell_type": "markdown",
   "source": [
    "Support Vector Machine"
   ],
   "metadata": {}
  },
  {
   "cell_type": "code",
   "execution_count": 82,
   "source": [
    "%%time\n",
    "from sklearn import svm as svm_model\n",
    "svm = svm_model.SVC(class_weight='balanced') # add class_weight='balanced' is to avoid classifying all data as 0\n",
    "svm_pred = svm.fit(x_train, y_train).predict(x_test)"
   ],
   "outputs": [
    {
     "output_type": "stream",
     "name": "stdout",
     "text": [
      "CPU times: user 6min 38s, sys: 4.99 s, total: 6min 43s\n",
      "Wall time: 7min 30s\n"
     ]
    }
   ],
   "metadata": {}
  },
  {
   "cell_type": "code",
   "execution_count": 83,
   "source": [
    "test_df = x_test.copy()\n",
    "test_df['biY'] = y_test\n",
    "test_df['pred'] = pd.Series(svm_pred, index=test_df.index)\n",
    "test_df['accurate'] = (test_df['pred'] == test_df['biY'])\n",
    "test_df.columns.values"
   ],
   "outputs": [
    {
     "output_type": "execute_result",
     "data": {
      "text/plain": [
       "array(['balance', 'day', 'duration', 'campaign', 'pdays', 'previous',\n",
       "       'biDefault', 'biHousing', 'biLoan', 'catAge_30-40', 'catAge_40-50',\n",
       "       'catAge_<=30', 'catAge_>=50', 'job_admin.', 'job_blue-collar',\n",
       "       'job_entrepreneur', 'job_housemaid', 'job_management',\n",
       "       'job_retired', 'job_self-employed', 'job_services', 'job_student',\n",
       "       'job_technician', 'job_unemployed', 'marital_divorced',\n",
       "       'marital_married', 'marital_single', 'education_primary',\n",
       "       'education_secondary', 'education_tertiary', 'month_apr',\n",
       "       'month_aug', 'month_dec', 'month_feb', 'month_jan', 'month_jul',\n",
       "       'month_jun', 'month_mar', 'month_may', 'month_nov', 'month_oct',\n",
       "       'month_sep', 'Fmonth_apr', 'Fmonth_aug', 'Fmonth_dec',\n",
       "       'Fmonth_feb', 'Fmonth_jan', 'Fmonth_jul', 'Fmonth_jun',\n",
       "       'Fmonth_mar', 'Fmonth_may', 'Fmonth_nov', 'Fmonth_oct', 'biY',\n",
       "       'pred', 'accurate'], dtype=object)"
      ]
     },
     "metadata": {},
     "execution_count": 83
    }
   ],
   "metadata": {}
  },
  {
   "cell_type": "code",
   "execution_count": 84,
   "source": [
    "from sklearn.metrics import confusion_matrix\n",
    "confusion_matrix = confusion_matrix(test_df['biY'], test_df['pred'])\n",
    "confusion_matrix"
   ],
   "outputs": [
    {
     "output_type": "execute_result",
     "data": {
      "text/plain": [
       "array([[2302, 5644],\n",
       "       [ 290,  773]])"
      ]
     },
     "metadata": {},
     "execution_count": 84
    }
   ],
   "metadata": {}
  },
  {
   "cell_type": "code",
   "execution_count": 85,
   "source": [
    "# Accuracy\n",
    "# \"Accuracy: \", test_df.accurate.mean()\n",
    "accuracy_svm = (confusion_matrix[0][0] + confusion_matrix[1][1]) / (confusion_matrix[0][0] + confusion_matrix[0][1] + confusion_matrix[1][0] + confusion_matrix[1][1])\n",
    "accuracy_svm\n"
   ],
   "outputs": [
    {
     "output_type": "execute_result",
     "data": {
      "text/plain": [
       "0.3413253413253413"
      ]
     },
     "metadata": {},
     "execution_count": 85
    }
   ],
   "metadata": {}
  },
  {
   "cell_type": "code",
   "execution_count": 86,
   "source": [
    "# Split dataset based on marital status\n",
    "test_df.columns.values\n",
    "test_l30 = x_test[x_test['catAge_<=30'] == 1]\n",
    "test_30to40 = x_test[x_test['catAge_30-40'] == 1]\n",
    "test_40to50 = x_test[x_test['catAge_40-50'] == 1]\n",
    "test_g50 = x_test[x_test['catAge_>=50'] == 1]"
   ],
   "outputs": [],
   "metadata": {}
  },
  {
   "cell_type": "code",
   "execution_count": 87,
   "source": [
    "# Test on l30 subset\n",
    "svm_pred_l30 = svm.fit(x_train, y_train).predict(test_l30)\n",
    "\n",
    "test_df = test_l30.copy()\n",
    "test_df['biY'] = y_test\n",
    "test_df['pred'] = pd.Series(svm_pred_l30, index=test_df.index)\n",
    "test_df['accurate'] = (test_df['pred'] == test_df['biY'])\n",
    "\n",
    "from sklearn.metrics import confusion_matrix\n",
    "\n",
    "confusion_matrix_l30 = confusion_matrix(test_df['biY'], test_df['pred'])\n",
    "confusion_matrix_l30"
   ],
   "outputs": [
    {
     "output_type": "execute_result",
     "data": {
      "text/plain": [
       "array([[281, 946],\n",
       "       [ 39, 128]])"
      ]
     },
     "metadata": {},
     "execution_count": 87
    }
   ],
   "metadata": {}
  },
  {
   "cell_type": "code",
   "execution_count": 88,
   "source": [
    "accuracy_svm_l30 = (confusion_matrix_l30[0][0] + confusion_matrix_l30[1][1]) / (confusion_matrix_l30[0][0] + confusion_matrix_l30[0][1] + confusion_matrix_l30[1][0] + confusion_matrix_l30[1][1])\n",
    "accuracy_svm_l30"
   ],
   "outputs": [
    {
     "output_type": "execute_result",
     "data": {
      "text/plain": [
       "0.2934002869440459"
      ]
     },
     "metadata": {},
     "execution_count": 88
    }
   ],
   "metadata": {}
  },
  {
   "cell_type": "code",
   "execution_count": 89,
   "source": [
    "# Test on married subset\n",
    "svm_pred_30to40 = svm.fit(x_train, y_train).predict(test_30to40)\n",
    "\n",
    "test_df = test_30to40.copy()\n",
    "test_df['biY'] = y_test\n",
    "test_df['pred'] = pd.Series(svm_pred_30to40, index=test_df.index)\n",
    "test_df['accurate'] = (test_df['pred'] == test_df['biY'])\n",
    "\n",
    "from sklearn.metrics import confusion_matrix\n",
    "\n",
    "confusion_matrix_30to40 = confusion_matrix(test_df['biY'], test_df['pred'])\n",
    "confusion_matrix_30to40"
   ],
   "outputs": [
    {
     "output_type": "execute_result",
     "data": {
      "text/plain": [
       "array([[ 860, 2255],\n",
       "       [ 104,  341]])"
      ]
     },
     "metadata": {},
     "execution_count": 89
    }
   ],
   "metadata": {}
  },
  {
   "cell_type": "code",
   "execution_count": 90,
   "source": [
    "accuracy_svm_30to40 = (confusion_matrix_30to40[0][0] + confusion_matrix_30to40[1][1]) / (confusion_matrix_30to40[0][0] + confusion_matrix_30to40[0][1] + confusion_matrix_30to40[1][0] + confusion_matrix_30to40[1][1])\n",
    "accuracy_svm_30to40 # 0.8718606782768102"
   ],
   "outputs": [
    {
     "output_type": "execute_result",
     "data": {
      "text/plain": [
       "0.3373595505617977"
      ]
     },
     "metadata": {},
     "execution_count": 90
    }
   ],
   "metadata": {}
  },
  {
   "cell_type": "code",
   "execution_count": 91,
   "source": [
    "# Test on 40to50 subset\n",
    "svm_pred_40to50 = svm.fit(x_train, y_train).predict(test_40to50)\n",
    "\n",
    "test_df = test_40to50.copy()\n",
    "test_df['biY'] = y_test\n",
    "test_df['pred'] = pd.Series(svm_pred_40to50, index=test_df.index)\n",
    "test_df['accurate'] = (test_df['pred'] == test_df['biY'])\n",
    "\n",
    "from sklearn.metrics import confusion_matrix\n",
    "\n",
    "confusion_matrix_40to50 = confusion_matrix(test_df['biY'], test_df['pred'])\n",
    "confusion_matrix_40to50"
   ],
   "outputs": [
    {
     "output_type": "execute_result",
     "data": {
      "text/plain": [
       "array([[ 589, 1413],\n",
       "       [  74,  168]])"
      ]
     },
     "metadata": {},
     "execution_count": 91
    }
   ],
   "metadata": {}
  },
  {
   "cell_type": "code",
   "execution_count": 92,
   "source": [
    "accuracy_svm_40to50 = (confusion_matrix_40to50[0][0] + confusion_matrix_40to50[1][1]) / (confusion_matrix_40to50[0][0] + confusion_matrix_40to50[0][1] + confusion_matrix_40to50[1][0] + confusion_matrix_40to50[1][1])\n",
    "accuracy_svm_40to50 "
   ],
   "outputs": [
    {
     "output_type": "execute_result",
     "data": {
      "text/plain": [
       "0.3373440285204991"
      ]
     },
     "metadata": {},
     "execution_count": 92
    }
   ],
   "metadata": {}
  },
  {
   "cell_type": "code",
   "execution_count": 93,
   "source": [
    "# Test on g50 subset\n",
    "svm_pred_g50 = svm.fit(x_train, y_train).predict(test_g50)\n",
    "\n",
    "test_df = test_g50.copy()\n",
    "test_df['biY'] = y_test\n",
    "test_df['pred'] = pd.Series(svm_pred_g50, index=test_df.index)\n",
    "test_df['accurate'] = (test_df['pred'] == test_df['biY'])\n",
    "\n",
    "from sklearn.metrics import confusion_matrix\n",
    "\n",
    "confusion_matrix_g50 = confusion_matrix(test_df['biY'], test_df['pred'])\n",
    "confusion_matrix_g50"
   ],
   "outputs": [
    {
     "output_type": "execute_result",
     "data": {
      "text/plain": [
       "array([[ 572, 1030],\n",
       "       [  73,  136]])"
      ]
     },
     "metadata": {},
     "execution_count": 93
    }
   ],
   "metadata": {}
  },
  {
   "cell_type": "code",
   "execution_count": 94,
   "source": [
    "accuracy_svm_g50 = (confusion_matrix_g50[0][0] + confusion_matrix_g50[1][1]) / (confusion_matrix_g50[0][0] + confusion_matrix_g50[0][1] + confusion_matrix_g50[1][0] + confusion_matrix_g50[1][1])\n",
    "accuracy_svm_g50 # 0.8718606782768102"
   ],
   "outputs": [
    {
     "output_type": "execute_result",
     "data": {
      "text/plain": [
       "0.390944229707344"
      ]
     },
     "metadata": {},
     "execution_count": 94
    }
   ],
   "metadata": {}
  },
  {
   "cell_type": "code",
   "execution_count": 95,
   "source": [
    "#Demographic Parity\n",
    "# positive rate = TP + TN\n",
    "PR_svm_l30 = confusion_matrix_l30[0,0] +confusion_matrix_l30[1,1]\n",
    "\n",
    "PR_svm_l30"
   ],
   "outputs": [
    {
     "output_type": "execute_result",
     "data": {
      "text/plain": [
       "409"
      ]
     },
     "metadata": {},
     "execution_count": 95
    }
   ],
   "metadata": {}
  },
  {
   "cell_type": "code",
   "execution_count": 96,
   "source": [
    "PR_svm_30to40 = confusion_matrix_30to40[0,0] +confusion_matrix_30to40[1,1]\n",
    "PR_svm_30to40"
   ],
   "outputs": [
    {
     "output_type": "execute_result",
     "data": {
      "text/plain": [
       "1201"
      ]
     },
     "metadata": {},
     "execution_count": 96
    }
   ],
   "metadata": {}
  },
  {
   "cell_type": "code",
   "execution_count": 97,
   "source": [
    "PR_svm_40to50 = confusion_matrix_40to50[0,0] +confusion_matrix_40to50[1,1]\n",
    "PR_svm_40to50"
   ],
   "outputs": [
    {
     "output_type": "execute_result",
     "data": {
      "text/plain": [
       "757"
      ]
     },
     "metadata": {},
     "execution_count": 97
    }
   ],
   "metadata": {}
  },
  {
   "cell_type": "code",
   "execution_count": 98,
   "source": [
    "PR_svm_g50 = confusion_matrix_g50[0,0] +confusion_matrix_g50[1,1]\n",
    "PR_svm_g50"
   ],
   "outputs": [
    {
     "output_type": "execute_result",
     "data": {
      "text/plain": [
       "708"
      ]
     },
     "metadata": {},
     "execution_count": 98
    }
   ],
   "metadata": {}
  },
  {
   "cell_type": "code",
   "execution_count": 99,
   "source": [
    "# Equalized Opportunity\n",
    "#TPR = TP/TP+FN\n",
    "\n",
    "TPR_svm_l30 = confusion_matrix_l30[0,0] / (confusion_matrix_l30[0,0] + confusion_matrix_l30[1,0])\n",
    "\n",
    "TPR_svm_l30"
   ],
   "outputs": [
    {
     "output_type": "execute_result",
     "data": {
      "text/plain": [
       "0.878125"
      ]
     },
     "metadata": {},
     "execution_count": 99
    }
   ],
   "metadata": {}
  },
  {
   "cell_type": "code",
   "execution_count": 100,
   "source": [
    "TPR_svm_30to40 = confusion_matrix_30to40[0,0] / (confusion_matrix_30to40[0,0] + confusion_matrix_30to40[1,0])\n",
    "\n",
    "TPR_svm_30to40 "
   ],
   "outputs": [
    {
     "output_type": "execute_result",
     "data": {
      "text/plain": [
       "0.8921161825726142"
      ]
     },
     "metadata": {},
     "execution_count": 100
    }
   ],
   "metadata": {}
  },
  {
   "cell_type": "code",
   "execution_count": 101,
   "source": [
    "TPR_svm_40to50 = confusion_matrix_40to50[0,0] / (confusion_matrix_40to50[0,0] + confusion_matrix_40to50[1,0])\n",
    "\n",
    "TPR_svm_40to50 "
   ],
   "outputs": [
    {
     "output_type": "execute_result",
     "data": {
      "text/plain": [
       "0.8883861236802413"
      ]
     },
     "metadata": {},
     "execution_count": 101
    }
   ],
   "metadata": {}
  },
  {
   "cell_type": "code",
   "execution_count": 102,
   "source": [
    "TPR_svm_g50 = confusion_matrix_g50[0,0] / (confusion_matrix_g50[0,0] + confusion_matrix_g50[1,0])\n",
    "\n",
    "TPR_svm_g50 "
   ],
   "outputs": [
    {
     "output_type": "execute_result",
     "data": {
      "text/plain": [
       "0.8868217054263566"
      ]
     },
     "metadata": {},
     "execution_count": 102
    }
   ],
   "metadata": {}
  },
  {
   "cell_type": "code",
   "execution_count": 103,
   "source": [
    "# Equalized Odds\n",
    "#TPR = TP/TP+FN\n",
    "#FNR = FN/FN+TP\n",
    "\n",
    "\n",
    "FNR_svm_l30 = confusion_matrix_l30[1,0] / (confusion_matrix_l30[1,0] + confusion_matrix_l30[0,0])\n",
    "\n",
    "FNR_svm_l30"
   ],
   "outputs": [
    {
     "output_type": "execute_result",
     "data": {
      "text/plain": [
       "0.121875"
      ]
     },
     "metadata": {},
     "execution_count": 103
    }
   ],
   "metadata": {}
  },
  {
   "cell_type": "code",
   "execution_count": 104,
   "source": [
    "FNR_svm_30to40 = confusion_matrix_30to40[1,0] / (confusion_matrix_30to40[1,0] + confusion_matrix_30to40[0,0])\n",
    "\n",
    "FNR_svm_30to40 "
   ],
   "outputs": [
    {
     "output_type": "execute_result",
     "data": {
      "text/plain": [
       "0.1078838174273859"
      ]
     },
     "metadata": {},
     "execution_count": 104
    }
   ],
   "metadata": {}
  },
  {
   "cell_type": "code",
   "execution_count": 105,
   "source": [
    "FNR_svm_40to50 = confusion_matrix_40to50[1,0] / (confusion_matrix_40to50[1,0] + confusion_matrix_40to50[0,0])\n",
    "\n",
    "FNR_svm_40to50 "
   ],
   "outputs": [
    {
     "output_type": "execute_result",
     "data": {
      "text/plain": [
       "0.11161387631975868"
      ]
     },
     "metadata": {},
     "execution_count": 105
    }
   ],
   "metadata": {}
  },
  {
   "cell_type": "code",
   "execution_count": 106,
   "source": [
    "FNR_svm_g50 = confusion_matrix_g50[1,0] / (confusion_matrix_g50[1,0] + confusion_matrix_g50[0,0])\n",
    "\n",
    "FNR_svm_g50 "
   ],
   "outputs": [
    {
     "output_type": "execute_result",
     "data": {
      "text/plain": [
       "0.11317829457364341"
      ]
     },
     "metadata": {},
     "execution_count": 106
    }
   ],
   "metadata": {}
  },
  {
   "cell_type": "code",
   "execution_count": 107,
   "source": [
    "# Fairness Through Unwareness\n",
    "x_train_unawareness = x_train.copy()\n",
    "x_train_unawareness\n",
    "x_train_unawareness.drop('catAge_<=30', inplace=True, axis=1)\n",
    "x_train_unawareness.drop('catAge_30-40', inplace=True, axis=1)\n",
    "x_train_unawareness.drop('catAge_40-50', inplace=True, axis=1)\n",
    "x_train_unawareness.drop('catAge_>=50', inplace=True, axis=1)\n",
    "\n",
    "\n",
    "# x_train_unawareness.columns.values\n",
    "# x_train.columns.values"
   ],
   "outputs": [],
   "metadata": {}
  },
  {
   "cell_type": "code",
   "execution_count": 108,
   "source": [
    "#Fairness through unawareness\n",
    "\n",
    "\n",
    "x_test_unawareness = x_test.copy()\n",
    "x_test_unawareness\n",
    "x_test_l30 = x_test_unawareness[x_test_unawareness['catAge_<=30'] == 1]\n",
    "x_test_30to40 = x_test_unawareness[x_test_unawareness['catAge_30-40'] == 1]\n",
    "x_test_40to50 = x_test_unawareness[x_test_unawareness['catAge_40-50'] == 1]\n",
    "x_test_g50 = x_test_unawareness[x_test_unawareness['catAge_>=50'] == 1]\n",
    "\n",
    "\n",
    "x_test_l30.drop('catAge_<=30', inplace=True, axis=1)\n",
    "x_test_l30.drop('catAge_30-40', inplace=True, axis=1)\n",
    "x_test_l30.drop('catAge_40-50', inplace=True, axis=1)\n",
    "x_test_l30.drop('catAge_>=50', inplace=True, axis=1)\n",
    "\n",
    "x_test_30to40.drop('catAge_<=30', inplace=True, axis=1)\n",
    "x_test_30to40.drop('catAge_30-40', inplace=True, axis=1)\n",
    "x_test_30to40.drop('catAge_40-50', inplace=True, axis=1)\n",
    "x_test_30to40.drop('catAge_>=50', inplace=True, axis=1)\n",
    "\n",
    "x_test_40to50.drop('catAge_<=30', inplace=True, axis=1)\n",
    "x_test_40to50.drop('catAge_30-40', inplace=True, axis=1)\n",
    "x_test_40to50.drop('catAge_40-50', inplace=True, axis=1)\n",
    "x_test_40to50.drop('catAge_>=50', inplace=True, axis=1)\n",
    "\n",
    "x_test_g50.drop('catAge_<=30', inplace=True, axis=1)\n",
    "x_test_g50.drop('catAge_30-40', inplace=True, axis=1)\n",
    "x_test_g50.drop('catAge_40-50', inplace=True, axis=1)\n",
    "x_test_g50.drop('catAge_>=50', inplace=True, axis=1)\n",
    "\n"
   ],
   "outputs": [
    {
     "output_type": "stream",
     "name": "stderr",
     "text": [
      "/Library/Frameworks/Python.framework/Versions/3.8/lib/python3.8/site-packages/pandas/core/frame.py:4163: SettingWithCopyWarning: \n",
      "A value is trying to be set on a copy of a slice from a DataFrame\n",
      "\n",
      "See the caveats in the documentation: https://pandas.pydata.org/pandas-docs/stable/user_guide/indexing.html#returning-a-view-versus-a-copy\n",
      "  return super().drop(\n"
     ]
    }
   ],
   "metadata": {}
  },
  {
   "cell_type": "code",
   "execution_count": 109,
   "source": [
    "# Test on l30 set\n",
    "svm_pred_l30 = svm.fit(x_train_unawareness, y_train).predict(x_test_l30)\n",
    "\n",
    "test_df = x_test_l30.copy()\n",
    "test_df['biY'] = y_test\n",
    "test_df['pred'] = pd.Series(svm_pred_l30, index=test_df.index)\n",
    "test_df['accurate'] = (test_df['pred'] == test_df['biY'])\n",
    "\n",
    "from sklearn.metrics import confusion_matrix\n",
    "\n",
    "confusion_matrix_l30 = confusion_matrix(test_df['biY'], test_df['pred'])\n",
    "confusion_matrix_l30\n"
   ],
   "outputs": [
    {
     "output_type": "execute_result",
     "data": {
      "text/plain": [
       "array([[281, 946],\n",
       "       [ 39, 128]])"
      ]
     },
     "metadata": {},
     "execution_count": 109
    }
   ],
   "metadata": {}
  },
  {
   "cell_type": "code",
   "execution_count": 110,
   "source": [
    "accuracy_svm_l30 = (confusion_matrix_l30[0][0] + confusion_matrix_l30[1][1]) / (confusion_matrix_l30[0][0] + confusion_matrix_l30[0][1] + confusion_matrix_l30[1][0] + confusion_matrix_l30[1][1])\n",
    "accuracy_svm_l30"
   ],
   "outputs": [
    {
     "output_type": "execute_result",
     "data": {
      "text/plain": [
       "0.2934002869440459"
      ]
     },
     "metadata": {},
     "execution_count": 110
    }
   ],
   "metadata": {}
  },
  {
   "cell_type": "code",
   "execution_count": 111,
   "source": [
    "# Test on 30to40 set\n",
    "svm_pred_30to40 = svm.fit(x_train_unawareness, y_train).predict(x_test_30to40)\n",
    "\n",
    "test_df = x_test_30to40.copy()\n",
    "test_df['biY'] = y_test\n",
    "test_df['pred'] = pd.Series(svm_pred_30to40, index=test_df.index)\n",
    "test_df['accurate'] = (test_df['pred'] == test_df['biY'])\n",
    "\n",
    "from sklearn.metrics import confusion_matrix\n",
    "\n",
    "confusion_matrix_30to40 = confusion_matrix(test_df['biY'], test_df['pred'])\n",
    "confusion_matrix_30to40"
   ],
   "outputs": [
    {
     "output_type": "execute_result",
     "data": {
      "text/plain": [
       "array([[ 859, 2256],\n",
       "       [ 104,  341]])"
      ]
     },
     "metadata": {},
     "execution_count": 111
    }
   ],
   "metadata": {}
  },
  {
   "cell_type": "code",
   "execution_count": 112,
   "source": [
    "accuracy_svm_30to40 = (confusion_matrix_30to40[0][0] + confusion_matrix_30to40[1][1]) / (confusion_matrix_30to40[0][0] + confusion_matrix_30to40[0][1] + confusion_matrix_30to40[1][0] + confusion_matrix_30to40[1][1])\n",
    "accuracy_svm_30to40 # 0.8718606782768102"
   ],
   "outputs": [
    {
     "output_type": "execute_result",
     "data": {
      "text/plain": [
       "0.33707865168539325"
      ]
     },
     "metadata": {},
     "execution_count": 112
    }
   ],
   "metadata": {}
  },
  {
   "cell_type": "code",
   "execution_count": 113,
   "source": [
    "# Test on 40to50 subset\n",
    "svm_pred_40to50 = svm.fit(x_train_unawareness, y_train).predict(x_test_40to50)\n",
    "\n",
    "test_df = x_test_40to50.copy()\n",
    "test_df['biY'] = y_test\n",
    "test_df['pred'] = pd.Series(svm_pred_40to50, index=test_df.index)\n",
    "test_df['accurate'] = (test_df['pred'] == test_df['biY'])\n",
    "\n",
    "from sklearn.metrics import confusion_matrix\n",
    "\n",
    "confusion_matrix_40to50 = confusion_matrix(test_df['biY'], test_df['pred'])\n",
    "confusion_matrix_40to50"
   ],
   "outputs": [
    {
     "output_type": "execute_result",
     "data": {
      "text/plain": [
       "array([[ 589, 1413],\n",
       "       [  74,  168]])"
      ]
     },
     "metadata": {},
     "execution_count": 113
    }
   ],
   "metadata": {}
  },
  {
   "cell_type": "code",
   "execution_count": 114,
   "source": [
    "accuracy_svm_40to50 = (confusion_matrix_40to50[0][0] + confusion_matrix_40to50[1][1]) / (confusion_matrix_40to50[0][0] + confusion_matrix_40to50[0][1] + confusion_matrix_40to50[1][0] + confusion_matrix_40to50[1][1])\n",
    "accuracy_svm_40to50 "
   ],
   "outputs": [
    {
     "output_type": "execute_result",
     "data": {
      "text/plain": [
       "0.3373440285204991"
      ]
     },
     "metadata": {},
     "execution_count": 114
    }
   ],
   "metadata": {}
  },
  {
   "cell_type": "code",
   "execution_count": 115,
   "source": [
    "# Test on g50 subset\n",
    "svm_pred_g50 = svm.fit(x_train_unawareness, y_train).predict(x_test_g50)\n",
    "\n",
    "test_df = x_test_g50.copy()\n",
    "test_df['biY'] = y_test\n",
    "test_df['pred'] = pd.Series(svm_pred_g50, index=test_df.index)\n",
    "test_df['accurate'] = (test_df['pred'] == test_df['biY'])\n",
    "\n",
    "from sklearn.metrics import confusion_matrix\n",
    "\n",
    "confusion_matrix_g50 = confusion_matrix(test_df['biY'], test_df['pred'])\n",
    "confusion_matrix_g50"
   ],
   "outputs": [
    {
     "output_type": "execute_result",
     "data": {
      "text/plain": [
       "array([[ 572, 1030],\n",
       "       [  73,  136]])"
      ]
     },
     "metadata": {},
     "execution_count": 115
    }
   ],
   "metadata": {}
  },
  {
   "cell_type": "code",
   "execution_count": 116,
   "source": [
    "accuracy_svm_g50 = (confusion_matrix_g50[0][0] + confusion_matrix_g50[1][1]) / (confusion_matrix_g50[0][0] + confusion_matrix_g50[0][1] + confusion_matrix_g50[1][0] + confusion_matrix_g50[1][1])\n",
    "accuracy_svm_g50 "
   ],
   "outputs": [
    {
     "output_type": "execute_result",
     "data": {
      "text/plain": [
       "0.390944229707344"
      ]
     },
     "metadata": {},
     "execution_count": 116
    }
   ],
   "metadata": {}
  },
  {
   "cell_type": "markdown",
   "source": [
    "Logistic Regression Model"
   ],
   "metadata": {}
  },
  {
   "cell_type": "code",
   "execution_count": 117,
   "source": [
    "%%time\n",
    "from sklearn.datasets import load_iris\n",
    "from sklearn.linear_model import LogisticRegression\n",
    "clf = LogisticRegression(random_state=0, class_weight='balanced')\n",
    "clf_pred = clf.fit(x_train, y_train).predict(x_test)"
   ],
   "outputs": [
    {
     "output_type": "stream",
     "name": "stdout",
     "text": [
      "CPU times: user 422 ms, sys: 92.1 ms, total: 514 ms\n",
      "Wall time: 376 ms\n"
     ]
    }
   ],
   "metadata": {}
  },
  {
   "cell_type": "code",
   "execution_count": 118,
   "source": [
    "test_df = x_test.copy()\n",
    "test_df['biY'] = y_test\n",
    "test_df['pred'] = pd.Series(clf_pred, index=test_df.index)\n",
    "test_df['accurate'] = (test_df['pred'] == test_df['biY'])\n",
    "test_df.columns.values"
   ],
   "outputs": [
    {
     "output_type": "execute_result",
     "data": {
      "text/plain": [
       "array(['balance', 'day', 'duration', 'campaign', 'pdays', 'previous',\n",
       "       'biDefault', 'biHousing', 'biLoan', 'catAge_30-40', 'catAge_40-50',\n",
       "       'catAge_<=30', 'catAge_>=50', 'job_admin.', 'job_blue-collar',\n",
       "       'job_entrepreneur', 'job_housemaid', 'job_management',\n",
       "       'job_retired', 'job_self-employed', 'job_services', 'job_student',\n",
       "       'job_technician', 'job_unemployed', 'marital_divorced',\n",
       "       'marital_married', 'marital_single', 'education_primary',\n",
       "       'education_secondary', 'education_tertiary', 'month_apr',\n",
       "       'month_aug', 'month_dec', 'month_feb', 'month_jan', 'month_jul',\n",
       "       'month_jun', 'month_mar', 'month_may', 'month_nov', 'month_oct',\n",
       "       'month_sep', 'Fmonth_apr', 'Fmonth_aug', 'Fmonth_dec',\n",
       "       'Fmonth_feb', 'Fmonth_jan', 'Fmonth_jul', 'Fmonth_jun',\n",
       "       'Fmonth_mar', 'Fmonth_may', 'Fmonth_nov', 'Fmonth_oct', 'biY',\n",
       "       'pred', 'accurate'], dtype=object)"
      ]
     },
     "metadata": {},
     "execution_count": 118
    }
   ],
   "metadata": {}
  },
  {
   "cell_type": "code",
   "execution_count": 119,
   "source": [
    "from sklearn.metrics import confusion_matrix\n",
    "confusion_matrix = confusion_matrix(test_df['biY'], test_df['pred'])\n",
    "confusion_matrix"
   ],
   "outputs": [
    {
     "output_type": "execute_result",
     "data": {
      "text/plain": [
       "array([[4090, 3856],\n",
       "       [ 535,  528]])"
      ]
     },
     "metadata": {},
     "execution_count": 119
    }
   ],
   "metadata": {}
  },
  {
   "cell_type": "code",
   "execution_count": 120,
   "source": [
    "# Accuracy\n",
    "# \"Accuracy: \", test_df.accurate.mean()\n",
    "accuracy_clf = (confusion_matrix[0][0] + confusion_matrix[1][1]) / (confusion_matrix[0][0] + confusion_matrix[0][1] + confusion_matrix[1][0] + confusion_matrix[1][1])\n",
    "accuracy_clf"
   ],
   "outputs": [
    {
     "output_type": "execute_result",
     "data": {
      "text/plain": [
       "0.5125985125985126"
      ]
     },
     "metadata": {},
     "execution_count": 120
    }
   ],
   "metadata": {}
  },
  {
   "cell_type": "code",
   "execution_count": 121,
   "source": [
    "# Split dataset based on marital status\n",
    "test_df.columns.values\n",
    "test_l30 = x_test[x_test['catAge_<=30'] == 1]\n",
    "test_30to40 = x_test[x_test['catAge_30-40'] == 1]\n",
    "test_40to50 = x_test[x_test['catAge_40-50'] == 1]\n",
    "test_g50 = x_test[x_test['catAge_>=50'] == 1]"
   ],
   "outputs": [],
   "metadata": {}
  },
  {
   "cell_type": "code",
   "execution_count": 122,
   "source": [
    "# Test on l30 subset\n",
    "clf_pred_l30 = clf.fit(x_train, y_train).predict(test_l30)\n",
    "\n",
    "test_df = test_l30.copy()\n",
    "test_df['biY'] = y_test\n",
    "test_df['pred'] = pd.Series(clf_pred_l30, index=test_df.index)\n",
    "test_df['accurate'] = (test_df['pred'] == test_df['biY'])\n",
    "\n",
    "from sklearn.metrics import confusion_matrix\n",
    "\n",
    "confusion_matrix_l30 = confusion_matrix(test_df['biY'], test_df['pred'])\n",
    "confusion_matrix_l30"
   ],
   "outputs": [
    {
     "output_type": "execute_result",
     "data": {
      "text/plain": [
       "array([[541, 686],\n",
       "       [ 71,  96]])"
      ]
     },
     "metadata": {},
     "execution_count": 122
    }
   ],
   "metadata": {}
  },
  {
   "cell_type": "code",
   "execution_count": 123,
   "source": [
    "accuracy_clf_l30 = (confusion_matrix_l30[0][0] + confusion_matrix_l30[1][1]) / (confusion_matrix_l30[0][0] + confusion_matrix_l30[0][1] + confusion_matrix_l30[1][0] + confusion_matrix_l30[1][1])\n",
    "accuracy_clf_l30"
   ],
   "outputs": [
    {
     "output_type": "execute_result",
     "data": {
      "text/plain": [
       "0.4569583931133429"
      ]
     },
     "metadata": {},
     "execution_count": 123
    }
   ],
   "metadata": {}
  },
  {
   "cell_type": "code",
   "execution_count": 124,
   "source": [
    "# Test on 30to40 subset\n",
    "clf_pred_30to40 = clf.fit(x_train, y_train).predict(test_30to40)\n",
    "\n",
    "test_df = test_30to40.copy()\n",
    "test_df['biY'] = y_test\n",
    "test_df['pred'] = pd.Series(clf_pred_30to40, index=test_df.index)\n",
    "test_df['accurate'] = (test_df['pred'] == test_df['biY'])\n",
    "\n",
    "from sklearn.metrics import confusion_matrix\n",
    "\n",
    "confusion_matrix_30to40 = confusion_matrix(test_df['biY'], test_df['pred'])\n",
    "confusion_matrix_30to40"
   ],
   "outputs": [
    {
     "output_type": "execute_result",
     "data": {
      "text/plain": [
       "array([[1588, 1527],\n",
       "       [ 233,  212]])"
      ]
     },
     "metadata": {},
     "execution_count": 124
    }
   ],
   "metadata": {}
  },
  {
   "cell_type": "code",
   "execution_count": 125,
   "source": [
    "accuracy_clf_30to40 = (confusion_matrix_30to40[0][0] + confusion_matrix_30to40[1][1]) / (confusion_matrix_30to40[0][0] + confusion_matrix_30to40[0][1] + confusion_matrix_30to40[1][0] + confusion_matrix_30to40[1][1])\n",
    "accuracy_clf_30to40"
   ],
   "outputs": [
    {
     "output_type": "execute_result",
     "data": {
      "text/plain": [
       "0.5056179775280899"
      ]
     },
     "metadata": {},
     "execution_count": 125
    }
   ],
   "metadata": {}
  },
  {
   "cell_type": "code",
   "execution_count": 126,
   "source": [
    "# Test on 40to50 subset\n",
    "clf_pred_40to50 = clf.fit(x_train, y_train).predict(test_40to50)\n",
    " \n",
    "test_df = test_40to50.copy()\n",
    "test_df['biY'] = y_test\n",
    "test_df['pred'] = pd.Series(clf_pred_40to50, index=test_df.index)\n",
    "test_df['accurate'] = (test_df['pred'] == test_df['biY'])\n",
    " \n",
    "from sklearn.metrics import confusion_matrix\n",
    " \n",
    "confusion_matrix_40to50 = confusion_matrix(test_df['biY'], test_df['pred'])\n",
    "confusion_matrix_40to50"
   ],
   "outputs": [
    {
     "output_type": "execute_result",
     "data": {
      "text/plain": [
       "array([[1056,  946],\n",
       "       [ 119,  123]])"
      ]
     },
     "metadata": {},
     "execution_count": 126
    }
   ],
   "metadata": {}
  },
  {
   "cell_type": "code",
   "execution_count": 127,
   "source": [
    "accuracy_clf_40to50 = (confusion_matrix_40to50[0][0] + confusion_matrix_40to50[1][1]) / (confusion_matrix_40to50[0][0] + confusion_matrix_40to50[0][1] + confusion_matrix_40to50[1][0] + confusion_matrix_40to50[1][1])\n",
    "accuracy_clf_40to50 "
   ],
   "outputs": [
    {
     "output_type": "execute_result",
     "data": {
      "text/plain": [
       "0.5254010695187166"
      ]
     },
     "metadata": {},
     "execution_count": 127
    }
   ],
   "metadata": {}
  },
  {
   "cell_type": "code",
   "execution_count": 128,
   "source": [
    "# Test on g50 subset\n",
    "clf_pred_g50 = clf.fit(x_train, y_train).predict(test_g50)\n",
    " \n",
    "test_df = test_g50.copy()\n",
    "test_df['biY'] = y_test\n",
    "test_df['pred'] = pd.Series(clf_pred_g50, index=test_df.index)\n",
    "test_df['accurate'] = (test_df['pred'] == test_df['biY'])\n",
    " \n",
    "from sklearn.metrics import confusion_matrix\n",
    " \n",
    "confusion_matrix_g50 = confusion_matrix(test_df['biY'], test_df['pred'])\n",
    "confusion_matrix_g50"
   ],
   "outputs": [
    {
     "output_type": "execute_result",
     "data": {
      "text/plain": [
       "array([[905, 697],\n",
       "       [112,  97]])"
      ]
     },
     "metadata": {},
     "execution_count": 128
    }
   ],
   "metadata": {}
  },
  {
   "cell_type": "code",
   "execution_count": 129,
   "source": [
    "accuracy_clf_g50 = (confusion_matrix_g50[0][0] + confusion_matrix_g50[1][1]) / (confusion_matrix_g50[0][0] + confusion_matrix_g50[0][1] + confusion_matrix_g50[1][0] + confusion_matrix_g50[1][1])\n",
    "accuracy_clf_g50 "
   ],
   "outputs": [
    {
     "output_type": "execute_result",
     "data": {
      "text/plain": [
       "0.5532854776366648"
      ]
     },
     "metadata": {},
     "execution_count": 129
    }
   ],
   "metadata": {}
  },
  {
   "cell_type": "code",
   "execution_count": 130,
   "source": [
    "#Demographic Parity\n",
    "# positive rate = TP + TN\n",
    "PR_clf_l30 = confusion_matrix_l30[0,0] +confusion_matrix_l30[1,1]\n",
    "PR_clf_l30 # 4756"
   ],
   "outputs": [
    {
     "output_type": "execute_result",
     "data": {
      "text/plain": [
       "637"
      ]
     },
     "metadata": {},
     "execution_count": 130
    }
   ],
   "metadata": {}
  },
  {
   "cell_type": "code",
   "execution_count": 131,
   "source": [
    "PR_clf_30to40 = confusion_matrix_30to40[0,0] +confusion_matrix_30to40[1,1]\n",
    "PR_clf_30to40 # 2136"
   ],
   "outputs": [
    {
     "output_type": "execute_result",
     "data": {
      "text/plain": [
       "1800"
      ]
     },
     "metadata": {},
     "execution_count": 131
    }
   ],
   "metadata": {}
  },
  {
   "cell_type": "code",
   "execution_count": 132,
   "source": [
    "PR_clf_40to50 = confusion_matrix_40to50[0,0] +confusion_matrix_40to50[1,1]\n",
    "PR_clf_40to50 # 2136"
   ],
   "outputs": [
    {
     "output_type": "execute_result",
     "data": {
      "text/plain": [
       "1179"
      ]
     },
     "metadata": {},
     "execution_count": 132
    }
   ],
   "metadata": {}
  },
  {
   "cell_type": "code",
   "execution_count": 133,
   "source": [
    "PR_clf_g50 = confusion_matrix_g50[0,0] +confusion_matrix_g50[1,1]\n",
    "PR_clf_g50 # 2136"
   ],
   "outputs": [
    {
     "output_type": "execute_result",
     "data": {
      "text/plain": [
       "1002"
      ]
     },
     "metadata": {},
     "execution_count": 133
    }
   ],
   "metadata": {}
  },
  {
   "cell_type": "code",
   "execution_count": 134,
   "source": [
    "# Equalized Opportunity\n",
    "#TPR = TP/TP+FN\n",
    "\n",
    "TPR_clf_l30 = confusion_matrix_l30[0,0] / (confusion_matrix_l30[0,0] + confusion_matrix_l30[1,0])\n",
    "\n",
    "TPR_clf_l30"
   ],
   "outputs": [
    {
     "output_type": "execute_result",
     "data": {
      "text/plain": [
       "0.8839869281045751"
      ]
     },
     "metadata": {},
     "execution_count": 134
    }
   ],
   "metadata": {}
  },
  {
   "cell_type": "code",
   "execution_count": 135,
   "source": [
    "TPR_clf_30to40 = confusion_matrix_30to40[0,0] / (confusion_matrix_30to40[0,0] + confusion_matrix_30to40[1,0])\n",
    "\n",
    "TPR_clf_30to40  "
   ],
   "outputs": [
    {
     "output_type": "execute_result",
     "data": {
      "text/plain": [
       "0.8720483250961011"
      ]
     },
     "metadata": {},
     "execution_count": 135
    }
   ],
   "metadata": {}
  },
  {
   "cell_type": "code",
   "execution_count": 136,
   "source": [
    "TPR_clf_40to50  = confusion_matrix_40to50[0,0] / (confusion_matrix_40to50[0,0] + confusion_matrix_40to50[1,0])\n",
    "\n",
    "TPR_clf_40to50 "
   ],
   "outputs": [
    {
     "output_type": "execute_result",
     "data": {
      "text/plain": [
       "0.8987234042553192"
      ]
     },
     "metadata": {},
     "execution_count": 136
    }
   ],
   "metadata": {}
  },
  {
   "cell_type": "code",
   "execution_count": 137,
   "source": [
    "TPR_clf_g50  = confusion_matrix_g50[0,0] / (confusion_matrix_g50[0,0] + confusion_matrix_g50[1,0])\n",
    "\n",
    "TPR_clf_g50 "
   ],
   "outputs": [
    {
     "output_type": "execute_result",
     "data": {
      "text/plain": [
       "0.8898721730580138"
      ]
     },
     "metadata": {},
     "execution_count": 137
    }
   ],
   "metadata": {}
  },
  {
   "cell_type": "code",
   "execution_count": 138,
   "source": [
    "# Equalized Odds\n",
    "#TPR = TP/TP+FN\n",
    "#FNR = FN/FN+TP\n",
    "\n",
    "\n",
    "FNR_clf_l30 = confusion_matrix_l30[1,0] / (confusion_matrix_l30[1,0] + confusion_matrix_l30[0,0])\n",
    "\n",
    "FNR_clf_l30 # 0.11652109273369263"
   ],
   "outputs": [
    {
     "output_type": "execute_result",
     "data": {
      "text/plain": [
       "0.11601307189542484"
      ]
     },
     "metadata": {},
     "execution_count": 138
    }
   ],
   "metadata": {}
  },
  {
   "cell_type": "code",
   "execution_count": 139,
   "source": [
    "FNR_clf_30to40 = confusion_matrix_30to40[1,0] / (confusion_matrix_30to40[1,0] + confusion_matrix_30to40[0,0])\n",
    "\n",
    "FNR_clf_30to40"
   ],
   "outputs": [
    {
     "output_type": "execute_result",
     "data": {
      "text/plain": [
       "0.12795167490389894"
      ]
     },
     "metadata": {},
     "execution_count": 139
    }
   ],
   "metadata": {}
  },
  {
   "cell_type": "code",
   "execution_count": 140,
   "source": [
    "FNR_clf_40to50 = confusion_matrix_40to50[1,0] / (confusion_matrix_40to50[1,0] + confusion_matrix_40to50[0,0])\n",
    "\n",
    "FNR_clf_40to50"
   ],
   "outputs": [
    {
     "output_type": "execute_result",
     "data": {
      "text/plain": [
       "0.10127659574468086"
      ]
     },
     "metadata": {},
     "execution_count": 140
    }
   ],
   "metadata": {}
  },
  {
   "cell_type": "code",
   "execution_count": 141,
   "source": [
    "FNR_clf_g50 = confusion_matrix_g50[1,0] / (confusion_matrix_g50[1,0] + confusion_matrix_g50[0,0])\n",
    "\n",
    "FNR_clf_g50"
   ],
   "outputs": [
    {
     "output_type": "execute_result",
     "data": {
      "text/plain": [
       "0.11012782694198624"
      ]
     },
     "metadata": {},
     "execution_count": 141
    }
   ],
   "metadata": {}
  },
  {
   "cell_type": "code",
   "execution_count": 142,
   "source": [
    "# Fairness Through Unwareness\n",
    "x_train_unawareness = x_train.copy()\n",
    "x_train_unawareness\n",
    "x_train_unawareness.drop('catAge_<=30', inplace=True, axis=1)\n",
    "x_train_unawareness.drop('catAge_30-40', inplace=True, axis=1)\n",
    "x_train_unawareness.drop('catAge_40-50', inplace=True, axis=1)\n",
    "x_train_unawareness.drop('catAge_>=50', inplace=True, axis=1)\n",
    "\n",
    "# x_train_unawareness.columns.values\n",
    "# x_train.columns.values"
   ],
   "outputs": [],
   "metadata": {}
  },
  {
   "cell_type": "code",
   "execution_count": 143,
   "source": [
    "#Fairness through unawareness\n",
    "\n",
    "x_test_unawareness = x_test.copy()\n",
    "x_test_unawareness\n",
    "x_test_l30 = x_test_unawareness[x_test_unawareness['catAge_<=30'] == 1]\n",
    "x_test_30to40 = x_test_unawareness[x_test_unawareness['catAge_30-40'] == 1]\n",
    "x_test_40to50 = x_test_unawareness[x_test_unawareness['catAge_40-50'] == 1]\n",
    "x_test_g50 = x_test_unawareness[x_test_unawareness['catAge_>=50'] == 1]\n",
    "\n",
    "\n",
    "x_test_l30.drop('catAge_<=30', inplace=True, axis=1)\n",
    "x_test_l30.drop('catAge_30-40', inplace=True, axis=1)\n",
    "x_test_l30.drop('catAge_40-50', inplace=True, axis=1)\n",
    "x_test_l30.drop('catAge_>=50', inplace=True, axis=1)\n",
    "\n",
    "x_test_30to40.drop('catAge_<=30', inplace=True, axis=1)\n",
    "x_test_30to40.drop('catAge_30-40', inplace=True, axis=1)\n",
    "x_test_30to40.drop('catAge_40-50', inplace=True, axis=1)\n",
    "x_test_30to40.drop('catAge_>=50', inplace=True, axis=1)\n",
    "\n",
    "x_test_40to50.drop('catAge_<=30', inplace=True, axis=1)\n",
    "x_test_40to50.drop('catAge_30-40', inplace=True, axis=1)\n",
    "x_test_40to50.drop('catAge_40-50', inplace=True, axis=1)\n",
    "x_test_40to50.drop('catAge_>=50', inplace=True, axis=1)\n",
    "\n",
    "x_test_g50.drop('catAge_<=30', inplace=True, axis=1)\n",
    "x_test_g50.drop('catAge_30-40', inplace=True, axis=1)\n",
    "x_test_g50.drop('catAge_40-50', inplace=True, axis=1)\n",
    "x_test_g50.drop('catAge_>=50', inplace=True, axis=1)\n",
    "\n",
    "\n",
    "\n",
    "# x_test_unawareness.columns.values\n",
    "# x_test.columns.values"
   ],
   "outputs": [
    {
     "output_type": "stream",
     "name": "stderr",
     "text": [
      "/Library/Frameworks/Python.framework/Versions/3.8/lib/python3.8/site-packages/pandas/core/frame.py:4163: SettingWithCopyWarning: \n",
      "A value is trying to be set on a copy of a slice from a DataFrame\n",
      "\n",
      "See the caveats in the documentation: https://pandas.pydata.org/pandas-docs/stable/user_guide/indexing.html#returning-a-view-versus-a-copy\n",
      "  return super().drop(\n"
     ]
    }
   ],
   "metadata": {}
  },
  {
   "cell_type": "code",
   "execution_count": 144,
   "source": [
    "# Test on l30 set\n",
    "clf_pred_l30 = clf.fit(x_train_unawareness, y_train).predict(x_test_l30)\n",
    "\n",
    "test_df = x_test_l30.copy()\n",
    "test_df['biY'] = y_test\n",
    "test_df['pred'] = pd.Series(clf_pred_l30, index=test_df.index)\n",
    "test_df['accurate'] = (test_df['pred'] == test_df['biY'])\n",
    "\n",
    "from sklearn.metrics import confusion_matrix\n",
    "\n",
    "confusion_matrix_l30 = confusion_matrix(test_df['biY'], test_df['pred'])\n",
    "confusion_matrix_l30"
   ],
   "outputs": [
    {
     "output_type": "execute_result",
     "data": {
      "text/plain": [
       "array([[541, 686],\n",
       "       [ 72,  95]])"
      ]
     },
     "metadata": {},
     "execution_count": 144
    }
   ],
   "metadata": {}
  },
  {
   "cell_type": "code",
   "execution_count": 145,
   "source": [
    "accuracy_clf_l30 = (confusion_matrix_l30[0][0] + confusion_matrix_l30[1][1]) / (confusion_matrix_l30[0][0] + confusion_matrix_l30[0][1] + confusion_matrix_l30[1][0] + confusion_matrix_l30[1][1])\n",
    "accuracy_clf_l30"
   ],
   "outputs": [
    {
     "output_type": "execute_result",
     "data": {
      "text/plain": [
       "0.4562410329985653"
      ]
     },
     "metadata": {},
     "execution_count": 145
    }
   ],
   "metadata": {}
  },
  {
   "cell_type": "code",
   "execution_count": 146,
   "source": [
    "# Test on 30to40 set\n",
    "clf_pred_30to40 = clf.fit(x_train_unawareness, y_train).predict(x_test_30to40)\n",
    "\n",
    "test_df = x_test_30to40.copy()\n",
    "test_df['biY'] = y_test\n",
    "test_df['pred'] = pd.Series(clf_pred_30to40, index=test_df.index)\n",
    "test_df['accurate'] = (test_df['pred'] == test_df['biY'])\n",
    "\n",
    "from sklearn.metrics import confusion_matrix\n",
    "\n",
    "confusion_matrix_30to40 = confusion_matrix(test_df['biY'], test_df['pred'])\n",
    "confusion_matrix_30to40\n"
   ],
   "outputs": [
    {
     "output_type": "execute_result",
     "data": {
      "text/plain": [
       "array([[1588, 1527],\n",
       "       [ 233,  212]])"
      ]
     },
     "metadata": {},
     "execution_count": 146
    }
   ],
   "metadata": {}
  },
  {
   "cell_type": "code",
   "execution_count": 147,
   "source": [
    "accuracy_clf_30to40 = (confusion_matrix_30to40[0][0] + confusion_matrix_30to40[1][1]) / (confusion_matrix_30to40[0][0] + confusion_matrix_30to40[0][1] + confusion_matrix_30to40[1][0] + confusion_matrix_30to40[1][1])\n",
    "accuracy_clf_30to40 "
   ],
   "outputs": [
    {
     "output_type": "execute_result",
     "data": {
      "text/plain": [
       "0.5056179775280899"
      ]
     },
     "metadata": {},
     "execution_count": 147
    }
   ],
   "metadata": {}
  },
  {
   "cell_type": "code",
   "execution_count": 148,
   "source": [
    "# Test on 40to50 set\n",
    "clf_pred_40to50 = clf.fit(x_train_unawareness, y_train).predict(x_test_40to50)\n",
    "\n",
    "test_df = x_test_40to50.copy()\n",
    "test_df['biY'] = y_test\n",
    "test_df['pred'] = pd.Series(clf_pred_40to50, index=test_df.index)\n",
    "test_df['accurate'] = (test_df['pred'] == test_df['biY'])\n",
    "\n",
    "from sklearn.metrics import confusion_matrix\n",
    "\n",
    "confusion_matrix_40to50 = confusion_matrix(test_df['biY'], test_df['pred'])\n",
    "confusion_matrix_40to50"
   ],
   "outputs": [
    {
     "output_type": "execute_result",
     "data": {
      "text/plain": [
       "array([[1056,  946],\n",
       "       [ 119,  123]])"
      ]
     },
     "metadata": {},
     "execution_count": 148
    }
   ],
   "metadata": {}
  },
  {
   "cell_type": "code",
   "execution_count": 149,
   "source": [
    "accuracy_clf_40to50 = (confusion_matrix_40to50[0][0] + confusion_matrix_40to50[1][1]) / (confusion_matrix_40to50[0][0] + confusion_matrix_40to50[0][1] + confusion_matrix_40to50[1][0] + confusion_matrix_40to50[1][1])\n",
    "accuracy_clf_40to50 # 0.8718606782768102"
   ],
   "outputs": [
    {
     "output_type": "execute_result",
     "data": {
      "text/plain": [
       "0.5254010695187166"
      ]
     },
     "metadata": {},
     "execution_count": 149
    }
   ],
   "metadata": {}
  },
  {
   "cell_type": "code",
   "execution_count": 150,
   "source": [
    "# Test on g50 set\n",
    "clf_pred_g50 = clf.fit(x_train_unawareness, y_train).predict(x_test_g50)\n",
    "\n",
    "test_df = x_test_g50.copy()\n",
    "test_df['biY'] = y_test\n",
    "test_df['pred'] = pd.Series(clf_pred_g50, index=test_df.index)\n",
    "test_df['accurate'] = (test_df['pred'] == test_df['biY'])\n",
    "\n",
    "from sklearn.metrics import confusion_matrix\n",
    "\n",
    "confusion_matrix_g50 = confusion_matrix(test_df['biY'], test_df['pred'])\n",
    "confusion_matrix_g50"
   ],
   "outputs": [
    {
     "output_type": "execute_result",
     "data": {
      "text/plain": [
       "array([[905, 697],\n",
       "       [112,  97]])"
      ]
     },
     "metadata": {},
     "execution_count": 150
    }
   ],
   "metadata": {}
  },
  {
   "cell_type": "code",
   "execution_count": 151,
   "source": [
    "accuracy_clf_g50 = (confusion_matrix_g50[0][0] + confusion_matrix_g50[1][1]) / (confusion_matrix_g50[0][0] + confusion_matrix_g50[0][1] + confusion_matrix_g50[1][0] + confusion_matrix_g50[1][1])\n",
    "accuracy_clf_g50 # 0.8718606782768102"
   ],
   "outputs": [
    {
     "output_type": "execute_result",
     "data": {
      "text/plain": [
       "0.5532854776366648"
      ]
     },
     "metadata": {},
     "execution_count": 151
    }
   ],
   "metadata": {}
  },
  {
   "cell_type": "markdown",
   "source": [
    "Linear Regression model"
   ],
   "metadata": {}
  },
  {
   "cell_type": "code",
   "execution_count": 152,
   "source": [
    "from sklearn import linear_model\n",
    "linear_regression_model = linear_model.LinearRegression()\n",
    "linear_regression_model.fit(x_train, y_train)\n",
    "prediction = linear_regression_model.predict(x_test)"
   ],
   "outputs": [],
   "metadata": {}
  },
  {
   "cell_type": "markdown",
   "source": [
    "Result"
   ],
   "metadata": {}
  },
  {
   "cell_type": "code",
   "execution_count": 153,
   "source": [
    "test_df = x_test.copy()\n",
    "test_df['biY'] = y_test\n",
    "test_df['pred'] = pd.Series(prediction, index=test_df.index)\n",
    "\n",
    "test_df['accurate'] = (test_df['pred'] == test_df['biY'])\n",
    "test_df['pred']"
   ],
   "outputs": [
    {
     "output_type": "execute_result",
     "data": {
      "text/plain": [
       "38779    0.116257\n",
       "16635    0.110172\n",
       "31810    0.116128\n",
       "4485     0.110103\n",
       "3992     0.115290\n",
       "           ...   \n",
       "21630    0.121771\n",
       "11104    0.129326\n",
       "27469    0.117897\n",
       "433      0.120801\n",
       "41301    0.134487\n",
       "Name: pred, Length: 9009, dtype: float64"
      ]
     },
     "metadata": {},
     "execution_count": 153
    }
   ],
   "metadata": {}
  }
 ],
 "metadata": {
  "kernelspec": {
   "name": "python3",
   "display_name": "Python 3.8.1 64-bit"
  },
  "language_info": {
   "codemirror_mode": {
    "name": "ipython",
    "version": 3
   },
   "file_extension": ".py",
   "mimetype": "text/x-python",
   "name": "python",
   "nbconvert_exporter": "python",
   "pygments_lexer": "ipython3",
   "version": "3.8.1"
  },
  "interpreter": {
   "hash": "0adcc2737ebf6a4a119f135174df96668767fca1ef1112612db5ecadf2b6d608"
  }
 },
 "nbformat": 4,
 "nbformat_minor": 4
}