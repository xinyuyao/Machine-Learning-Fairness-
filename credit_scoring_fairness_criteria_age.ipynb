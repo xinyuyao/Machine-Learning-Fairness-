{
 "cells": [
  {
   "cell_type": "markdown",
   "source": [
    "Credit Scoring Fairness Criteria"
   ],
   "metadata": {}
  },
  {
   "cell_type": "markdown",
   "source": [
    "Load the dataset"
   ],
   "metadata": {}
  },
  {
   "cell_type": "code",
   "execution_count": 1,
   "source": [
    "import pandas as pd\n",
    "import numpy as np\n",
    "import matplotlib.pyplot as plt\n",
    "import matplotlib.cm as cm"
   ],
   "outputs": [],
   "metadata": {}
  },
  {
   "cell_type": "markdown",
   "source": [
    "Load the dataset"
   ],
   "metadata": {}
  },
  {
   "cell_type": "code",
   "execution_count": 2,
   "source": [
    "import os\n",
    "BANK_PATH = os.path.join(os.getcwd(), 'ML fairness/ml bank dataset/bankfullclean.csv') # Assign this to the location of the dataset\n",
    "print(os.getcwd())\n",
    "print(BANK_PATH)\n",
    "\n",
    "# 5254 number of rows have 'biY' == 1\n",
    "# 39787 number of rows have 'biY' == 0\n"
   ],
   "outputs": [
    {
     "output_type": "stream",
     "name": "stdout",
     "text": [
      "/Users/xinyu/Desktop/Research/Machine-Learning-Fairness--main\n",
      "/Users/xinyu/Desktop/Research/Machine-Learning-Fairness--main/ML fairness/ml bank dataset/bankfullclean.csv\n"
     ]
    }
   ],
   "metadata": {}
  },
  {
   "cell_type": "code",
   "execution_count": 3,
   "source": [
    "bank = pd.read_csv(BANK_PATH)\n",
    "df = pd.DataFrame(bank)\n",
    "df.head()\n",
    "dummy = df[['catAge', 'job', 'marital','education','balance','day', 'month', 'duration', 'campaign', 'pdays', 'previous', 'Fmonth', 'biDefault', 'biHousing', 'biLoan']]\n",
    "# dummy.columns.values\n",
    "dummy = pd.get_dummies(data=dummy)\n",
    "# dummy.head()\n",
    "dummy.columns.values\n",
    "# df['marital'].unique()\n",
    "\n",
    "# df['biY'].replace({0: False, 1: True}, inplace=True)\n",
    "# print(df['biY'])\n"
   ],
   "outputs": [
    {
     "output_type": "execute_result",
     "data": {
      "text/plain": [
       "array(['balance', 'day', 'duration', 'campaign', 'pdays', 'previous',\n",
       "       'biDefault', 'biHousing', 'biLoan', 'catAge_30-40', 'catAge_40-50',\n",
       "       'catAge_<=30', 'catAge_>=50', 'job_admin.', 'job_blue-collar',\n",
       "       'job_entrepreneur', 'job_housemaid', 'job_management',\n",
       "       'job_retired', 'job_self-employed', 'job_services', 'job_student',\n",
       "       'job_technician', 'job_unemployed', 'marital_divorced',\n",
       "       'marital_married', 'marital_single', 'education_primary',\n",
       "       'education_secondary', 'education_tertiary', 'month_apr',\n",
       "       'month_aug', 'month_dec', 'month_feb', 'month_jan', 'month_jul',\n",
       "       'month_jun', 'month_mar', 'month_may', 'month_nov', 'month_oct',\n",
       "       'month_sep', 'Fmonth_apr', 'Fmonth_aug', 'Fmonth_dec',\n",
       "       'Fmonth_feb', 'Fmonth_jan', 'Fmonth_jul', 'Fmonth_jun',\n",
       "       'Fmonth_mar', 'Fmonth_may', 'Fmonth_nov', 'Fmonth_oct'],\n",
       "      dtype=object)"
      ]
     },
     "metadata": {},
     "execution_count": 3
    }
   ],
   "metadata": {}
  },
  {
   "cell_type": "markdown",
   "source": [
    "Machine Learning Classification Model"
   ],
   "metadata": {}
  },
  {
   "cell_type": "code",
   "execution_count": 4,
   "source": [
    "from sklearn.model_selection import train_test_split\n",
    "from sklearn.model_selection import LeaveOneOut"
   ],
   "outputs": [],
   "metadata": {}
  },
  {
   "cell_type": "code",
   "execution_count": 6,
   "source": [
    "def get_naive_dataset(dataset):\n",
    "    dataset = dataset.sample(frac=1).reset_index(drop=True)\n",
    "    X = dummy\n",
    "    y = dataset['biY']\n",
    "    x_train, x_test, y_train, y_test = train_test_split(X, y, test_size=0.2)\n",
    "    \n",
    "    return (x_train, y_train), (x_test, y_test)"
   ],
   "outputs": [
    {
     "output_type": "error",
     "ename": "IndentationError",
     "evalue": "unindent does not match any outer indentation level (<tokenize>, line 3)",
     "traceback": [
      "\u001b[0;36m  File \u001b[0;32m\"<tokenize>\"\u001b[0;36m, line \u001b[0;32m3\u001b[0m\n\u001b[0;31m    X = dummy\u001b[0m\n\u001b[0m    ^\u001b[0m\n\u001b[0;31mIndentationError\u001b[0m\u001b[0;31m:\u001b[0m unindent does not match any outer indentation level\n"
     ]
    }
   ],
   "metadata": {}
  },
  {
   "cell_type": "code",
   "execution_count": null,
   "source": [
    "(x_train, y_train), (x_test, y_test) = get_naive_dataset(df)"
   ],
   "outputs": [],
   "metadata": {}
  },
  {
   "cell_type": "code",
   "execution_count": null,
   "source": [
    "x_train.columns.values"
   ],
   "outputs": [],
   "metadata": {}
  },
  {
   "cell_type": "code",
   "execution_count": null,
   "source": [
    "y_train.values"
   ],
   "outputs": [],
   "metadata": {}
  },
  {
   "cell_type": "code",
   "execution_count": null,
   "source": [
    "x_test.columns.values"
   ],
   "outputs": [],
   "metadata": {}
  },
  {
   "cell_type": "code",
   "execution_count": null,
   "source": [
    "y_test.values"
   ],
   "outputs": [],
   "metadata": {}
  },
  {
   "cell_type": "markdown",
   "source": [
    "Naive Bayes Model"
   ],
   "metadata": {}
  },
  {
   "cell_type": "code",
   "execution_count": null,
   "source": [
    "from sklearn.naive_bayes import GaussianNB\n",
    "gnb = GaussianNB()\n",
    "gnb_pred = gnb.fit(x_train, y_train).predict(x_test)"
   ],
   "outputs": [],
   "metadata": {}
  },
  {
   "cell_type": "markdown",
   "source": [
    "Result"
   ],
   "metadata": {}
  },
  {
   "cell_type": "code",
   "execution_count": null,
   "source": [
    "test_df = x_test.copy()\n",
    "test_df['biY'] = y_test\n",
    "test_df['pred'] = pd.Series(gnb_pred, index=test_df.index)\n",
    "test_df['accurate'] = (test_df['pred'] == test_df['biY'])\n",
    "test_df.columns.values"
   ],
   "outputs": [],
   "metadata": {}
  },
  {
   "cell_type": "code",
   "execution_count": null,
   "source": [
    "from sklearn.metrics import confusion_matrix"
   ],
   "outputs": [],
   "metadata": {}
  },
  {
   "cell_type": "code",
   "execution_count": null,
   "source": [
    "\n",
    "confusion_matrix = confusion_matrix(test_df['biY'], test_df['pred'])\n",
    "confusion_matrix"
   ],
   "outputs": [],
   "metadata": {}
  },
  {
   "cell_type": "code",
   "execution_count": null,
   "source": [
    "# Accuracy\n",
    "# \"Accuracy: \", test_df.accurate.mean()\n",
    "accuracy_naive_bayes = (confusion_matrix[0][0] + confusion_matrix[1][1]) / (confusion_matrix[0][0] + confusion_matrix[0][1] + confusion_matrix[1][0] + confusion_matrix[1][1])\n",
    "accuracy_naive_bayes\n",
    "\n"
   ],
   "outputs": [],
   "metadata": {}
  },
  {
   "cell_type": "code",
   "execution_count": null,
   "source": [
    "# Split dataset based on marital status\n",
    "test_df.columns.values\n",
    "test_l30 = x_test[x_test['catAge_<=30'] == 1]\n",
    "test_30to40 = x_test[x_test['catAge_30-40'] == 1]\n",
    "test_40to50 = x_test[x_test['catAge_40-50'] == 1]\n",
    "test_g50 = x_test[x_test['catAge_>=50'] == 1]"
   ],
   "outputs": [],
   "metadata": {}
  },
  {
   "cell_type": "code",
   "execution_count": null,
   "source": [
    "# Test on l30 subset\n",
    "gnb_pred_l30 = gnb.fit(x_train, y_train).predict(test_l30)\n",
    "\n",
    "test_df = test_l30.copy()\n",
    "test_df['biY'] = y_test\n",
    "test_df['pred'] = pd.Series(gnb_pred_l30, index=test_df.index)\n",
    "test_df['accurate'] = (test_df['pred'] == test_df['biY'])\n",
    "\n",
    "from sklearn.metrics import confusion_matrix\n",
    "\n",
    "confusion_matrix_l30 = confusion_matrix(test_df['biY'], test_df['pred'])\n",
    "confusion_matrix_l30\n"
   ],
   "outputs": [],
   "metadata": {}
  },
  {
   "cell_type": "code",
   "execution_count": null,
   "source": [
    "accuracy_naive_bayes_l30 = (confusion_matrix_l30[0][0] + confusion_matrix_l30[1][1]) / (confusion_matrix_l30[0][0] + confusion_matrix_l30[0][1] + confusion_matrix_l30[1][0] + confusion_matrix_l30[1][1])\n",
    "accuracy_naive_bayes_l30"
   ],
   "outputs": [],
   "metadata": {}
  },
  {
   "cell_type": "code",
   "execution_count": null,
   "source": [
    "# Test on 30to40 subset\n",
    "gnb_pred_30to40 = gnb.fit(x_train, y_train).predict(test_30to40)\n",
    "\n",
    "test_df = test_30to40.copy()\n",
    "test_df['biY'] = y_test\n",
    "test_df['pred'] = pd.Series(gnb_pred_30to40, index=test_df.index)\n",
    "test_df['accurate'] = (test_df['pred'] == test_df['biY'])\n",
    "\n",
    "from sklearn.metrics import confusion_matrix\n",
    "\n",
    "confusion_matrix_30to40 = confusion_matrix(test_df['biY'], test_df['pred'])\n",
    "confusion_matrix_30to40"
   ],
   "outputs": [],
   "metadata": {}
  },
  {
   "cell_type": "code",
   "execution_count": null,
   "source": [
    "accuracy_naive_bayes_30to40 = (confusion_matrix_30to40[0][0] + confusion_matrix_30to40[1][1]) / (confusion_matrix_30to40[0][0] + confusion_matrix_30to40[0][1] + confusion_matrix_30to40[1][0] + confusion_matrix_30to40[1][1])\n",
    "accuracy_naive_bayes_30to40"
   ],
   "outputs": [],
   "metadata": {}
  },
  {
   "cell_type": "code",
   "execution_count": null,
   "source": [
    "# Test on 40to50 subset\n",
    "gnb_pred_40to50 = gnb.fit(x_train, y_train).predict(test_40to50)\n",
    "\n",
    "test_df = test_40to50.copy()\n",
    "test_df['biY'] = y_test\n",
    "test_df['pred'] = pd.Series(gnb_pred_40to50, index=test_df.index)\n",
    "test_df['accurate'] = (test_df['pred'] == test_df['biY'])\n",
    "\n",
    "from sklearn.metrics import confusion_matrix\n",
    "\n",
    "confusion_matrix_40to50 = confusion_matrix(test_df['biY'], test_df['pred'])\n",
    "confusion_matrix_40to50"
   ],
   "outputs": [],
   "metadata": {}
  },
  {
   "cell_type": "code",
   "execution_count": null,
   "source": [
    "accuracy_naive_bayes_40to50 = (confusion_matrix_40to50[0][0] + confusion_matrix_40to50[1][1]) / (confusion_matrix_40to50[0][0] + confusion_matrix_40to50[0][1] + confusion_matrix_40to50[1][0] + confusion_matrix_40to50[1][1])\n",
    "accuracy_naive_bayes_40to50 # 0.8718606782768102"
   ],
   "outputs": [],
   "metadata": {}
  },
  {
   "cell_type": "code",
   "execution_count": null,
   "source": [
    "# Test on g50 subset\n",
    "gnb_pred_g50 = gnb.fit(x_train, y_train).predict(test_g50)\n",
    "\n",
    "test_df = test_g50.copy()\n",
    "test_df['biY'] = y_test\n",
    "test_df['pred'] = pd.Series(gnb_pred_g50, index=test_df.index)\n",
    "test_df['accurate'] = (test_df['pred'] == test_df['biY'])\n",
    "\n",
    "from sklearn.metrics import confusion_matrix\n",
    "\n",
    "confusion_matrix_g50 = confusion_matrix(test_df['biY'], test_df['pred'])\n",
    "confusion_matrix_g50"
   ],
   "outputs": [],
   "metadata": {}
  },
  {
   "cell_type": "code",
   "execution_count": null,
   "source": [
    "accuracy_naive_bayes_g50 = (confusion_matrix_g50[0][0] + confusion_matrix_g50[1][1]) / (confusion_matrix_g50[0][0] + confusion_matrix_g50[0][1] + confusion_matrix_g50[1][0] + confusion_matrix_g50[1][1])\n",
    "accuracy_naive_bayes_g50 # 0.8718606782768102"
   ],
   "outputs": [],
   "metadata": {}
  },
  {
   "cell_type": "code",
   "execution_count": null,
   "source": [
    "#Demographic Parity\n",
    "# positive rate = TP + TN\n",
    "PR_Naive_Bayes_l30 = confusion_matrix_l30[0,0] +confusion_matrix_l30[1,1]\n",
    "\n",
    "PR_Naive_Bayes_l30 \n"
   ],
   "outputs": [],
   "metadata": {}
  },
  {
   "cell_type": "code",
   "execution_count": null,
   "source": [
    "PR_Naive_Bayes_30to40 = confusion_matrix_30to40[0,0] +confusion_matrix_30to40[1,1]\n",
    "PR_Naive_Bayes_30to40"
   ],
   "outputs": [],
   "metadata": {}
  },
  {
   "cell_type": "code",
   "execution_count": null,
   "source": [
    "PR_Naive_Bayes_40to50 = confusion_matrix_40to50[0,0] +confusion_matrix_40to50[1,1]\n",
    "PR_Naive_Bayes_40to50 "
   ],
   "outputs": [],
   "metadata": {}
  },
  {
   "cell_type": "code",
   "execution_count": null,
   "source": [
    "PR_Naive_Bayes_g50 = confusion_matrix_g50[0,0] +confusion_matrix_g50[1,1]\n",
    "PR_Naive_Bayes_g50 "
   ],
   "outputs": [],
   "metadata": {}
  },
  {
   "cell_type": "code",
   "execution_count": null,
   "source": [
    "# Equalized Opportunity\n",
    "#TPR = TP/TP+FN\n",
    "\n",
    "TPR_Naive_Bayes_l30 = confusion_matrix_l30[0,0] / (confusion_matrix_l30[0,0] + confusion_matrix_l30[1,0])\n",
    "\n",
    "TPR_Naive_Bayes_l30\n"
   ],
   "outputs": [],
   "metadata": {}
  },
  {
   "cell_type": "code",
   "execution_count": null,
   "source": [
    "TPR_Naive_Bayes_30to40 = confusion_matrix_30to40[0,0] / (confusion_matrix_30to40[0,0] + confusion_matrix_30to40[1,0])\n",
    "\n",
    "TPR_Naive_Bayes_30to40"
   ],
   "outputs": [],
   "metadata": {}
  },
  {
   "cell_type": "code",
   "execution_count": null,
   "source": [
    "TPR_Naive_Bayes_40to50 = confusion_matrix_40to50[0,0] / (confusion_matrix_40to50[0,0] + confusion_matrix_40to50[1,0])\n",
    "\n",
    "TPR_Naive_Bayes_40to50 "
   ],
   "outputs": [],
   "metadata": {}
  },
  {
   "cell_type": "code",
   "execution_count": null,
   "source": [
    "TPR_Naive_Bayes_g50 = confusion_matrix_g50[0,0] / (confusion_matrix_g50[0,0] + confusion_matrix_g50[1,0])\n",
    "\n",
    "TPR_Naive_Bayes_g50 # 0.8925619834710744"
   ],
   "outputs": [],
   "metadata": {}
  },
  {
   "cell_type": "code",
   "execution_count": null,
   "source": [
    "# Equalized Odds\n",
    "#TPR = TP/TP+FN\n",
    "#FNR = FN/FN+TP\n",
    "\n",
    "\n",
    "FNR_Naive_Bayes_l30 = confusion_matrix_l30[1,0] / (confusion_matrix_l30[1,0] + confusion_matrix_l30[0,0])\n",
    "\n",
    "FNR_Naive_Bayes_l30\n",
    "\n"
   ],
   "outputs": [],
   "metadata": {}
  },
  {
   "cell_type": "code",
   "execution_count": null,
   "source": [
    "FNR_Naive_Bayes_30to40 = confusion_matrix_30to40[1,0] / (confusion_matrix_30to40[1,0] + confusion_matrix_30to40[0,0])\n",
    "\n",
    "FNR_Naive_Bayes_30to40"
   ],
   "outputs": [],
   "metadata": {}
  },
  {
   "cell_type": "code",
   "execution_count": null,
   "source": [
    "FNR_Naive_Bayes_40to50 = confusion_matrix_40to50[1,0] / (confusion_matrix_40to50[1,0] + confusion_matrix_40to50[0,0])\n",
    "\n",
    "FNR_Naive_Bayes_40to50"
   ],
   "outputs": [],
   "metadata": {}
  },
  {
   "cell_type": "code",
   "execution_count": null,
   "source": [
    "FNR_Naive_Bayes_g50 = confusion_matrix_g50[1,0] / (confusion_matrix_g50[1,0] + confusion_matrix_g50[0,0])\n",
    "\n",
    "FNR_Naive_Bayes_g50"
   ],
   "outputs": [],
   "metadata": {}
  },
  {
   "cell_type": "code",
   "execution_count": null,
   "source": [
    "# Fairness Through Unwareness\n",
    "x_train_unawareness = x_train.copy()\n",
    "x_train_unawareness\n",
    "x_train_unawareness.drop('catAge_<=30', inplace=True, axis=1)\n",
    "x_train_unawareness.drop('catAge_30-40', inplace=True, axis=1)\n",
    "x_train_unawareness.drop('catAge_40-50', inplace=True, axis=1)\n",
    "x_train_unawareness.drop('catAge_>=50', inplace=True, axis=1)\n",
    "\n",
    "# x_train_unawareness.columns.values\n",
    "# x_train.columns.values\n",
    "\n",
    "\n",
    "\n",
    "\n"
   ],
   "outputs": [],
   "metadata": {}
  },
  {
   "cell_type": "code",
   "execution_count": null,
   "source": [
    "#Fairness through unawareness\n",
    "\n",
    "x_test_unawareness = x_test.copy()\n",
    "x_test_unawareness\n",
    "x_test_l30 = x_test_unawareness[x_test_unawareness['catAge_<=30'] == 1]\n",
    "x_test_30to40 = x_test_unawareness[x_test_unawareness['catAge_30-40'] == 1]\n",
    "x_test_40to50 = x_test_unawareness[x_test_unawareness['catAge_40-50'] == 1]\n",
    "x_test_g50 = x_test_unawareness[x_test_unawareness['catAge_>=50'] == 1]\n",
    "\n",
    "\n",
    "x_test_l30.drop('catAge_<=30', inplace=True, axis=1)\n",
    "x_test_l30.drop('catAge_30-40', inplace=True, axis=1)\n",
    "x_test_l30.drop('catAge_40-50', inplace=True, axis=1)\n",
    "x_test_l30.drop('catAge_>=50', inplace=True, axis=1)\n",
    "\n",
    "x_test_30to40.drop('catAge_<=30', inplace=True, axis=1)\n",
    "x_test_30to40.drop('catAge_30-40', inplace=True, axis=1)\n",
    "x_test_30to40.drop('catAge_40-50', inplace=True, axis=1)\n",
    "x_test_30to40.drop('catAge_>=50', inplace=True, axis=1)\n",
    "\n",
    "x_test_40to50.drop('catAge_<=30', inplace=True, axis=1)\n",
    "x_test_40to50.drop('catAge_30-40', inplace=True, axis=1)\n",
    "x_test_40to50.drop('catAge_40-50', inplace=True, axis=1)\n",
    "x_test_40to50.drop('catAge_>=50', inplace=True, axis=1)\n",
    "\n",
    "x_test_g50.drop('catAge_<=30', inplace=True, axis=1)\n",
    "x_test_g50.drop('catAge_30-40', inplace=True, axis=1)\n",
    "x_test_g50.drop('catAge_40-50', inplace=True, axis=1)\n",
    "x_test_g50.drop('catAge_>=50', inplace=True, axis=1)\n",
    "\n",
    "\n",
    "\n",
    "\n",
    "# x_test_unawareness.columns.values\n",
    "# x_test.columns.values\n",
    "# test_married"
   ],
   "outputs": [],
   "metadata": {}
  },
  {
   "cell_type": "code",
   "execution_count": null,
   "source": [
    "# Test on l30 set\n",
    "gnb_pred_l30 = gnb.fit(x_train_unawareness, y_train).predict(x_test_l30)\n",
    "\n",
    "test_df = x_test_l30.copy()\n",
    "test_df['biY'] = y_test\n",
    "test_df['pred'] = pd.Series(gnb_pred_l30, index=test_df.index)\n",
    "test_df['accurate'] = (test_df['pred'] == test_df['biY'])\n",
    "\n",
    "from sklearn.metrics import confusion_matrix\n",
    "\n",
    "confusion_matrix_l30 = confusion_matrix(test_df['biY'], test_df['pred'])\n",
    "confusion_matrix_l30\n",
    "\n"
   ],
   "outputs": [],
   "metadata": {}
  },
  {
   "cell_type": "code",
   "execution_count": null,
   "source": [
    "accuracy_naive_bayes_l30 = (confusion_matrix_l30[0][0] + confusion_matrix_l30[1][1]) / (confusion_matrix_l30[0][0] + confusion_matrix_l30[0][1] + confusion_matrix_l30[1][0] + confusion_matrix_l30[1][1])\n",
    "accuracy_naive_bayes_l30 "
   ],
   "outputs": [],
   "metadata": {}
  },
  {
   "cell_type": "code",
   "execution_count": null,
   "source": [
    "# Test on 30to40 set\n",
    "gnb_pred_30to40 = gnb.fit(x_train_unawareness, y_train).predict(x_test_30to40)\n",
    "\n",
    "test_df = x_test_30to40.copy()\n",
    "test_df['biY'] = y_test\n",
    "test_df['pred'] = pd.Series(gnb_pred_30to40, index=test_df.index)\n",
    "test_df['accurate'] = (test_df['pred'] == test_df['biY'])\n",
    "\n",
    "from sklearn.metrics import confusion_matrix\n",
    "\n",
    "confusion_matrix_30to40 = confusion_matrix(test_df['biY'], test_df['pred'])\n",
    "confusion_matrix_30to40\n",
    "\n"
   ],
   "outputs": [],
   "metadata": {}
  },
  {
   "cell_type": "code",
   "execution_count": null,
   "source": [
    "accuracy_naive_bayes_30to40 = (confusion_matrix_30to40[0][0] + confusion_matrix_30to40[1][1]) / (confusion_matrix_30to40[0][0] + confusion_matrix_30to40[0][1] + confusion_matrix_30to40[1][0] + confusion_matrix_30to40[1][1])\n",
    "accuracy_naive_bayes_30to40 "
   ],
   "outputs": [],
   "metadata": {}
  },
  {
   "cell_type": "code",
   "execution_count": null,
   "source": [
    "# Test on 40to50 set\n",
    "gnb_pred_40to50 = gnb.fit(x_train_unawareness, y_train).predict(x_test_40to50)\n",
    "\n",
    "test_df = x_test_40to50.copy()\n",
    "test_df['biY'] = y_test\n",
    "test_df['pred'] = pd.Series(gnb_pred_40to50, index=test_df.index)\n",
    "test_df['accurate'] = (test_df['pred'] == test_df['biY'])\n",
    "\n",
    "from sklearn.metrics import confusion_matrix\n",
    "\n",
    "confusion_matrix_40to50 = confusion_matrix(test_df['biY'], test_df['pred'])\n",
    "confusion_matrix_40to50"
   ],
   "outputs": [],
   "metadata": {}
  },
  {
   "cell_type": "code",
   "execution_count": null,
   "source": [
    "accuracy_naive_bayes_40to50 = (confusion_matrix_40to50[0][0] + confusion_matrix_40to50[1][1]) / (confusion_matrix_40to50[0][0] + confusion_matrix_40to50[0][1] + confusion_matrix_40to50[1][0] + confusion_matrix_40to50[1][1])\n",
    "accuracy_naive_bayes_40to50 # 0.8718606782768102"
   ],
   "outputs": [],
   "metadata": {}
  },
  {
   "cell_type": "code",
   "execution_count": null,
   "source": [
    "# Test on g50 set\n",
    "gnb_pred_g50 = gnb.fit(x_train_unawareness, y_train).predict(x_test_g50)\n",
    "\n",
    "test_df = x_test_g50.copy()\n",
    "test_df['biY'] = y_test\n",
    "test_df['pred'] = pd.Series(gnb_pred_g50, index=test_df.index)\n",
    "test_df['accurate'] = (test_df['pred'] == test_df['biY'])\n",
    "\n",
    "from sklearn.metrics import confusion_matrix\n",
    "\n",
    "confusion_matrix_g50 = confusion_matrix(test_df['biY'], test_df['pred'])\n",
    "confusion_matrix_g50"
   ],
   "outputs": [],
   "metadata": {}
  },
  {
   "cell_type": "code",
   "execution_count": null,
   "source": [
    "accuracy_naive_bayes_g50 = (confusion_matrix_g50[0][0] + confusion_matrix_g50[1][1]) / (confusion_matrix_g50[0][0] + confusion_matrix_g50[0][1] + confusion_matrix_g50[1][0] + confusion_matrix_g50[1][1])\n",
    "accuracy_naive_bayes_g50 # 0.8718606782768102"
   ],
   "outputs": [],
   "metadata": {}
  },
  {
   "cell_type": "markdown",
   "source": [
    "Random Forest Model"
   ],
   "metadata": {}
  },
  {
   "cell_type": "code",
   "execution_count": null,
   "source": [
    "from sklearn.ensemble import RandomForestClassifier\n",
    "rf = RandomForestClassifier(max_depth=5, random_state=0, class_weight='balanced')\n",
    "rf_pred = rf.fit(x_train, y_train).predict(x_test)"
   ],
   "outputs": [],
   "metadata": {}
  },
  {
   "cell_type": "code",
   "execution_count": null,
   "source": [
    "test_df = x_test.copy()\n",
    "test_df['biY'] = y_test\n",
    "test_df['pred'] = pd.Series(rf_pred, index=test_df.index)\n",
    "test_df['accurate'] = (test_df['pred'] == test_df['biY'])\n",
    "test_df.columns.values"
   ],
   "outputs": [],
   "metadata": {}
  },
  {
   "cell_type": "code",
   "execution_count": null,
   "source": [
    "from sklearn.metrics import confusion_matrix\n",
    "confusion_matrix = confusion_matrix(test_df['biY'], test_df['pred'])\n",
    "confusion_matrix"
   ],
   "outputs": [],
   "metadata": {}
  },
  {
   "cell_type": "code",
   "execution_count": null,
   "source": [
    "# Accuracy\n",
    "# \"Accuracy: \", test_df.accurate.mean()\n",
    "accuracy_rf = (confusion_matrix[0][0] + confusion_matrix[1][1]) / (confusion_matrix[0][0] + confusion_matrix[0][1] + confusion_matrix[1][0] + confusion_matrix[1][1])\n",
    "accuracy_rf\n"
   ],
   "outputs": [],
   "metadata": {}
  },
  {
   "cell_type": "code",
   "execution_count": null,
   "source": [
    "# Split dataset based on marital status\n",
    "test_df.columns.values\n",
    "test_l30 = x_test[x_test['catAge_<=30'] == 1]\n",
    "test_30to40 = x_test[x_test['catAge_30-40'] == 1]\n",
    "test_40to50 = x_test[x_test['catAge_40-50'] == 1]\n",
    "test_g50 = x_test[x_test['catAge_>=50'] == 1]"
   ],
   "outputs": [],
   "metadata": {}
  },
  {
   "cell_type": "code",
   "execution_count": null,
   "source": [
    "# Test on single subset\n",
    "rf_pred_l30 = rf.fit(x_train, y_train).predict(test_l30)\n",
    "\n",
    "test_df = test_l30.copy()\n",
    "test_df['biY'] = y_test\n",
    "test_df['pred'] = pd.Series(rf_pred_l30, index=test_df.index)\n",
    "test_df['accurate'] = (test_df['pred'] == test_df['biY'])\n",
    "\n",
    "from sklearn.metrics import confusion_matrix\n",
    "\n",
    "confusion_matrix_l30 = confusion_matrix(test_df['biY'], test_df['pred'])\n",
    "confusion_matrix_l30"
   ],
   "outputs": [],
   "metadata": {}
  },
  {
   "cell_type": "code",
   "execution_count": null,
   "source": [
    "accuracy_rf_l30 = (confusion_matrix_l30[0][0] + confusion_matrix_l30[1][1]) / (confusion_matrix_l30[0][0] + confusion_matrix_l30[0][1] + confusion_matrix_l30[1][0] + confusion_matrix_l30[1][1])\n",
    "accuracy_rf_l30"
   ],
   "outputs": [],
   "metadata": {}
  },
  {
   "cell_type": "code",
   "execution_count": null,
   "source": [
    "# Test on 30to40 subset\n",
    "rf_pred_30to40 = rf.fit(x_train, y_train).predict(test_30to40)\n",
    "\n",
    "test_df = test_30to40.copy()\n",
    "test_df['biY'] = y_test\n",
    "test_df['pred'] = pd.Series(rf_pred_30to40, index=test_df.index)\n",
    "test_df['accurate'] = (test_df['pred'] == test_df['biY'])\n",
    "\n",
    "from sklearn.metrics import confusion_matrix\n",
    "\n",
    "confusion_matrix_30to40 = confusion_matrix(test_df['biY'], test_df['pred'])\n",
    "confusion_matrix_30to40"
   ],
   "outputs": [],
   "metadata": {}
  },
  {
   "cell_type": "code",
   "execution_count": null,
   "source": [
    "accuracy_rf_30to40 = (confusion_matrix_30to40[0][0] + confusion_matrix_30to40[1][1]) / (confusion_matrix_30to40[0][0] + confusion_matrix_30to40[0][1] + confusion_matrix_30to40[1][0] + confusion_matrix_30to40[1][1])\n",
    "accuracy_rf_30to40"
   ],
   "outputs": [],
   "metadata": {}
  },
  {
   "cell_type": "code",
   "execution_count": null,
   "source": [
    "# Test on 40to50 subset\n",
    "rf_pred_40to50 = rf.fit(x_train, y_train).predict(test_40to50)\n",
    " \n",
    "test_df = test_40to50.copy()\n",
    "test_df['biY'] = y_test\n",
    "test_df['pred'] = pd.Series(rf_pred_40to50, index=test_df.index)\n",
    "test_df['accurate'] = (test_df['pred'] == test_df['biY'])\n",
    " \n",
    "from sklearn.metrics import confusion_matrix\n",
    " \n",
    "confusion_matrix_40to50 = confusion_matrix(test_df['biY'], test_df['pred'])\n",
    "confusion_matrix_40to50\n"
   ],
   "outputs": [],
   "metadata": {}
  },
  {
   "cell_type": "code",
   "execution_count": null,
   "source": [
    "accuracy_rf_40to50 = (confusion_matrix_40to50[0][0] + confusion_matrix_40to50[1][1]) / (confusion_matrix_40to50[0][0] + confusion_matrix_40to50[0][1] + confusion_matrix_40to50[1][0] + confusion_matrix_40to50[1][1])\n",
    "accuracy_rf_40to50 "
   ],
   "outputs": [],
   "metadata": {}
  },
  {
   "cell_type": "code",
   "execution_count": null,
   "source": [
    "# Test on g50 subset\n",
    "rf_pred_g50 = rf.fit(x_train, y_train).predict(test_g50)\n",
    " \n",
    "test_df = test_g50.copy()\n",
    "test_df['biY'] = y_test\n",
    "test_df['pred'] = pd.Series(rf_pred_g50, index=test_df.index)\n",
    "test_df['accurate'] = (test_df['pred'] == test_df['biY'])\n",
    " \n",
    "from sklearn.metrics import confusion_matrix\n",
    " \n",
    "confusion_matrix_g50 = confusion_matrix(test_df['biY'], test_df['pred'])\n",
    "confusion_matrix_g50"
   ],
   "outputs": [],
   "metadata": {}
  },
  {
   "cell_type": "code",
   "execution_count": null,
   "source": [
    "accuracy_rf_g50 = (confusion_matrix_g50[0][0] + confusion_matrix_g50[1][1]) / (confusion_matrix_g50[0][0] + confusion_matrix_g50[0][1] + confusion_matrix_g50[1][0] + confusion_matrix_g50[1][1])\n",
    "accuracy_rf_g50 "
   ],
   "outputs": [],
   "metadata": {}
  },
  {
   "cell_type": "code",
   "execution_count": null,
   "source": [
    "#Demographic Parity\n",
    "# positive rate = TP + TN\n",
    "PR_rf_l30 = confusion_matrix_l30[0,0] +confusion_matrix_l30[1,1]\n",
    "PR_rf_l30 # 4756"
   ],
   "outputs": [],
   "metadata": {}
  },
  {
   "cell_type": "code",
   "execution_count": null,
   "source": [
    "PR_rf_30to40 = confusion_matrix_30to40[0,0] +confusion_matrix_30to40[1,1]\n",
    "PR_rf_30to40 # 2136"
   ],
   "outputs": [],
   "metadata": {}
  },
  {
   "cell_type": "code",
   "execution_count": null,
   "source": [
    "PR_rf_40to50 = confusion_matrix_40to50[0,0] +confusion_matrix_40to50[1,1]\n",
    "PR_rf_40to50 # 2136"
   ],
   "outputs": [],
   "metadata": {}
  },
  {
   "cell_type": "code",
   "execution_count": null,
   "source": [
    "PR_rf_g50 = confusion_matrix_g50[0,0] +confusion_matrix_g50[1,1]\n",
    "PR_rf_g50 # 2136"
   ],
   "outputs": [],
   "metadata": {}
  },
  {
   "cell_type": "code",
   "execution_count": null,
   "source": [
    "# Equalized Opportunity\n",
    "#TPR = TP/TP+FN\n",
    "\n",
    "TPR_rf_l30 = confusion_matrix_l30[0,0] / (confusion_matrix_l30[0,0] + confusion_matrix_l30[1,0])\n",
    "\n",
    "TPR_rf_l30"
   ],
   "outputs": [],
   "metadata": {}
  },
  {
   "cell_type": "code",
   "execution_count": null,
   "source": [
    "TPR_rf_30to40 = confusion_matrix_30to40[0,0] / (confusion_matrix_30to40[0,0] + confusion_matrix_30to40[1,0])\n",
    "\n",
    "TPR_rf_30to40  "
   ],
   "outputs": [],
   "metadata": {}
  },
  {
   "cell_type": "code",
   "execution_count": null,
   "source": [
    "TPR_rf_40to50  = confusion_matrix_40to50[0,0] / (confusion_matrix_40to50[0,0] + confusion_matrix_40to50[1,0])\n",
    "\n",
    "TPR_rf_40to50 "
   ],
   "outputs": [],
   "metadata": {}
  },
  {
   "cell_type": "code",
   "execution_count": null,
   "source": [
    "TPR_rf_g50  = confusion_matrix_g50[0,0] / (confusion_matrix_g50[0,0] + confusion_matrix_g50[1,0])\n",
    "\n",
    "TPR_rf_g50 "
   ],
   "outputs": [],
   "metadata": {}
  },
  {
   "cell_type": "code",
   "execution_count": null,
   "source": [
    "# Equalized Odds\n",
    "#TPR = TP/TP+FN\n",
    "#FNR = FN/FN+TP\n",
    "\n",
    "\n",
    "FNR_rf_l30 = confusion_matrix_l30[1,0] / (confusion_matrix_l30[1,0] + confusion_matrix_l30[0,0])\n",
    "\n",
    "FNR_rf_l30 # 0.11652109273369263\n"
   ],
   "outputs": [],
   "metadata": {}
  },
  {
   "cell_type": "code",
   "execution_count": null,
   "source": [
    "FNR_rf_30to40 = confusion_matrix_30to40[1,0] / (confusion_matrix_30to40[1,0] + confusion_matrix_30to40[0,0])\n",
    "\n",
    "FNR_rf_30to40"
   ],
   "outputs": [],
   "metadata": {}
  },
  {
   "cell_type": "code",
   "execution_count": null,
   "source": [
    "FNR_rf_40to50 = confusion_matrix_40to50[1,0] / (confusion_matrix_40to50[1,0] + confusion_matrix_40to50[0,0])\n",
    "\n",
    "FNR_rf_40to50"
   ],
   "outputs": [],
   "metadata": {}
  },
  {
   "cell_type": "code",
   "execution_count": null,
   "source": [
    "FNR_rf_g50 = confusion_matrix_g50[1,0] / (confusion_matrix_g50[1,0] + confusion_matrix_g50[0,0])\n",
    "\n",
    "FNR_rf_g50"
   ],
   "outputs": [],
   "metadata": {}
  },
  {
   "cell_type": "code",
   "execution_count": null,
   "source": [
    "# Fairness Through Unwareness\n",
    "x_train_unawareness = x_train.copy()\n",
    "x_train_unawareness\n",
    "x_train_unawareness.drop('catAge_<=30', inplace=True, axis=1)\n",
    "x_train_unawareness.drop('catAge_30-40', inplace=True, axis=1)\n",
    "x_train_unawareness.drop('catAge_40-50', inplace=True, axis=1)\n",
    "x_train_unawareness.drop('catAge_>=50', inplace=True, axis=1)\n",
    "\n",
    "# x_train_unawareness.columns.values\n",
    "# x_train.columns.values"
   ],
   "outputs": [],
   "metadata": {}
  },
  {
   "cell_type": "code",
   "execution_count": null,
   "source": [
    "#Fairness through unawareness\n",
    "\n",
    "x_test_unawareness = x_test.copy()\n",
    "x_test_unawareness\n",
    "x_test_l30 = x_test_unawareness[x_test_unawareness['catAge_<=30'] == 1]\n",
    "x_test_30to40 = x_test_unawareness[x_test_unawareness['catAge_30-40'] == 1]\n",
    "x_test_40to50 = x_test_unawareness[x_test_unawareness['catAge_40-50'] == 1]\n",
    "x_test_g50 = x_test_unawareness[x_test_unawareness['catAge_>=50'] == 1]\n",
    "\n",
    "\n",
    "x_test_l30.drop('catAge_<=30', inplace=True, axis=1)\n",
    "x_test_l30.drop('catAge_30-40', inplace=True, axis=1)\n",
    "x_test_l30.drop('catAge_40-50', inplace=True, axis=1)\n",
    "x_test_l30.drop('catAge_>=50', inplace=True, axis=1)\n",
    "\n",
    "x_test_30to40.drop('catAge_<=30', inplace=True, axis=1)\n",
    "x_test_30to40.drop('catAge_30-40', inplace=True, axis=1)\n",
    "x_test_30to40.drop('catAge_40-50', inplace=True, axis=1)\n",
    "x_test_30to40.drop('catAge_>=50', inplace=True, axis=1)\n",
    "\n",
    "x_test_40to50.drop('catAge_<=30', inplace=True, axis=1)\n",
    "x_test_40to50.drop('catAge_30-40', inplace=True, axis=1)\n",
    "x_test_40to50.drop('catAge_40-50', inplace=True, axis=1)\n",
    "x_test_40to50.drop('catAge_>=50', inplace=True, axis=1)\n",
    "\n",
    "x_test_g50.drop('catAge_<=30', inplace=True, axis=1)\n",
    "x_test_g50.drop('catAge_30-40', inplace=True, axis=1)\n",
    "x_test_g50.drop('catAge_40-50', inplace=True, axis=1)\n",
    "x_test_g50.drop('catAge_>=50', inplace=True, axis=1)\n",
    "\n",
    "\n",
    "\n",
    "# x_test_unawareness.columns.values\n",
    "# x_test.columns.values"
   ],
   "outputs": [],
   "metadata": {}
  },
  {
   "cell_type": "code",
   "execution_count": null,
   "source": [
    "# Test on l30 set\n",
    "rf_pred_l30 = rf.fit(x_train_unawareness, y_train).predict(x_test_l30)\n",
    "\n",
    "test_df = x_test_l30.copy()\n",
    "test_df['biY'] = y_test\n",
    "test_df['pred'] = pd.Series(rf_pred_l30, index=test_df.index)\n",
    "test_df['accurate'] = (test_df['pred'] == test_df['biY'])\n",
    "\n",
    "from sklearn.metrics import confusion_matrix\n",
    "\n",
    "confusion_matrix_l30 = confusion_matrix(test_df['biY'], test_df['pred'])\n",
    "confusion_matrix_l30\n"
   ],
   "outputs": [],
   "metadata": {}
  },
  {
   "cell_type": "code",
   "execution_count": null,
   "source": [
    "accuracy_rf_l30 = (confusion_matrix_l30[0][0] + confusion_matrix_l30[1][1]) / (confusion_matrix_l30[0][0] + confusion_matrix_l30[0][1] + confusion_matrix_l30[1][0] + confusion_matrix_l30[1][1])\n",
    "accuracy_rf_l30"
   ],
   "outputs": [],
   "metadata": {}
  },
  {
   "cell_type": "code",
   "execution_count": null,
   "source": [
    "# Test on 30to40 set\n",
    "rf_pred_30to40 = rf.fit(x_train_unawareness, y_train).predict(x_test_30to40)\n",
    "\n",
    "test_df = x_test_30to40.copy()\n",
    "test_df['biY'] = y_test\n",
    "test_df['pred'] = pd.Series(rf_pred_30to40, index=test_df.index)\n",
    "test_df['accurate'] = (test_df['pred'] == test_df['biY'])\n",
    "\n",
    "from sklearn.metrics import confusion_matrix\n",
    "\n",
    "confusion_matrix_30to40 = confusion_matrix(test_df['biY'], test_df['pred'])\n",
    "confusion_matrix_30to40\n"
   ],
   "outputs": [],
   "metadata": {}
  },
  {
   "cell_type": "code",
   "execution_count": null,
   "source": [
    "accuracy_rf_30to40 = (confusion_matrix_30to40[0][0] + confusion_matrix_30to40[1][1]) / (confusion_matrix_30to40[0][0] + confusion_matrix_30to40[0][1] + confusion_matrix_30to40[1][0] + confusion_matrix_30to40[1][1])\n",
    "accuracy_rf_30to40 "
   ],
   "outputs": [],
   "metadata": {}
  },
  {
   "cell_type": "code",
   "execution_count": null,
   "source": [
    "# Test on 40to50 set\n",
    "rf_pred_40to50 = rf.fit(x_train_unawareness, y_train).predict(x_test_40to50)\n",
    "\n",
    "test_df = x_test_40to50.copy()\n",
    "test_df['biY'] = y_test\n",
    "test_df['pred'] = pd.Series(rf_pred_40to50, index=test_df.index)\n",
    "test_df['accurate'] = (test_df['pred'] == test_df['biY'])\n",
    "\n",
    "from sklearn.metrics import confusion_matrix\n",
    "\n",
    "confusion_matrix_40to50 = confusion_matrix(test_df['biY'], test_df['pred'])\n",
    "confusion_matrix_40to50"
   ],
   "outputs": [],
   "metadata": {}
  },
  {
   "cell_type": "code",
   "execution_count": null,
   "source": [
    "accuracy_rf_40to50 = (confusion_matrix_40to50[0][0] + confusion_matrix_40to50[1][1]) / (confusion_matrix_40to50[0][0] + confusion_matrix_40to50[0][1] + confusion_matrix_40to50[1][0] + confusion_matrix_40to50[1][1])\n",
    "accuracy_rf_40to50 # 0.8718606782768102"
   ],
   "outputs": [],
   "metadata": {}
  },
  {
   "cell_type": "code",
   "execution_count": null,
   "source": [
    "# Test on g50 set\n",
    "rf_pred_g50 = rf.fit(x_train_unawareness, y_train).predict(x_test_g50)\n",
    "\n",
    "test_df = x_test_g50.copy()\n",
    "test_df['biY'] = y_test\n",
    "test_df['pred'] = pd.Series(rf_pred_g50, index=test_df.index)\n",
    "test_df['accurate'] = (test_df['pred'] == test_df['biY'])\n",
    "\n",
    "from sklearn.metrics import confusion_matrix\n",
    "\n",
    "confusion_matrix_g50 = confusion_matrix(test_df['biY'], test_df['pred'])\n",
    "confusion_matrix_g50"
   ],
   "outputs": [],
   "metadata": {}
  },
  {
   "cell_type": "code",
   "execution_count": null,
   "source": [
    "accuracy_rf_g50 = (confusion_matrix_g50[0][0] + confusion_matrix_g50[1][1]) / (confusion_matrix_g50[0][0] + confusion_matrix_g50[0][1] + confusion_matrix_g50[1][0] + confusion_matrix_g50[1][1])\n",
    "accuracy_rf_g50 # 0.8718606782768102"
   ],
   "outputs": [],
   "metadata": {}
  },
  {
   "cell_type": "markdown",
   "source": [
    "Support Vector Machine"
   ],
   "metadata": {}
  },
  {
   "cell_type": "code",
   "execution_count": null,
   "source": [
    "from sklearn import svm as svm_model\n",
    "svm = svm_model.SVC(class_weight='balanced') # add class_weight='balanced' is to avoid classifying all data as 0\n",
    "svm_pred = svm.fit(x_train, y_train).predict(x_test)"
   ],
   "outputs": [],
   "metadata": {}
  },
  {
   "cell_type": "code",
   "execution_count": null,
   "source": [
    "test_df = x_test.copy()\n",
    "test_df['biY'] = y_test\n",
    "test_df['pred'] = pd.Series(svm_pred, index=test_df.index)\n",
    "test_df['accurate'] = (test_df['pred'] == test_df['biY'])\n",
    "test_df.columns.values"
   ],
   "outputs": [],
   "metadata": {}
  },
  {
   "cell_type": "code",
   "execution_count": null,
   "source": [
    "from sklearn.metrics import confusion_matrix\n",
    "confusion_matrix = confusion_matrix(test_df['biY'], test_df['pred'])\n",
    "confusion_matrix"
   ],
   "outputs": [],
   "metadata": {}
  },
  {
   "cell_type": "code",
   "execution_count": null,
   "source": [
    "# Accuracy\n",
    "# \"Accuracy: \", test_df.accurate.mean()\n",
    "accuracy_svm = (confusion_matrix[0][0] + confusion_matrix[1][1]) / (confusion_matrix[0][0] + confusion_matrix[0][1] + confusion_matrix[1][0] + confusion_matrix[1][1])\n",
    "accuracy_svm\n"
   ],
   "outputs": [],
   "metadata": {}
  },
  {
   "cell_type": "code",
   "execution_count": null,
   "source": [
    "# Split dataset based on marital status\n",
    "test_df.columns.values\n",
    "test_l30 = x_test[x_test['catAge_<=30'] == 1]\n",
    "test_30to40 = x_test[x_test['catAge_30-40'] == 1]\n",
    "test_40to50 = x_test[x_test['catAge_40-50'] == 1]\n",
    "test_g50 = x_test[x_test['catAge_>=50'] == 1]"
   ],
   "outputs": [],
   "metadata": {}
  },
  {
   "cell_type": "code",
   "execution_count": null,
   "source": [
    "# Test on l30 subset\n",
    "svm_pred_l30 = svm.fit(x_train, y_train).predict(test_l30)\n",
    "\n",
    "test_df = test_l30.copy()\n",
    "test_df['biY'] = y_test\n",
    "test_df['pred'] = pd.Series(svm_pred_l30, index=test_df.index)\n",
    "test_df['accurate'] = (test_df['pred'] == test_df['biY'])\n",
    "\n",
    "from sklearn.metrics import confusion_matrix\n",
    "\n",
    "confusion_matrix_l30 = confusion_matrix(test_df['biY'], test_df['pred'])\n",
    "confusion_matrix_l30"
   ],
   "outputs": [],
   "metadata": {}
  },
  {
   "cell_type": "code",
   "execution_count": null,
   "source": [
    "accuracy_svm_l30 = (confusion_matrix_l30[0][0] + confusion_matrix_l30[1][1]) / (confusion_matrix_l30[0][0] + confusion_matrix_l30[0][1] + confusion_matrix_l30[1][0] + confusion_matrix_l30[1][1])\n",
    "accuracy_svm_l30"
   ],
   "outputs": [],
   "metadata": {}
  },
  {
   "cell_type": "code",
   "execution_count": null,
   "source": [
    "# Test on married subset\n",
    "svm_pred_30to40 = svm.fit(x_train, y_train).predict(test_30to40)\n",
    "\n",
    "test_df = test_30to40.copy()\n",
    "test_df['biY'] = y_test\n",
    "test_df['pred'] = pd.Series(svm_pred_30to40, index=test_df.index)\n",
    "test_df['accurate'] = (test_df['pred'] == test_df['biY'])\n",
    "\n",
    "from sklearn.metrics import confusion_matrix\n",
    "\n",
    "confusion_matrix_30to40 = confusion_matrix(test_df['biY'], test_df['pred'])\n",
    "confusion_matrix_30to40"
   ],
   "outputs": [],
   "metadata": {}
  },
  {
   "cell_type": "code",
   "execution_count": null,
   "source": [
    "accuracy_svm_30to40 = (confusion_matrix_30to40[0][0] + confusion_matrix_30to40[1][1]) / (confusion_matrix_30to40[0][0] + confusion_matrix_30to40[0][1] + confusion_matrix_30to40[1][0] + confusion_matrix_30to40[1][1])\n",
    "accuracy_svm_30to40 # 0.8718606782768102"
   ],
   "outputs": [],
   "metadata": {}
  },
  {
   "cell_type": "code",
   "execution_count": null,
   "source": [
    "# Test on 40to50 subset\n",
    "svm_pred_40to50 = svm.fit(x_train, y_train).predict(test_40to50)\n",
    "\n",
    "test_df = test_40to50.copy()\n",
    "test_df['biY'] = y_test\n",
    "test_df['pred'] = pd.Series(svm_pred_40to50, index=test_df.index)\n",
    "test_df['accurate'] = (test_df['pred'] == test_df['biY'])\n",
    "\n",
    "from sklearn.metrics import confusion_matrix\n",
    "\n",
    "confusion_matrix_40to50 = confusion_matrix(test_df['biY'], test_df['pred'])\n",
    "confusion_matrix_40to50"
   ],
   "outputs": [],
   "metadata": {}
  },
  {
   "cell_type": "code",
   "execution_count": null,
   "source": [
    "accuracy_svm_40to50 = (confusion_matrix_40to50[0][0] + confusion_matrix_40to50[1][1]) / (confusion_matrix_40to50[0][0] + confusion_matrix_40to50[0][1] + confusion_matrix_40to50[1][0] + confusion_matrix_40to50[1][1])\n",
    "accuracy_svm_40to50 "
   ],
   "outputs": [],
   "metadata": {}
  },
  {
   "cell_type": "code",
   "execution_count": null,
   "source": [
    "# Test on g50 subset\n",
    "svm_pred_g50 = svm.fit(x_train, y_train).predict(test_g50)\n",
    "\n",
    "test_df = test_g50.copy()\n",
    "test_df['biY'] = y_test\n",
    "test_df['pred'] = pd.Series(svm_pred_g50, index=test_df.index)\n",
    "test_df['accurate'] = (test_df['pred'] == test_df['biY'])\n",
    "\n",
    "from sklearn.metrics import confusion_matrix\n",
    "\n",
    "confusion_matrix_g50 = confusion_matrix(test_df['biY'], test_df['pred'])\n",
    "confusion_matrix_g50"
   ],
   "outputs": [],
   "metadata": {}
  },
  {
   "cell_type": "code",
   "execution_count": null,
   "source": [
    "accuracy_svm_g50 = (confusion_matrix_g50[0][0] + confusion_matrix_g50[1][1]) / (confusion_matrix_g50[0][0] + confusion_matrix_g50[0][1] + confusion_matrix_g50[1][0] + confusion_matrix_g50[1][1])\n",
    "accuracy_svm_g50 # 0.8718606782768102"
   ],
   "outputs": [],
   "metadata": {}
  },
  {
   "cell_type": "code",
   "execution_count": null,
   "source": [
    "#Demographic Parity\n",
    "# positive rate = TP + TN\n",
    "PR_svm_l30 = confusion_matrix_l30[0,0] +confusion_matrix_l30[1,1]\n",
    "\n",
    "PR_svm_l30"
   ],
   "outputs": [],
   "metadata": {}
  },
  {
   "cell_type": "code",
   "execution_count": null,
   "source": [
    "PR_svm_30to40 = confusion_matrix_30to40[0,0] +confusion_matrix_30to40[1,1]\n",
    "PR_svm_30to40"
   ],
   "outputs": [],
   "metadata": {}
  },
  {
   "cell_type": "code",
   "execution_count": null,
   "source": [
    "PR_svm_40to50 = confusion_matrix_40to50[0,0] +confusion_matrix_40to50[1,1]\n",
    "PR_svm_40to50"
   ],
   "outputs": [],
   "metadata": {}
  },
  {
   "cell_type": "code",
   "execution_count": null,
   "source": [
    "PR_svm_g50 = confusion_matrix_g50[0,0] +confusion_matrix_g50[1,1]\n",
    "PR_svm_g50"
   ],
   "outputs": [],
   "metadata": {}
  },
  {
   "cell_type": "code",
   "execution_count": null,
   "source": [
    "# Equalized Opportunity\n",
    "#TPR = TP/TP+FN\n",
    "\n",
    "TPR_svm_l30 = confusion_matrix_l30[0,0] / (confusion_matrix_l30[0,0] + confusion_matrix_l30[1,0])\n",
    "\n",
    "TPR_svm_l30"
   ],
   "outputs": [],
   "metadata": {}
  },
  {
   "cell_type": "code",
   "execution_count": null,
   "source": [
    "TPR_svm_30to40 = confusion_matrix_30to40[0,0] / (confusion_matrix_30to40[0,0] + confusion_matrix_30to40[1,0])\n",
    "\n",
    "TPR_svm_30to40 "
   ],
   "outputs": [],
   "metadata": {}
  },
  {
   "cell_type": "code",
   "execution_count": null,
   "source": [
    "TPR_svm_40to50 = confusion_matrix_40to50[0,0] / (confusion_matrix_40to50[0,0] + confusion_matrix_40to50[1,0])\n",
    "\n",
    "TPR_svm_40to50 "
   ],
   "outputs": [],
   "metadata": {}
  },
  {
   "cell_type": "code",
   "execution_count": null,
   "source": [
    "TPR_svm_g50 = confusion_matrix_g50[0,0] / (confusion_matrix_g50[0,0] + confusion_matrix_g50[1,0])\n",
    "\n",
    "TPR_svm_g50 "
   ],
   "outputs": [],
   "metadata": {}
  },
  {
   "cell_type": "code",
   "execution_count": null,
   "source": [
    "# Equalized Odds\n",
    "#TPR = TP/TP+FN\n",
    "#FNR = FN/FN+TP\n",
    "\n",
    "\n",
    "FNR_svm_l30 = confusion_matrix_l30[1,0] / (confusion_matrix_l30[1,0] + confusion_matrix_l30[0,0])\n",
    "\n",
    "FNR_svm_l30"
   ],
   "outputs": [],
   "metadata": {}
  },
  {
   "cell_type": "code",
   "execution_count": null,
   "source": [
    "FNR_svm_30to40 = confusion_matrix_30to40[1,0] / (confusion_matrix_30to40[1,0] + confusion_matrix_30to40[0,0])\n",
    "\n",
    "FNR_svm_30to40 "
   ],
   "outputs": [],
   "metadata": {}
  },
  {
   "cell_type": "code",
   "execution_count": null,
   "source": [
    "FNR_svm_40to50 = confusion_matrix_40to50[1,0] / (confusion_matrix_40to50[1,0] + confusion_matrix_40to50[0,0])\n",
    "\n",
    "FNR_svm_40to50 "
   ],
   "outputs": [],
   "metadata": {}
  },
  {
   "cell_type": "code",
   "execution_count": null,
   "source": [
    "FNR_svm_g50 = confusion_matrix_g50[1,0] / (confusion_matrix_g50[1,0] + confusion_matrix_g50[0,0])\n",
    "\n",
    "FNR_svm_g50 "
   ],
   "outputs": [],
   "metadata": {}
  },
  {
   "cell_type": "code",
   "execution_count": null,
   "source": [
    "# Fairness Through Unwareness\n",
    "x_train_unawareness = x_train.copy()\n",
    "x_train_unawareness\n",
    "x_train_unawareness.drop('catAge_<=30', inplace=True, axis=1)\n",
    "x_train_unawareness.drop('catAge_30-40', inplace=True, axis=1)\n",
    "x_train_unawareness.drop('catAge_40-50', inplace=True, axis=1)\n",
    "x_train_unawareness.drop('catAge_>=50', inplace=True, axis=1)\n",
    "\n",
    "\n",
    "# x_train_unawareness.columns.values\n",
    "# x_train.columns.values"
   ],
   "outputs": [],
   "metadata": {}
  },
  {
   "cell_type": "code",
   "execution_count": null,
   "source": [
    "#Fairness through unawareness\n",
    "\n",
    "\n",
    "x_test_unawareness = x_test.copy()\n",
    "x_test_unawareness\n",
    "x_test_l30 = x_test_unawareness[x_test_unawareness['catAge_<=30'] == 1]\n",
    "x_test_30to40 = x_test_unawareness[x_test_unawareness['catAge_30-40'] == 1]\n",
    "x_test_40to50 = x_test_unawareness[x_test_unawareness['catAge_40-50'] == 1]\n",
    "x_test_g50 = x_test_unawareness[x_test_unawareness['catAge_>=50'] == 1]\n",
    "\n",
    "\n",
    "x_test_l30.drop('catAge_<=30', inplace=True, axis=1)\n",
    "x_test_l30.drop('catAge_30-40', inplace=True, axis=1)\n",
    "x_test_l30.drop('catAge_40-50', inplace=True, axis=1)\n",
    "x_test_l30.drop('catAge_>=50', inplace=True, axis=1)\n",
    "\n",
    "x_test_30to40.drop('catAge_<=30', inplace=True, axis=1)\n",
    "x_test_30to40.drop('catAge_30-40', inplace=True, axis=1)\n",
    "x_test_30to40.drop('catAge_40-50', inplace=True, axis=1)\n",
    "x_test_30to40.drop('catAge_>=50', inplace=True, axis=1)\n",
    "\n",
    "x_test_40to50.drop('catAge_<=30', inplace=True, axis=1)\n",
    "x_test_40to50.drop('catAge_30-40', inplace=True, axis=1)\n",
    "x_test_40to50.drop('catAge_40-50', inplace=True, axis=1)\n",
    "x_test_40to50.drop('catAge_>=50', inplace=True, axis=1)\n",
    "\n",
    "x_test_g50.drop('catAge_<=30', inplace=True, axis=1)\n",
    "x_test_g50.drop('catAge_30-40', inplace=True, axis=1)\n",
    "x_test_g50.drop('catAge_40-50', inplace=True, axis=1)\n",
    "x_test_g50.drop('catAge_>=50', inplace=True, axis=1)\n",
    "\n"
   ],
   "outputs": [],
   "metadata": {}
  },
  {
   "cell_type": "code",
   "execution_count": null,
   "source": [
    "# Test on l30 set\n",
    "svm_pred_l30 = svm.fit(x_train_unawareness, y_train).predict(x_test_l30)\n",
    "\n",
    "test_df = x_test_l30.copy()\n",
    "test_df['biY'] = y_test\n",
    "test_df['pred'] = pd.Series(svm_pred_l30, index=test_df.index)\n",
    "test_df['accurate'] = (test_df['pred'] == test_df['biY'])\n",
    "\n",
    "from sklearn.metrics import confusion_matrix\n",
    "\n",
    "confusion_matrix_l30 = confusion_matrix(test_df['biY'], test_df['pred'])\n",
    "confusion_matrix_l30\n"
   ],
   "outputs": [],
   "metadata": {}
  },
  {
   "cell_type": "code",
   "execution_count": null,
   "source": [
    "accuracy_svm_l30 = (confusion_matrix_l30[0][0] + confusion_matrix_l30[1][1]) / (confusion_matrix_l30[0][0] + confusion_matrix_l30[0][1] + confusion_matrix_l30[1][0] + confusion_matrix_l30[1][1])\n",
    "accuracy_svm_l30"
   ],
   "outputs": [],
   "metadata": {}
  },
  {
   "cell_type": "code",
   "execution_count": null,
   "source": [
    "# Test on 30to40 set\n",
    "svm_pred_30to40 = svm.fit(x_train_unawareness, y_train).predict(x_test_30to40)\n",
    "\n",
    "test_df = x_test_30to40.copy()\n",
    "test_df['biY'] = y_test\n",
    "test_df['pred'] = pd.Series(svm_pred_30to40, index=test_df.index)\n",
    "test_df['accurate'] = (test_df['pred'] == test_df['biY'])\n",
    "\n",
    "from sklearn.metrics import confusion_matrix\n",
    "\n",
    "confusion_matrix_30to40 = confusion_matrix(test_df['biY'], test_df['pred'])\n",
    "confusion_matrix_30to40"
   ],
   "outputs": [],
   "metadata": {}
  },
  {
   "cell_type": "code",
   "execution_count": null,
   "source": [
    "accuracy_svm_30to40 = (confusion_matrix_30to40[0][0] + confusion_matrix_30to40[1][1]) / (confusion_matrix_30to40[0][0] + confusion_matrix_30to40[0][1] + confusion_matrix_30to40[1][0] + confusion_matrix_30to40[1][1])\n",
    "accuracy_svm_30to40 # 0.8718606782768102"
   ],
   "outputs": [],
   "metadata": {}
  },
  {
   "cell_type": "code",
   "execution_count": null,
   "source": [
    "# Test on 40to50 subset\n",
    "svm_pred_40to50 = svm.fit(x_train_unawareness, y_train).predict(x_test_40to50)\n",
    "\n",
    "test_df = x_test_40to50.copy()\n",
    "test_df['biY'] = y_test\n",
    "test_df['pred'] = pd.Series(svm_pred_40to50, index=test_df.index)\n",
    "test_df['accurate'] = (test_df['pred'] == test_df['biY'])\n",
    "\n",
    "from sklearn.metrics import confusion_matrix\n",
    "\n",
    "confusion_matrix_40to50 = confusion_matrix(test_df['biY'], test_df['pred'])\n",
    "confusion_matrix_40to50"
   ],
   "outputs": [],
   "metadata": {}
  },
  {
   "cell_type": "code",
   "execution_count": null,
   "source": [
    "accuracy_svm_40to50 = (confusion_matrix_40to50[0][0] + confusion_matrix_40to50[1][1]) / (confusion_matrix_40to50[0][0] + confusion_matrix_40to50[0][1] + confusion_matrix_40to50[1][0] + confusion_matrix_40to50[1][1])\n",
    "accuracy_svm_40to50 "
   ],
   "outputs": [],
   "metadata": {}
  },
  {
   "cell_type": "code",
   "execution_count": null,
   "source": [
    "# Test on g50 subset\n",
    "svm_pred_g50 = svm.fit(x_train_unawareness, y_train).predict(x_test_g50)\n",
    "\n",
    "test_df = x_test_g50.copy()\n",
    "test_df['biY'] = y_test\n",
    "test_df['pred'] = pd.Series(svm_pred_g50, index=test_df.index)\n",
    "test_df['accurate'] = (test_df['pred'] == test_df['biY'])\n",
    "\n",
    "from sklearn.metrics import confusion_matrix\n",
    "\n",
    "confusion_matrix_g50 = confusion_matrix(test_df['biY'], test_df['pred'])\n",
    "confusion_matrix_g50"
   ],
   "outputs": [],
   "metadata": {}
  },
  {
   "cell_type": "code",
   "execution_count": null,
   "source": [
    "accuracy_svm_g50 = (confusion_matrix_g50[0][0] + confusion_matrix_g50[1][1]) / (confusion_matrix_g50[0][0] + confusion_matrix_g50[0][1] + confusion_matrix_g50[1][0] + confusion_matrix_g50[1][1])\n",
    "accuracy_svm_g50 "
   ],
   "outputs": [],
   "metadata": {}
  },
  {
   "cell_type": "markdown",
   "source": [
    "Logistic Regression Model"
   ],
   "metadata": {}
  },
  {
   "cell_type": "code",
   "execution_count": null,
   "source": [
    "from sklearn.datasets import load_iris\n",
    "from sklearn.linear_model import LogisticRegression\n",
    "clf = LogisticRegression(random_state=0, class_weight='balanced')\n",
    "clf_pred = clf.fit(x_train, y_train).predict(x_test)"
   ],
   "outputs": [],
   "metadata": {}
  },
  {
   "cell_type": "code",
   "execution_count": null,
   "source": [
    "test_df = x_test.copy()\n",
    "test_df['biY'] = y_test\n",
    "test_df['pred'] = pd.Series(clf_pred, index=test_df.index)\n",
    "test_df['accurate'] = (test_df['pred'] == test_df['biY'])\n",
    "test_df.columns.values"
   ],
   "outputs": [],
   "metadata": {}
  },
  {
   "cell_type": "code",
   "execution_count": null,
   "source": [
    "from sklearn.metrics import confusion_matrix\n",
    "confusion_matrix = confusion_matrix(test_df['biY'], test_df['pred'])\n",
    "confusion_matrix"
   ],
   "outputs": [],
   "metadata": {}
  },
  {
   "cell_type": "code",
   "execution_count": null,
   "source": [
    "# Accuracy\n",
    "# \"Accuracy: \", test_df.accurate.mean()\n",
    "accuracy_clf = (confusion_matrix[0][0] + confusion_matrix[1][1]) / (confusion_matrix[0][0] + confusion_matrix[0][1] + confusion_matrix[1][0] + confusion_matrix[1][1])\n",
    "accuracy_clf"
   ],
   "outputs": [],
   "metadata": {}
  },
  {
   "cell_type": "code",
   "execution_count": null,
   "source": [
    "# Split dataset based on marital status\n",
    "test_df.columns.values\n",
    "test_l30 = x_test[x_test['catAge_<=30'] == 1]\n",
    "test_30to40 = x_test[x_test['catAge_30-40'] == 1]\n",
    "test_40to50 = x_test[x_test['catAge_40-50'] == 1]\n",
    "test_g50 = x_test[x_test['catAge_>=50'] == 1]"
   ],
   "outputs": [],
   "metadata": {}
  },
  {
   "cell_type": "code",
   "execution_count": null,
   "source": [
    "# Test on l30 subset\n",
    "clf_pred_l30 = clf.fit(x_train, y_train).predict(test_l30)\n",
    "\n",
    "test_df = test_l30.copy()\n",
    "test_df['biY'] = y_test\n",
    "test_df['pred'] = pd.Series(clf_pred_l30, index=test_df.index)\n",
    "test_df['accurate'] = (test_df['pred'] == test_df['biY'])\n",
    "\n",
    "from sklearn.metrics import confusion_matrix\n",
    "\n",
    "confusion_matrix_l30 = confusion_matrix(test_df['biY'], test_df['pred'])\n",
    "confusion_matrix_l30"
   ],
   "outputs": [],
   "metadata": {}
  },
  {
   "cell_type": "code",
   "execution_count": null,
   "source": [
    "accuracy_clf_l30 = (confusion_matrix_l30[0][0] + confusion_matrix_l30[1][1]) / (confusion_matrix_l30[0][0] + confusion_matrix_l30[0][1] + confusion_matrix_l30[1][0] + confusion_matrix_l30[1][1])\n",
    "accuracy_clf_l30"
   ],
   "outputs": [],
   "metadata": {}
  },
  {
   "cell_type": "code",
   "execution_count": null,
   "source": [
    "# Test on 30to40 subset\n",
    "clf_pred_30to40 = clf.fit(x_train, y_train).predict(test_30to40)\n",
    "\n",
    "test_df = test_30to40.copy()\n",
    "test_df['biY'] = y_test\n",
    "test_df['pred'] = pd.Series(clf_pred_30to40, index=test_df.index)\n",
    "test_df['accurate'] = (test_df['pred'] == test_df['biY'])\n",
    "\n",
    "from sklearn.metrics import confusion_matrix\n",
    "\n",
    "confusion_matrix_30to40 = confusion_matrix(test_df['biY'], test_df['pred'])\n",
    "confusion_matrix_30to40"
   ],
   "outputs": [],
   "metadata": {}
  },
  {
   "cell_type": "code",
   "execution_count": null,
   "source": [
    "accuracy_clf_30to40 = (confusion_matrix_30to40[0][0] + confusion_matrix_30to40[1][1]) / (confusion_matrix_30to40[0][0] + confusion_matrix_30to40[0][1] + confusion_matrix_30to40[1][0] + confusion_matrix_30to40[1][1])\n",
    "accuracy_clf_30to40"
   ],
   "outputs": [],
   "metadata": {}
  },
  {
   "cell_type": "code",
   "execution_count": null,
   "source": [
    "# Test on 40to50 subset\n",
    "clf_pred_40to50 = clf.fit(x_train, y_train).predict(test_40to50)\n",
    " \n",
    "test_df = test_40to50.copy()\n",
    "test_df['biY'] = y_test\n",
    "test_df['pred'] = pd.Series(clf_pred_40to50, index=test_df.index)\n",
    "test_df['accurate'] = (test_df['pred'] == test_df['biY'])\n",
    " \n",
    "from sklearn.metrics import confusion_matrix\n",
    " \n",
    "confusion_matrix_40to50 = confusion_matrix(test_df['biY'], test_df['pred'])\n",
    "confusion_matrix_40to50"
   ],
   "outputs": [],
   "metadata": {}
  },
  {
   "cell_type": "code",
   "execution_count": null,
   "source": [
    "accuracy_clf_40to50 = (confusion_matrix_40to50[0][0] + confusion_matrix_40to50[1][1]) / (confusion_matrix_40to50[0][0] + confusion_matrix_40to50[0][1] + confusion_matrix_40to50[1][0] + confusion_matrix_40to50[1][1])\n",
    "accuracy_clf_40to50 "
   ],
   "outputs": [],
   "metadata": {}
  },
  {
   "cell_type": "code",
   "execution_count": null,
   "source": [
    "# Test on g50 subset\n",
    "clf_pred_g50 = clf.fit(x_train, y_train).predict(test_g50)\n",
    " \n",
    "test_df = test_g50.copy()\n",
    "test_df['biY'] = y_test\n",
    "test_df['pred'] = pd.Series(clf_pred_g50, index=test_df.index)\n",
    "test_df['accurate'] = (test_df['pred'] == test_df['biY'])\n",
    " \n",
    "from sklearn.metrics import confusion_matrix\n",
    " \n",
    "confusion_matrix_g50 = confusion_matrix(test_df['biY'], test_df['pred'])\n",
    "confusion_matrix_g50"
   ],
   "outputs": [],
   "metadata": {}
  },
  {
   "cell_type": "code",
   "execution_count": null,
   "source": [
    "accuracy_clf_g50 = (confusion_matrix_g50[0][0] + confusion_matrix_g50[1][1]) / (confusion_matrix_g50[0][0] + confusion_matrix_g50[0][1] + confusion_matrix_g50[1][0] + confusion_matrix_g50[1][1])\n",
    "accuracy_clf_g50 "
   ],
   "outputs": [],
   "metadata": {}
  },
  {
   "cell_type": "code",
   "execution_count": null,
   "source": [
    "#Demographic Parity\n",
    "# positive rate = TP + TN\n",
    "PR_clf_l30 = confusion_matrix_l30[0,0] +confusion_matrix_l30[1,1]\n",
    "PR_clf_l30 # 4756"
   ],
   "outputs": [],
   "metadata": {}
  },
  {
   "cell_type": "code",
   "execution_count": null,
   "source": [
    "PR_clf_30to40 = confusion_matrix_30to40[0,0] +confusion_matrix_30to40[1,1]\n",
    "PR_clf_30to40 # 2136"
   ],
   "outputs": [],
   "metadata": {}
  },
  {
   "cell_type": "code",
   "execution_count": null,
   "source": [
    "PR_clf_40to50 = confusion_matrix_40to50[0,0] +confusion_matrix_40to50[1,1]\n",
    "PR_clf_40to50 # 2136"
   ],
   "outputs": [],
   "metadata": {}
  },
  {
   "cell_type": "code",
   "execution_count": null,
   "source": [
    "PR_clf_g50 = confusion_matrix_g50[0,0] +confusion_matrix_g50[1,1]\n",
    "PR_clf_g50 # 2136"
   ],
   "outputs": [],
   "metadata": {}
  },
  {
   "cell_type": "code",
   "execution_count": null,
   "source": [
    "# Equalized Opportunity\n",
    "#TPR = TP/TP+FN\n",
    "\n",
    "TPR_clf_l30 = confusion_matrix_l30[0,0] / (confusion_matrix_l30[0,0] + confusion_matrix_l30[1,0])\n",
    "\n",
    "TPR_clf_l30"
   ],
   "outputs": [],
   "metadata": {}
  },
  {
   "cell_type": "code",
   "execution_count": null,
   "source": [
    "TPR_clf_30to40 = confusion_matrix_30to40[0,0] / (confusion_matrix_30to40[0,0] + confusion_matrix_30to40[1,0])\n",
    "\n",
    "TPR_clf_30to40  "
   ],
   "outputs": [],
   "metadata": {}
  },
  {
   "cell_type": "code",
   "execution_count": null,
   "source": [
    "TPR_clf_40to50  = confusion_matrix_40to50[0,0] / (confusion_matrix_40to50[0,0] + confusion_matrix_40to50[1,0])\n",
    "\n",
    "TPR_clf_40to50 "
   ],
   "outputs": [],
   "metadata": {}
  },
  {
   "cell_type": "code",
   "execution_count": null,
   "source": [
    "TPR_clf_g50  = confusion_matrix_g50[0,0] / (confusion_matrix_g50[0,0] + confusion_matrix_g50[1,0])\n",
    "\n",
    "TPR_clf_g50 "
   ],
   "outputs": [],
   "metadata": {}
  },
  {
   "cell_type": "code",
   "execution_count": null,
   "source": [
    "# Equalized Odds\n",
    "#TPR = TP/TP+FN\n",
    "#FNR = FN/FN+TP\n",
    "\n",
    "\n",
    "FNR_clf_l30 = confusion_matrix_l30[1,0] / (confusion_matrix_l30[1,0] + confusion_matrix_l30[0,0])\n",
    "\n",
    "FNR_clf_l30 # 0.11652109273369263"
   ],
   "outputs": [],
   "metadata": {}
  },
  {
   "cell_type": "code",
   "execution_count": null,
   "source": [
    "FNR_clf_30to40 = confusion_matrix_30to40[1,0] / (confusion_matrix_30to40[1,0] + confusion_matrix_30to40[0,0])\n",
    "\n",
    "FNR_clf_30to40"
   ],
   "outputs": [],
   "metadata": {}
  },
  {
   "cell_type": "code",
   "execution_count": null,
   "source": [
    "FNR_clf_40to50 = confusion_matrix_40to50[1,0] / (confusion_matrix_40to50[1,0] + confusion_matrix_40to50[0,0])\n",
    "\n",
    "FNR_clf_40to50"
   ],
   "outputs": [],
   "metadata": {}
  },
  {
   "cell_type": "code",
   "execution_count": null,
   "source": [
    "FNR_clf_g50 = confusion_matrix_g50[1,0] / (confusion_matrix_g50[1,0] + confusion_matrix_g50[0,0])\n",
    "\n",
    "FNR_clf_g50"
   ],
   "outputs": [],
   "metadata": {}
  },
  {
   "cell_type": "code",
   "execution_count": null,
   "source": [
    "# Fairness Through Unwareness\n",
    "x_train_unawareness = x_train.copy()\n",
    "x_train_unawareness\n",
    "x_train_unawareness.drop('catAge_<=30', inplace=True, axis=1)\n",
    "x_train_unawareness.drop('catAge_30-40', inplace=True, axis=1)\n",
    "x_train_unawareness.drop('catAge_40-50', inplace=True, axis=1)\n",
    "x_train_unawareness.drop('catAge_>=50', inplace=True, axis=1)\n",
    "\n",
    "# x_train_unawareness.columns.values\n",
    "# x_train.columns.values"
   ],
   "outputs": [],
   "metadata": {}
  },
  {
   "cell_type": "code",
   "execution_count": null,
   "source": [
    "#Fairness through unawareness\n",
    "\n",
    "x_test_unawareness = x_test.copy()\n",
    "x_test_unawareness\n",
    "x_test_l30 = x_test_unawareness[x_test_unawareness['catAge_<=30'] == 1]\n",
    "x_test_30to40 = x_test_unawareness[x_test_unawareness['catAge_30-40'] == 1]\n",
    "x_test_40to50 = x_test_unawareness[x_test_unawareness['catAge_40-50'] == 1]\n",
    "x_test_g50 = x_test_unawareness[x_test_unawareness['catAge_>=50'] == 1]\n",
    "\n",
    "\n",
    "x_test_l30.drop('catAge_<=30', inplace=True, axis=1)\n",
    "x_test_l30.drop('catAge_30-40', inplace=True, axis=1)\n",
    "x_test_l30.drop('catAge_40-50', inplace=True, axis=1)\n",
    "x_test_l30.drop('catAge_>=50', inplace=True, axis=1)\n",
    "\n",
    "x_test_30to40.drop('catAge_<=30', inplace=True, axis=1)\n",
    "x_test_30to40.drop('catAge_30-40', inplace=True, axis=1)\n",
    "x_test_30to40.drop('catAge_40-50', inplace=True, axis=1)\n",
    "x_test_30to40.drop('catAge_>=50', inplace=True, axis=1)\n",
    "\n",
    "x_test_40to50.drop('catAge_<=30', inplace=True, axis=1)\n",
    "x_test_40to50.drop('catAge_30-40', inplace=True, axis=1)\n",
    "x_test_40to50.drop('catAge_40-50', inplace=True, axis=1)\n",
    "x_test_40to50.drop('catAge_>=50', inplace=True, axis=1)\n",
    "\n",
    "x_test_g50.drop('catAge_<=30', inplace=True, axis=1)\n",
    "x_test_g50.drop('catAge_30-40', inplace=True, axis=1)\n",
    "x_test_g50.drop('catAge_40-50', inplace=True, axis=1)\n",
    "x_test_g50.drop('catAge_>=50', inplace=True, axis=1)\n",
    "\n",
    "\n",
    "\n",
    "# x_test_unawareness.columns.values\n",
    "# x_test.columns.values"
   ],
   "outputs": [],
   "metadata": {}
  },
  {
   "cell_type": "code",
   "execution_count": null,
   "source": [
    "# Test on l30 set\n",
    "clf_pred_l30 = clf.fit(x_train_unawareness, y_train).predict(x_test_l30)\n",
    "\n",
    "test_df = x_test_l30.copy()\n",
    "test_df['biY'] = y_test\n",
    "test_df['pred'] = pd.Series(clf_pred_l30, index=test_df.index)\n",
    "test_df['accurate'] = (test_df['pred'] == test_df['biY'])\n",
    "\n",
    "from sklearn.metrics import confusion_matrix\n",
    "\n",
    "confusion_matrix_l30 = confusion_matrix(test_df['biY'], test_df['pred'])\n",
    "confusion_matrix_l30"
   ],
   "outputs": [],
   "metadata": {}
  },
  {
   "cell_type": "code",
   "execution_count": null,
   "source": [
    "accuracy_clf_l30 = (confusion_matrix_l30[0][0] + confusion_matrix_l30[1][1]) / (confusion_matrix_l30[0][0] + confusion_matrix_l30[0][1] + confusion_matrix_l30[1][0] + confusion_matrix_l30[1][1])\n",
    "accuracy_clf_l30"
   ],
   "outputs": [],
   "metadata": {}
  },
  {
   "cell_type": "code",
   "execution_count": null,
   "source": [
    "# Test on 30to40 set\n",
    "clf_pred_30to40 = clf.fit(x_train_unawareness, y_train).predict(x_test_30to40)\n",
    "\n",
    "test_df = x_test_30to40.copy()\n",
    "test_df['biY'] = y_test\n",
    "test_df['pred'] = pd.Series(clf_pred_30to40, index=test_df.index)\n",
    "test_df['accurate'] = (test_df['pred'] == test_df['biY'])\n",
    "\n",
    "from sklearn.metrics import confusion_matrix\n",
    "\n",
    "confusion_matrix_30to40 = confusion_matrix(test_df['biY'], test_df['pred'])\n",
    "confusion_matrix_30to40\n"
   ],
   "outputs": [],
   "metadata": {}
  },
  {
   "cell_type": "code",
   "execution_count": null,
   "source": [
    "accuracy_clf_30to40 = (confusion_matrix_30to40[0][0] + confusion_matrix_30to40[1][1]) / (confusion_matrix_30to40[0][0] + confusion_matrix_30to40[0][1] + confusion_matrix_30to40[1][0] + confusion_matrix_30to40[1][1])\n",
    "accuracy_clf_30to40 "
   ],
   "outputs": [],
   "metadata": {}
  },
  {
   "cell_type": "code",
   "execution_count": null,
   "source": [
    "# Test on 40to50 set\n",
    "clf_pred_40to50 = clf.fit(x_train_unawareness, y_train).predict(x_test_40to50)\n",
    "\n",
    "test_df = x_test_40to50.copy()\n",
    "test_df['biY'] = y_test\n",
    "test_df['pred'] = pd.Series(clf_pred_40to50, index=test_df.index)\n",
    "test_df['accurate'] = (test_df['pred'] == test_df['biY'])\n",
    "\n",
    "from sklearn.metrics import confusion_matrix\n",
    "\n",
    "confusion_matrix_40to50 = confusion_matrix(test_df['biY'], test_df['pred'])\n",
    "confusion_matrix_40to50"
   ],
   "outputs": [],
   "metadata": {}
  },
  {
   "cell_type": "code",
   "execution_count": null,
   "source": [
    "accuracy_clf_40to50 = (confusion_matrix_40to50[0][0] + confusion_matrix_40to50[1][1]) / (confusion_matrix_40to50[0][0] + confusion_matrix_40to50[0][1] + confusion_matrix_40to50[1][0] + confusion_matrix_40to50[1][1])\n",
    "accuracy_clf_40to50 # 0.8718606782768102"
   ],
   "outputs": [],
   "metadata": {}
  },
  {
   "cell_type": "code",
   "execution_count": null,
   "source": [
    "# Test on g50 set\n",
    "clf_pred_g50 = clf.fit(x_train_unawareness, y_train).predict(x_test_g50)\n",
    "\n",
    "test_df = x_test_g50.copy()\n",
    "test_df['biY'] = y_test\n",
    "test_df['pred'] = pd.Series(clf_pred_g50, index=test_df.index)\n",
    "test_df['accurate'] = (test_df['pred'] == test_df['biY'])\n",
    "\n",
    "from sklearn.metrics import confusion_matrix\n",
    "\n",
    "confusion_matrix_g50 = confusion_matrix(test_df['biY'], test_df['pred'])\n",
    "confusion_matrix_g50"
   ],
   "outputs": [],
   "metadata": {}
  },
  {
   "cell_type": "code",
   "execution_count": null,
   "source": [
    "accuracy_clf_g50 = (confusion_matrix_g50[0][0] + confusion_matrix_g50[1][1]) / (confusion_matrix_g50[0][0] + confusion_matrix_g50[0][1] + confusion_matrix_g50[1][0] + confusion_matrix_g50[1][1])\n",
    "accuracy_clf_g50 # 0.8718606782768102"
   ],
   "outputs": [],
   "metadata": {}
  },
  {
   "cell_type": "markdown",
   "source": [
    "Linear Regression model"
   ],
   "metadata": {}
  },
  {
   "cell_type": "code",
   "execution_count": null,
   "source": [
    "from sklearn import linear_model\n",
    "linear_regression_model = linear_model.LinearRegression()\n",
    "linear_regression_model.fit(x_train, y_train)\n",
    "prediction = linear_regression_model.predict(x_test)"
   ],
   "outputs": [],
   "metadata": {}
  },
  {
   "cell_type": "markdown",
   "source": [
    "Result"
   ],
   "metadata": {}
  },
  {
   "cell_type": "code",
   "execution_count": null,
   "source": [
    "test_df = x_test.copy()\n",
    "test_df['biY'] = y_test\n",
    "test_df['pred'] = pd.Series(prediction, index=test_df.index)\n",
    "\n",
    "test_df['accurate'] = (test_df['pred'] == test_df['biY'])\n",
    "test_df['pred']"
   ],
   "outputs": [],
   "metadata": {}
  }
 ],
 "metadata": {
  "kernelspec": {
   "name": "python3",
   "display_name": "Python 3.8.1 64-bit"
  },
  "language_info": {
   "codemirror_mode": {
    "name": "ipython",
    "version": 3
   },
   "file_extension": ".py",
   "mimetype": "text/x-python",
   "name": "python",
   "nbconvert_exporter": "python",
   "pygments_lexer": "ipython3",
   "version": "3.8.1"
  },
  "interpreter": {
   "hash": "0adcc2737ebf6a4a119f135174df96668767fca1ef1112612db5ecadf2b6d608"
  }
 },
 "nbformat": 4,
 "nbformat_minor": 4
}